{
 "cells": [
  {
   "cell_type": "markdown",
   "id": "4c28ab4f-47c9-4364-883e-6fe5d08d37a8",
   "metadata": {},
   "source": [
    "# While loop"
   ]
  },
  {
   "cell_type": "markdown",
   "id": "43069ad5-b403-4afe-97c6-18f1d819f99d",
   "metadata": {},
   "source": [
    "## repeating a task again and again untill certain criteria is sertisfied"
   ]
  },
  {
   "cell_type": "code",
   "execution_count": 2,
   "id": "0190f65d-aa49-4b70-9d85-71719f4c3d74",
   "metadata": {},
   "outputs": [
    {
     "name": "stdout",
     "output_type": "stream",
     "text": [
      "hi\n",
      "hello\n",
      "bye\n"
     ]
    }
   ],
   "source": [
    "while True\n",
    "    print(\"hi\")\n",
    "    print(\"hello\")\n",
    "    break\n",
    "    print(\"Ujwal\")\n",
    "print(\"bye\")\n",
    "      "
   ]
  },
  {
   "cell_type": "code",
   "execution_count": 14,
   "id": "a6181568-a4d4-41d0-a145-7ef224e2db94",
   "metadata": {},
   "outputs": [],
   "source": [
    "i = 1"
   ]
  },
  {
   "cell_type": "code",
   "execution_count": 15,
   "id": "72f19fe3-3db7-47a7-a2ea-89c885326069",
   "metadata": {},
   "outputs": [
    {
     "name": "stdout",
     "output_type": "stream",
     "text": [
      "1\n",
      "2\n"
     ]
    }
   ],
   "source": [
    "while True:\n",
    "    print(i)\n",
    "    i += 1\n",
    "    print(i)\n",
    "    break"
   ]
  },
  {
   "cell_type": "code",
   "execution_count": 23,
   "id": "e575c714-a6ad-408d-8cbb-ff79c41e88a7",
   "metadata": {},
   "outputs": [
    {
     "name": "stdout",
     "output_type": "stream",
     "text": [
      "1\n",
      "2\n",
      "3\n",
      "4\n",
      "5\n"
     ]
    }
   ],
   "source": [
    "i = 1\n",
    "while True:\n",
    "    print(i)\n",
    "    if i == 5:\n",
    "       break \n",
    "    i+=1"
   ]
  },
  {
   "cell_type": "code",
   "execution_count": 25,
   "id": "b68335ea-325e-49f3-bc79-0dead61d9517",
   "metadata": {},
   "outputs": [
    {
     "name": "stdout",
     "output_type": "stream",
     "text": [
      "0\n",
      "1\n",
      "2\n",
      "3\n",
      "4\n",
      "5\n",
      "6\n",
      "7\n",
      "8\n",
      "9\n"
     ]
    }
   ],
   "source": [
    "i = 0\n",
    "while i < 10:\n",
    "    print(i)\n",
    "    i += 1"
   ]
  },
  {
   "cell_type": "code",
   "execution_count": 31,
   "id": "0f63b77a-e5af-4771-8ebe-5bf20b547b50",
   "metadata": {},
   "outputs": [
    {
     "name": "stdout",
     "output_type": "stream",
     "text": [
      "5\n",
      "6\n",
      "7\n",
      "8\n",
      "9\n"
     ]
    }
   ],
   "source": [
    "i = 5\n",
    "n = 10\n",
    "while i < n:\n",
    "    print(i)\n",
    "    i += 1"
   ]
  },
  {
   "cell_type": "code",
   "execution_count": 32,
   "id": "b505e560-f785-46d7-b7c8-3c70bf832afd",
   "metadata": {},
   "outputs": [
    {
     "name": "stdout",
     "output_type": "stream",
     "text": [
      "10\n",
      "20\n",
      "30\n",
      "40\n"
     ]
    }
   ],
   "source": [
    "i = 10\n",
    "n = 50\n",
    "while i < n:\n",
    "    print(i)\n",
    "    i += 10"
   ]
  },
  {
   "cell_type": "code",
   "execution_count": 39,
   "id": "03e16c6c-bd2b-4dfd-a020-3bbaa221f1eb",
   "metadata": {},
   "outputs": [
    {
     "name": "stdout",
     "output_type": "stream",
     "text": [
      "100\n",
      "200\n",
      "300\n",
      "400\n",
      "500\n",
      "600\n",
      "700\n",
      "800\n",
      "900\n"
     ]
    }
   ],
   "source": [
    "q = 1000\n",
    "w = 100\n",
    "while w < q:\n",
    "    print(w)\n",
    "    w += 100"
   ]
  },
  {
   "cell_type": "code",
   "execution_count": 41,
   "id": "19cdc12d-9379-48e8-8d6f-b6fd76c2e4bd",
   "metadata": {},
   "outputs": [
    {
     "name": "stdout",
     "output_type": "stream",
     "text": [
      "0\n",
      "1\n",
      "2\n",
      "3\n",
      "4\n",
      "5\n",
      "6\n",
      "7\n",
      "8\n",
      "9\n",
      "10\n"
     ]
    }
   ],
   "source": [
    "i = 0\n",
    "n = 11\n",
    "while i<n:\n",
    "    print(i)\n",
    "    i +=1"
   ]
  },
  {
   "cell_type": "code",
   "execution_count": 42,
   "id": "cb24305b-622d-443e-b03e-b1e1701db1cb",
   "metadata": {},
   "outputs": [
    {
     "name": "stdout",
     "output_type": "stream",
     "text": [
      "7 X 1 = 7\n",
      "7 X 2 = 14\n",
      "7 X 3 = 21\n",
      "7 X 4 = 28\n",
      "7 X 5 = 35\n",
      "7 X 6 = 42\n",
      "7 X 7 = 49\n",
      "7 X 8 = 56\n",
      "7 X 9 = 63\n",
      "7 X 10 = 70\n"
     ]
    }
   ],
   "source": [
    "i = 1\n",
    "n = 11\n",
    "while i<n:\n",
    "    print(7,\"X\",i,\"=\",i*7)\n",
    "    i += 1"
   ]
  },
  {
   "cell_type": "code",
   "execution_count": 44,
   "id": "59a821ee-b5ab-4d3f-8178-9fc041553da6",
   "metadata": {},
   "outputs": [
    {
     "name": "stdout",
     "output_type": "stream",
     "text": [
      "8 X 0 = 0\n",
      "8 X 1 = 20\n",
      "8 X 2 = 40\n",
      "8 X 3 = 60\n",
      "8 X 4 = 80\n",
      "8 X 5 = 100\n",
      "8 X 6 = 120\n",
      "8 X 7 = 140\n",
      "8 X 8 = 160\n",
      "8 X 9 = 180\n",
      "8 X 10 = 200\n"
     ]
    }
   ],
   "source": [
    "i = 0\n",
    "n = 11\n",
    "while i<n:\n",
    "    print(8,\"X\",i,\"=\",20*i)\n",
    "    i +=1"
   ]
  },
  {
   "cell_type": "code",
   "execution_count": 49,
   "id": "0cf52f50-0a77-4a30-9640-22dfe744568b",
   "metadata": {},
   "outputs": [
    {
     "name": "stdout",
     "output_type": "stream",
     "text": [
      "2 / 2 = 1.0\n",
      "2 / 3 = 0.6666666666666666\n",
      "2 / 4 = 0.5\n",
      "2 / 5 = 0.4\n",
      "2 / 6 = 0.3333333333333333\n",
      "2 / 7 = 0.2857142857142857\n",
      "2 / 8 = 0.25\n",
      "2 / 9 = 0.2222222222222222\n",
      "2 / 10 = 0.2\n"
     ]
    }
   ],
   "source": [
    "i = 2\n",
    "n = 11\n",
    "while i<n:\n",
    "    print(2,\"/\",i,\"=\",2/i)\n",
    "    i +=1"
   ]
  },
  {
   "cell_type": "code",
   "execution_count": 56,
   "id": "01165b1a-32d3-4e22-8ce2-8b5e7c424bb5",
   "metadata": {},
   "outputs": [
    {
     "name": "stdout",
     "output_type": "stream",
     "text": [
      "0 0\n",
      "1 1\n",
      "2 3\n",
      "3 6\n",
      "4 10\n",
      "5 15\n",
      "6 21\n",
      "7 28\n",
      "8 36\n",
      "9 45\n",
      "45\n"
     ]
    }
   ],
   "source": [
    "i = 0\n",
    "n = 10\n",
    "a = 0\n",
    "while i < n:\n",
    "    a += i\n",
    "    print(i,a)\n",
    "    i += 1\n",
    "print(a)"
   ]
  },
  {
   "cell_type": "code",
   "execution_count": 57,
   "id": "6608716a-506c-48a1-891d-344a7ca4db58",
   "metadata": {},
   "outputs": [
    {
     "name": "stdin",
     "output_type": "stream",
     "text": [
      "enter a number here: 11\n"
     ]
    },
    {
     "name": "stdout",
     "output_type": "stream",
     "text": [
      "0 1\n",
      "1 2\n",
      "2 3\n",
      "3 4\n",
      "4 5\n",
      "5 6\n",
      "6 7\n",
      "7 8\n",
      "8 9\n",
      "9 10\n",
      "10 11\n",
      "11\n"
     ]
    }
   ],
   "source": [
    "i = 0\n",
    "n =int(input(\"enter a number here:\"))\n",
    "a =0\n",
    "while i<n:\n",
    "    a+= 1\n",
    "    print(i,a)\n",
    "    i+=1\n",
    "print(a)"
   ]
  },
  {
   "cell_type": "code",
   "execution_count": 58,
   "id": "3cab62e9-0ad1-4e53-8a97-68d31f3238a2",
   "metadata": {},
   "outputs": [
    {
     "name": "stdout",
     "output_type": "stream",
     "text": [
      "3825\n"
     ]
    }
   ],
   "source": [
    "i = 50\n",
    "n = 101\n",
    "a = 0\n",
    "while i < n:\n",
    "    a+= i\n",
    "    i+=1\n",
    "print(a)"
   ]
  },
  {
   "cell_type": "code",
   "execution_count": 64,
   "id": "6b1f9e98-5c00-4516-9a33-3dd5379efe1f",
   "metadata": {},
   "outputs": [],
   "source": [
    "name = \"Ujwal Rana\""
   ]
  },
  {
   "cell_type": "code",
   "execution_count": 65,
   "id": "2ed6b82d-d6c7-4b1a-969b-06b9266c2cf4",
   "metadata": {},
   "outputs": [
    {
     "data": {
      "text/plain": [
       "'Ujwal Rana'"
      ]
     },
     "execution_count": 65,
     "metadata": {},
     "output_type": "execute_result"
    }
   ],
   "source": [
    "name"
   ]
  },
  {
   "cell_type": "code",
   "execution_count": 67,
   "id": "542d6c6e-29ae-4da2-966f-41ef70399cb3",
   "metadata": {},
   "outputs": [
    {
     "data": {
      "text/plain": [
       "4"
      ]
     },
     "execution_count": 67,
     "metadata": {},
     "output_type": "execute_result"
    }
   ],
   "source": [
    "len(\"name\")"
   ]
  },
  {
   "cell_type": "code",
   "execution_count": 68,
   "id": "596959ad-2dcf-4d42-8b2a-30632dfeea57",
   "metadata": {},
   "outputs": [
    {
     "name": "stdout",
     "output_type": "stream",
     "text": [
      "U\n",
      "j\n",
      "w\n",
      "a\n"
     ]
    }
   ],
   "source": [
    "name =\"Ujwal Rana\"\n",
    "i = 0\n",
    "n = len(\"name\")\n",
    "while i < n:\n",
    "    print(name[i])\n",
    "    i +=1"
   ]
  },
  {
   "cell_type": "code",
   "execution_count": null,
   "id": "2f110c00-69b1-4f96-927b-9c0b7fe664a1",
   "metadata": {},
   "outputs": [],
   "source": []
  }
 ],
 "metadata": {
  "kernelspec": {
   "display_name": "Python 3 (ipykernel)",
   "language": "python",
   "name": "python3"
  },
  "language_info": {
   "codemirror_mode": {
    "name": "ipython",
    "version": 3
   },
   "file_extension": ".py",
   "mimetype": "text/x-python",
   "name": "python",
   "nbconvert_exporter": "python",
   "pygments_lexer": "ipython3",
   "version": "3.13.5"
  }
 },
 "nbformat": 4,
 "nbformat_minor": 5
}
