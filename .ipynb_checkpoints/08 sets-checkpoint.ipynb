{
 "cells": [
  {
   "cell_type": "markdown",
   "id": "eee17f2e-8d12-44ac-a782-4c867f6308a4",
   "metadata": {},
   "source": [
    "# sets"
   ]
  },
  {
   "cell_type": "code",
   "execution_count": 1,
   "id": "45ba6e92-e6dc-4f90-a8f0-c0314ed95e01",
   "metadata": {},
   "outputs": [
    {
     "data": {
      "text/plain": [
       "{1, 2, 3, 4, 5, 6}"
      ]
     },
     "execution_count": 1,
     "metadata": {},
     "output_type": "execute_result"
    }
   ],
   "source": [
    "{1,1,1,2,3,4,5,6,6}"
   ]
  },
  {
   "cell_type": "code",
   "execution_count": 2,
   "id": "9f6b7476-0c29-4cbd-911b-ee7d636ee6ee",
   "metadata": {},
   "outputs": [],
   "source": [
    "a ={1,1,2,3,4,5,5,1,6}"
   ]
  },
  {
   "cell_type": "code",
   "execution_count": 3,
   "id": "66714675-b4ea-4813-9a7f-1d3037655917",
   "metadata": {},
   "outputs": [
    {
     "data": {
      "text/plain": [
       "{1, 2, 3, 4, 5, 6}"
      ]
     },
     "execution_count": 3,
     "metadata": {},
     "output_type": "execute_result"
    }
   ],
   "source": [
    "a"
   ]
  },
  {
   "cell_type": "code",
   "execution_count": 6,
   "id": "730f2a58-5ff0-48c8-9b6e-52336dff7e9e",
   "metadata": {},
   "outputs": [
    {
     "data": {
      "text/plain": [
       "{'rohit', 'sahil', 'ujwal'}"
      ]
     },
     "execution_count": 6,
     "metadata": {},
     "output_type": "execute_result"
    }
   ],
   "source": [
    "{\"ujwal\",\"rohit\",\"sahil\",\"ujwal\"}"
   ]
  },
  {
   "cell_type": "code",
   "execution_count": 9,
   "id": "8b213221-6f96-4685-8103-4b84afbcc0c6",
   "metadata": {},
   "outputs": [],
   "source": [
    "a= {1,2,3}"
   ]
  },
  {
   "cell_type": "code",
   "execution_count": 10,
   "id": "6be3ac75-6fd6-4738-b733-6f4c7b381172",
   "metadata": {},
   "outputs": [],
   "source": [
    "b ={2,3}"
   ]
  },
  {
   "cell_type": "code",
   "execution_count": 11,
   "id": "630f6ad1-a013-459f-af00-4d3096eebf48",
   "metadata": {},
   "outputs": [
    {
     "data": {
      "text/plain": [
       "True"
      ]
     },
     "execution_count": 11,
     "metadata": {},
     "output_type": "execute_result"
    }
   ],
   "source": [
    "a.issuperset(b)"
   ]
  },
  {
   "cell_type": "code",
   "execution_count": 12,
   "id": "a011cdae-cf50-4865-b755-f04781477ea9",
   "metadata": {},
   "outputs": [
    {
     "data": {
      "text/plain": [
       "True"
      ]
     },
     "execution_count": 12,
     "metadata": {},
     "output_type": "execute_result"
    }
   ],
   "source": [
    "b.issubset(a)"
   ]
  },
  {
   "cell_type": "code",
   "execution_count": 13,
   "id": "82888e23-c4e6-494c-8693-d6b909f5ec3b",
   "metadata": {},
   "outputs": [],
   "source": [
    "a ={1,2,3}"
   ]
  },
  {
   "cell_type": "code",
   "execution_count": 14,
   "id": "4d84f53c-a627-4bb3-bedc-a550f44d0f40",
   "metadata": {},
   "outputs": [],
   "source": [
    "b ={4,5,6}"
   ]
  },
  {
   "cell_type": "code",
   "execution_count": 15,
   "id": "e4141cf1-8696-4d51-a157-e8c5f1905e40",
   "metadata": {},
   "outputs": [
    {
     "data": {
      "text/plain": [
       "{1, 2, 3, 4, 5, 6}"
      ]
     },
     "execution_count": 15,
     "metadata": {},
     "output_type": "execute_result"
    }
   ],
   "source": [
    "a.union(b)"
   ]
  },
  {
   "cell_type": "code",
   "execution_count": 16,
   "id": "794b73cb-4887-4de8-b1e9-87e66b2c060d",
   "metadata": {},
   "outputs": [
    {
     "data": {
      "text/plain": [
       "set()"
      ]
     },
     "execution_count": 16,
     "metadata": {},
     "output_type": "execute_result"
    }
   ],
   "source": [
    "a.intersection(b)"
   ]
  },
  {
   "cell_type": "code",
   "execution_count": 17,
   "id": "d135859e-d440-4ead-8d8b-10efcd15f2ae",
   "metadata": {},
   "outputs": [
    {
     "data": {
      "text/plain": [
       "{1, 2, 3}"
      ]
     },
     "execution_count": 17,
     "metadata": {},
     "output_type": "execute_result"
    }
   ],
   "source": [
    "a.difference(b)"
   ]
  },
  {
   "cell_type": "code",
   "execution_count": 18,
   "id": "a7b12d9a-cb81-4735-a798-f374181a4cee",
   "metadata": {},
   "outputs": [
    {
     "data": {
      "text/plain": [
       "{4, 5, 6}"
      ]
     },
     "execution_count": 18,
     "metadata": {},
     "output_type": "execute_result"
    }
   ],
   "source": [
    "b.difference(a)"
   ]
  },
  {
   "cell_type": "code",
   "execution_count": null,
   "id": "2524b92d-8032-45ae-a2c0-0b33f2a5fb86",
   "metadata": {},
   "outputs": [],
   "source": []
  }
 ],
 "metadata": {
  "kernelspec": {
   "display_name": "Python 3 (ipykernel)",
   "language": "python",
   "name": "python3"
  },
  "language_info": {
   "codemirror_mode": {
    "name": "ipython",
    "version": 3
   },
   "file_extension": ".py",
   "mimetype": "text/x-python",
   "name": "python",
   "nbconvert_exporter": "python",
   "pygments_lexer": "ipython3",
   "version": "3.13.5"
  }
 },
 "nbformat": 4,
 "nbformat_minor": 5
}
