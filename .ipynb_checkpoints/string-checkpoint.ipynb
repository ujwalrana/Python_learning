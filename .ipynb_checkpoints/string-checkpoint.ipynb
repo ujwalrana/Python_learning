{
 "cells": [
  {
   "cell_type": "code",
   "execution_count": 3,
   "id": "3359b0ec-12ae-4dd7-a941-8a405fd694b0",
   "metadata": {
    "scrolled": true
   },
   "outputs": [
    {
     "data": {
      "text/plain": [
       "'sanjo'"
      ]
     },
     "execution_count": 3,
     "metadata": {},
     "output_type": "execute_result"
    }
   ],
   "source": [
    "'sanjo'"
   ]
  },
  {
   "cell_type": "code",
   "execution_count": 4,
   "id": "0c7aca94-1e69-4f09-a174-8902ac00b4ae",
   "metadata": {},
   "outputs": [
    {
     "data": {
      "text/plain": [
       "\" that's mine\""
      ]
     },
     "execution_count": 4,
     "metadata": {},
     "output_type": "execute_result"
    }
   ],
   "source": [
    "\" that's mine\""
   ]
  },
  {
   "cell_type": "code",
   "execution_count": 5,
   "id": "ff10567e-1fc2-40b7-a1bb-994de7b1f239",
   "metadata": {},
   "outputs": [
    {
     "data": {
      "text/plain": [
       "' hi nice to meet to my name is satto'"
      ]
     },
     "execution_count": 5,
     "metadata": {},
     "output_type": "execute_result"
    }
   ],
   "source": [
    "\"\"\" hi nice to meet to my name is satto\"\"\""
   ]
  },
  {
   "cell_type": "code",
   "execution_count": 6,
   "id": "be638d3e-4961-4f44-8671-b39a614b1682",
   "metadata": {},
   "outputs": [
    {
     "name": "stdout",
     "output_type": "stream",
     "text": [
      " hi nice to meet to my name is satto\n"
     ]
    }
   ],
   "source": [
    "print(\"\"\" hi nice to meet to my name is satto\"\"\")"
   ]
  },
  {
   "cell_type": "code",
   "execution_count": 7,
   "id": "7a7b2b8f-3289-4abb-b404-b426e318e944",
   "metadata": {},
   "outputs": [
    {
     "data": {
      "text/plain": [
       "'\\nhi nice to meet to my name is satto\\n'"
      ]
     },
     "execution_count": 7,
     "metadata": {},
     "output_type": "execute_result"
    }
   ],
   "source": [
    "\"\"\"\n",
    "hi nice to meet to my name is satto\n",
    "\"\"\""
   ]
  },
  {
   "cell_type": "code",
   "execution_count": 8,
   "id": "ed7b0004-e631-43cc-aa61-82821b66911e",
   "metadata": {},
   "outputs": [
    {
     "data": {
      "text/plain": [
       "str"
      ]
     },
     "execution_count": 8,
     "metadata": {},
     "output_type": "execute_result"
    }
   ],
   "source": [
    "type(\"ujwal\")"
   ]
  },
  {
   "cell_type": "code",
   "execution_count": 9,
   "id": "8807220e-9bec-4b1f-a64f-e035c11c2e3a",
   "metadata": {},
   "outputs": [
    {
     "data": {
      "text/plain": [
       "'Ujwal'"
      ]
     },
     "execution_count": 9,
     "metadata": {},
     "output_type": "execute_result"
    }
   ],
   "source": [
    "\"ujwal\".capitalize()"
   ]
  },
  {
   "cell_type": "code",
   "execution_count": 11,
   "id": "61fa6895-c247-4e15-a0ce-ecdd0708fd71",
   "metadata": {},
   "outputs": [
    {
     "data": {
      "text/plain": [
       "'UJWAL'"
      ]
     },
     "execution_count": 11,
     "metadata": {},
     "output_type": "execute_result"
    }
   ],
   "source": [
    "\"ujwal\".upper()"
   ]
  },
  {
   "cell_type": "code",
   "execution_count": 12,
   "id": "bddb9ac1-0037-495a-845a-b81399f9d14b",
   "metadata": {},
   "outputs": [
    {
     "data": {
      "text/plain": [
       "'ujwal'"
      ]
     },
     "execution_count": 12,
     "metadata": {},
     "output_type": "execute_result"
    }
   ],
   "source": [
    "\"ujwal\".lower()"
   ]
  },
  {
   "cell_type": "code",
   "execution_count": 16,
   "id": "df593051-d682-40fa-868c-695d8a1b3d25",
   "metadata": {},
   "outputs": [
    {
     "data": {
      "text/plain": [
       "3"
      ]
     },
     "execution_count": 16,
     "metadata": {},
     "output_type": "execute_result"
    }
   ],
   "source": [
    "\"ujwal rana\".count('a')"
   ]
  },
  {
   "cell_type": "code",
   "execution_count": 17,
   "id": "104c86a0-40db-4d3e-bed3-066f22bbe029",
   "metadata": {},
   "outputs": [],
   "source": [
    "name = \"ujwal Rana\""
   ]
  },
  {
   "cell_type": "code",
   "execution_count": 23,
   "id": "b3a5f624-1c57-4d79-88c7-a9bb41242d06",
   "metadata": {},
   "outputs": [
    {
     "data": {
      "text/plain": [
       "8"
      ]
     },
     "execution_count": 23,
     "metadata": {},
     "output_type": "execute_result"
    }
   ],
   "source": [
    "name.find('n')"
   ]
  },
  {
   "cell_type": "code",
   "execution_count": 24,
   "id": "1703947d-8d0d-4b30-abde-248dcc43a5e2",
   "metadata": {},
   "outputs": [
    {
     "data": {
      "text/plain": [
       "10"
      ]
     },
     "execution_count": 24,
     "metadata": {},
     "output_type": "execute_result"
    }
   ],
   "source": [
    "len(name)"
   ]
  },
  {
   "cell_type": "code",
   "execution_count": 25,
   "id": "8582380a-7352-4276-93d7-ffa737086a0b",
   "metadata": {},
   "outputs": [],
   "source": [
    "first_name =\"ujwal\""
   ]
  },
  {
   "cell_type": "code",
   "execution_count": 26,
   "id": "587cdf23-399f-461d-8a7a-89e7c6675f6a",
   "metadata": {},
   "outputs": [],
   "source": [
    "last_name =\"rana\""
   ]
  },
  {
   "cell_type": "code",
   "execution_count": 28,
   "id": "a44176fb-ba10-42ad-ad44-abc0489973ff",
   "metadata": {},
   "outputs": [
    {
     "data": {
      "text/plain": [
       "'ujwalrana'"
      ]
     },
     "execution_count": 28,
     "metadata": {},
     "output_type": "execute_result"
    }
   ],
   "source": [
    "first_name + last_name "
   ]
  },
  {
   "cell_type": "code",
   "execution_count": 30,
   "id": "386589e6-c571-4598-a938-f0cf3552e629",
   "metadata": {},
   "outputs": [
    {
     "data": {
      "text/plain": [
       "'ujwalrana'"
      ]
     },
     "execution_count": 30,
     "metadata": {},
     "output_type": "execute_result"
    }
   ],
   "source": [
    "first_name +\"\"+ last_name"
   ]
  },
  {
   "cell_type": "code",
   "execution_count": 32,
   "id": "515b0c10-ea50-44aa-a2a6-23ee09b8bdfd",
   "metadata": {},
   "outputs": [
    {
     "data": {
      "text/plain": [
       "'55'"
      ]
     },
     "execution_count": 32,
     "metadata": {},
     "output_type": "execute_result"
    }
   ],
   "source": [
    "\"5\" +\"5\""
   ]
  },
  {
   "cell_type": "code",
   "execution_count": 33,
   "id": "4459e88f-1bad-4575-ac14-2299429ca1de",
   "metadata": {},
   "outputs": [
    {
     "data": {
      "text/plain": [
       "10"
      ]
     },
     "execution_count": 33,
     "metadata": {},
     "output_type": "execute_result"
    }
   ],
   "source": [
    "5+5"
   ]
  },
  {
   "cell_type": "code",
   "execution_count": 34,
   "id": "ba491042-9251-448a-9d2f-e1b1a47532db",
   "metadata": {},
   "outputs": [
    {
     "data": {
      "text/plain": [
       "int"
      ]
     },
     "execution_count": 34,
     "metadata": {},
     "output_type": "execute_result"
    }
   ],
   "source": [
    "type(55)"
   ]
  },
  {
   "cell_type": "code",
   "execution_count": 43,
   "id": "a35994a8-4fe2-4d05-a5ca-1a8ddef6495a",
   "metadata": {},
   "outputs": [],
   "source": [
    "name =\"rohit\"\n",
    "salary = 80000"
   ]
  },
  {
   "cell_type": "code",
   "execution_count": 37,
   "id": "e628a007-ea4c-43da-8e98-68cfdf39093f",
   "metadata": {},
   "outputs": [
    {
     "data": {
      "text/plain": [
       "'hi my name is rohit and my salary is 80000'"
      ]
     },
     "execution_count": 37,
     "metadata": {},
     "output_type": "execute_result"
    }
   ],
   "source": [
    "\"hi my name is rohit and my salary is 80000\""
   ]
  },
  {
   "cell_type": "code",
   "execution_count": 38,
   "id": "cce293df-c212-425b-b147-15630c6769bc",
   "metadata": {},
   "outputs": [
    {
     "data": {
      "text/plain": [
       "'hi my name is rohit'"
      ]
     },
     "execution_count": 38,
     "metadata": {},
     "output_type": "execute_result"
    }
   ],
   "source": [
    "\"hi my name is \"+ name"
   ]
  },
  {
   "cell_type": "code",
   "execution_count": 45,
   "id": "537dc7b5-8007-420a-b6fd-e2e05a6c5ae1",
   "metadata": {},
   "outputs": [
    {
     "data": {
      "text/plain": [
       "'hi my name is rohit and my salary is 80000'"
      ]
     },
     "execution_count": 45,
     "metadata": {},
     "output_type": "execute_result"
    }
   ],
   "source": [
    "\"hi my name is {} and my salary is {}\".format(\"rohit\",80000)"
   ]
  },
  {
   "cell_type": "code",
   "execution_count": 47,
   "id": "5b8f7389-22fd-4fa3-b755-a04d76ed5785",
   "metadata": {},
   "outputs": [
    {
     "data": {
      "text/plain": [
       "'hi my name is rohit jr  and my salary is 80000. i am of rohit'"
      ]
     },
     "execution_count": 47,
     "metadata": {},
     "output_type": "execute_result"
    }
   ],
   "source": [
    "\"hi my name is {0} jr  and my salary is {1}. i am of {0}\".format(\"rohit\",80000)"
   ]
  },
  {
   "cell_type": "code",
   "execution_count": 48,
   "id": "f85d88f7-8732-46f9-98f1-ff590ff6482f",
   "metadata": {},
   "outputs": [
    {
     "data": {
      "text/plain": [
       "'hi my name is rohit jr  and my salary is 80000. i am of rohit, and i live in badaj'"
      ]
     },
     "execution_count": 48,
     "metadata": {},
     "output_type": "execute_result"
    }
   ],
   "source": [
    "\"hi my name is {0} jr  and my salary is {1}. i am of {0}, and i live in {2}\".format(\"rohit\",80000,\"badaj\")"
   ]
  },
  {
   "cell_type": "code",
   "execution_count": 49,
   "id": "a457b521-d2ef-439e-8ea1-cdfd58a64b03",
   "metadata": {},
   "outputs": [
    {
     "data": {
      "text/plain": [
       "'hi my name is rohit jr  and my salary is 80000. i am of rohit, and i live in badaj'"
      ]
     },
     "execution_count": 49,
     "metadata": {},
     "output_type": "execute_result"
    }
   ],
   "source": [
    "\"hi my name is {name} jr  and my salary is {salary}. i am of {name}, and i live in {place}\".format(name =\"rohit\",salary =80000,place =\"badaj\")"
   ]
  },
  {
   "cell_type": "code",
   "execution_count": 50,
   "id": "20bf5c4f-f881-4687-88c3-2d6d5d8e4ec1",
   "metadata": {},
   "outputs": [],
   "source": [
    "name = \"ujwal\"\n",
    "age = 21\n",
    "salary = 80000\n",
    "place = \"palampur\""
   ]
  },
  {
   "cell_type": "code",
   "execution_count": 51,
   "id": "d3f2d662-f21e-4943-971b-a1a7995858df",
   "metadata": {},
   "outputs": [
    {
     "data": {
      "text/plain": [
       "'hi my name is ujwal, and my age is 21, and my salary is 80000, and i live in palampur'"
      ]
     },
     "execution_count": 51,
     "metadata": {},
     "output_type": "execute_result"
    }
   ],
   "source": [
    "f'hi my name is {name}, and my age is {age}, and my salary is {salary}, and i live in {place}'"
   ]
  },
  {
   "cell_type": "code",
   "execution_count": 53,
   "id": "50685edb-8b54-4ff0-8591-3258e15aa0c2",
   "metadata": {},
   "outputs": [
    {
     "data": {
      "text/plain": [
       "'ujwal rana'"
      ]
     },
     "execution_count": 53,
     "metadata": {},
     "output_type": "execute_result"
    }
   ],
   "source": [
    "\"Ujwal Rana\".lower()"
   ]
  },
  {
   "cell_type": "code",
   "execution_count": 54,
   "id": "2f82c4f1-52a8-492c-befb-1d2670b8697f",
   "metadata": {},
   "outputs": [
    {
     "data": {
      "text/plain": [
       "['ujwal', 'rana']"
      ]
     },
     "execution_count": 54,
     "metadata": {},
     "output_type": "execute_result"
    }
   ],
   "source": [
    "\"ujwal rana\".split()"
   ]
  },
  {
   "cell_type": "code",
   "execution_count": 55,
   "id": "a01e8c57-8f05-471f-9bf8-9a1d0e1fd9e8",
   "metadata": {},
   "outputs": [
    {
     "data": {
      "text/plain": [
       "['tom', 'jeery', 'cheetah', 'sher']"
      ]
     },
     "execution_count": 55,
     "metadata": {},
     "output_type": "execute_result"
    }
   ],
   "source": [
    "\"tom jeery cheetah sher\".split()"
   ]
  },
  {
   "cell_type": "code",
   "execution_count": 56,
   "id": "73c1d202-ce77-426c-b415-c3bc1d412030",
   "metadata": {},
   "outputs": [
    {
     "data": {
      "text/plain": [
       "'UJWAL'"
      ]
     },
     "execution_count": 56,
     "metadata": {},
     "output_type": "execute_result"
    }
   ],
   "source": [
    "name.upper()"
   ]
  },
  {
   "cell_type": "code",
   "execution_count": 57,
   "id": "9dc0b608-230b-41fe-94b4-b7b5774d2081",
   "metadata": {},
   "outputs": [
    {
     "data": {
      "text/plain": [
       "'ujwal'"
      ]
     },
     "execution_count": 57,
     "metadata": {},
     "output_type": "execute_result"
    }
   ],
   "source": [
    "name"
   ]
  },
  {
   "cell_type": "code",
   "execution_count": 59,
   "id": "8e45aa27-eeec-4555-b97c-5a4b9d21bef2",
   "metadata": {},
   "outputs": [],
   "source": [
    "name = name.upper()"
   ]
  },
  {
   "cell_type": "code",
   "execution_count": 60,
   "id": "0052679a-d701-439a-852e-6596a1a43121",
   "metadata": {},
   "outputs": [
    {
     "data": {
      "text/plain": [
       "'UJWAL'"
      ]
     },
     "execution_count": 60,
     "metadata": {},
     "output_type": "execute_result"
    }
   ],
   "source": [
    "name"
   ]
  },
  {
   "cell_type": "code",
   "execution_count": 62,
   "id": "4b6089c5-2f9a-407d-b719-58e1520a55ef",
   "metadata": {},
   "outputs": [
    {
     "data": {
      "text/plain": [
       "['tom j', '', 'ry ch', '', 'tah sh', 'r']"
      ]
     },
     "execution_count": 62,
     "metadata": {},
     "output_type": "execute_result"
    }
   ],
   "source": [
    "\"tom jeery cheetah sher\".split(\"e\")"
   ]
  },
  {
   "cell_type": "code",
   "execution_count": 64,
   "id": "a96ad34d-7342-4cc2-9c61-6b7f18f034e6",
   "metadata": {},
   "outputs": [
    {
     "data": {
      "text/plain": [
       "['hi my n', 'me is ujw', 'l ']"
      ]
     },
     "execution_count": 64,
     "metadata": {},
     "output_type": "execute_result"
    }
   ],
   "source": [
    "\"hi my name is ujwal \".split(\"a\")"
   ]
  },
  {
   "cell_type": "code",
   "execution_count": 65,
   "id": "047b55c5-bf8e-4c48-9916-4d82b12d4a66",
   "metadata": {},
   "outputs": [
    {
     "data": {
      "text/plain": [
       "['2025', '07', '25']"
      ]
     },
     "execution_count": 65,
     "metadata": {},
     "output_type": "execute_result"
    }
   ],
   "source": [
    "\"2025-07-25\".split(\"-\")"
   ]
  },
  {
   "cell_type": "code",
   "execution_count": 66,
   "id": "b1ef5e11-1880-4927-b6bb-cf9560b73edf",
   "metadata": {},
   "outputs": [
    {
     "data": {
      "text/plain": [
       "'ujwal'"
      ]
     },
     "execution_count": 66,
     "metadata": {},
     "output_type": "execute_result"
    }
   ],
   "source": [
    "\"      ujwal\".strip()"
   ]
  },
  {
   "cell_type": "code",
   "execution_count": 67,
   "id": "f53be549-a072-4116-889d-0812e92b1ffc",
   "metadata": {},
   "outputs": [
    {
     "name": "stdout",
     "output_type": "stream",
     "text": [
      "ujwal\n",
      "ujwal  \n"
     ]
    }
   ],
   "source": [
    "print(\"ujwal\")\n",
    "print(\"ujwal  \")"
   ]
  },
  {
   "cell_type": "code",
   "execution_count": 68,
   "id": "827e9f17-2191-4c72-b7fd-af7698650a56",
   "metadata": {},
   "outputs": [
    {
     "data": {
      "text/plain": [
       "True"
      ]
     },
     "execution_count": 68,
     "metadata": {},
     "output_type": "execute_result"
    }
   ],
   "source": [
    "\"ujwal\".islower()"
   ]
  },
  {
   "cell_type": "code",
   "execution_count": 69,
   "id": "73ed0d92-5eb3-4110-a2da-2dd4ff6e913c",
   "metadata": {},
   "outputs": [
    {
     "data": {
      "text/plain": [
       "True"
      ]
     },
     "execution_count": 69,
     "metadata": {},
     "output_type": "execute_result"
    }
   ],
   "source": [
    "\"UJWAL\".isupper()"
   ]
  },
  {
   "cell_type": "code",
   "execution_count": 70,
   "id": "96286319-87c2-4d4b-93cb-3782d1fc6944",
   "metadata": {},
   "outputs": [
    {
     "data": {
      "text/plain": [
       "False"
      ]
     },
     "execution_count": 70,
     "metadata": {},
     "output_type": "execute_result"
    }
   ],
   "source": [
    "\"ujwal\".isupper()"
   ]
  },
  {
   "cell_type": "code",
   "execution_count": 71,
   "id": "56a68307-72c3-485e-aa40-4d8f79601076",
   "metadata": {},
   "outputs": [
    {
     "data": {
      "text/plain": [
       "False"
      ]
     },
     "execution_count": 71,
     "metadata": {},
     "output_type": "execute_result"
    }
   ],
   "source": [
    "\"Ujwal\".isupper()"
   ]
  },
  {
   "cell_type": "code",
   "execution_count": 72,
   "id": "84f30e22-6250-45d3-b60b-490e3a8d4fe6",
   "metadata": {},
   "outputs": [
    {
     "data": {
      "text/plain": [
       "True"
      ]
     },
     "execution_count": 72,
     "metadata": {},
     "output_type": "execute_result"
    }
   ],
   "source": [
    "\"ujwal\".isalpha()"
   ]
  },
  {
   "cell_type": "code",
   "execution_count": 73,
   "id": "6add7e31-40d7-4ab5-8a09-81d56596ff20",
   "metadata": {},
   "outputs": [
    {
     "data": {
      "text/plain": [
       "False"
      ]
     },
     "execution_count": 73,
     "metadata": {},
     "output_type": "execute_result"
    }
   ],
   "source": [
    "\"ujwal\".isnumeric()"
   ]
  },
  {
   "cell_type": "code",
   "execution_count": 74,
   "id": "c23a08bf-31f3-488b-9d02-15761ae10139",
   "metadata": {},
   "outputs": [
    {
     "data": {
      "text/plain": [
       "True"
      ]
     },
     "execution_count": 74,
     "metadata": {},
     "output_type": "execute_result"
    }
   ],
   "source": [
    "\"98765\".isalnum()"
   ]
  },
  {
   "cell_type": "code",
   "execution_count": 75,
   "id": "f989bbcd-36cf-4e8d-adad-1cdda8b85153",
   "metadata": {},
   "outputs": [
    {
     "data": {
      "text/plain": [
       "True"
      ]
     },
     "execution_count": 75,
     "metadata": {},
     "output_type": "execute_result"
    }
   ],
   "source": [
    "\"98765\".isnumeric()"
   ]
  },
  {
   "cell_type": "code",
   "execution_count": 76,
   "id": "62f81b31-00cb-4b17-8353-44fe6ea02335",
   "metadata": {},
   "outputs": [
    {
     "data": {
      "text/plain": [
       "True"
      ]
     },
     "execution_count": 76,
     "metadata": {},
     "output_type": "execute_result"
    }
   ],
   "source": [
    "\"ujwal77\".isalnum()"
   ]
  },
  {
   "cell_type": "code",
   "execution_count": 77,
   "id": "3bcf2098-4147-432b-88a5-073224fa6aec",
   "metadata": {},
   "outputs": [
    {
     "data": {
      "text/plain": [
       "True"
      ]
     },
     "execution_count": 77,
     "metadata": {},
     "output_type": "execute_result"
    }
   ],
   "source": [
    "\" \".isspace()"
   ]
  },
  {
   "cell_type": "code",
   "execution_count": 78,
   "id": "7a8e8ced-598c-4597-91fa-5c6c2c73bd95",
   "metadata": {},
   "outputs": [
    {
     "name": "stdout",
     "output_type": "stream",
     "text": [
      "Object `replace` not found.\n"
     ]
    }
   ],
   "source": [
    "\"ujwal rana\".replace?"
   ]
  },
  {
   "cell_type": "code",
   "execution_count": 79,
   "id": "e1d1c8ec-1b54-4bb3-bc28-3714f1a15937",
   "metadata": {},
   "outputs": [
    {
     "name": "stdout",
     "output_type": "stream",
     "text": [
      "Help on built-in function replace:\n",
      "\n",
      "replace(old, new, /, count=-1) method of builtins.str instance\n",
      "    Return a copy with all occurrences of substring old replaced by new.\n",
      "\n",
      "      count\n",
      "        Maximum number of occurrences to replace.\n",
      "        -1 (the default value) means replace all occurrences.\n",
      "\n",
      "    If the optional argument count is given, only the first count occurrences are\n",
      "    replaced.\n",
      "\n"
     ]
    }
   ],
   "source": [
    "help(\"ujwal rana\".replace)"
   ]
  },
  {
   "cell_type": "code",
   "execution_count": 81,
   "id": "5c6df0c1-c42a-47eb-b3b2-40da9ec5a383",
   "metadata": {},
   "outputs": [
    {
     "data": {
      "text/plain": [
       "'ujeal'"
      ]
     },
     "execution_count": 81,
     "metadata": {},
     "output_type": "execute_result"
    }
   ],
   "source": [
    "\"ujwal\".replace(\"w\",\"e\")"
   ]
  },
  {
   "cell_type": "code",
   "execution_count": 82,
   "id": "98956189-450e-4a64-b14f-16d002b1a370",
   "metadata": {},
   "outputs": [
    {
     "data": {
      "text/plain": [
       "'ujw#l'"
      ]
     },
     "execution_count": 82,
     "metadata": {},
     "output_type": "execute_result"
    }
   ],
   "source": [
    "\"ujwal\".replace(\"a\",\"#\")"
   ]
  },
  {
   "cell_type": "code",
   "execution_count": 84,
   "id": "b86ae7bd-0349-44e8-991a-6825a4189af1",
   "metadata": {},
   "outputs": [
    {
     "data": {
      "text/plain": [
       "'ujwel rene'"
      ]
     },
     "execution_count": 84,
     "metadata": {},
     "output_type": "execute_result"
    }
   ],
   "source": [
    "\"ujwal rana\".replace(\"a\",\"e\",3)"
   ]
  },
  {
   "cell_type": "code",
   "execution_count": 85,
   "id": "3c29b7b8-9813-440b-900d-0329737427e8",
   "metadata": {},
   "outputs": [],
   "source": [
    "name =\"ujwal rana\""
   ]
  },
  {
   "cell_type": "code",
   "execution_count": 86,
   "id": "6912bcab-34cd-4643-bce0-9b46ad94faa6",
   "metadata": {},
   "outputs": [
    {
     "data": {
      "text/plain": [
       "'ujwal rana'"
      ]
     },
     "execution_count": 86,
     "metadata": {},
     "output_type": "execute_result"
    }
   ],
   "source": [
    "name"
   ]
  },
  {
   "cell_type": "code",
   "execution_count": 90,
   "id": "3b3c0e03-8a4a-4ebf-a43c-43db4444d821",
   "metadata": {},
   "outputs": [
    {
     "data": {
      "text/plain": [
       "'a'"
      ]
     },
     "execution_count": 90,
     "metadata": {},
     "output_type": "execute_result"
    }
   ],
   "source": [
    "name[7]"
   ]
  },
  {
   "cell_type": "code",
   "execution_count": 91,
   "id": "a3f4495e-b257-4cf3-85c2-3430782cc524",
   "metadata": {},
   "outputs": [
    {
     "data": {
      "text/plain": [
       "10"
      ]
     },
     "execution_count": 91,
     "metadata": {},
     "output_type": "execute_result"
    }
   ],
   "source": [
    "len(name)"
   ]
  },
  {
   "cell_type": "code",
   "execution_count": 92,
   "id": "cf4900d1-b72e-4e94-98dd-efd9ab67e811",
   "metadata": {},
   "outputs": [
    {
     "data": {
      "text/plain": [
       "'a'"
      ]
     },
     "execution_count": 92,
     "metadata": {},
     "output_type": "execute_result"
    }
   ],
   "source": [
    "name[-1]"
   ]
  },
  {
   "cell_type": "code",
   "execution_count": 93,
   "id": "d3fed43b-647e-4324-a0f9-fbd2f754d1c3",
   "metadata": {},
   "outputs": [
    {
     "data": {
      "text/plain": [
       "'a'"
      ]
     },
     "execution_count": 93,
     "metadata": {},
     "output_type": "execute_result"
    }
   ],
   "source": [
    "name[-3]"
   ]
  },
  {
   "cell_type": "code",
   "execution_count": 94,
   "id": "ab05211d-a37a-4685-b94d-9cdf91abb47e",
   "metadata": {},
   "outputs": [
    {
     "data": {
      "text/plain": [
       "'j'"
      ]
     },
     "execution_count": 94,
     "metadata": {},
     "output_type": "execute_result"
    }
   ],
   "source": [
    "name[-9]"
   ]
  },
  {
   "cell_type": "code",
   "execution_count": 1,
   "id": "b407394d-7684-4f97-bdad-1f2120a72d0f",
   "metadata": {},
   "outputs": [],
   "source": [
    "greet = \"hello rohit nice to meet you\""
   ]
  },
  {
   "cell_type": "code",
   "execution_count": 2,
   "id": "31e4bd93-b0b7-448b-addc-9981e5713d1f",
   "metadata": {},
   "outputs": [
    {
     "data": {
      "text/plain": [
       "'hello rohit nice to meet you'"
      ]
     },
     "execution_count": 2,
     "metadata": {},
     "output_type": "execute_result"
    }
   ],
   "source": [
    "greet"
   ]
  },
  {
   "cell_type": "code",
   "execution_count": 3,
   "id": "0a3076d6-84eb-40bb-87bc-932fd28ce035",
   "metadata": {},
   "outputs": [
    {
     "data": {
      "text/plain": [
       "'rohit ni'"
      ]
     },
     "execution_count": 3,
     "metadata": {},
     "output_type": "execute_result"
    }
   ],
   "source": [
    "greet[6:14]"
   ]
  },
  {
   "cell_type": "code",
   "execution_count": 4,
   "id": "29647bd2-2d84-4abd-b6e5-d103dce44d28",
   "metadata": {},
   "outputs": [
    {
     "data": {
      "text/plain": [
       "'12345678909'"
      ]
     },
     "execution_count": 4,
     "metadata": {},
     "output_type": "execute_result"
    }
   ],
   "source": [
    "\"12345678909\""
   ]
  },
  {
   "cell_type": "code",
   "execution_count": 5,
   "id": "cab61929-3e3b-43a5-bff0-96f61210a212",
   "metadata": {},
   "outputs": [
    {
     "data": {
      "text/plain": [
       "'567'"
      ]
     },
     "execution_count": 5,
     "metadata": {},
     "output_type": "execute_result"
    }
   ],
   "source": [
    "\"12345678909\"[4:7]"
   ]
  },
  {
   "cell_type": "code",
   "execution_count": 6,
   "id": "0b8c8355-fc82-443b-8d1c-94637479a650",
   "metadata": {},
   "outputs": [],
   "source": [
    "s = \"the fox ran\""
   ]
  },
  {
   "cell_type": "code",
   "execution_count": 7,
   "id": "02f6c8bb-ef19-4212-ac62-5cdbb0b7ff7d",
   "metadata": {},
   "outputs": [
    {
     "data": {
      "text/plain": [
       "'the fox ran'"
      ]
     },
     "execution_count": 7,
     "metadata": {},
     "output_type": "execute_result"
    }
   ],
   "source": [
    "s"
   ]
  },
  {
   "cell_type": "code",
   "execution_count": 9,
   "id": "a56d7ad7-ca47-41e2-90c6-cdf9e40da981",
   "metadata": {},
   "outputs": [
    {
     "data": {
      "text/plain": [
       "'fox'"
      ]
     },
     "execution_count": 9,
     "metadata": {},
     "output_type": "execute_result"
    }
   ],
   "source": [
    "s[4:7]"
   ]
  },
  {
   "cell_type": "code",
   "execution_count": 10,
   "id": "5e5296e8-ef49-4610-9879-f6c98e8184d6",
   "metadata": {},
   "outputs": [],
   "source": [
    "d = \"rohit is a nice person\""
   ]
  },
  {
   "cell_type": "code",
   "execution_count": 11,
   "id": "538d9377-5c95-4522-b03b-2c67a8d97a71",
   "metadata": {},
   "outputs": [
    {
     "data": {
      "text/plain": [
       "'rohit is a nice person'"
      ]
     },
     "execution_count": 11,
     "metadata": {},
     "output_type": "execute_result"
    }
   ],
   "source": [
    "d"
   ]
  },
  {
   "cell_type": "code",
   "execution_count": 12,
   "id": "4fd6c14c-5aa1-4a1e-bda0-8794600c4be6",
   "metadata": {},
   "outputs": [
    {
     "data": {
      "text/plain": [
       "'i'"
      ]
     },
     "execution_count": 12,
     "metadata": {},
     "output_type": "execute_result"
    }
   ],
   "source": [
    "d[6]"
   ]
  },
  {
   "cell_type": "code",
   "execution_count": 15,
   "id": "ab2e0637-f609-443e-b974-2d11d9721847",
   "metadata": {},
   "outputs": [
    {
     "data": {
      "text/plain": [
       "'is a nice'"
      ]
     },
     "execution_count": 15,
     "metadata": {},
     "output_type": "execute_result"
    }
   ],
   "source": [
    "d[6:15]"
   ]
  },
  {
   "cell_type": "code",
   "execution_count": 16,
   "id": "588658e2-b2b3-4a20-9810-634c5dca9df8",
   "metadata": {},
   "outputs": [
    {
     "data": {
      "text/plain": [
       "'rohit is a nice'"
      ]
     },
     "execution_count": 16,
     "metadata": {},
     "output_type": "execute_result"
    }
   ],
   "source": [
    "d[:15]"
   ]
  },
  {
   "cell_type": "code",
   "execution_count": 44,
   "id": "4a21391d-79a7-40b0-aaac-3cd19e306b29",
   "metadata": {},
   "outputs": [],
   "source": [
    "name = \"Dhyanender pratap singh\""
   ]
  },
  {
   "cell_type": "code",
   "execution_count": 45,
   "id": "c645afa9-838b-42f8-9de7-506e9cae74a6",
   "metadata": {},
   "outputs": [
    {
     "data": {
      "text/plain": [
       "'Dhyanender pratap singh'"
      ]
     },
     "execution_count": 45,
     "metadata": {},
     "output_type": "execute_result"
    }
   ],
   "source": [
    "name"
   ]
  },
  {
   "cell_type": "code",
   "execution_count": 46,
   "id": "e36b0905-2f40-4aba-900c-eb8439e4b406",
   "metadata": {},
   "outputs": [
    {
     "data": {
      "text/plain": [
       "'Dhyanender pratap singh'"
      ]
     },
     "execution_count": 46,
     "metadata": {},
     "output_type": "execute_result"
    }
   ],
   "source": [
    "name [:]"
   ]
  },
  {
   "cell_type": "code",
   "execution_count": 47,
   "id": "9a8bbf3c-dd77-47fd-ac1a-43c98362ad26",
   "metadata": {},
   "outputs": [
    {
     "data": {
      "text/plain": [
       "'Dynne rtpsnh'"
      ]
     },
     "execution_count": 47,
     "metadata": {},
     "output_type": "execute_result"
    }
   ],
   "source": [
    "name[::2]"
   ]
  },
  {
   "cell_type": "code",
   "execution_count": 48,
   "id": "83b089d8-569d-4c33-8d08-b60af98e5706",
   "metadata": {},
   "outputs": [
    {
     "data": {
      "text/plain": [
       "'Danrrasg'"
      ]
     },
     "execution_count": 48,
     "metadata": {},
     "output_type": "execute_result"
    }
   ],
   "source": [
    "name[::3]"
   ]
  },
  {
   "cell_type": "code",
   "execution_count": 49,
   "id": "36f62ab8-d3af-48d6-972a-469fadc7606d",
   "metadata": {},
   "outputs": [
    {
     "data": {
      "text/plain": [
       "'Dynne'"
      ]
     },
     "execution_count": 49,
     "metadata": {},
     "output_type": "execute_result"
    }
   ],
   "source": [
    "name [0:10:2]"
   ]
  },
  {
   "cell_type": "code",
   "execution_count": 50,
   "id": "8114b207-73b6-415d-a139-21bc62b7603d",
   "metadata": {},
   "outputs": [
    {
     "data": {
      "text/plain": [
       "'Dhyanender pratap'"
      ]
     },
     "execution_count": 50,
     "metadata": {},
     "output_type": "execute_result"
    }
   ],
   "source": [
    "name[:-6]"
   ]
  },
  {
   "cell_type": "code",
   "execution_count": 51,
   "id": "358ae615-46b6-407f-91c1-788d4a16d2ba",
   "metadata": {},
   "outputs": [
    {
     "data": {
      "text/plain": [
       "'ender pratap'"
      ]
     },
     "execution_count": 51,
     "metadata": {},
     "output_type": "execute_result"
    }
   ],
   "source": [
    "name[5:-6]"
   ]
  },
  {
   "cell_type": "code",
   "execution_count": 52,
   "id": "7a3355a2-6afb-4c4c-a736-2fa839a6a0b1",
   "metadata": {},
   "outputs": [
    {
     "data": {
      "text/plain": [
       "'edrpaa'"
      ]
     },
     "execution_count": 52,
     "metadata": {},
     "output_type": "execute_result"
    }
   ],
   "source": [
    "name[5:-6:2]"
   ]
  },
  {
   "cell_type": "code",
   "execution_count": 53,
   "id": "fbb5e524-7582-4b7c-b56e-aafa7ab24d29",
   "metadata": {},
   "outputs": [
    {
     "data": {
      "text/plain": [
       "'pratap'"
      ]
     },
     "execution_count": 53,
     "metadata": {},
     "output_type": "execute_result"
    }
   ],
   "source": [
    "name[5:-6][6:]"
   ]
  },
  {
   "cell_type": "code",
   "execution_count": 54,
   "id": "7ac97f51-307d-4c27-befb-9f0b215a320c",
   "metadata": {},
   "outputs": [
    {
     "data": {
      "text/plain": [
       "'tap'"
      ]
     },
     "execution_count": 54,
     "metadata": {},
     "output_type": "execute_result"
    }
   ],
   "source": [
    "name[5:-6][6:][3:]"
   ]
  },
  {
   "cell_type": "code",
   "execution_count": 55,
   "id": "862905e0-afac-4a26-9631-07806e583dc2",
   "metadata": {},
   "outputs": [
    {
     "data": {
      "text/plain": [
       "'Dhyanender pratap singh'"
      ]
     },
     "execution_count": 55,
     "metadata": {},
     "output_type": "execute_result"
    }
   ],
   "source": [
    "name"
   ]
  },
  {
   "cell_type": "code",
   "execution_count": 56,
   "id": "e88b3758-2453-424b-a40f-4ffe3a7a1f19",
   "metadata": {},
   "outputs": [
    {
     "data": {
      "text/plain": [
       "'hgnis patarp rednenayhD'"
      ]
     },
     "execution_count": 56,
     "metadata": {},
     "output_type": "execute_result"
    }
   ],
   "source": [
    "name[::-1]"
   ]
  },
  {
   "cell_type": "code",
   "execution_count": 57,
   "id": "7abfa23c-4c9e-4105-9860-995be6eee84c",
   "metadata": {},
   "outputs": [
    {
     "data": {
      "text/plain": [
       "'Dhyanender pratap singh'"
      ]
     },
     "execution_count": 57,
     "metadata": {},
     "output_type": "execute_result"
    }
   ],
   "source": [
    "name"
   ]
  },
  {
   "cell_type": "code",
   "execution_count": 58,
   "id": "033ded7d-21e1-4888-a7f0-976243d8cef7",
   "metadata": {},
   "outputs": [
    {
     "data": {
      "text/plain": [
       "'pratap singh'"
      ]
     },
     "execution_count": 58,
     "metadata": {},
     "output_type": "execute_result"
    }
   ],
   "source": [
    "name[11:]"
   ]
  },
  {
   "cell_type": "code",
   "execution_count": 60,
   "id": "60fc5e45-b003-4104-aa73-32cd4f6434f5",
   "metadata": {},
   "outputs": [
    {
     "data": {
      "text/plain": [
       "'pratap'"
      ]
     },
     "execution_count": 60,
     "metadata": {},
     "output_type": "execute_result"
    }
   ],
   "source": [
    "name[11:17]"
   ]
  },
  {
   "cell_type": "code",
   "execution_count": 61,
   "id": "fe71c027-5884-42c5-bbf6-7165c5ab9ca2",
   "metadata": {},
   "outputs": [
    {
     "data": {
      "text/plain": [
       "'patarp'"
      ]
     },
     "execution_count": 61,
     "metadata": {},
     "output_type": "execute_result"
    }
   ],
   "source": [
    "name[11:17][::-1]"
   ]
  },
  {
   "cell_type": "code",
   "execution_count": 80,
   "id": "09cbece3-a39e-472d-b007-8605a6a4a7a4",
   "metadata": {},
   "outputs": [],
   "source": [
    "name = \"Dhyanender pratap singh\""
   ]
  },
  {
   "cell_type": "code",
   "execution_count": 81,
   "id": "2ca82486-2930-4ced-ba08-bf45970e4077",
   "metadata": {},
   "outputs": [
    {
     "data": {
      "text/plain": [
       "'Dhyanender pratap singh'"
      ]
     },
     "execution_count": 81,
     "metadata": {},
     "output_type": "execute_result"
    }
   ],
   "source": [
    "name"
   ]
  },
  {
   "cell_type": "code",
   "execution_count": 82,
   "id": "a76f8840-1c4b-4250-a15d-2fd06bc197f6",
   "metadata": {},
   "outputs": [
    {
     "data": {
      "text/plain": [
       "'Dhyanende'"
      ]
     },
     "execution_count": 82,
     "metadata": {},
     "output_type": "execute_result"
    }
   ],
   "source": [
    "name[0:9]"
   ]
  },
  {
   "cell_type": "code",
   "execution_count": 85,
   "id": "c259b53e-38cc-4df0-9139-e5c6d8c2784c",
   "metadata": {},
   "outputs": [],
   "source": [
    " a =len(name)//2"
   ]
  },
  {
   "cell_type": "code",
   "execution_count": 86,
   "id": "6f8e0d74-8453-4868-940a-1834d70aaf8d",
   "metadata": {},
   "outputs": [
    {
     "data": {
      "text/plain": [
       "' rednenayhDpratap singh'"
      ]
     },
     "execution_count": 86,
     "metadata": {},
     "output_type": "execute_result"
    }
   ],
   "source": [
    "name[:a][::-1] + name[a:]"
   ]
  },
  {
   "cell_type": "code",
   "execution_count": null,
   "id": "b7b448ab-fb48-4f0d-87f5-76d98a5c0fbb",
   "metadata": {},
   "outputs": [],
   "source": [
    "\n"
   ]
  }
 ],
 "metadata": {
  "kernelspec": {
   "display_name": "Python 3 (ipykernel)",
   "language": "python",
   "name": "python3"
  },
  "language_info": {
   "codemirror_mode": {
    "name": "ipython",
    "version": 3
   },
   "file_extension": ".py",
   "mimetype": "text/x-python",
   "name": "python",
   "nbconvert_exporter": "python",
   "pygments_lexer": "ipython3",
   "version": "3.13.5"
  }
 },
 "nbformat": 4,
 "nbformat_minor": 5
}
