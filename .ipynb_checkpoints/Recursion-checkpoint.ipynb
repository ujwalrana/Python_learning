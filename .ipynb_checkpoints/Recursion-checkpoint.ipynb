{
 "cells": [
  {
   "cell_type": "markdown",
   "id": "73c170c4-c543-486b-897d-dce44b5029f3",
   "metadata": {},
   "source": [
    "# Recursion"
   ]
  },
  {
   "cell_type": "markdown",
   "id": "d0c05122-9b80-4ab6-b6d4-58f0b293aba5",
   "metadata": {},
   "source": [
    "#### Recursion means when we call a function in itself\n",
    "\n",
    "Major points:\n",
    "1. we call a function in itself\n",
    "2. we assume the second call will give a correct output\n",
    "3. it must have a terminating condition"
   ]
  },
  {
   "cell_type": "code",
   "execution_count": 16,
   "id": "8722720c-c6a1-4643-a272-5a4f1f6b931d",
   "metadata": {},
   "outputs": [],
   "source": [
    "def factorail(n):\n",
    "    if n == 0 or n == 1:\n",
    "        return 1\n",
    "    return n*factorail(n-1)"
   ]
  },
  {
   "cell_type": "code",
   "execution_count": 17,
   "id": "878d9899-2ac1-4e8b-850f-fe1ed644b843",
   "metadata": {},
   "outputs": [
    {
     "data": {
      "text/plain": [
       "120"
      ]
     },
     "execution_count": 17,
     "metadata": {},
     "output_type": "execute_result"
    }
   ],
   "source": [
    "factorail(5)"
   ]
  },
  {
   "cell_type": "code",
   "execution_count": 22,
   "id": "3d6f7860-0450-4940-bea5-478c57c446a0",
   "metadata": {},
   "outputs": [],
   "source": [
    "def factorial(n):\n",
    "    print(n, n-1)\n",
    "    if n == 0:\n",
    "        return 1 \n",
    "    return n*factorial(n-1)"
   ]
  },
  {
   "cell_type": "code",
   "execution_count": 24,
   "id": "4302566d-1578-47c7-a3b5-f52aa3395165",
   "metadata": {},
   "outputs": [
    {
     "name": "stdout",
     "output_type": "stream",
     "text": [
      "5 4\n",
      "4 3\n",
      "3 2\n",
      "2 1\n",
      "1 0\n",
      "0 -1\n"
     ]
    },
    {
     "data": {
      "text/plain": [
       "120"
      ]
     },
     "execution_count": 24,
     "metadata": {},
     "output_type": "execute_result"
    }
   ],
   "source": [
    "factorial(5)"
   ]
  },
  {
   "cell_type": "code",
   "execution_count": 29,
   "id": "4b51683e-731d-4572-aa07-968022879e36",
   "metadata": {},
   "outputs": [],
   "source": [
    "def factorial(n):\n",
    "    if n ==0:\n",
    "        return 1\n",
    "    abc = n*factorial(n-1)\n",
    "    print(abc)\n",
    "    return(abc)"
   ]
  },
  {
   "cell_type": "code",
   "execution_count": 30,
   "id": "b401f0bd-3847-4943-b556-dc046bff1822",
   "metadata": {},
   "outputs": [
    {
     "name": "stdout",
     "output_type": "stream",
     "text": [
      "1\n",
      "2\n",
      "6\n",
      "24\n",
      "120\n"
     ]
    },
    {
     "data": {
      "text/plain": [
       "120"
      ]
     },
     "execution_count": 30,
     "metadata": {},
     "output_type": "execute_result"
    }
   ],
   "source": [
    "factorial(5)"
   ]
  },
  {
   "cell_type": "code",
   "execution_count": 31,
   "id": "909d5676-c50e-4e13-9677-21a04329e3dc",
   "metadata": {},
   "outputs": [],
   "source": [
    "L = [4,5,6,7,8,9,10]"
   ]
  },
  {
   "cell_type": "code",
   "execution_count": 38,
   "id": "1eeb6bc0-1db9-4fb6-b094-592c8aae11b1",
   "metadata": {},
   "outputs": [],
   "source": [
    "def addList(L):\n",
    "    print(L)\n",
    "    if len(L)==0:\n",
    "        return 0\n",
    "    return L[0] + addList(L[1:])"
   ]
  },
  {
   "cell_type": "code",
   "execution_count": 39,
   "id": "0333a8ca-40f2-4fc0-a03e-fa9176ea8725",
   "metadata": {
    "scrolled": true
   },
   "outputs": [
    {
     "name": "stdout",
     "output_type": "stream",
     "text": [
      "[4, 5, 6, 7, 8, 9, 10]\n",
      "[5, 6, 7, 8, 9, 10]\n",
      "[6, 7, 8, 9, 10]\n",
      "[7, 8, 9, 10]\n",
      "[8, 9, 10]\n",
      "[9, 10]\n",
      "[10]\n",
      "[]\n"
     ]
    },
    {
     "data": {
      "text/plain": [
       "49"
      ]
     },
     "execution_count": 39,
     "metadata": {},
     "output_type": "execute_result"
    }
   ],
   "source": [
    "addList(L)"
   ]
  },
  {
   "cell_type": "code",
   "execution_count": 42,
   "id": "46158913-c275-4ae1-8d54-379a29c89b50",
   "metadata": {},
   "outputs": [],
   "source": [
    "def addList(L):\n",
    "    print(L)\n",
    "    if len(L)==0:\n",
    "        return 0\n",
    "    return L[0] + addList(L[1:])"
   ]
  },
  {
   "cell_type": "code",
   "execution_count": 43,
   "id": "130d1afc-221e-4027-95de-2eae488ff415",
   "metadata": {},
   "outputs": [],
   "source": [
    "L = [5,4,3,2,1]"
   ]
  },
  {
   "cell_type": "code",
   "execution_count": 44,
   "id": "76adc45a-683d-44a0-a6c2-4e56b6a67646",
   "metadata": {},
   "outputs": [
    {
     "name": "stdout",
     "output_type": "stream",
     "text": [
      "[5, 4, 3, 2, 1]\n",
      "[4, 3, 2, 1]\n",
      "[3, 2, 1]\n",
      "[2, 1]\n",
      "[1]\n",
      "[]\n"
     ]
    },
    {
     "data": {
      "text/plain": [
       "15"
      ]
     },
     "execution_count": 44,
     "metadata": {},
     "output_type": "execute_result"
    }
   ],
   "source": [
    "addList(L)"
   ]
  },
  {
   "cell_type": "code",
   "execution_count": 45,
   "id": "d086a5b5-d914-4d01-8557-c918c127c741",
   "metadata": {},
   "outputs": [
    {
     "data": {
      "text/plain": [
       "True"
      ]
     },
     "execution_count": 45,
     "metadata": {},
     "output_type": "execute_result"
    }
   ],
   "source": [
    "type(5) is int"
   ]
  },
  {
   "cell_type": "code",
   "execution_count": 55,
   "id": "c211f312-9d69-4012-ac72-a083ddb7efdc",
   "metadata": {},
   "outputs": [],
   "source": [
    "def add_list(L):\n",
    "    print(L)\n",
    "    if type(L) is int:\n",
    "        return L\n",
    "    elif len(L)==0:\n",
    "        return 0\n",
    "    abc = add_list(L[0]) + add_list(L[1:])\n",
    "    print(L[0])\n",
    "    return abc"
   ]
  },
  {
   "cell_type": "code",
   "execution_count": 56,
   "id": "3eb2d7b3-e506-4ed2-b8df-85edadd0395b",
   "metadata": {},
   "outputs": [
    {
     "name": "stdout",
     "output_type": "stream",
     "text": [
      "[1, 2, [9, 6, 4, 2], 7, 5, 6, 3]\n",
      "1\n",
      "[2, [9, 6, 4, 2], 7, 5, 6, 3]\n",
      "2\n",
      "[[9, 6, 4, 2], 7, 5, 6, 3]\n",
      "[9, 6, 4, 2]\n",
      "9\n",
      "[6, 4, 2]\n",
      "6\n",
      "[4, 2]\n",
      "4\n",
      "[2]\n",
      "2\n",
      "[]\n",
      "2\n",
      "4\n",
      "6\n",
      "9\n",
      "[7, 5, 6, 3]\n",
      "7\n",
      "[5, 6, 3]\n",
      "5\n",
      "[6, 3]\n",
      "6\n",
      "[3]\n",
      "3\n",
      "[]\n",
      "3\n",
      "6\n",
      "5\n",
      "7\n",
      "[9, 6, 4, 2]\n",
      "2\n",
      "1\n"
     ]
    },
    {
     "data": {
      "text/plain": [
       "45"
      ]
     },
     "execution_count": 56,
     "metadata": {},
     "output_type": "execute_result"
    }
   ],
   "source": [
    "add_list([1,2,[9,6,4,2],7,5,6,3])"
   ]
  },
  {
   "cell_type": "code",
   "execution_count": null,
   "id": "857ed101-8b6d-4dde-afa9-af23588095c3",
   "metadata": {},
   "outputs": [],
   "source": []
  }
 ],
 "metadata": {
  "kernelspec": {
   "display_name": "Python 3 (ipykernel)",
   "language": "python",
   "name": "python3"
  },
  "language_info": {
   "codemirror_mode": {
    "name": "ipython",
    "version": 3
   },
   "file_extension": ".py",
   "mimetype": "text/x-python",
   "name": "python",
   "nbconvert_exporter": "python",
   "pygments_lexer": "ipython3",
   "version": "3.13.5"
  }
 },
 "nbformat": 4,
 "nbformat_minor": 5
}
