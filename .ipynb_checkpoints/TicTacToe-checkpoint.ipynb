{
 "cells": [
  {
   "cell_type": "markdown",
   "id": "46a7e603-df36-46df-a10a-b9a141811f04",
   "metadata": {},
   "source": [
    "# Display"
   ]
  },
  {
   "cell_type": "code",
   "execution_count": 3,
   "id": "ebed0b16-b884-4049-a8ca-e7b702d3fc08",
   "metadata": {},
   "outputs": [],
   "source": [
    "from IPython.display import clear_output"
   ]
  },
  {
   "cell_type": "code",
   "execution_count": 4,
   "id": "ad5a6670-415e-465e-9ab7-dfeb2507af8f",
   "metadata": {},
   "outputs": [],
   "source": [
    "li =[\"X\"]*10"
   ]
  },
  {
   "cell_type": "code",
   "execution_count": 5,
   "id": "6f9321ea-5af5-4694-bea0-c187a5b546f7",
   "metadata": {},
   "outputs": [
    {
     "data": {
      "text/plain": [
       "['X', 'X', 'X', 'X', 'X', 'X', 'X', 'X', 'X', 'X']"
      ]
     },
     "execution_count": 5,
     "metadata": {},
     "output_type": "execute_result"
    }
   ],
   "source": [
    "li"
   ]
  },
  {
   "cell_type": "code",
   "execution_count": 6,
   "id": "a3a93788-4270-4b79-a74f-29ce72fe062c",
   "metadata": {},
   "outputs": [],
   "source": [
    "li[5]=\" \"\n",
    "li[4]=\" \"\n",
    "li[3]=\"Y\""
   ]
  },
  {
   "cell_type": "code",
   "execution_count": 7,
   "id": "4930b91e-03f0-4b20-aa86-8b8ec6da8c5f",
   "metadata": {},
   "outputs": [],
   "source": [
    "def display():\n",
    "    print(li[7], \" | \",li[8],\" | \",li[9])\n",
    "    print(\"-\"*14)\n",
    "    print(li[4], \" | \",li[5],\" | \",li[6])\n",
    "    print(\"-\"*14)\n",
    "    print(li[1], \" | \",li[2],\" | \",li[3])"
   ]
  },
  {
   "cell_type": "code",
   "execution_count": 8,
   "id": "f61e1d70-9967-4e01-87ca-b07f9054c255",
   "metadata": {},
   "outputs": [
    {
     "name": "stdout",
     "output_type": "stream",
     "text": [
      "X  |  X  |  X\n",
      "--------------\n",
      "   |     |  X\n",
      "--------------\n",
      "X  |  X  |  Y\n"
     ]
    }
   ],
   "source": [
    "display()"
   ]
  },
  {
   "cell_type": "code",
   "execution_count": 9,
   "id": "bd14fcb1-6428-4ffe-8736-9ae2a6791767",
   "metadata": {},
   "outputs": [],
   "source": [
    "def put_marker(position,marker):\n",
    "    li[position]= marker"
   ]
  },
  {
   "cell_type": "code",
   "execution_count": 10,
   "id": "4828a7ca-16b4-4f59-ab05-4cb72c1ee7ec",
   "metadata": {},
   "outputs": [],
   "source": [
    "put_marker(3,\"Y\")"
   ]
  },
  {
   "cell_type": "code",
   "execution_count": 11,
   "id": "6315bead-aa5b-4564-bc7d-c5ad05ffd521",
   "metadata": {},
   "outputs": [],
   "source": [
    "def put_maker(position,maker):\n",
    "    li[position]=maker"
   ]
  },
  {
   "cell_type": "code",
   "execution_count": 12,
   "id": "29b362c3-2aa7-494a-95ce-54bb3ada27b6",
   "metadata": {},
   "outputs": [],
   "source": [
    "put_maker(4,\"X\")"
   ]
  },
  {
   "cell_type": "code",
   "execution_count": 13,
   "id": "4164f9b9-0745-4b04-b34a-df98b942c608",
   "metadata": {},
   "outputs": [
    {
     "name": "stdout",
     "output_type": "stream",
     "text": [
      "X  |  X  |  X\n",
      "--------------\n",
      "X  |     |  X\n",
      "--------------\n",
      "X  |  X  |  Y\n"
     ]
    }
   ],
   "source": [
    "display()"
   ]
  },
  {
   "cell_type": "code",
   "execution_count": 14,
   "id": "37ee724d-3850-4499-9cf7-e411d353c27d",
   "metadata": {},
   "outputs": [],
   "source": [
    "def check_position_empty(position):\n",
    "    if li[position] == \" \":\n",
    "        return True\n",
    "    else:\n",
    "        return False\n",
    "    "
   ]
  },
  {
   "cell_type": "code",
   "execution_count": 15,
   "id": "77d3455f-2e48-44ec-a339-57a2e9da2afa",
   "metadata": {},
   "outputs": [],
   "source": [
    "def check_position_empty(position):\n",
    "    if li[position]==\" \":\n",
    "        return True\n",
    "    else:\n",
    "        return False"
   ]
  },
  {
   "cell_type": "code",
   "execution_count": 16,
   "id": "58bf7f4d-2ff3-48f3-bf8c-c2960e333129",
   "metadata": {},
   "outputs": [
    {
     "data": {
      "text/plain": [
       "True"
      ]
     },
     "execution_count": 16,
     "metadata": {},
     "output_type": "execute_result"
    }
   ],
   "source": [
    "check_position_empty(5)"
   ]
  },
  {
   "cell_type": "code",
   "execution_count": 17,
   "id": "1d20243c-2d2c-4bd1-87b9-9fb4f9a227d0",
   "metadata": {},
   "outputs": [],
   "source": [
    "positon = None"
   ]
  },
  {
   "cell_type": "code",
   "execution_count": 18,
   "id": "bc1914c8-50da-4bd5-92c2-cbe676a04616",
   "metadata": {},
   "outputs": [
    {
     "name": "stdin",
     "output_type": "stream",
     "text": [
      "None 3\n"
     ]
    }
   ],
   "source": [
    "position = None\n",
    "try:\n",
    "    position = int(input(position))\n",
    "except ValueError:\n",
    "    print(\"please provide a number\")"
   ]
  },
  {
   "cell_type": "code",
   "execution_count": 19,
   "id": "09925ca0-c89a-4259-ac0d-635d1bc4cf2d",
   "metadata": {},
   "outputs": [
    {
     "name": "stdin",
     "output_type": "stream",
     "text": [
      "None 3\n"
     ]
    }
   ],
   "source": [
    "position = None\n",
    "try:\n",
    "    position= int(input(position))\n",
    "except ValueError:\n",
    "    print(\"please provide a number\")"
   ]
  },
  {
   "cell_type": "code",
   "execution_count": 20,
   "id": "9118afd2-9247-42ca-b8bb-3d324924b5a0",
   "metadata": {},
   "outputs": [
    {
     "name": "stdin",
     "output_type": "stream",
     "text": [
      "None 4\n"
     ]
    }
   ],
   "source": [
    "\n",
    "position = None\n",
    "while not position:\n",
    "    try:\n",
    "        position = int(input(position))\n",
    "    except ValueError:\n",
    "     print(\"please provide a number\")"
   ]
  },
  {
   "cell_type": "code",
   "execution_count": 21,
   "id": "7a9f0b5c-37de-4571-9534-66858caa0b61",
   "metadata": {},
   "outputs": [
    {
     "name": "stdout",
     "output_type": "stream",
     "text": [
      "X  |  X  |  X\n",
      "--------------\n",
      "X  |     |  X\n",
      "--------------\n",
      "X  |  X  |  Y\n"
     ]
    }
   ],
   "source": [
    "display()"
   ]
  },
  {
   "cell_type": "code",
   "execution_count": 22,
   "id": "17056967-779d-4983-9f77-75a8da7dbfa1",
   "metadata": {},
   "outputs": [],
   "source": [
    "def empty_positions():\n",
    "    ans =[]\n",
    "    for i in range(1,len(li)):\n",
    "        if li[i] == \" \":\n",
    "            ans.append(i)\n",
    "            return ans"
   ]
  },
  {
   "cell_type": "code",
   "execution_count": 23,
   "id": "bf1603b3-e038-4e79-b442-3475f4c06415",
   "metadata": {},
   "outputs": [
    {
     "data": {
      "text/plain": [
       "[5]"
      ]
     },
     "execution_count": 23,
     "metadata": {},
     "output_type": "execute_result"
    }
   ],
   "source": [
    "empty_positions()"
   ]
  },
  {
   "cell_type": "code",
   "execution_count": 24,
   "id": "15857210-de5c-4964-a0c2-f19370ebbb18",
   "metadata": {},
   "outputs": [],
   "source": [
    "def take_position():\n",
    "    position = None\n",
    "    availabe = empty_positions()\n",
    "    while position is None:\n",
    "        try:\n",
    "         position = int(input(f'please chose among{available}'))\n",
    "        except ValueError:\n",
    "         print(f\"please provide a number among {available}\")\n",
    "    else:\n",
    "        if position in available:\n",
    "            return position\n",
    "        else:\n",
    "            print:(f\"please provide a number a among {available}\")\n",
    "            position = None"
   ]
  },
  {
   "cell_type": "code",
   "execution_count": 25,
   "id": "11313fe6-a95c-49e2-856e-b49ac00ded54",
   "metadata": {},
   "outputs": [],
   "source": [
    "def check_win():\n",
    "    # horizontal\n",
    "    if (li[7]==li[8]==li[9]!=\" \")or \\\n",
    "    (li[4]==li[5]==li[6]!=\" \")or \\\n",
    "    (li[1]==li[2]==li[3]!=\" \")or \\\n",
    "    (li[7]==li[4]==li[1]!=\" \")or \\\n",
    "    (li[8]==li[5]==li[2]!=\" \")or \\\n",
    "    (li[9]==li[6]==li[3]!=\" \")or \\\n",
    "    (li[7]==li[5]==li[3]!=\" \")or \\\n",
    "    (li[1]==li[5]==li[9]!=\" \"):\n",
    "        return True\n",
    "    else:\n",
    "        return False"
   ]
  },
  {
   "cell_type": "code",
   "execution_count": 26,
   "id": "14891c30-e533-4c58-9e09-f92663347251",
   "metadata": {},
   "outputs": [],
   "source": [
    "def board_full():\n",
    "    if len(empty_positions())==0:\n",
    "        return True\n",
    "    else:\n",
    "        return False"
   ]
  },
  {
   "cell_type": "code",
   "execution_count": 27,
   "id": "3e543be9-2a66-44b8-83c3-98140394e5bb",
   "metadata": {},
   "outputs": [
    {
     "data": {
      "text/plain": [
       "False"
      ]
     },
     "execution_count": 27,
     "metadata": {},
     "output_type": "execute_result"
    }
   ],
   "source": [
    "board_full()"
   ]
  },
  {
   "cell_type": "code",
   "execution_count": 28,
   "id": "5ebaf217-7bdd-4dff-ae0e-58cc2008e6c3",
   "metadata": {},
   "outputs": [],
   "source": [
    "def board_full():\n",
    "    if len(empty_position) == \" \":\n",
    "        return True\n",
    "    else:\n",
    "        False"
   ]
  },
  {
   "cell_type": "code",
   "execution_count": 29,
   "id": "9f4c843d-83bd-44f2-870d-cfbe23e39ae4",
   "metadata": {},
   "outputs": [],
   "source": [
    "def change_marker(marker):\n",
    "    if marker == \"O\":\n",
    "        return \"X\"\n",
    "    else:\n",
    "        return \"O\""
   ]
  },
  {
   "cell_type": "code",
   "execution_count": 30,
   "id": "1ca1f91d-715f-4c87-a743-392005180445",
   "metadata": {},
   "outputs": [
    {
     "name": "stdout",
     "output_type": "stream",
     "text": [
      "   |     |   \n",
      "--------------\n",
      "   |     |   \n",
      "--------------\n",
      "   |     |   \n"
     ]
    },
    {
     "ename": "NameError",
     "evalue": "name 'available' is not defined",
     "output_type": "error",
     "traceback": [
      "\u001b[1;31m---------------------------------------------------------------------------\u001b[0m",
      "\u001b[1;31mNameError\u001b[0m                                 Traceback (most recent call last)",
      "Cell \u001b[1;32mIn[30], line 6\u001b[0m\n\u001b[0;32m      4\u001b[0m display()\n\u001b[0;32m      5\u001b[0m \u001b[38;5;28;01mwhile\u001b[39;00m game:\n\u001b[1;32m----> 6\u001b[0m     position \u001b[38;5;241m=\u001b[39m take_position()\n\u001b[0;32m      7\u001b[0m     put_marker(position,marker)\n\u001b[0;32m      8\u001b[0m     clear_output()\n",
      "Cell \u001b[1;32mIn[24], line 6\u001b[0m, in \u001b[0;36mtake_position\u001b[1;34m()\u001b[0m\n\u001b[0;32m      4\u001b[0m \u001b[38;5;28;01mwhile\u001b[39;00m position \u001b[38;5;129;01mis\u001b[39;00m \u001b[38;5;28;01mNone\u001b[39;00m:\n\u001b[0;32m      5\u001b[0m     \u001b[38;5;28;01mtry\u001b[39;00m:\n\u001b[1;32m----> 6\u001b[0m      position \u001b[38;5;241m=\u001b[39m \u001b[38;5;28mint\u001b[39m(\u001b[38;5;28minput\u001b[39m(\u001b[38;5;124mf\u001b[39m\u001b[38;5;124m'\u001b[39m\u001b[38;5;124mplease chose among\u001b[39m\u001b[38;5;132;01m{\u001b[39;00mavailable\u001b[38;5;132;01m}\u001b[39;00m\u001b[38;5;124m'\u001b[39m))\n\u001b[0;32m      7\u001b[0m     \u001b[38;5;28;01mexcept\u001b[39;00m \u001b[38;5;167;01mValueError\u001b[39;00m:\n\u001b[0;32m      8\u001b[0m      \u001b[38;5;28mprint\u001b[39m(\u001b[38;5;124mf\u001b[39m\u001b[38;5;124m\"\u001b[39m\u001b[38;5;124mplease provide a number among \u001b[39m\u001b[38;5;132;01m{\u001b[39;00mavailable\u001b[38;5;132;01m}\u001b[39;00m\u001b[38;5;124m\"\u001b[39m)\n",
      "\u001b[1;31mNameError\u001b[0m: name 'available' is not defined"
     ]
    }
   ],
   "source": [
    "li = [\" \"]*10\n",
    "game = True\n",
    "marker = \"O\"\n",
    "display()\n",
    "while game:\n",
    "    position = take_position()\n",
    "    put_marker(position,marker)\n",
    "    clear_output()\n",
    "    display()\n",
    "    if check_win():\n",
    "        print(f\"congo {marker} won the game\")\n",
    "        game = False\n",
    "        break\n",
    "    elif board_full():\n",
    "        print(f'board full, game draw, do you want to play again')\n",
    "        game = False\n",
    "        break\n",
    "    else:\n",
    "        marker = change_marker(marker)"
   ]
  },
  {
   "cell_type": "code",
   "execution_count": 94,
   "id": "4928b48b-0152-41bc-93dc-4ccb810b0ba1",
   "metadata": {},
   "outputs": [
    {
     "ename": "IndentationError",
     "evalue": "expected an indented block after 'else' statement on line 21 (624579624.py, line 22)",
     "output_type": "error",
     "traceback": [
      "\u001b[1;36m  Cell \u001b[1;32mIn[94], line 22\u001b[1;36m\u001b[0m\n\u001b[1;33m    game = False\u001b[0m\n\u001b[1;37m    ^\u001b[0m\n\u001b[1;31mIndentationError\u001b[0m\u001b[1;31m:\u001b[0m expected an indented block after 'else' statement on line 21\n"
     ]
    }
   ],
   "source": [
    "li = [\" \"]*10\n",
    "game = True\n",
    "marker = \"O\"\n",
    "display()\n",
    "while game:\n",
    "    position = take_position()\n",
    "    put_marker(position,marker)\n",
    "    display()\n",
    "    if check_win():\n",
    "        print(f\"congo {marker} won the game\")\n",
    "        game = False\n",
    "        break\n",
    "    elif board_full():\n",
    "        print(f'board full, game draw, do you want to play again')\n",
    "        playAgain = input('do you want to play again, yes, no?')\n",
    "        if playAgain[0].lower() == 'y':\n",
    "            li = [\" \"]*10\n",
    "            print(\"new game\")\n",
    "            display()\n",
    "            game = True\n",
    "        else:\n",
    "        game = False\n",
    "        break\n",
    "    else:\n",
    "        marker = change_marker(marker)"
   ]
  },
  {
   "cell_type": "code",
   "execution_count": null,
   "id": "fcfc0cb5-5100-42a0-83bd-c6b5bfaeedb8",
   "metadata": {},
   "outputs": [],
   "source": []
  },
  {
   "cell_type": "code",
   "execution_count": null,
   "id": "46a5cd32-0701-41f1-a9ad-c470bc173280",
   "metadata": {},
   "outputs": [],
   "source": [
    " "
   ]
  }
 ],
 "metadata": {
  "kernelspec": {
   "display_name": "Python 3 (ipykernel)",
   "language": "python",
   "name": "python3"
  },
  "language_info": {
   "codemirror_mode": {
    "name": "ipython",
    "version": 3
   },
   "file_extension": ".py",
   "mimetype": "text/x-python",
   "name": "python",
   "nbconvert_exporter": "python",
   "pygments_lexer": "ipython3",
   "version": "3.13.5"
  }
 },
 "nbformat": 4,
 "nbformat_minor": 5
}
