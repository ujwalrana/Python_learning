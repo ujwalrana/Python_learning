{
 "cells": [
  {
   "cell_type": "code",
   "execution_count": 1,
   "id": "4ffaa558-9ec3-4cec-b407-18b883f3cea7",
   "metadata": {},
   "outputs": [
    {
     "name": "stdout",
     "output_type": "stream",
     "text": [
      "hi\n",
      "5\n",
      "hello\n",
      "else work kr rha h\n",
      "finally run hua\n"
     ]
    }
   ],
   "source": [
    "try:\n",
    "    print(\"hi\")\n",
    "    print(5)\n",
    "    print('hello')\n",
    "\n",
    "except:\n",
    "    print('nhi chala code')\n",
    "else:\n",
    "    print('else work kr rha h')\n",
    "finally:\n",
    "    print('finally run hua')"
   ]
  },
  {
   "cell_type": "code",
   "execution_count": 3,
   "id": "a9c789b7-9022-4836-b6c6-8ace11428ef8",
   "metadata": {},
   "outputs": [
    {
     "name": "stdout",
     "output_type": "stream",
     "text": [
      "hi\n",
      "ZeroDivisionError aya h\n",
      "finally run hua\n"
     ]
    }
   ],
   "source": [
    "try:\n",
    "    print(\"hi\")\n",
    "    print(5/0)\n",
    "    print('hello')\n",
    "\n",
    "except ZeroDivisionError:\n",
    "    print('ZeroDivisionError aya h')\n",
    "except:\n",
    "    print('error h')\n",
    "else:\n",
    "    print('else work kr rha h')\n",
    "finally:\n",
    "    print('finally run hua')"
   ]
  },
  {
   "cell_type": "code",
   "execution_count": 5,
   "id": "0c66cad4-db4e-47db-a9f7-bd15ff9dcacd",
   "metadata": {},
   "outputs": [
    {
     "name": "stdout",
     "output_type": "stream",
     "text": [
      "hi\n",
      "error h\n",
      "finally run hua\n"
     ]
    }
   ],
   "source": [
    "try:\n",
    "    print(\"hi\")\n",
    "    print(int(\"ujwal rana\"))\n",
    "    print('hello')\n",
    "\n",
    "except ZeroDivisionError:\n",
    "    print('ZeroDivisionError aya h')\n",
    "except:\n",
    "    print('error h')\n",
    "else:\n",
    "    print('else work kr rha h')\n",
    "finally:\n",
    "    print('finally run hua')"
   ]
  },
  {
   "cell_type": "code",
   "execution_count": 7,
   "id": "e3482694-4b77-4cb9-9aca-4f921e7dda44",
   "metadata": {},
   "outputs": [
    {
     "name": "stdout",
     "output_type": "stream",
     "text": [
      "hi\n",
      "division by zero\n",
      "finally run hua\n"
     ]
    }
   ],
   "source": [
    "try:\n",
    "    print(\"hi\")\n",
    "    print(5/0)\n",
    "    print('hello')\n",
    "\n",
    "except ZeroDivisionError as e:\n",
    "    print(e)\n",
    "except:\n",
    "    print('error h')\n",
    "else:\n",
    "    print('else work kr rha h')\n",
    "finally:\n",
    "    print('finally run hua')"
   ]
  },
  {
   "cell_type": "code",
   "execution_count": 8,
   "id": "b3009fa7-ef59-4c0e-af51-997e6f3b697f",
   "metadata": {
    "scrolled": true
   },
   "outputs": [
    {
     "name": "stdout",
     "output_type": "stream",
     "text": [
      "hi\n",
      "division by zero\n",
      "finally run hua\n"
     ]
    }
   ],
   "source": [
    "try:\n",
    "    print(\"hi\")\n",
    "    print(5/0)\n",
    "    print('hello')\n",
    "\n",
    "except ZeroDivisionError as u:\n",
    "    print(u)\n",
    "except:\n",
    "    print('error h')\n",
    "else:\n",
    "    print('else work kr rha h')\n",
    "finally:\n",
    "    print('finally run hua')"
   ]
  },
  {
   "cell_type": "code",
   "execution_count": 11,
   "id": "0cecdec3-8f38-4dcd-b89a-13aa951151b6",
   "metadata": {},
   "outputs": [
    {
     "name": "stdin",
     "output_type": "stream",
     "text": [
      " ujwal\n"
     ]
    },
    {
     "name": "stdout",
     "output_type": "stream",
     "text": [
      "invalid literal for int() with base 10: 'ujwal'\n",
      "close connection\n"
     ]
    }
   ],
   "source": [
    "try:\n",
    "    a = 500\n",
    "    b = int(input())\n",
    "    c = a/b\n",
    "    print(c)\n",
    "except ValueError as v:\n",
    "    print(v)\n",
    "except ZeroDivisonError as z:\n",
    "    print(z)\n",
    "except :\n",
    "    print(\"check something\")\n",
    "else:\n",
    "    print('everything worked fine')\n",
    "finally:\n",
    "    print(\"close connection\")"
   ]
  },
  {
   "cell_type": "code",
   "execution_count": 10,
   "id": "53542ca6-b094-40ca-9f89-fca225315300",
   "metadata": {},
   "outputs": [
    {
     "ename": "ValueError",
     "evalue": "invalid literal for int() with base 10: 'ujwal'",
     "output_type": "error",
     "traceback": [
      "\u001b[1;31m---------------------------------------------------------------------------\u001b[0m",
      "\u001b[1;31mValueError\u001b[0m                                Traceback (most recent call last)",
      "Cell \u001b[1;32mIn[10], line 1\u001b[0m\n\u001b[1;32m----> 1\u001b[0m \u001b[38;5;28mint\u001b[39m(\u001b[38;5;124m\"\u001b[39m\u001b[38;5;124mujwal\u001b[39m\u001b[38;5;124m\"\u001b[39m)\n",
      "\u001b[1;31mValueError\u001b[0m: invalid literal for int() with base 10: 'ujwal'"
     ]
    }
   ],
   "source": [
    "int(\"ujwal\")"
   ]
  },
  {
   "cell_type": "code",
   "execution_count": null,
   "id": "1c42a72a-ddea-4b90-860f-85529c1e29a9",
   "metadata": {},
   "outputs": [],
   "source": []
  }
 ],
 "metadata": {
  "kernelspec": {
   "display_name": "Python 3 (ipykernel)",
   "language": "python",
   "name": "python3"
  },
  "language_info": {
   "codemirror_mode": {
    "name": "ipython",
    "version": 3
   },
   "file_extension": ".py",
   "mimetype": "text/x-python",
   "name": "python",
   "nbconvert_exporter": "python",
   "pygments_lexer": "ipython3",
   "version": "3.13.5"
  }
 },
 "nbformat": 4,
 "nbformat_minor": 5
}
