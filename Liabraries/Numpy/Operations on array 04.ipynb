{
 "cells": [
  {
   "cell_type": "code",
   "execution_count": 1,
   "id": "a3ad2d6f-e1b8-481c-93bc-8b66264244d7",
   "metadata": {},
   "outputs": [],
   "source": [
    "import numpy as np"
   ]
  },
  {
   "cell_type": "markdown",
   "id": "c265ced1-893e-4020-a442-f2440a1e5a1e",
   "metadata": {
    "jp-MarkdownHeadingCollapsed": true
   },
   "source": [
    "### Basic operation"
   ]
  },
  {
   "cell_type": "code",
   "execution_count": 60,
   "id": "ff5d4172-e314-4439-818e-36fd799c571b",
   "metadata": {},
   "outputs": [
    {
     "data": {
      "text/plain": [
       "np.float64(1.0)"
      ]
     },
     "execution_count": 60,
     "metadata": {},
     "output_type": "execute_result"
    }
   ],
   "source": [
    "np.mean(arr)  # average"
   ]
  },
  {
   "cell_type": "code",
   "execution_count": 59,
   "id": "596fc5a0-ada9-4bce-b70d-c5e6c2e4d077",
   "metadata": {},
   "outputs": [
    {
     "data": {
      "text/plain": [
       "np.int64(9)"
      ]
     },
     "execution_count": 59,
     "metadata": {},
     "output_type": "execute_result"
    }
   ],
   "source": [
    "np.sum(arr)  # combine total of all array"
   ]
  },
  {
   "cell_type": "code",
   "execution_count": 61,
   "id": "a21a3f43-cfa3-4bc5-aaf5-931a5459325b",
   "metadata": {},
   "outputs": [
    {
     "data": {
      "text/plain": [
       "np.float64(1.0)"
      ]
     },
     "execution_count": 61,
     "metadata": {},
     "output_type": "execute_result"
    }
   ],
   "source": [
    "np.median(arr)  # The median is the middle value when the numbers are arranged in order"
   ]
  },
  {
   "cell_type": "code",
   "execution_count": 62,
   "id": "2b707f21-d586-4337-b4a1-f79c6cfe5735",
   "metadata": {},
   "outputs": [
    {
     "data": {
      "text/plain": [
       "array([[ 1,  3, -2],\n",
       "       [ 2, -1,  6],\n",
       "       [ 1,  1, -2]])"
      ]
     },
     "execution_count": 62,
     "metadata": {},
     "output_type": "execute_result"
    }
   ],
   "source": [
    "arr"
   ]
  },
  {
   "cell_type": "code",
   "execution_count": 63,
   "id": "5824fe83-ef54-4c56-a87d-3db3cd5f7e61",
   "metadata": {},
   "outputs": [
    {
     "data": {
      "text/plain": [
       "np.int64(5)"
      ]
     },
     "execution_count": 63,
     "metadata": {},
     "output_type": "execute_result"
    }
   ],
   "source": [
    "np.argmax(arr)    # maximun number in which position"
   ]
  },
  {
   "cell_type": "code",
   "execution_count": 64,
   "id": "76f98832-f7a1-4205-951b-50f23e56e81e",
   "metadata": {},
   "outputs": [
    {
     "data": {
      "text/plain": [
       "np.int64(2)"
      ]
     },
     "execution_count": 64,
     "metadata": {},
     "output_type": "execute_result"
    }
   ],
   "source": [
    "np.argmin(arr)   # minimun number in which position "
   ]
  },
  {
   "cell_type": "code",
   "execution_count": 65,
   "id": "9e3b505d-db01-4d98-bcc9-4cc24fecda9c",
   "metadata": {},
   "outputs": [
    {
     "data": {
      "text/plain": [
       "array([[2, 0, 1],\n",
       "       [1, 0, 2],\n",
       "       [2, 0, 1]])"
      ]
     },
     "execution_count": 65,
     "metadata": {},
     "output_type": "execute_result"
    }
   ],
   "source": [
    "np.argsort(arr)   # make easiest way to solve a array or equation"
   ]
  },
  {
   "cell_type": "code",
   "execution_count": null,
   "id": "f7b22d7b-9c5a-41d9-affd-34ce0ba27fe8",
   "metadata": {},
   "outputs": [],
   "source": []
  },
  {
   "cell_type": "markdown",
   "id": "69d24e5b-8375-42c8-8b41-5b9a5eb1ae7b",
   "metadata": {
    "jp-MarkdownHeadingCollapsed": true
   },
   "source": [
    "### Broadcasting "
   ]
  },
  {
   "cell_type": "code",
   "execution_count": 2,
   "id": "1e81b5db-9285-4846-9030-4a5a73a2aa78",
   "metadata": {},
   "outputs": [
    {
     "data": {
      "text/plain": [
       "array([0, 1, 2, 3, 4, 5, 6, 7, 8])"
      ]
     },
     "execution_count": 2,
     "metadata": {},
     "output_type": "execute_result"
    }
   ],
   "source": [
    "np.arange(0,9)"
   ]
  },
  {
   "cell_type": "code",
   "execution_count": 3,
   "id": "c2fee974-d73c-461e-805b-c9c385c5362e",
   "metadata": {},
   "outputs": [],
   "source": [
    "arr = np.arange(0,9)\n",
    "arr = arr.reshape(3,3)"
   ]
  },
  {
   "cell_type": "code",
   "execution_count": 4,
   "id": "adb4e132-364e-449c-b474-0c3d65a398e5",
   "metadata": {},
   "outputs": [
    {
     "data": {
      "text/plain": [
       "array([[0, 1, 2],\n",
       "       [3, 4, 5],\n",
       "       [6, 7, 8]])"
      ]
     },
     "execution_count": 4,
     "metadata": {},
     "output_type": "execute_result"
    }
   ],
   "source": [
    "arr"
   ]
  },
  {
   "cell_type": "code",
   "execution_count": 5,
   "id": "2560c576-f31d-4543-a6f1-e2f2eedb3762",
   "metadata": {},
   "outputs": [
    {
     "data": {
      "text/plain": [
       "array([[ 0,  3,  6],\n",
       "       [ 9, 12, 15],\n",
       "       [18, 21, 24]])"
      ]
     },
     "execution_count": 5,
     "metadata": {},
     "output_type": "execute_result"
    }
   ],
   "source": [
    "arr * 3"
   ]
  },
  {
   "cell_type": "code",
   "execution_count": 6,
   "id": "72860454-8225-4221-8af5-f51040a0f10a",
   "metadata": {},
   "outputs": [],
   "source": [
    "arr = arr + 1"
   ]
  },
  {
   "cell_type": "code",
   "execution_count": 7,
   "id": "02f55517-97f4-4ef1-99c9-372cab7a45c1",
   "metadata": {},
   "outputs": [
    {
     "data": {
      "text/plain": [
       "array([[1, 2, 3],\n",
       "       [4, 5, 6],\n",
       "       [7, 8, 9]])"
      ]
     },
     "execution_count": 7,
     "metadata": {},
     "output_type": "execute_result"
    }
   ],
   "source": [
    "arr"
   ]
  },
  {
   "cell_type": "code",
   "execution_count": 8,
   "id": "a1791600-dc35-4bf0-ac1f-8ceceb5d8188",
   "metadata": {},
   "outputs": [
    {
     "data": {
      "text/plain": [
       "array([[0.5, 1. , 1.5],\n",
       "       [2. , 2.5, 3. ],\n",
       "       [3.5, 4. , 4.5]])"
      ]
     },
     "execution_count": 8,
     "metadata": {},
     "output_type": "execute_result"
    }
   ],
   "source": [
    "arr / 2"
   ]
  },
  {
   "cell_type": "code",
   "execution_count": 9,
   "id": "e2ee22dc-9cb7-44de-9bb1-e9e42f56410f",
   "metadata": {},
   "outputs": [
    {
     "data": {
      "text/plain": [
       "array([[1, 2, 3],\n",
       "       [4, 5, 6],\n",
       "       [7, 8, 9]])"
      ]
     },
     "execution_count": 9,
     "metadata": {},
     "output_type": "execute_result"
    }
   ],
   "source": [
    "arr"
   ]
  },
  {
   "cell_type": "code",
   "execution_count": 10,
   "id": "7178162a-ac9b-43b6-a033-6af81f463e92",
   "metadata": {},
   "outputs": [],
   "source": [
    "arr = np.arange(1,10)\n",
    "arr = arr.reshape(3,3)"
   ]
  },
  {
   "cell_type": "code",
   "execution_count": 11,
   "id": "6e610b2e-224b-4f73-85ca-6f3dccfc12ad",
   "metadata": {},
   "outputs": [
    {
     "data": {
      "text/plain": [
       "array([[1, 2, 3],\n",
       "       [4, 5, 6],\n",
       "       [7, 8, 9]])"
      ]
     },
     "execution_count": 11,
     "metadata": {},
     "output_type": "execute_result"
    }
   ],
   "source": [
    "arr"
   ]
  },
  {
   "cell_type": "code",
   "execution_count": 12,
   "id": "a8d03c8d-1b06-49bd-be4e-f1354598b247",
   "metadata": {},
   "outputs": [],
   "source": [
    "a = arr"
   ]
  },
  {
   "cell_type": "code",
   "execution_count": 13,
   "id": "38077fb6-8737-47bb-8919-00536177bf91",
   "metadata": {},
   "outputs": [
    {
     "data": {
      "text/plain": [
       "array([[1, 2, 3],\n",
       "       [4, 5, 6],\n",
       "       [7, 8, 9]])"
      ]
     },
     "execution_count": 13,
     "metadata": {},
     "output_type": "execute_result"
    }
   ],
   "source": [
    "a"
   ]
  },
  {
   "cell_type": "markdown",
   "id": "7967fc0c-6888-4900-affb-a037ae534237",
   "metadata": {
    "jp-MarkdownHeadingCollapsed": true
   },
   "source": [
    "### Dot product on 2 vectors"
   ]
  },
  {
   "cell_type": "code",
   "execution_count": 14,
   "id": "e1623b3e-9297-4170-a555-727ac8df795c",
   "metadata": {},
   "outputs": [],
   "source": [
    "a = np.array([5,-3,2])\n",
    "b = np.array([4,5,3])"
   ]
  },
  {
   "cell_type": "code",
   "execution_count": 15,
   "id": "06b70bfc-83e4-4b83-b218-8ee00425c8d2",
   "metadata": {},
   "outputs": [
    {
     "data": {
      "text/plain": [
       "array([ 5, -3,  2])"
      ]
     },
     "execution_count": 15,
     "metadata": {},
     "output_type": "execute_result"
    }
   ],
   "source": [
    "a"
   ]
  },
  {
   "cell_type": "code",
   "execution_count": 16,
   "id": "96e89e83-c917-4a43-a196-cd038c74d651",
   "metadata": {},
   "outputs": [
    {
     "data": {
      "text/plain": [
       "array([4, 5, 3])"
      ]
     },
     "execution_count": 16,
     "metadata": {},
     "output_type": "execute_result"
    }
   ],
   "source": [
    "b"
   ]
  },
  {
   "cell_type": "code",
   "execution_count": 17,
   "id": "08e59f7f-14fd-4f7e-b1a1-07972090befc",
   "metadata": {},
   "outputs": [
    {
     "data": {
      "text/plain": [
       "np.int64(11)"
      ]
     },
     "execution_count": 17,
     "metadata": {},
     "output_type": "execute_result"
    }
   ],
   "source": [
    "a.dot(b)     # Used to multiply two arrays, especially for matrix multiplication"
   ]
  },
  {
   "cell_type": "code",
   "execution_count": 18,
   "id": "d106acb8-4b08-4fe3-81ff-4ba212bea7f0",
   "metadata": {},
   "outputs": [
    {
     "data": {
      "text/plain": [
       "np.int64(11)"
      ]
     },
     "execution_count": 18,
     "metadata": {},
     "output_type": "execute_result"
    }
   ],
   "source": [
    "b.dot(a)"
   ]
  },
  {
   "cell_type": "markdown",
   "id": "f609fa5b-6466-4d7e-a586-c0428a2d8862",
   "metadata": {},
   "source": [
    "#### Cross product 2 vectors"
   ]
  },
  {
   "cell_type": "code",
   "execution_count": 19,
   "id": "88aa3eb9-0f5d-4ad1-aa91-dea2ad0106b2",
   "metadata": {},
   "outputs": [],
   "source": [
    "a = np.array([3,4,5])\n",
    "b = np.array([7,8,9])"
   ]
  },
  {
   "cell_type": "code",
   "execution_count": 20,
   "id": "6057de9d-77fa-42ba-94d8-637359f05e26",
   "metadata": {},
   "outputs": [
    {
     "data": {
      "text/plain": [
       "array([3, 4, 5])"
      ]
     },
     "execution_count": 20,
     "metadata": {},
     "output_type": "execute_result"
    }
   ],
   "source": [
    "a"
   ]
  },
  {
   "cell_type": "code",
   "execution_count": 21,
   "id": "d30849e2-cb47-411b-8d71-464eb632cbc6",
   "metadata": {},
   "outputs": [
    {
     "data": {
      "text/plain": [
       "array([7, 8, 9])"
      ]
     },
     "execution_count": 21,
     "metadata": {},
     "output_type": "execute_result"
    }
   ],
   "source": [
    "b"
   ]
  },
  {
   "cell_type": "code",
   "execution_count": 22,
   "id": "27687ebc-2022-42ec-aeb2-2c19403581e9",
   "metadata": {},
   "outputs": [
    {
     "data": {
      "text/plain": [
       "array([-4,  8, -4])"
      ]
     },
     "execution_count": 22,
     "metadata": {},
     "output_type": "execute_result"
    }
   ],
   "source": [
    "np.cross(a,b)"
   ]
  },
  {
   "cell_type": "code",
   "execution_count": 23,
   "id": "d008a3f9-7e8c-41d0-8dea-474ce23d3242",
   "metadata": {},
   "outputs": [],
   "source": [
    "c = np.cross(a,b)"
   ]
  },
  {
   "cell_type": "code",
   "execution_count": 24,
   "id": "6f4e1d1e-82d7-44d0-90ed-a2e3b3cde42c",
   "metadata": {},
   "outputs": [
    {
     "data": {
      "text/plain": [
       "np.int64(0)"
      ]
     },
     "execution_count": 24,
     "metadata": {},
     "output_type": "execute_result"
    }
   ],
   "source": [
    "c.dot(a)"
   ]
  },
  {
   "cell_type": "code",
   "execution_count": 25,
   "id": "a5034be9-66a8-4ef4-9a47-15813683af63",
   "metadata": {},
   "outputs": [
    {
     "data": {
      "text/plain": [
       "np.int64(0)"
      ]
     },
     "execution_count": 25,
     "metadata": {},
     "output_type": "execute_result"
    }
   ],
   "source": [
    "c.dot(b)"
   ]
  },
  {
   "cell_type": "markdown",
   "id": "273f460a-7581-48fa-9725-67095101cc7c",
   "metadata": {
    "jp-MarkdownHeadingCollapsed": true
   },
   "source": [
    "### Determinant"
   ]
  },
  {
   "cell_type": "code",
   "execution_count": 26,
   "id": "ba34dc28-909c-4a60-954b-b3db0773d720",
   "metadata": {},
   "outputs": [],
   "source": [
    "arr = np.array([\n",
    "    [3,5,2],\n",
    "    [1,4,7],\n",
    "    [6,8,9]\n",
    "])"
   ]
  },
  {
   "cell_type": "code",
   "execution_count": 27,
   "id": "cead6a2e-8222-4711-8f2a-fca963244b19",
   "metadata": {},
   "outputs": [
    {
     "data": {
      "text/plain": [
       "np.float64(72.99999999999999)"
      ]
     },
     "execution_count": 27,
     "metadata": {},
     "output_type": "execute_result"
    }
   ],
   "source": [
    "np.linalg.det(arr)"
   ]
  },
  {
   "cell_type": "code",
   "execution_count": 28,
   "id": "6c5c6bda-4327-4ec7-9ebf-ef6caf49a5e7",
   "metadata": {},
   "outputs": [
    {
     "data": {
      "text/plain": [
       "73"
      ]
     },
     "execution_count": 28,
     "metadata": {},
     "output_type": "execute_result"
    }
   ],
   "source": [
    "round(np.linalg.det(arr))"
   ]
  },
  {
   "cell_type": "code",
   "execution_count": 29,
   "id": "9816f540-59ad-4eb4-9196-1dec2b700209",
   "metadata": {},
   "outputs": [],
   "source": [
    "arr = np.array([\n",
    "    [3,5,2],\n",
    "    [6,10,4],\n",
    "    [6,8,9]\n",
    "])"
   ]
  },
  {
   "cell_type": "code",
   "execution_count": 30,
   "id": "7f8007f5-6f1a-4f3f-b3bb-483335715b5a",
   "metadata": {},
   "outputs": [
    {
     "data": {
      "text/plain": [
       "np.float64(0.0)"
      ]
     },
     "execution_count": 30,
     "metadata": {},
     "output_type": "execute_result"
    }
   ],
   "source": [
    "np.linalg.det(arr)   # linalg stands for \"Linear Algebra\" 1.Finding matrix inverse 2.Calculating the determinant 3.Solving systems of linear equations"
   ]
  },
  {
   "cell_type": "code",
   "execution_count": 31,
   "id": "dca5f475-e148-4acd-9ecf-82a660c0db4b",
   "metadata": {},
   "outputs": [
    {
     "data": {
      "text/plain": [
       "0"
      ]
     },
     "execution_count": 31,
     "metadata": {},
     "output_type": "execute_result"
    }
   ],
   "source": [
    "round(np.linalg.det(arr))"
   ]
  },
  {
   "cell_type": "markdown",
   "id": "81e2d643-1b73-48e7-84e0-0d1a9cc93b24",
   "metadata": {
    "jp-MarkdownHeadingCollapsed": true
   },
   "source": [
    "### Inverse of a Matrix"
   ]
  },
  {
   "cell_type": "code",
   "execution_count": 32,
   "id": "16bceaa5-7958-4d4d-a501-4c1da379813f",
   "metadata": {},
   "outputs": [],
   "source": [
    "arr =np.array([\n",
    "    [1,2,3],\n",
    "    [3,-2,1],\n",
    "    [4,1,1]\n",
    "])"
   ]
  },
  {
   "cell_type": "code",
   "execution_count": 33,
   "id": "9e644a0e-8889-4146-bdcd-3c6e9c214e09",
   "metadata": {},
   "outputs": [],
   "source": [
    "inv = np.linalg.inv(arr)"
   ]
  },
  {
   "cell_type": "code",
   "execution_count": 34,
   "id": "fdf38714-0fb9-4d31-bd79-76ff84aa8200",
   "metadata": {},
   "outputs": [
    {
     "data": {
      "text/plain": [
       "array([[-0.09375,  0.03125,  0.25   ],\n",
       "       [ 0.03125, -0.34375,  0.25   ],\n",
       "       [ 0.34375,  0.21875, -0.25   ]])"
      ]
     },
     "execution_count": 34,
     "metadata": {},
     "output_type": "execute_result"
    }
   ],
   "source": [
    "inv"
   ]
  },
  {
   "cell_type": "code",
   "execution_count": 36,
   "id": "2c2a7f77-26f8-4b43-b681-fc7bcee6fedd",
   "metadata": {},
   "outputs": [
    {
     "data": {
      "text/plain": [
       "array([[1., 0., 0.],\n",
       "       [0., 1., 0.],\n",
       "       [0., 0., 1.]])"
      ]
     },
     "execution_count": 36,
     "metadata": {},
     "output_type": "execute_result"
    }
   ],
   "source": [
    "arr.dot(inv)"
   ]
  },
  {
   "cell_type": "code",
   "execution_count": 37,
   "id": "0828645e-880f-4047-88d4-f29839348cf9",
   "metadata": {},
   "outputs": [
    {
     "data": {
      "text/plain": [
       "np.float64(32.000000000000014)"
      ]
     },
     "execution_count": 37,
     "metadata": {},
     "output_type": "execute_result"
    }
   ],
   "source": [
    "np.linalg.det(arr)"
   ]
  },
  {
   "cell_type": "code",
   "execution_count": 38,
   "id": "249742dd-b09d-4788-9f1e-e3ac55afc801",
   "metadata": {},
   "outputs": [],
   "source": [
    "i = np.eye(3)   # All the diagonal elements are 1 and All the off-diagonal elements are 0"
   ]
  },
  {
   "cell_type": "code",
   "execution_count": 39,
   "id": "746d07ce-f792-4dbd-8078-1fe6a342787f",
   "metadata": {},
   "outputs": [
    {
     "data": {
      "text/plain": [
       "np.float64(1.0)"
      ]
     },
     "execution_count": 39,
     "metadata": {},
     "output_type": "execute_result"
    }
   ],
   "source": [
    "np.linalg.det(i)  # Used to calculate the determinant of a square matrix"
   ]
  },
  {
   "cell_type": "code",
   "execution_count": 40,
   "id": "4e2f8ae6-7713-4010-8490-d8a5acd0005e",
   "metadata": {},
   "outputs": [
    {
     "data": {
      "text/plain": [
       "array([[ 1,  2,  3],\n",
       "       [ 3, -2,  1],\n",
       "       [ 4,  1,  1]])"
      ]
     },
     "execution_count": 40,
     "metadata": {},
     "output_type": "execute_result"
    }
   ],
   "source": [
    "arr"
   ]
  },
  {
   "cell_type": "code",
   "execution_count": 41,
   "id": "5a797b76-ff34-4460-9f2f-ae3796cdce45",
   "metadata": {},
   "outputs": [
    {
     "data": {
      "text/plain": [
       "array([[ 1.,  2.,  3.],\n",
       "       [ 3., -2.,  1.],\n",
       "       [ 4.,  1.,  1.]])"
      ]
     },
     "execution_count": 41,
     "metadata": {},
     "output_type": "execute_result"
    }
   ],
   "source": [
    "arr.dot(i)"
   ]
  },
  {
   "cell_type": "markdown",
   "id": "31cf2f3b-a83f-4ea2-a1f1-ed0f240a6099",
   "metadata": {
    "jp-MarkdownHeadingCollapsed": true
   },
   "source": [
    "### Multiplication of 2 Matrix"
   ]
  },
  {
   "cell_type": "code",
   "execution_count": 42,
   "id": "9354c22c-05ee-4ec0-ab47-6598772bee50",
   "metadata": {},
   "outputs": [],
   "source": [
    "arr = np.random.randint(1,10,(3,3))"
   ]
  },
  {
   "cell_type": "code",
   "execution_count": 43,
   "id": "5990bb0d-e11b-4b78-926a-9a74554be89a",
   "metadata": {},
   "outputs": [
    {
     "data": {
      "text/plain": [
       "array([[7, 4, 3],\n",
       "       [2, 1, 2],\n",
       "       [4, 5, 7]], dtype=int32)"
      ]
     },
     "execution_count": 43,
     "metadata": {},
     "output_type": "execute_result"
    }
   ],
   "source": [
    "arr"
   ]
  },
  {
   "cell_type": "code",
   "execution_count": 44,
   "id": "59da23a6-e7b9-4792-9d42-b0a1f08efd77",
   "metadata": {},
   "outputs": [],
   "source": [
    "x = np.random.randint(arr)"
   ]
  },
  {
   "cell_type": "code",
   "execution_count": 45,
   "id": "53fd0915-2916-41f7-bd8b-d2d68fc7cd26",
   "metadata": {},
   "outputs": [],
   "source": [
    "y = np.random.randint(1,10,(3,3))"
   ]
  },
  {
   "cell_type": "code",
   "execution_count": 46,
   "id": "837e5a3b-9d58-46f3-920b-1a32ced7ebde",
   "metadata": {},
   "outputs": [
    {
     "data": {
      "text/plain": [
       "array([[6, 4, 6],\n",
       "       [6, 6, 2],\n",
       "       [8, 3, 4]], dtype=int32)"
      ]
     },
     "execution_count": 46,
     "metadata": {},
     "output_type": "execute_result"
    }
   ],
   "source": [
    "y"
   ]
  },
  {
   "cell_type": "code",
   "execution_count": 47,
   "id": "23eea131-5a77-4fef-b48a-c04b6530de3b",
   "metadata": {},
   "outputs": [
    {
     "data": {
      "text/plain": [
       "array([[30, 22, 26],\n",
       "       [ 6,  4,  6],\n",
       "       [40, 26, 24]], dtype=int32)"
      ]
     },
     "execution_count": 47,
     "metadata": {},
     "output_type": "execute_result"
    }
   ],
   "source": [
    "x.dot(y)"
   ]
  },
  {
   "cell_type": "code",
   "execution_count": 71,
   "id": "43f8fb1c-1df3-4a2c-ba56-b2e379dc5260",
   "metadata": {},
   "outputs": [],
   "source": [
    "arr = np.random.randint(1,3,(2,2))"
   ]
  },
  {
   "cell_type": "code",
   "execution_count": 72,
   "id": "c136441d-2d55-4b80-9650-b91844b55e90",
   "metadata": {},
   "outputs": [
    {
     "data": {
      "text/plain": [
       "array([[1, 2],\n",
       "       [2, 2]], dtype=int32)"
      ]
     },
     "execution_count": 72,
     "metadata": {},
     "output_type": "execute_result"
    }
   ],
   "source": [
    "arr"
   ]
  },
  {
   "cell_type": "code",
   "execution_count": 73,
   "id": "e0a5f5a0-962b-4fae-993b-89c1806a66d8",
   "metadata": {},
   "outputs": [],
   "source": [
    "brr = np.random.randint(4,5,(2,2))"
   ]
  },
  {
   "cell_type": "code",
   "execution_count": 74,
   "id": "314284ac-b347-44e8-b21f-64df6ea585cd",
   "metadata": {},
   "outputs": [
    {
     "data": {
      "text/plain": [
       "array([[4, 4],\n",
       "       [4, 4]], dtype=int32)"
      ]
     },
     "execution_count": 74,
     "metadata": {},
     "output_type": "execute_result"
    }
   ],
   "source": [
    "brr"
   ]
  },
  {
   "cell_type": "code",
   "execution_count": 75,
   "id": "7712e98b-b0b1-4f8b-89cd-bc1d56f6aca5",
   "metadata": {},
   "outputs": [
    {
     "data": {
      "text/plain": [
       "array([[12, 12],\n",
       "       [16, 16]], dtype=int32)"
      ]
     },
     "execution_count": 75,
     "metadata": {},
     "output_type": "execute_result"
    }
   ],
   "source": [
    "arr.dot(brr)"
   ]
  },
  {
   "cell_type": "markdown",
   "id": "311ccde1-f4dc-41bc-95ef-cd472fef318c",
   "metadata": {
    "jp-MarkdownHeadingCollapsed": true
   },
   "source": [
    "### Solving linear algebra"
   ]
  },
  {
   "cell_type": "code",
   "execution_count": 48,
   "id": "c6422d20-9162-4878-afce-2d10b1d3c279",
   "metadata": {},
   "outputs": [],
   "source": [
    "arr = np.array([\n",
    "    [1,3,-2],\n",
    "    [2,-1,6],\n",
    "    [1,1,-2]\n",
    "])"
   ]
  },
  {
   "cell_type": "code",
   "execution_count": 49,
   "id": "5aa748b4-a282-4e60-a98b-5b3a478369f9",
   "metadata": {},
   "outputs": [],
   "source": [
    "C = np.array([10,3,5])"
   ]
  },
  {
   "cell_type": "code",
   "execution_count": 50,
   "id": "1b29bc43-4ce1-433e-8002-9352c98bd52a",
   "metadata": {},
   "outputs": [],
   "source": [
    "inv = np.linalg.inv(arr)"
   ]
  },
  {
   "cell_type": "code",
   "execution_count": 51,
   "id": "d1b3088d-0ffe-4f76-ac33-8a41c21e164e",
   "metadata": {},
   "outputs": [
    {
     "data": {
      "text/plain": [
       "array([[-2.00000000e-01,  2.00000000e-01,  8.00000000e-01],\n",
       "       [ 5.00000000e-01, -1.58603289e-17, -5.00000000e-01],\n",
       "       [ 1.50000000e-01,  1.00000000e-01, -3.50000000e-01]])"
      ]
     },
     "execution_count": 51,
     "metadata": {},
     "output_type": "execute_result"
    }
   ],
   "source": [
    "inv"
   ]
  },
  {
   "cell_type": "code",
   "execution_count": 52,
   "id": "b60a06ff-43f2-452a-bee6-d0dd874e4fd6",
   "metadata": {},
   "outputs": [
    {
     "data": {
      "text/plain": [
       "array([2.6 , 2.5 , 0.05])"
      ]
     },
     "execution_count": 52,
     "metadata": {},
     "output_type": "execute_result"
    }
   ],
   "source": [
    "inv.dot(C)"
   ]
  },
  {
   "cell_type": "markdown",
   "id": "2f769420-87fe-4704-bfb1-331e17b4b9ac",
   "metadata": {
    "jp-MarkdownHeadingCollapsed": true
   },
   "source": [
    "### Eigen Values Eigen vector"
   ]
  },
  {
   "cell_type": "code",
   "execution_count": null,
   "id": "0c73a29f-6688-42e9-a007-0341004c4202",
   "metadata": {},
   "outputs": [],
   "source": [
    "# 1.Eigenvectors: Special directions that don't rotate under transformation\n",
    "# 2.Eigenvalues: How much those vectors get stretched or shrunk"
   ]
  },
  {
   "cell_type": "code",
   "execution_count": 53,
   "id": "7e180894-8f73-4f2a-9e13-00419d625adc",
   "metadata": {},
   "outputs": [
    {
     "data": {
      "text/plain": [
       "array([[ 1,  3, -2],\n",
       "       [ 2, -1,  6],\n",
       "       [ 1,  1, -2]])"
      ]
     },
     "execution_count": 53,
     "metadata": {},
     "output_type": "execute_result"
    }
   ],
   "source": [
    "arr"
   ]
  },
  {
   "cell_type": "code",
   "execution_count": 54,
   "id": "61dc17fc-7486-4a6e-8329-716fa3278880",
   "metadata": {},
   "outputs": [],
   "source": [
    "a,b = np.linalg.eig(arr)"
   ]
  },
  {
   "cell_type": "code",
   "execution_count": 55,
   "id": "d7e87cc0-e0e8-4b58-93ef-3c6cbf36250c",
   "metadata": {},
   "outputs": [
    {
     "data": {
      "text/plain": [
       "EigResult(eigenvalues=array([ 3.25878567, -1.74822811, -3.51055757]), eigenvectors=array([[-0.68032035, -0.68273056,  0.58984922],\n",
       "       [-0.685363  ,  0.71750056, -0.79590801],\n",
       "       [-0.25969557,  0.13810117,  0.13641241]]))"
      ]
     },
     "execution_count": 55,
     "metadata": {},
     "output_type": "execute_result"
    }
   ],
   "source": [
    "np.linalg.eig(arr)"
   ]
  },
  {
   "cell_type": "code",
   "execution_count": 56,
   "id": "95403f27-0526-4acd-86bc-358c40616333",
   "metadata": {},
   "outputs": [
    {
     "data": {
      "text/plain": [
       "array([ 3.25878567, -1.74822811, -3.51055757])"
      ]
     },
     "execution_count": 56,
     "metadata": {},
     "output_type": "execute_result"
    }
   ],
   "source": [
    "a"
   ]
  },
  {
   "cell_type": "code",
   "execution_count": 57,
   "id": "fe945f48-2942-44b3-8c70-5c73448f6a15",
   "metadata": {},
   "outputs": [
    {
     "data": {
      "text/plain": [
       "array([[-0.68032035, -0.68273056,  0.58984922],\n",
       "       [-0.685363  ,  0.71750056, -0.79590801],\n",
       "       [-0.25969557,  0.13810117,  0.13641241]])"
      ]
     },
     "execution_count": 57,
     "metadata": {},
     "output_type": "execute_result"
    }
   ],
   "source": [
    "b"
   ]
  },
  {
   "cell_type": "code",
   "execution_count": 58,
   "id": "510dcf37-8884-45d1-8c24-fcbf48ea1b7c",
   "metadata": {},
   "outputs": [
    {
     "data": {
      "text/plain": [
       "array([[ 1,  3, -2],\n",
       "       [ 2, -1,  6],\n",
       "       [ 1,  1, -2]])"
      ]
     },
     "execution_count": 58,
     "metadata": {},
     "output_type": "execute_result"
    }
   ],
   "source": [
    "arr"
   ]
  }
 ],
 "metadata": {
  "kernelspec": {
   "display_name": "Python 3 (ipykernel)",
   "language": "python",
   "name": "python3"
  },
  "language_info": {
   "codemirror_mode": {
    "name": "ipython",
    "version": 3
   },
   "file_extension": ".py",
   "mimetype": "text/x-python",
   "name": "python",
   "nbconvert_exporter": "python",
   "pygments_lexer": "ipython3",
   "version": "3.13.5"
  }
 },
 "nbformat": 4,
 "nbformat_minor": 5
}
