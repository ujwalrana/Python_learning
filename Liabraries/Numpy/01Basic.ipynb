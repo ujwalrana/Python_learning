{
 "cells": [
  {
   "cell_type": "markdown",
   "id": "97fb5fce-8f08-48db-b5f4-74139d6da3c8",
   "metadata": {},
   "source": [
    "#### Install numpy"
   ]
  },
  {
   "cell_type": "code",
   "execution_count": 1,
   "id": "959ad3f0-255f-4075-bda7-59d63ceb6ff4",
   "metadata": {},
   "outputs": [
    {
     "name": "stdout",
     "output_type": "stream",
     "text": [
      "Requirement already satisfied: numpy in c:\\users\\hp\\music\\anaconda.apk\\lib\\site-packages (2.1.3)\n",
      "Note: you may need to restart the kernel to use updated packages.\n"
     ]
    }
   ],
   "source": [
    "pip install numpy"
   ]
  },
  {
   "cell_type": "code",
   "execution_count": 3,
   "id": "7569e407-47c7-42ea-bfaa-4dd86427f3ec",
   "metadata": {},
   "outputs": [],
   "source": [
    "import numpy as np"
   ]
  },
  {
   "cell_type": "code",
   "execution_count": 3,
   "id": "8045fa7e-af80-420c-85e7-9f33dab46d5e",
   "metadata": {},
   "outputs": [],
   "source": [
    "numList = [5,1,3]"
   ]
  },
  {
   "cell_type": "code",
   "execution_count": 15,
   "id": "a30f22c0-fe52-4084-a8b2-020706db0fbf",
   "metadata": {},
   "outputs": [],
   "source": [
    "floatList = [3.1,7.7,8.9]"
   ]
  },
  {
   "cell_type": "code",
   "execution_count": 5,
   "id": "ef6e66c5-3aee-42d1-a1d3-c007aecf77b3",
   "metadata": {},
   "outputs": [],
   "source": [
    "textList = ['ujwal','saransh','sahil']"
   ]
  },
  {
   "cell_type": "code",
   "execution_count": 6,
   "id": "9f8fbea2-4ee1-4873-8ccb-f7b5d1d454db",
   "metadata": {},
   "outputs": [],
   "source": [
    "boolList = [True,False,True]"
   ]
  },
  {
   "cell_type": "code",
   "execution_count": 7,
   "id": "50afbd7d-7a0c-47bf-965d-9d3f311b1431",
   "metadata": {},
   "outputs": [
    {
     "data": {
      "text/plain": [
       "array([5, 1, 3])"
      ]
     },
     "execution_count": 7,
     "metadata": {},
     "output_type": "execute_result"
    }
   ],
   "source": [
    "np.array(numList)"
   ]
  },
  {
   "cell_type": "code",
   "execution_count": 8,
   "id": "948c2a69-f57a-440e-b6da-8a5e7f53a3d4",
   "metadata": {},
   "outputs": [],
   "source": [
    "npArr = np.array(numList)"
   ]
  },
  {
   "cell_type": "code",
   "execution_count": 10,
   "id": "ce7cb771-2d95-42ef-8358-49fde94d0954",
   "metadata": {},
   "outputs": [
    {
     "name": "stdout",
     "output_type": "stream",
     "text": [
      "[5 1 3]\n"
     ]
    }
   ],
   "source": [
    "print(npArr)"
   ]
  },
  {
   "cell_type": "code",
   "execution_count": 11,
   "id": "1d4be98d-e273-40db-bee4-15b4c391ba02",
   "metadata": {},
   "outputs": [
    {
     "data": {
      "text/plain": [
       "array([5, 1, 3])"
      ]
     },
     "execution_count": 11,
     "metadata": {},
     "output_type": "execute_result"
    }
   ],
   "source": [
    "npArr"
   ]
  },
  {
   "cell_type": "code",
   "execution_count": 16,
   "id": "fa696a25-b218-409d-a731-58e3859ca8fe",
   "metadata": {},
   "outputs": [
    {
     "data": {
      "text/plain": [
       "array([3.1, 7.7, 8.9])"
      ]
     },
     "execution_count": 16,
     "metadata": {},
     "output_type": "execute_result"
    }
   ],
   "source": [
    "np.array(floatList)"
   ]
  },
  {
   "cell_type": "code",
   "execution_count": 17,
   "id": "02ed8f1d-c7ad-4c46-8ad4-fdeba29dcf1c",
   "metadata": {},
   "outputs": [],
   "source": [
    "floatArr = np.array(floatList)"
   ]
  },
  {
   "cell_type": "code",
   "execution_count": 19,
   "id": "41598ed8-12bb-410d-aaae-fce0414fcb06",
   "metadata": {},
   "outputs": [
    {
     "data": {
      "text/plain": [
       "dtype('float64')"
      ]
     },
     "execution_count": 19,
     "metadata": {},
     "output_type": "execute_result"
    }
   ],
   "source": [
    "floatArr.dtype"
   ]
  },
  {
   "cell_type": "code",
   "execution_count": 18,
   "id": "4d9fa0f4-cddf-4208-8bb8-39c432529a56",
   "metadata": {},
   "outputs": [
    {
     "name": "stdout",
     "output_type": "stream",
     "text": [
      "[3.1 7.7 8.9]\n"
     ]
    }
   ],
   "source": [
    "print(floatArr)"
   ]
  },
  {
   "cell_type": "code",
   "execution_count": 21,
   "id": "51370969-b2ff-4d4d-a368-42dea129d5cf",
   "metadata": {},
   "outputs": [
    {
     "data": {
      "text/plain": [
       "array([ True, False,  True])"
      ]
     },
     "execution_count": 21,
     "metadata": {},
     "output_type": "execute_result"
    }
   ],
   "source": [
    "np.array(boolList)"
   ]
  },
  {
   "cell_type": "code",
   "execution_count": 23,
   "id": "c7cfcffa-684b-4569-b302-1088e205c474",
   "metadata": {},
   "outputs": [],
   "source": [
    "boolArr = np.array(boolList)"
   ]
  },
  {
   "cell_type": "code",
   "execution_count": 24,
   "id": "a1be8934-88db-4e82-8a93-8e3b63437055",
   "metadata": {},
   "outputs": [
    {
     "data": {
      "text/plain": [
       "array([ True, False,  True])"
      ]
     },
     "execution_count": 24,
     "metadata": {},
     "output_type": "execute_result"
    }
   ],
   "source": [
    "boolArr"
   ]
  },
  {
   "cell_type": "code",
   "execution_count": 25,
   "id": "1ce1f36b-125b-4b3e-815c-fa8fe8900185",
   "metadata": {},
   "outputs": [
    {
     "data": {
      "text/plain": [
       "dtype('bool')"
      ]
     },
     "execution_count": 25,
     "metadata": {},
     "output_type": "execute_result"
    }
   ],
   "source": [
    "boolArr.dtype"
   ]
  },
  {
   "cell_type": "code",
   "execution_count": 26,
   "id": "4bc7df8d-572f-4b14-bece-b03f0c416d29",
   "metadata": {},
   "outputs": [
    {
     "name": "stdout",
     "output_type": "stream",
     "text": [
      "[ True False  True]\n"
     ]
    }
   ],
   "source": [
    "print(boolArr)"
   ]
  },
  {
   "cell_type": "code",
   "execution_count": null,
   "id": "6cb6982d-1c13-4d37-a453-40a573f6b83c",
   "metadata": {},
   "outputs": [],
   "source": []
  },
  {
   "cell_type": "code",
   "execution_count": 29,
   "id": "686260ca-4820-43a3-8da2-a1a1e4d18017",
   "metadata": {},
   "outputs": [
    {
     "data": {
      "text/plain": [
       "array(['5', '6.3', 'True', 'Ujwal'], dtype='<U32')"
      ]
     },
     "execution_count": 29,
     "metadata": {},
     "output_type": "execute_result"
    }
   ],
   "source": [
    "np.array([5,6.3,True,\"Ujwal\"])"
   ]
  },
  {
   "cell_type": "code",
   "execution_count": null,
   "id": "6535fd3f-3de8-431f-8878-68ad064752b6",
   "metadata": {},
   "outputs": [],
   "source": []
  },
  {
   "cell_type": "code",
   "execution_count": 4,
   "id": "491004b5-47a6-462c-af71-9041660da1bb",
   "metadata": {},
   "outputs": [],
   "source": [
    "numList =  [2,3,4,5,6,7,8,90,23,45]"
   ]
  },
  {
   "cell_type": "code",
   "execution_count": 5,
   "id": "54b5a60c-bcfb-4f4e-a54a-7db405362ff7",
   "metadata": {},
   "outputs": [
    {
     "data": {
      "text/plain": [
       "array([ 2,  3,  4,  5,  6,  7,  8, 90, 23, 45])"
      ]
     },
     "execution_count": 5,
     "metadata": {},
     "output_type": "execute_result"
    }
   ],
   "source": [
    "np.array(numList)"
   ]
  },
  {
   "cell_type": "code",
   "execution_count": 18,
   "id": "db8af027-c8d9-44b8-a3f4-7a45ee032346",
   "metadata": {},
   "outputs": [],
   "source": [
    "Arr = np.array(numList)"
   ]
  },
  {
   "cell_type": "code",
   "execution_count": 19,
   "id": "e97d587a-29b3-4956-ade5-f279e6d53c4e",
   "metadata": {},
   "outputs": [
    {
     "data": {
      "text/plain": [
       "array([ 2,  3,  4,  5,  6,  7,  8, 90, 23, 45])"
      ]
     },
     "execution_count": 19,
     "metadata": {},
     "output_type": "execute_result"
    }
   ],
   "source": [
    "Arr"
   ]
  },
  {
   "cell_type": "code",
   "execution_count": 20,
   "id": "b103baa0-4849-4716-947e-3a6304336071",
   "metadata": {},
   "outputs": [
    {
     "name": "stdout",
     "output_type": "stream",
     "text": [
      "[2, 3, 4, 5, 6, 7, 8, 90, 23, 45]\n"
     ]
    }
   ],
   "source": [
    "print(numList)"
   ]
  },
  {
   "cell_type": "code",
   "execution_count": 21,
   "id": "de955b71-574e-441e-b7d3-b1bf6560662e",
   "metadata": {},
   "outputs": [
    {
     "data": {
      "text/plain": [
       "1"
      ]
     },
     "execution_count": 21,
     "metadata": {},
     "output_type": "execute_result"
    }
   ],
   "source": [
    "Arr.ndim"
   ]
  },
  {
   "cell_type": "code",
   "execution_count": 23,
   "id": "f51464c6-8b1a-4a96-a3f5-2f99fc2f628d",
   "metadata": {},
   "outputs": [
    {
     "data": {
      "text/plain": [
       "10"
      ]
     },
     "execution_count": 23,
     "metadata": {},
     "output_type": "execute_result"
    }
   ],
   "source": [
    "Arr.size"
   ]
  },
  {
   "cell_type": "markdown",
   "id": "8a50fdd6-96fb-47df-91c3-a522954131c2",
   "metadata": {},
   "source": [
    "#### Scaler"
   ]
  },
  {
   "cell_type": "code",
   "execution_count": 54,
   "id": "378e2687-5eed-4a29-a1d9-8d0cdb4bec0d",
   "metadata": {},
   "outputs": [],
   "source": [
    "scaler = np.array(5)"
   ]
  },
  {
   "cell_type": "code",
   "execution_count": 55,
   "id": "90f199ea-1589-4521-bd1a-096aff6c063b",
   "metadata": {},
   "outputs": [
    {
     "data": {
      "text/plain": [
       "array(5)"
      ]
     },
     "execution_count": 55,
     "metadata": {},
     "output_type": "execute_result"
    }
   ],
   "source": [
    "scaler"
   ]
  },
  {
   "cell_type": "code",
   "execution_count": 56,
   "id": "583eea9c-af1e-41d1-b919-45b2f566a1fd",
   "metadata": {},
   "outputs": [
    {
     "name": "stdout",
     "output_type": "stream",
     "text": [
      "5\n"
     ]
    }
   ],
   "source": [
    "print(scaler)"
   ]
  },
  {
   "cell_type": "code",
   "execution_count": 57,
   "id": "aaa32c4c-45f2-41fb-9317-7c5367a0a611",
   "metadata": {},
   "outputs": [
    {
     "data": {
      "text/plain": [
       "dtype('int64')"
      ]
     },
     "execution_count": 57,
     "metadata": {},
     "output_type": "execute_result"
    }
   ],
   "source": [
    "scaler.dtype"
   ]
  },
  {
   "cell_type": "code",
   "execution_count": 58,
   "id": "89a01fd7-f6f9-4a40-bd80-6f8f9dc73a7d",
   "metadata": {},
   "outputs": [
    {
     "data": {
      "text/plain": [
       "()"
      ]
     },
     "execution_count": 58,
     "metadata": {},
     "output_type": "execute_result"
    }
   ],
   "source": [
    "scaler.shape"
   ]
  },
  {
   "cell_type": "code",
   "execution_count": 59,
   "id": "e9170baa-a905-48ff-be01-6acfa5487c99",
   "metadata": {},
   "outputs": [
    {
     "data": {
      "text/plain": [
       "1"
      ]
     },
     "execution_count": 59,
     "metadata": {},
     "output_type": "execute_result"
    }
   ],
   "source": [
    "scaler.size"
   ]
  },
  {
   "cell_type": "code",
   "execution_count": 60,
   "id": "eb9aac40-4db1-47f0-9e53-436f9421ba4f",
   "metadata": {},
   "outputs": [
    {
     "data": {
      "text/plain": [
       "0"
      ]
     },
     "execution_count": 60,
     "metadata": {},
     "output_type": "execute_result"
    }
   ],
   "source": [
    "scaler.ndim"
   ]
  },
  {
   "cell_type": "markdown",
   "id": "d17c1515-3a1a-4eb4-85c0-5f4cf50b1f4e",
   "metadata": {},
   "source": [
    "#### Vector"
   ]
  },
  {
   "cell_type": "code",
   "execution_count": null,
   "id": "9cdd6ecf-93dd-4325-96b8-21079754b346",
   "metadata": {},
   "outputs": [],
   "source": []
  },
  {
   "cell_type": "code",
   "execution_count": null,
   "id": "3c464698-e89f-489b-938e-65a087938070",
   "metadata": {},
   "outputs": [],
   "source": []
  },
  {
   "cell_type": "code",
   "execution_count": null,
   "id": "34f802d4-4d5b-459b-8f31-2fb143092404",
   "metadata": {},
   "outputs": [],
   "source": []
  },
  {
   "cell_type": "code",
   "execution_count": null,
   "id": "701bf004-9b5a-424d-8fba-9ba55cdf3f47",
   "metadata": {},
   "outputs": [],
   "source": []
  },
  {
   "cell_type": "code",
   "execution_count": null,
   "id": "b484f616-4261-4050-9b62-1354b1180925",
   "metadata": {},
   "outputs": [],
   "source": []
  },
  {
   "cell_type": "code",
   "execution_count": null,
   "id": "c39e5c07-c066-446d-bf26-3cec08b7177e",
   "metadata": {},
   "outputs": [],
   "source": []
  },
  {
   "cell_type": "markdown",
   "id": "f648b0f7-7ca5-4329-9b95-f9068378c4e6",
   "metadata": {},
   "source": [
    "#### Matrix"
   ]
  },
  {
   "cell_type": "code",
   "execution_count": 4,
   "id": "41f92068-4a9e-486b-84bc-e75a1e19870a",
   "metadata": {},
   "outputs": [
    {
     "name": "stdout",
     "output_type": "stream",
     "text": [
      "[[ 1  2  3  4]\n",
      " [ 5  6  7  8]\n",
      " [ 9 10 11 12]]\n"
     ]
    }
   ],
   "source": [
    "matrix = np.array(\n",
    "    [\n",
    "        [1,2,3,4],\n",
    "        [5,6,7,8],\n",
    "        [9,10,11,12]\n",
    "    ]  \n",
    ")\n",
    "print(matrix)"
   ]
  },
  {
   "cell_type": "code",
   "execution_count": 5,
   "id": "25d184bc-23ae-472a-a807-daf2c002c06b",
   "metadata": {},
   "outputs": [
    {
     "data": {
      "text/plain": [
       "2"
      ]
     },
     "execution_count": 5,
     "metadata": {},
     "output_type": "execute_result"
    }
   ],
   "source": [
    "matrix.ndim"
   ]
  },
  {
   "cell_type": "code",
   "execution_count": 8,
   "id": "a566acb1-2aaa-417c-8420-166036c4009c",
   "metadata": {},
   "outputs": [
    {
     "data": {
      "text/plain": [
       "(3, 4)"
      ]
     },
     "execution_count": 8,
     "metadata": {},
     "output_type": "execute_result"
    }
   ],
   "source": [
    "matrix.shape"
   ]
  },
  {
   "cell_type": "code",
   "execution_count": 9,
   "id": "e47fa122-b31c-4109-bb82-e945c853a981",
   "metadata": {},
   "outputs": [
    {
     "data": {
      "text/plain": [
       "dtype('int64')"
      ]
     },
     "execution_count": 9,
     "metadata": {},
     "output_type": "execute_result"
    }
   ],
   "source": [
    "matrix.dtype"
   ]
  },
  {
   "cell_type": "markdown",
   "id": "65e91f72-8e82-4e11-a468-a218e56f8b72",
   "metadata": {},
   "source": [
    "#### Tensor"
   ]
  },
  {
   "cell_type": "code",
   "execution_count": 22,
   "id": "2b06a571-b691-4add-84da-5211a4afacab",
   "metadata": {},
   "outputs": [],
   "source": [
    "tensor = np.array([\n",
    "[\n",
    "    [1,2],\n",
    "    [3,4]\n",
    "],\n",
    "[\n",
    "    [5,6],\n",
    "    [7,8] \n",
    "],\n",
    "[\n",
    "    [9,10],\n",
    "    [11,12]\n",
    "]\n",
    "       ])"
   ]
  },
  {
   "cell_type": "code",
   "execution_count": 23,
   "id": "23b5d18a-3500-46a6-941c-e115b6d0ab5d",
   "metadata": {},
   "outputs": [
    {
     "data": {
      "text/plain": [
       "3"
      ]
     },
     "execution_count": 23,
     "metadata": {},
     "output_type": "execute_result"
    }
   ],
   "source": [
    "tensor.ndim"
   ]
  },
  {
   "cell_type": "code",
   "execution_count": 24,
   "id": "31bec7dc-2bbb-4b0b-b4ea-991e99ae4b96",
   "metadata": {},
   "outputs": [
    {
     "data": {
      "text/plain": [
       "(3, 2, 2)"
      ]
     },
     "execution_count": 24,
     "metadata": {},
     "output_type": "execute_result"
    }
   ],
   "source": [
    "tensor.shape"
   ]
  },
  {
   "cell_type": "code",
   "execution_count": 25,
   "id": "46d623f3-510f-4584-867a-f3afd1119b38",
   "metadata": {},
   "outputs": [
    {
     "data": {
      "text/plain": [
       "dtype('int64')"
      ]
     },
     "execution_count": 25,
     "metadata": {},
     "output_type": "execute_result"
    }
   ],
   "source": [
    "tensor.dtype"
   ]
  },
  {
   "cell_type": "code",
   "execution_count": 26,
   "id": "32db1923-99c4-429e-8494-2867603c3914",
   "metadata": {},
   "outputs": [
    {
     "data": {
      "text/plain": [
       "12"
      ]
     },
     "execution_count": 26,
     "metadata": {},
     "output_type": "execute_result"
    }
   ],
   "source": [
    "tensor.size"
   ]
  },
  {
   "cell_type": "markdown",
   "id": "5ab1096c-8192-4518-aed7-2758e4c75f5e",
   "metadata": {},
   "source": [
    "#### Reshape "
   ]
  },
  {
   "cell_type": "code",
   "execution_count": 27,
   "id": "9dbd5fcb-c3c7-458b-943c-d6f9ac6c0e96",
   "metadata": {},
   "outputs": [],
   "source": [
    "arr = np.array([1,2,3,4,5,6,7,8,9,10,11,12])"
   ]
  },
  {
   "cell_type": "code",
   "execution_count": 28,
   "id": "c0e0b656-db3a-4ecb-ab16-6ba674ed6779",
   "metadata": {},
   "outputs": [
    {
     "data": {
      "text/plain": [
       "dtype('int64')"
      ]
     },
     "execution_count": 28,
     "metadata": {},
     "output_type": "execute_result"
    }
   ],
   "source": [
    "arr.dtype"
   ]
  },
  {
   "cell_type": "code",
   "execution_count": 29,
   "id": "3b88c843-8e6d-4674-9b8f-ca5d0374991d",
   "metadata": {},
   "outputs": [
    {
     "data": {
      "text/plain": [
       "(12,)"
      ]
     },
     "execution_count": 29,
     "metadata": {},
     "output_type": "execute_result"
    }
   ],
   "source": [
    "arr.shape"
   ]
  },
  {
   "cell_type": "code",
   "execution_count": 30,
   "id": "47a48792-1ee2-4bf9-bca2-c95f167caaf3",
   "metadata": {},
   "outputs": [
    {
     "data": {
      "text/plain": [
       "12"
      ]
     },
     "execution_count": 30,
     "metadata": {},
     "output_type": "execute_result"
    }
   ],
   "source": [
    "arr.size"
   ]
  },
  {
   "cell_type": "code",
   "execution_count": 31,
   "id": "864e795c-92b9-4f0c-bcb7-c01ea0dce7c3",
   "metadata": {},
   "outputs": [
    {
     "data": {
      "text/plain": [
       "1"
      ]
     },
     "execution_count": 31,
     "metadata": {},
     "output_type": "execute_result"
    }
   ],
   "source": [
    "arr.ndim"
   ]
  },
  {
   "cell_type": "code",
   "execution_count": 32,
   "id": "ab3b631a-3659-4682-9717-5066bed9dad8",
   "metadata": {},
   "outputs": [
    {
     "data": {
      "text/plain": [
       "array([[ 1,  2,  3,  4,  5,  6,  7,  8,  9, 10, 11, 12]])"
      ]
     },
     "execution_count": 32,
     "metadata": {},
     "output_type": "execute_result"
    }
   ],
   "source": [
    "arr.reshape(1,12)"
   ]
  },
  {
   "cell_type": "code",
   "execution_count": 33,
   "id": "10044bac-9a4a-4184-8f8a-8523a0a5f05a",
   "metadata": {},
   "outputs": [
    {
     "data": {
      "text/plain": [
       "array([ 1,  2,  3,  4,  5,  6,  7,  8,  9, 10, 11, 12])"
      ]
     },
     "execution_count": 33,
     "metadata": {},
     "output_type": "execute_result"
    }
   ],
   "source": [
    "arr.reshape(12)"
   ]
  },
  {
   "cell_type": "code",
   "execution_count": 34,
   "id": "bfbc6be0-e511-41d3-9000-ef1db89991c9",
   "metadata": {},
   "outputs": [
    {
     "data": {
      "text/plain": [
       "array([[ 1],\n",
       "       [ 2],\n",
       "       [ 3],\n",
       "       [ 4],\n",
       "       [ 5],\n",
       "       [ 6],\n",
       "       [ 7],\n",
       "       [ 8],\n",
       "       [ 9],\n",
       "       [10],\n",
       "       [11],\n",
       "       [12]])"
      ]
     },
     "execution_count": 34,
     "metadata": {},
     "output_type": "execute_result"
    }
   ],
   "source": [
    "arr.reshape(12,1)"
   ]
  },
  {
   "cell_type": "code",
   "execution_count": 36,
   "id": "4a71ca84-340f-474e-b652-cf907435a05d",
   "metadata": {},
   "outputs": [
    {
     "data": {
      "text/plain": [
       "array([[ 1,  2],\n",
       "       [ 3,  4],\n",
       "       [ 5,  6],\n",
       "       [ 7,  8],\n",
       "       [ 9, 10],\n",
       "       [11, 12]])"
      ]
     },
     "execution_count": 36,
     "metadata": {},
     "output_type": "execute_result"
    }
   ],
   "source": [
    "arr.reshape(6,2)"
   ]
  },
  {
   "cell_type": "code",
   "execution_count": 37,
   "id": "81d1201f-9b3d-465e-8b35-603152252779",
   "metadata": {},
   "outputs": [
    {
     "data": {
      "text/plain": [
       "array([[ 1,  2,  3,  4,  5,  6],\n",
       "       [ 7,  8,  9, 10, 11, 12]])"
      ]
     },
     "execution_count": 37,
     "metadata": {},
     "output_type": "execute_result"
    }
   ],
   "source": [
    "arr.reshape(2,6)"
   ]
  },
  {
   "cell_type": "code",
   "execution_count": 38,
   "id": "e2c94f06-3b93-4378-afc6-5d8eb7ff9952",
   "metadata": {},
   "outputs": [
    {
     "data": {
      "text/plain": [
       "array([[[ 1,  2],\n",
       "        [ 3,  4],\n",
       "        [ 5,  6]],\n",
       "\n",
       "       [[ 7,  8],\n",
       "        [ 9, 10],\n",
       "        [11, 12]]])"
      ]
     },
     "execution_count": 38,
     "metadata": {},
     "output_type": "execute_result"
    }
   ],
   "source": [
    "arr.reshape(2,3,2)"
   ]
  },
  {
   "cell_type": "code",
   "execution_count": 39,
   "id": "3884cc76-ba1b-4ebd-9ec7-ac73cc0511e4",
   "metadata": {},
   "outputs": [
    {
     "data": {
      "text/plain": [
       "array([[ 1,  2,  3,  4],\n",
       "       [ 5,  6,  7,  8],\n",
       "       [ 9, 10, 11, 12]])"
      ]
     },
     "execution_count": 39,
     "metadata": {},
     "output_type": "execute_result"
    }
   ],
   "source": [
    "arr.reshape(3,4)"
   ]
  },
  {
   "cell_type": "code",
   "execution_count": 40,
   "id": "7fc7a7e2-e535-4005-8c17-e9f72a84a002",
   "metadata": {},
   "outputs": [
    {
     "data": {
      "text/plain": [
       "array([[ 1,  2,  3],\n",
       "       [ 4,  5,  6],\n",
       "       [ 7,  8,  9],\n",
       "       [10, 11, 12]])"
      ]
     },
     "execution_count": 40,
     "metadata": {},
     "output_type": "execute_result"
    }
   ],
   "source": [
    "arr.reshape(4,3)"
   ]
  },
  {
   "cell_type": "code",
   "execution_count": null,
   "id": "c624334f-95d2-4d4c-9362-377f59435ed7",
   "metadata": {},
   "outputs": [],
   "source": [
    "[x for x in range(1,25)]"
   ]
  },
  {
   "cell_type": "code",
   "execution_count": 4,
   "id": "4da9ae2a-95aa-470f-8a36-108a6d2207aa",
   "metadata": {},
   "outputs": [],
   "source": [
    "arr = np.array([1,2,3,4,5,6,7,8,9,10,11,12,13,14,15,16,17,18,19,20,21,22,23,24])"
   ]
  },
  {
   "cell_type": "code",
   "execution_count": 5,
   "id": "ce940f6e-15e2-4cc8-947f-5bc411ccad00",
   "metadata": {},
   "outputs": [
    {
     "data": {
      "text/plain": [
       "array([[ 1,  2,  3,  4,  5,  6],\n",
       "       [ 7,  8,  9, 10, 11, 12],\n",
       "       [13, 14, 15, 16, 17, 18],\n",
       "       [19, 20, 21, 22, 23, 24]])"
      ]
     },
     "execution_count": 5,
     "metadata": {},
     "output_type": "execute_result"
    }
   ],
   "source": [
    "arr.reshape(4,-1)"
   ]
  },
  {
   "cell_type": "code",
   "execution_count": 6,
   "id": "b1198d13-38f7-48e7-8c9f-291318f83383",
   "metadata": {},
   "outputs": [
    {
     "data": {
      "text/plain": [
       "array([[ 1,  2,  3,  4,  5,  6,  7,  8,  9, 10, 11, 12],\n",
       "       [13, 14, 15, 16, 17, 18, 19, 20, 21, 22, 23, 24]])"
      ]
     },
     "execution_count": 6,
     "metadata": {},
     "output_type": "execute_result"
    }
   ],
   "source": [
    "arr.reshape(2,-1)"
   ]
  },
  {
   "cell_type": "code",
   "execution_count": 7,
   "id": "de70d851-0183-43c6-8f70-1f3888476da9",
   "metadata": {},
   "outputs": [
    {
     "data": {
      "text/plain": [
       "array([[[ 1,  2,  3,  4],\n",
       "        [ 5,  6,  7,  8]],\n",
       "\n",
       "       [[ 9, 10, 11, 12],\n",
       "        [13, 14, 15, 16]],\n",
       "\n",
       "       [[17, 18, 19, 20],\n",
       "        [21, 22, 23, 24]]])"
      ]
     },
     "execution_count": 7,
     "metadata": {},
     "output_type": "execute_result"
    }
   ],
   "source": [
    "arr.reshape(3,2,4)"
   ]
  },
  {
   "cell_type": "code",
   "execution_count": null,
   "id": "4da08259-58db-41d7-aa61-a36eab83d4d2",
   "metadata": {},
   "outputs": [],
   "source": []
  }
 ],
 "metadata": {
  "kernelspec": {
   "display_name": "Python 3 (ipykernel)",
   "language": "python",
   "name": "python3"
  },
  "language_info": {
   "codemirror_mode": {
    "name": "ipython",
    "version": 3
   },
   "file_extension": ".py",
   "mimetype": "text/x-python",
   "name": "python",
   "nbconvert_exporter": "python",
   "pygments_lexer": "ipython3",
   "version": "3.13.5"
  }
 },
 "nbformat": 4,
 "nbformat_minor": 5
}
