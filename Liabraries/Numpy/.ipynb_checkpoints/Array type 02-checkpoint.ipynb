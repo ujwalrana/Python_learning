{
 "cells": [
  {
   "cell_type": "code",
   "execution_count": 1,
   "id": "50b223b2-673d-4438-aa15-dfad63ca1923",
   "metadata": {},
   "outputs": [],
   "source": [
    "import numpy as np"
   ]
  },
  {
   "cell_type": "code",
   "execution_count": 4,
   "id": "28aea177-cfb2-4e63-b1fd-35d12917f8f5",
   "metadata": {},
   "outputs": [
    {
     "data": {
      "text/plain": [
       "array([ 0,  1,  2,  3,  4,  5,  6,  7,  8,  9, 10, 11, 12, 13, 14, 15, 16,\n",
       "       17, 18, 19, 20, 21, 22, 23, 24])"
      ]
     },
     "execution_count": 4,
     "metadata": {},
     "output_type": "execute_result"
    }
   ],
   "source": [
    "np.array(range(25))"
   ]
  },
  {
   "cell_type": "code",
   "execution_count": 7,
   "id": "a0bb60f9-711a-48f1-91b2-c8c17de32e28",
   "metadata": {},
   "outputs": [],
   "source": [
    "arr = np.array(range(25))"
   ]
  },
  {
   "cell_type": "code",
   "execution_count": 8,
   "id": "4e782adb-851a-4b9d-9284-0ece6b8cf5b3",
   "metadata": {},
   "outputs": [
    {
     "data": {
      "text/plain": [
       "array([ 0,  1,  2,  3,  4,  5,  6,  7,  8,  9, 10, 11, 12, 13, 14, 15, 16,\n",
       "       17, 18, 19, 20, 21, 22, 23, 24])"
      ]
     },
     "execution_count": 8,
     "metadata": {},
     "output_type": "execute_result"
    }
   ],
   "source": [
    "arr"
   ]
  },
  {
   "cell_type": "code",
   "execution_count": 9,
   "id": "a1a84245-5e59-42d1-8f8b-53befbf7b621",
   "metadata": {},
   "outputs": [
    {
     "data": {
      "text/plain": [
       "array([[ 0,  1,  2,  3,  4],\n",
       "       [ 5,  6,  7,  8,  9],\n",
       "       [10, 11, 12, 13, 14],\n",
       "       [15, 16, 17, 18, 19],\n",
       "       [20, 21, 22, 23, 24]])"
      ]
     },
     "execution_count": 9,
     "metadata": {},
     "output_type": "execute_result"
    }
   ],
   "source": [
    "arr.reshape(5,5)"
   ]
  },
  {
   "cell_type": "code",
   "execution_count": 10,
   "id": "48578cb5-6bbc-4008-9296-5b759708b466",
   "metadata": {},
   "outputs": [],
   "source": [
    "arr = np.array(range(24))"
   ]
  },
  {
   "cell_type": "code",
   "execution_count": 14,
   "id": "eafb9503-0ee3-4b50-a7da-c1aae797499b",
   "metadata": {},
   "outputs": [],
   "source": [
    "arr = arr.reshape(2,3,4)"
   ]
  },
  {
   "cell_type": "code",
   "execution_count": 16,
   "id": "919b5a59-6c3b-4eb1-ac75-3d5715e2cea6",
   "metadata": {},
   "outputs": [
    {
     "data": {
      "text/plain": [
       "array([[[ 0,  1,  2,  3],\n",
       "        [ 4,  5,  6,  7],\n",
       "        [ 8,  9, 10, 11]],\n",
       "\n",
       "       [[12, 13, 14, 15],\n",
       "        [16, 17, 18, 19],\n",
       "        [20, 21, 22, 23]]])"
      ]
     },
     "execution_count": 16,
     "metadata": {},
     "output_type": "execute_result"
    }
   ],
   "source": [
    "arr"
   ]
  },
  {
   "cell_type": "code",
   "execution_count": 17,
   "id": "cb9f3bb0-27da-4eaa-bbe2-f5d4d4e405f2",
   "metadata": {},
   "outputs": [
    {
     "data": {
      "text/plain": [
       "3"
      ]
     },
     "execution_count": 17,
     "metadata": {},
     "output_type": "execute_result"
    }
   ],
   "source": [
    "arr.ndim"
   ]
  },
  {
   "cell_type": "markdown",
   "id": "9b90f28b-3c44-4c9c-a722-2aa05d6eae6f",
   "metadata": {},
   "source": [
    "** Arrange genrates a array with numbers in a range **"
   ]
  },
  {
   "cell_type": "code",
   "execution_count": 18,
   "id": "9f2bc405-ba20-422d-9ea1-d66f1b810ccb",
   "metadata": {},
   "outputs": [
    {
     "data": {
      "text/plain": [
       "array([ 0,  1,  2,  3,  4,  5,  6,  7,  8,  9, 10, 11, 12, 13, 14, 15, 16,\n",
       "       17, 18, 19, 20, 21, 22, 23])"
      ]
     },
     "execution_count": 18,
     "metadata": {},
     "output_type": "execute_result"
    }
   ],
   "source": [
    "np.arange(24)"
   ]
  },
  {
   "cell_type": "code",
   "execution_count": 20,
   "id": "a03cf440-098b-42c6-a96d-c2c736b7e34d",
   "metadata": {},
   "outputs": [
    {
     "data": {
      "text/plain": [
       "array([ 0,  1,  2,  3,  4,  5,  6,  7,  8,  9, 10])"
      ]
     },
     "execution_count": 20,
     "metadata": {},
     "output_type": "execute_result"
    }
   ],
   "source": [
    "np.arange(11)"
   ]
  },
  {
   "cell_type": "code",
   "execution_count": 23,
   "id": "aa0fc562-8355-4cb8-b466-6a7e29149ac7",
   "metadata": {},
   "outputs": [],
   "source": [
    "arr = np.arange(11)"
   ]
  },
  {
   "cell_type": "code",
   "execution_count": null,
   "id": "b2739771-0649-4dd9-befc-24804e3ab6dd",
   "metadata": {},
   "outputs": [],
   "source": []
  },
  {
   "cell_type": "code",
   "execution_count": 27,
   "id": "a0956fee-e07f-469d-b98c-efb134673bf5",
   "metadata": {},
   "outputs": [],
   "source": [
    "arr = np.arange(2,24,3)"
   ]
  },
  {
   "cell_type": "code",
   "execution_count": 28,
   "id": "f1df2b97-d6f1-405f-87a2-9ae2746708d1",
   "metadata": {},
   "outputs": [
    {
     "data": {
      "text/plain": [
       "array([ 2,  5,  8, 11, 14, 17, 20, 23])"
      ]
     },
     "execution_count": 28,
     "metadata": {},
     "output_type": "execute_result"
    }
   ],
   "source": [
    "arr.reshape(-1)"
   ]
  },
  {
   "cell_type": "markdown",
   "id": "0a7dc007-b704-4053-ad86-372d201fe351",
   "metadata": {},
   "source": [
    "** Linspace **"
   ]
  },
  {
   "cell_type": "markdown",
   "id": "278253f0-4ffa-4313-b9ee-e4c30f42861b",
   "metadata": {},
   "source": [
    "** Generates numbers linerally spaced from starting index including index **"
   ]
  },
  {
   "cell_type": "code",
   "execution_count": 57,
   "id": "31267c4e-79e4-4ef4-9a50-4d178051a2fa",
   "metadata": {},
   "outputs": [
    {
     "data": {
      "text/plain": [
       "array([ 1. ,  2.5,  4. ,  5.5,  7. ,  8.5, 10. ])"
      ]
     },
     "execution_count": 57,
     "metadata": {},
     "output_type": "execute_result"
    }
   ],
   "source": [
    "np.linspace(1,10,7)"
   ]
  },
  {
   "cell_type": "code",
   "execution_count": 58,
   "id": "09ab7d00-616e-4202-8160-5c6ce14c257d",
   "metadata": {},
   "outputs": [],
   "source": [
    "arr = np.linspace(1,100,10)"
   ]
  },
  {
   "cell_type": "code",
   "execution_count": 59,
   "id": "bd71e698-d0b2-4e1d-b3fa-b05907886469",
   "metadata": {},
   "outputs": [
    {
     "data": {
      "text/plain": [
       "array([  1.,  12.,  23.,  34.,  45.,  56.,  67.,  78.,  89., 100.])"
      ]
     },
     "execution_count": 59,
     "metadata": {},
     "output_type": "execute_result"
    }
   ],
   "source": [
    "arr"
   ]
  },
  {
   "cell_type": "code",
   "execution_count": 60,
   "id": "88ba4620-b1ef-4828-b196-1e1df1ab5ef3",
   "metadata": {},
   "outputs": [
    {
     "data": {
      "text/plain": [
       "1"
      ]
     },
     "execution_count": 60,
     "metadata": {},
     "output_type": "execute_result"
    }
   ],
   "source": [
    "arr.ndim"
   ]
  },
  {
   "cell_type": "code",
   "execution_count": 61,
   "id": "f8786b2a-8aaa-4b10-bff6-37794d356eae",
   "metadata": {},
   "outputs": [
    {
     "data": {
      "text/plain": [
       "(10,)"
      ]
     },
     "execution_count": 61,
     "metadata": {},
     "output_type": "execute_result"
    }
   ],
   "source": [
    "arr.shape"
   ]
  },
  {
   "cell_type": "code",
   "execution_count": 62,
   "id": "e6ab64fa-1405-43ac-b3d8-c3f82c7e1611",
   "metadata": {},
   "outputs": [
    {
     "data": {
      "text/plain": [
       "10"
      ]
     },
     "execution_count": 62,
     "metadata": {},
     "output_type": "execute_result"
    }
   ],
   "source": [
    "arr.size"
   ]
  },
  {
   "cell_type": "code",
   "execution_count": 63,
   "id": "047ee799-3259-44e1-a2fb-d442425b93dc",
   "metadata": {},
   "outputs": [
    {
     "data": {
      "text/plain": [
       "array([  1.,  12.,  23.,  34.,  45.,  56.,  67.,  78.,  89., 100.])"
      ]
     },
     "execution_count": 63,
     "metadata": {},
     "output_type": "execute_result"
    }
   ],
   "source": [
    "arr.reshape(-1)"
   ]
  },
  {
   "cell_type": "markdown",
   "id": "a0d7d325-3cfd-41e0-836d-20d4913cc61e",
   "metadata": {},
   "source": [
    "** Random Functions ** "
   ]
  },
  {
   "cell_type": "markdown",
   "id": "98278435-0ccd-4672-8aa7-b6a41541e8e3",
   "metadata": {},
   "source": [
    "** Genrates random numbers from uniform distribution between 0 and 1 **"
   ]
  },
  {
   "cell_type": "code",
   "execution_count": 66,
   "id": "dfda7bd1-7ea4-43a5-9296-fa7634ba4420",
   "metadata": {},
   "outputs": [
    {
     "data": {
      "text/plain": [
       "array([0.19953063, 0.07770831, 0.63246336, 0.79209185, 0.44731557])"
      ]
     },
     "execution_count": 66,
     "metadata": {},
     "output_type": "execute_result"
    }
   ],
   "source": [
    "np.random.rand(5)"
   ]
  },
  {
   "cell_type": "code",
   "execution_count": 71,
   "id": "9dd1b554-ca41-4a0c-95ac-aa47dff4f58b",
   "metadata": {
    "scrolled": true
   },
   "outputs": [
    {
     "data": {
      "text/plain": [
       "array([[0.25439803, 0.74797187],\n",
       "       [0.87349135, 0.67053589],\n",
       "       [0.33694728, 0.87578579]])"
      ]
     },
     "execution_count": 71,
     "metadata": {},
     "output_type": "execute_result"
    }
   ],
   "source": [
    "np.random.rand(3,2)"
   ]
  },
  {
   "cell_type": "markdown",
   "id": "a78f8834-fa45-4a33-8769-780df00afb82",
   "metadata": {},
   "source": [
    "** Generates array random numbers from normal distribution with center as 0 **"
   ]
  },
  {
   "cell_type": "code",
   "execution_count": 73,
   "id": "73f86ab0-83ba-4d3a-9f1e-439c7feca022",
   "metadata": {},
   "outputs": [
    {
     "data": {
      "text/plain": [
       "array([ 1.56292582,  0.13599143, -0.36585954,  1.01232829, -2.61964828])"
      ]
     },
     "execution_count": 73,
     "metadata": {},
     "output_type": "execute_result"
    }
   ],
   "source": [
    "np.random.randn(5)"
   ]
  },
  {
   "cell_type": "code",
   "execution_count": 75,
   "id": "b737434d-ff8b-4d5f-839e-c560bef92788",
   "metadata": {},
   "outputs": [
    {
     "data": {
      "text/plain": [
       "array([[ 0.3524042 , -0.2833807 ],\n",
       "       [-0.370331  ,  2.15913941],\n",
       "       [-1.20989419, -1.41864792]])"
      ]
     },
     "execution_count": 75,
     "metadata": {},
     "output_type": "execute_result"
    }
   ],
   "source": [
    "np.random.randn(3,2)"
   ]
  },
  {
   "cell_type": "markdown",
   "id": "9393bd8c-166c-4d64-8261-259bba7842b8",
   "metadata": {},
   "source": [
    " ** Genertes numbers between numbers according to functions apply **"
   ]
  },
  {
   "cell_type": "code",
   "execution_count": 78,
   "id": "e30c81ed-4a23-418b-ade4-c49af7ed97e1",
   "metadata": {},
   "outputs": [
    {
     "data": {
      "text/plain": [
       "array([[4, 5, 5, 2, 6],\n",
       "       [4, 2, 4, 6, 2],\n",
       "       [7, 8, 6, 4, 5]], dtype=int32)"
      ]
     },
     "execution_count": 78,
     "metadata": {},
     "output_type": "execute_result"
    }
   ],
   "source": [
    "np.random.randint(2,10,(3,5))"
   ]
  },
  {
   "cell_type": "code",
   "execution_count": 79,
   "id": "7d1f7c75-4083-4001-89eb-e4f7ded93fa3",
   "metadata": {},
   "outputs": [
    {
     "name": "stdout",
     "output_type": "stream",
     "text": [
      "Help on method random_sample in module numpy.random.mtrand:\n",
      "\n",
      "random_sample(size=None) method of numpy.random.mtrand.RandomState instance\n",
      "    random_sample(size=None)\n",
      "\n",
      "    Return random floats in the half-open interval [0.0, 1.0).\n",
      "\n",
      "    Results are from the \"continuous uniform\" distribution over the\n",
      "    stated interval.  To sample :math:`Unif[a, b), b > a` multiply\n",
      "    the output of `random_sample` by `(b-a)` and add `a`::\n",
      "\n",
      "      (b - a) * random_sample() + a\n",
      "\n",
      "    .. note::\n",
      "        New code should use the `~numpy.random.Generator.random`\n",
      "        method of a `~numpy.random.Generator` instance instead;\n",
      "        please see the :ref:`random-quick-start`.\n",
      "\n",
      "    Parameters\n",
      "    ----------\n",
      "    size : int or tuple of ints, optional\n",
      "        Output shape.  If the given shape is, e.g., ``(m, n, k)``, then\n",
      "        ``m * n * k`` samples are drawn.  Default is None, in which case a\n",
      "        single value is returned.\n",
      "\n",
      "    Returns\n",
      "    -------\n",
      "    out : float or ndarray of floats\n",
      "        Array of random floats of shape `size` (unless ``size=None``, in which\n",
      "        case a single float is returned).\n",
      "\n",
      "    See Also\n",
      "    --------\n",
      "    random.Generator.random: which should be used for new code.\n",
      "\n",
      "    Examples\n",
      "    --------\n",
      "    >>> np.random.random_sample()\n",
      "    0.47108547995356098 # random\n",
      "    >>> type(np.random.random_sample())\n",
      "    <class 'float'>\n",
      "    >>> np.random.random_sample((5,))\n",
      "    array([ 0.30220482,  0.86820401,  0.1654503 ,  0.11659149,  0.54323428]) # random\n",
      "\n",
      "    Three-by-two array of random numbers from [-5, 0):\n",
      "\n",
      "    >>> 5 * np.random.random_sample((3, 2)) - 5\n",
      "    array([[-3.99149989, -0.52338984], # random\n",
      "           [-2.99091858, -0.79479508],\n",
      "           [-1.23204345, -1.75224494]])\n",
      "\n"
     ]
    }
   ],
   "source": [
    "help(np.random.random_sample)"
   ]
  },
  {
   "cell_type": "code",
   "execution_count": 103,
   "id": "706e1c2f-5d34-4da9-b503-4d43ca79a9bd",
   "metadata": {},
   "outputs": [],
   "source": [
    "arr = np.random.randint(0,100,(3,3,4))"
   ]
  },
  {
   "cell_type": "code",
   "execution_count": 104,
   "id": "9e8ba8fd-0c1c-4921-8cbf-bd449caee5a3",
   "metadata": {},
   "outputs": [
    {
     "data": {
      "text/plain": [
       "array([[[41, 20, 80, 34],\n",
       "        [90, 27, 44, 56],\n",
       "        [89, 87, 56, 68]],\n",
       "\n",
       "       [[99, 40, 51, 65],\n",
       "        [92, 31, 54, 61],\n",
       "        [98,  9, 68, 86]],\n",
       "\n",
       "       [[58, 55, 61, 96],\n",
       "        [70, 10, 48, 61],\n",
       "        [39, 51, 49, 17]]], dtype=int32)"
      ]
     },
     "execution_count": 104,
     "metadata": {},
     "output_type": "execute_result"
    }
   ],
   "source": [
    "arr"
   ]
  },
  {
   "cell_type": "code",
   "execution_count": 105,
   "id": "5858f6a7-fa11-4419-8a85-3329e8eda242",
   "metadata": {},
   "outputs": [
    {
     "data": {
      "text/plain": [
       "array([41, 20, 80, 34, 90, 27, 44, 56, 89, 87, 56, 68, 99, 40, 51, 65, 92,\n",
       "       31, 54, 61, 98,  9, 68, 86, 58, 55, 61, 96, 70, 10, 48, 61, 39, 51,\n",
       "       49, 17], dtype=int32)"
      ]
     },
     "execution_count": 105,
     "metadata": {},
     "output_type": "execute_result"
    }
   ],
   "source": [
    "arr.reshape(-1)"
   ]
  },
  {
   "cell_type": "code",
   "execution_count": 106,
   "id": "17d2290e-ce5e-41d1-9d6e-18e6b1b079ef",
   "metadata": {},
   "outputs": [
    {
     "data": {
      "text/plain": [
       "array([41, 20, 80, 34, 90, 27, 44, 56, 89, 87, 56, 68, 99, 40, 51, 65, 92,\n",
       "       31, 54, 61, 98,  9, 68, 86, 58, 55, 61, 96, 70, 10, 48, 61, 39, 51,\n",
       "       49, 17], dtype=int32)"
      ]
     },
     "execution_count": 106,
     "metadata": {},
     "output_type": "execute_result"
    }
   ],
   "source": [
    "arr.flatten(order = \"C\")"
   ]
  },
  {
   "cell_type": "code",
   "execution_count": 107,
   "id": "cf07fe17-b0b4-4177-a113-0ff68454f2d8",
   "metadata": {},
   "outputs": [
    {
     "data": {
      "text/plain": [
       "array([41, 99, 58, 90, 92, 70, 89, 98, 39, 20, 40, 55, 27, 31, 10, 87,  9,\n",
       "       51, 80, 51, 61, 44, 54, 48, 56, 68, 49, 34, 65, 96, 56, 61, 61, 68,\n",
       "       86, 17], dtype=int32)"
      ]
     },
     "execution_count": 107,
     "metadata": {},
     "output_type": "execute_result"
    }
   ],
   "source": [
    "arr.flatten(order = \"F\")"
   ]
  },
  {
   "cell_type": "code",
   "execution_count": 112,
   "id": "0ee966e1-0bde-4287-beb4-e63878218915",
   "metadata": {},
   "outputs": [
    {
     "data": {
      "text/plain": [
       "array([41, 20, 80, 34, 90, 27, 44, 56, 89, 87, 56, 68, 99, 40, 51, 65, 92,\n",
       "       31, 54, 61, 98,  9, 68, 86, 58, 55, 61, 96, 70, 10, 48, 61, 39, 51,\n",
       "       49, 17], dtype=int32)"
      ]
     },
     "execution_count": 112,
     "metadata": {},
     "output_type": "execute_result"
    }
   ],
   "source": [
    "arr.flatten(order = \"A\")"
   ]
  },
  {
   "cell_type": "code",
   "execution_count": 113,
   "id": "21ba9fd0-1f14-4e51-8ac0-bb7c6aa3f00a",
   "metadata": {},
   "outputs": [
    {
     "data": {
      "text/plain": [
       "array([41, 20, 80, 34, 90, 27, 44, 56, 89, 87, 56, 68, 99, 40, 51, 65, 92,\n",
       "       31, 54, 61, 98,  9, 68, 86, 58, 55, 61, 96, 70, 10, 48, 61, 39, 51,\n",
       "       49, 17], dtype=int32)"
      ]
     },
     "execution_count": 113,
     "metadata": {},
     "output_type": "execute_result"
    }
   ],
   "source": [
    "arr.flatten(order = \"K\")"
   ]
  },
  {
   "cell_type": "markdown",
   "id": "912cd2f5-b124-464c-82d5-84bc6ee61707",
   "metadata": {},
   "source": [
    "## Matrix"
   ]
  },
  {
   "cell_type": "markdown",
   "id": "bbb5b1fa-2075-4570-ac0d-f10b91677ee5",
   "metadata": {},
   "source": [
    "** Matrix arrangement of data in rectangular form ** "
   ]
  },
  {
   "cell_type": "markdown",
   "id": "bff6c5f1-47e6-4d16-b889-f9c1682b4ea5",
   "metadata": {},
   "source": [
    "** Rectangular Matrix ** "
   ]
  },
  {
   "cell_type": "code",
   "execution_count": 114,
   "id": "13f1d998-8c35-48c4-bef8-b49a89eb495d",
   "metadata": {},
   "outputs": [
    {
     "data": {
      "text/plain": [
       "array([[82, 94, 18],\n",
       "       [31, 74, 31],\n",
       "       [89, 11, 79],\n",
       "       [25,  6, 81],\n",
       "       [33, 36, 47]], dtype=int32)"
      ]
     },
     "execution_count": 114,
     "metadata": {},
     "output_type": "execute_result"
    }
   ],
   "source": [
    "np.random.randint(0,100,(5,3))"
   ]
  },
  {
   "cell_type": "markdown",
   "id": "a3d4929f-8c36-430c-a526-b905990335d6",
   "metadata": {},
   "source": [
    "** Square Matrix **"
   ]
  },
  {
   "cell_type": "code",
   "execution_count": 118,
   "id": "ee5e9324-67d7-4f1a-a16e-4a0b36812544",
   "metadata": {},
   "outputs": [
    {
     "data": {
      "text/plain": [
       "array([[86, 50, 24, 80, 98],\n",
       "       [79, 84, 60,  9, 82],\n",
       "       [85, 28, 72, 41, 25],\n",
       "       [89,  8, 83, 44, 28],\n",
       "       [97, 30, 50, 32, 34]], dtype=int32)"
      ]
     },
     "execution_count": 118,
     "metadata": {},
     "output_type": "execute_result"
    }
   ],
   "source": [
    "np.random.randint(0,100,(5,5))"
   ]
  },
  {
   "cell_type": "markdown",
   "id": "6ed0c031-05f2-461d-882f-f2c748f9b8a1",
   "metadata": {},
   "source": [
    "** Triangle Matrix ** "
   ]
  },
  {
   "cell_type": "code",
   "execution_count": 121,
   "id": "f369784d-f943-4e73-abb9-a1bed02f0a07",
   "metadata": {},
   "outputs": [
    {
     "data": {
      "text/plain": [
       "array([[1, 2, 3],\n",
       "       [0, 4, 5],\n",
       "       [0, 0, 9]])"
      ]
     },
     "execution_count": 121,
     "metadata": {},
     "output_type": "execute_result"
    }
   ],
   "source": [
    "np.array([                    # upper triangle matrix\n",
    "    [1,2,3],\n",
    "    [0,4,5],\n",
    "    [0,0,9]\n",
    "])"
   ]
  },
  {
   "cell_type": "code",
   "execution_count": 122,
   "id": "4cafb625-cdeb-4d90-83ff-fbd27706531c",
   "metadata": {},
   "outputs": [
    {
     "data": {
      "text/plain": [
       "array([[1, 0, 0],\n",
       "       [4, 5, 0],\n",
       "       [8, 9, 7]])"
      ]
     },
     "execution_count": 122,
     "metadata": {},
     "output_type": "execute_result"
    }
   ],
   "source": [
    "np.array([                   # lower triangle matrix\n",
    "    [1,0,0],\n",
    "    [4,5,0],\n",
    "    [8,9,7]\n",
    "])"
   ]
  },
  {
   "cell_type": "markdown",
   "id": "d05074de-467e-4a19-a7fc-31d8955cea65",
   "metadata": {},
   "source": [
    "** Diagonal Matrix **"
   ]
  },
  {
   "cell_type": "code",
   "execution_count": 124,
   "id": "c343d75f-0189-43b7-a094-1fc03779abfa",
   "metadata": {},
   "outputs": [
    {
     "data": {
      "text/plain": [
       "array([[1, 0, 0],\n",
       "       [0, 2, 0],\n",
       "       [0, 0, 3]])"
      ]
     },
     "execution_count": 124,
     "metadata": {},
     "output_type": "execute_result"
    }
   ],
   "source": [
    "np.array([\n",
    "    [1,0,0],\n",
    "    [0,2,0],\n",
    "    [0,0,3]\n",
    "])"
   ]
  },
  {
   "cell_type": "markdown",
   "id": "bb18aef1-a998-41b6-8703-822291f165e3",
   "metadata": {},
   "source": [
    "** Transpose of a matrix **"
   ]
  },
  {
   "cell_type": "code",
   "execution_count": 126,
   "id": "9fb55caf-d062-4215-bfca-6e677613d9b2",
   "metadata": {},
   "outputs": [
    {
     "data": {
      "text/plain": [
       "array([[1, 2, 3],\n",
       "       [1, 2, 3],\n",
       "       [1, 2, 3]])"
      ]
     },
     "execution_count": 126,
     "metadata": {},
     "output_type": "execute_result"
    }
   ],
   "source": [
    "np.array([[1,2,3],[1,2,3],[1,2,3]])"
   ]
  },
  {
   "cell_type": "code",
   "execution_count": 129,
   "id": "c0cfbd64-68b6-4e3a-99fd-d9529863ea84",
   "metadata": {},
   "outputs": [],
   "source": [
    "arr = np.array([[1,2,3],\n",
    "     [1,2,3],\n",
    "     [1,2,3]])"
   ]
  },
  {
   "cell_type": "code",
   "execution_count": 134,
   "id": "b5cb0362-2cd8-42d7-82ce-aae594ba03ca",
   "metadata": {},
   "outputs": [
    {
     "data": {
      "text/plain": [
       "array([[1, 2, 3],\n",
       "       [1, 2, 3],\n",
       "       [1, 2, 3]])"
      ]
     },
     "execution_count": 134,
     "metadata": {},
     "output_type": "execute_result"
    }
   ],
   "source": [
    "arr"
   ]
  },
  {
   "cell_type": "code",
   "execution_count": 135,
   "id": "7977d4c6-40a3-4dab-8d4f-68c91d9242b1",
   "metadata": {},
   "outputs": [
    {
     "data": {
      "text/plain": [
       "array([[1, 1, 1],\n",
       "       [2, 2, 2],\n",
       "       [3, 3, 3]])"
      ]
     },
     "execution_count": 135,
     "metadata": {},
     "output_type": "execute_result"
    }
   ],
   "source": [
    "arr.T"
   ]
  },
  {
   "cell_type": "markdown",
   "id": "c576b769-adf8-4987-ae58-a747e687d4a8",
   "metadata": {},
   "source": [
    "** Matrix Type **"
   ]
  },
  {
   "cell_type": "code",
   "execution_count": 3,
   "id": "7e14053a-ee1a-47fb-b5a7-7a4fd61cde56",
   "metadata": {},
   "outputs": [
    {
     "data": {
      "text/plain": [
       "array([[1., 0., 0., 0., 0.],\n",
       "       [0., 1., 0., 0., 0.],\n",
       "       [0., 0., 1., 0., 0.],\n",
       "       [0., 0., 0., 1., 0.],\n",
       "       [0., 0., 0., 0., 1.]])"
      ]
     },
     "execution_count": 3,
     "metadata": {},
     "output_type": "execute_result"
    }
   ],
   "source": [
    "np.eye(5)  # Identity Matrix"
   ]
  },
  {
   "cell_type": "markdown",
   "id": "21f40cf2-66ab-42e7-8f6c-82f62d4eee4b",
   "metadata": {},
   "source": [
    "## One and Zero Matrix"
   ]
  },
  {
   "cell_type": "code",
   "execution_count": 7,
   "id": "52580b5e-49e4-43fa-ad43-ce2f4b91db5d",
   "metadata": {},
   "outputs": [
    {
     "data": {
      "text/plain": [
       "array([[0., 0., 0., 0., 0.],\n",
       "       [0., 0., 0., 0., 0.],\n",
       "       [0., 0., 0., 0., 0.],\n",
       "       [0., 0., 0., 0., 0.],\n",
       "       [0., 0., 0., 0., 0.]])"
      ]
     },
     "execution_count": 7,
     "metadata": {},
     "output_type": "execute_result"
    }
   ],
   "source": [
    "np.zeros((5,5))"
   ]
  },
  {
   "cell_type": "code",
   "execution_count": 10,
   "id": "e07b1a99-b3a6-4913-a155-ed9383b0a6f0",
   "metadata": {},
   "outputs": [
    {
     "data": {
      "text/plain": [
       "array([1., 1., 1., 1., 1., 1.])"
      ]
     },
     "execution_count": 10,
     "metadata": {},
     "output_type": "execute_result"
    }
   ],
   "source": [
    "np.ones(6)"
   ]
  },
  {
   "cell_type": "code",
   "execution_count": 11,
   "id": "14d0906e-0898-47ea-93fa-e6e7c718e3d3",
   "metadata": {},
   "outputs": [
    {
     "data": {
      "text/plain": [
       "array([[1., 1., 1., 1., 1., 1.],\n",
       "       [1., 1., 1., 1., 1., 1.],\n",
       "       [1., 1., 1., 1., 1., 1.],\n",
       "       [1., 1., 1., 1., 1., 1.],\n",
       "       [1., 1., 1., 1., 1., 1.],\n",
       "       [1., 1., 1., 1., 1., 1.]])"
      ]
     },
     "execution_count": 11,
     "metadata": {},
     "output_type": "execute_result"
    }
   ],
   "source": [
    "np.ones((6,6))"
   ]
  },
  {
   "cell_type": "code",
   "execution_count": 13,
   "id": "ebdf0cd7-9499-4ab8-aa1c-8f02bd504376",
   "metadata": {},
   "outputs": [
    {
     "data": {
      "text/plain": [
       "array([[1., 1.],\n",
       "       [1., 1.]])"
      ]
     },
     "execution_count": 13,
     "metadata": {},
     "output_type": "execute_result"
    }
   ],
   "source": [
    "np.ones((2,2))"
   ]
  },
  {
   "cell_type": "code",
   "execution_count": null,
   "id": "2d9cd860-2fce-4b3f-9278-1a99e4a8ae01",
   "metadata": {},
   "outputs": [],
   "source": []
  }
 ],
 "metadata": {
  "kernelspec": {
   "display_name": "Python 3 (ipykernel)",
   "language": "python",
   "name": "python3"
  },
  "language_info": {
   "codemirror_mode": {
    "name": "ipython",
    "version": 3
   },
   "file_extension": ".py",
   "mimetype": "text/x-python",
   "name": "python",
   "nbconvert_exporter": "python",
   "pygments_lexer": "ipython3",
   "version": "3.13.5"
  }
 },
 "nbformat": 4,
 "nbformat_minor": 5
}
