{
 "cells": [
  {
   "cell_type": "code",
   "execution_count": 1,
   "id": "a03a648b-1800-4219-a493-1f9d3df339cb",
   "metadata": {},
   "outputs": [],
   "source": [
    "import numpy as np"
   ]
  },
  {
   "cell_type": "code",
   "execution_count": 4,
   "id": "1329b38b-1065-4bb2-a976-3c22d7868eae",
   "metadata": {},
   "outputs": [],
   "source": [
    "np.random.seed(50)"
   ]
  },
  {
   "cell_type": "code",
   "execution_count": 5,
   "id": "5350f397-efe7-48d8-b0d1-7a45b0ac9150",
   "metadata": {
    "scrolled": true
   },
   "outputs": [
    {
     "data": {
      "text/plain": [
       "array([[17,  1, 12],\n",
       "       [14,  2,  5],\n",
       "       [ 7,  6,  7]], dtype=int32)"
      ]
     },
     "execution_count": 5,
     "metadata": {},
     "output_type": "execute_result"
    }
   ],
   "source": [
    "np.random.randint(1,20,(3,3))"
   ]
  },
  {
   "cell_type": "markdown",
   "id": "3c45ae3b-6829-41a0-8139-fb66a784e7be",
   "metadata": {},
   "source": [
    "## Indexing"
   ]
  },
  {
   "cell_type": "code",
   "execution_count": 6,
   "id": "33dcbec9-e2f5-420c-9b70-9765a5be528d",
   "metadata": {},
   "outputs": [],
   "source": [
    "arr = np.random.randint(1,20,(3,3))"
   ]
  },
  {
   "cell_type": "code",
   "execution_count": 7,
   "id": "fdb56e92-ed71-42f2-b942-066845e976a4",
   "metadata": {},
   "outputs": [
    {
     "data": {
      "text/plain": [
       "array([[14,  6,  3],\n",
       "       [ 8, 16,  5],\n",
       "       [15,  4,  7]], dtype=int32)"
      ]
     },
     "execution_count": 7,
     "metadata": {},
     "output_type": "execute_result"
    }
   ],
   "source": [
    "arr"
   ]
  },
  {
   "cell_type": "code",
   "execution_count": 8,
   "id": "be9331e8-b189-472d-a3f9-b1c6fa6c87f6",
   "metadata": {},
   "outputs": [
    {
     "data": {
      "text/plain": [
       "array([15,  4,  7], dtype=int32)"
      ]
     },
     "execution_count": 8,
     "metadata": {},
     "output_type": "execute_result"
    }
   ],
   "source": [
    "arr[2]"
   ]
  },
  {
   "cell_type": "code",
   "execution_count": 9,
   "id": "ab80f153-aa49-4958-b508-5d1cdc9182bf",
   "metadata": {},
   "outputs": [
    {
     "data": {
      "text/plain": [
       "array([ 8, 16,  5], dtype=int32)"
      ]
     },
     "execution_count": 9,
     "metadata": {},
     "output_type": "execute_result"
    }
   ],
   "source": [
    "arr[1]"
   ]
  },
  {
   "cell_type": "code",
   "execution_count": 10,
   "id": "1167973d-a4cc-43d8-a968-9256ffb20652",
   "metadata": {},
   "outputs": [
    {
     "data": {
      "text/plain": [
       "array([14,  6,  3], dtype=int32)"
      ]
     },
     "execution_count": 10,
     "metadata": {},
     "output_type": "execute_result"
    }
   ],
   "source": [
    "arr[0]"
   ]
  },
  {
   "cell_type": "code",
   "execution_count": 12,
   "id": "9ba06674-19af-442e-9cfa-1e04de2b8ec1",
   "metadata": {},
   "outputs": [
    {
     "data": {
      "text/plain": [
       "np.int32(15)"
      ]
     },
     "execution_count": 12,
     "metadata": {},
     "output_type": "execute_result"
    }
   ],
   "source": [
    "arr[2][0]"
   ]
  },
  {
   "cell_type": "code",
   "execution_count": 13,
   "id": "f00a6d85-1e5b-4bc2-b65c-c8b962c86093",
   "metadata": {},
   "outputs": [
    {
     "data": {
      "text/plain": [
       "array([[14,  6,  3],\n",
       "       [ 8, 16,  5],\n",
       "       [15,  4,  7]], dtype=int32)"
      ]
     },
     "execution_count": 13,
     "metadata": {},
     "output_type": "execute_result"
    }
   ],
   "source": [
    "arr"
   ]
  },
  {
   "cell_type": "code",
   "execution_count": 16,
   "id": "daa8f687-d2eb-46a4-bbfb-cabc58c1b727",
   "metadata": {},
   "outputs": [
    {
     "data": {
      "text/plain": [
       "np.int32(3)"
      ]
     },
     "execution_count": 16,
     "metadata": {},
     "output_type": "execute_result"
    }
   ],
   "source": [
    "arr[0][2]"
   ]
  },
  {
   "cell_type": "code",
   "execution_count": 17,
   "id": "673a91c5-0d48-4869-9f7d-e43b429f1042",
   "metadata": {},
   "outputs": [
    {
     "data": {
      "text/plain": [
       "np.int32(5)"
      ]
     },
     "execution_count": 17,
     "metadata": {},
     "output_type": "execute_result"
    }
   ],
   "source": [
    "arr[1][2]"
   ]
  },
  {
   "cell_type": "code",
   "execution_count": 18,
   "id": "660d80f3-cd98-406e-84b6-b1a740ab935d",
   "metadata": {},
   "outputs": [],
   "source": [
    "arr = np.random.randint(1,20,(3,5,4))"
   ]
  },
  {
   "cell_type": "code",
   "execution_count": 19,
   "id": "139da6e0-7d15-4b1b-b994-5f36263a7aeb",
   "metadata": {},
   "outputs": [
    {
     "data": {
      "text/plain": [
       "array([[[12, 18, 11, 10],\n",
       "        [ 1,  7,  3, 16],\n",
       "        [10,  4,  3, 13],\n",
       "        [ 1,  4,  3, 11],\n",
       "        [17, 15,  1,  1]],\n",
       "\n",
       "       [[12,  8, 15, 14],\n",
       "        [ 8,  5,  5,  1],\n",
       "        [12,  1, 14, 14],\n",
       "        [ 2, 10, 12,  6],\n",
       "        [ 1, 16,  6,  7]],\n",
       "\n",
       "       [[ 2,  5,  5, 13],\n",
       "        [15,  5, 12,  1],\n",
       "        [ 6,  9, 13, 12],\n",
       "        [ 4,  7, 19,  9],\n",
       "        [16,  6, 16,  5]]], dtype=int32)"
      ]
     },
     "execution_count": 19,
     "metadata": {},
     "output_type": "execute_result"
    }
   ],
   "source": [
    "arr"
   ]
  },
  {
   "cell_type": "code",
   "execution_count": 20,
   "id": "3857b95e-7a70-438e-9771-4390bf92d7aa",
   "metadata": {},
   "outputs": [
    {
     "data": {
      "text/plain": [
       "array([[ 2,  5,  5, 13],\n",
       "       [15,  5, 12,  1],\n",
       "       [ 6,  9, 13, 12],\n",
       "       [ 4,  7, 19,  9],\n",
       "       [16,  6, 16,  5]], dtype=int32)"
      ]
     },
     "execution_count": 20,
     "metadata": {},
     "output_type": "execute_result"
    }
   ],
   "source": [
    "arr[2]"
   ]
  },
  {
   "cell_type": "code",
   "execution_count": 21,
   "id": "636a28a9-95ef-428c-a33b-4f0bdb48dfa9",
   "metadata": {},
   "outputs": [
    {
     "data": {
      "text/plain": [
       "array([ 4,  7, 19,  9], dtype=int32)"
      ]
     },
     "execution_count": 21,
     "metadata": {},
     "output_type": "execute_result"
    }
   ],
   "source": [
    "arr[2,3]"
   ]
  },
  {
   "cell_type": "code",
   "execution_count": 23,
   "id": "c56adb22-f85d-4798-b124-aa6526ef1191",
   "metadata": {},
   "outputs": [
    {
     "data": {
      "text/plain": [
       "np.int32(19)"
      ]
     },
     "execution_count": 23,
     "metadata": {},
     "output_type": "execute_result"
    }
   ],
   "source": [
    "arr[2,3,2]"
   ]
  },
  {
   "cell_type": "markdown",
   "id": "bcc0e876-1451-436f-8ef5-09aaedc96029",
   "metadata": {},
   "source": [
    "## Slicing"
   ]
  },
  {
   "cell_type": "code",
   "execution_count": 24,
   "id": "6ab767aa-ca26-4b47-87a3-ef8964d50f6e",
   "metadata": {},
   "outputs": [],
   "source": [
    "arr = np.random.randint(1,20,(5,5))"
   ]
  },
  {
   "cell_type": "code",
   "execution_count": 25,
   "id": "7be24ce4-9166-470a-92f3-0c0299a1d32d",
   "metadata": {},
   "outputs": [
    {
     "data": {
      "text/plain": [
       "array([[ 5, 19, 16, 11, 18],\n",
       "       [ 9, 15, 12,  8, 10],\n",
       "       [ 2,  9,  4,  4, 11],\n",
       "       [ 4,  7, 16,  1, 19],\n",
       "       [12,  2, 18, 15, 15]], dtype=int32)"
      ]
     },
     "execution_count": 25,
     "metadata": {},
     "output_type": "execute_result"
    }
   ],
   "source": [
    "arr"
   ]
  },
  {
   "cell_type": "code",
   "execution_count": 30,
   "id": "a4e34360-649d-4a8f-a678-9596aff98360",
   "metadata": {},
   "outputs": [
    {
     "data": {
      "text/plain": [
       "array([[ 9,  4],\n",
       "       [ 7, 16]], dtype=int32)"
      ]
     },
     "execution_count": 30,
     "metadata": {},
     "output_type": "execute_result"
    }
   ],
   "source": [
    "arr[2:4,1:3]"
   ]
  },
  {
   "cell_type": "code",
   "execution_count": 31,
   "id": "431670b9-5d2e-4c5c-ac44-48034bafc881",
   "metadata": {},
   "outputs": [],
   "source": [
    "arr = np.random.randint(1,20,(3,5,4))"
   ]
  },
  {
   "cell_type": "code",
   "execution_count": 32,
   "id": "df214a86-1320-4ef5-87bf-a5bb1b7bf867",
   "metadata": {},
   "outputs": [
    {
     "data": {
      "text/plain": [
       "array([[[ 6,  7, 10,  5],\n",
       "        [10,  1, 16, 17],\n",
       "        [18, 17,  5, 12],\n",
       "        [ 2,  6, 14,  4],\n",
       "        [15,  3,  9,  7]],\n",
       "\n",
       "       [[ 1, 15, 14,  5],\n",
       "        [17, 15,  5, 12],\n",
       "        [17, 18, 15, 16],\n",
       "        [ 4,  5, 10,  5],\n",
       "        [ 8, 18, 14, 10]],\n",
       "\n",
       "       [[15, 14, 16,  4],\n",
       "        [ 7, 13, 11, 15],\n",
       "        [ 1, 14, 14,  1],\n",
       "        [ 9, 16, 14,  1],\n",
       "        [11, 15, 13,  5]]], dtype=int32)"
      ]
     },
     "execution_count": 32,
     "metadata": {},
     "output_type": "execute_result"
    }
   ],
   "source": [
    "arr"
   ]
  },
  {
   "cell_type": "code",
   "execution_count": 33,
   "id": "556b2e37-3701-4857-bfcc-7043db2258aa",
   "metadata": {},
   "outputs": [
    {
     "data": {
      "text/plain": [
       "array([[ 1, 15, 14,  5],\n",
       "       [17, 15,  5, 12],\n",
       "       [17, 18, 15, 16],\n",
       "       [ 4,  5, 10,  5],\n",
       "       [ 8, 18, 14, 10]], dtype=int32)"
      ]
     },
     "execution_count": 33,
     "metadata": {},
     "output_type": "execute_result"
    }
   ],
   "source": [
    "arr[1]"
   ]
  },
  {
   "cell_type": "code",
   "execution_count": 34,
   "id": "700848bc-d87c-423f-ad87-5e5e7a3a83fd",
   "metadata": {},
   "outputs": [
    {
     "data": {
      "text/plain": [
       "array([[17, 15,  5, 12],\n",
       "       [17, 18, 15, 16]], dtype=int32)"
      ]
     },
     "execution_count": 34,
     "metadata": {},
     "output_type": "execute_result"
    }
   ],
   "source": [
    "arr[1][1:3]"
   ]
  },
  {
   "cell_type": "code",
   "execution_count": 41,
   "id": "8c9ece37-cfa1-4ef0-a96f-d2cd476148eb",
   "metadata": {},
   "outputs": [
    {
     "data": {
      "text/plain": [
       "array([[17, 15],\n",
       "       [17, 18]], dtype=int32)"
      ]
     },
     "execution_count": 41,
     "metadata": {},
     "output_type": "execute_result"
    }
   ],
   "source": [
    "arr[1][1:3,0:2]"
   ]
  },
  {
   "cell_type": "code",
   "execution_count": 48,
   "id": "c4f7c2ed-36be-4ed3-984c-f1248b9c9ef7",
   "metadata": {},
   "outputs": [],
   "source": [
    "arr = np.random.randint(1,25,(5,6,3))"
   ]
  },
  {
   "cell_type": "code",
   "execution_count": 49,
   "id": "1772fde8-40e7-43a2-8754-34724df9550d",
   "metadata": {},
   "outputs": [
    {
     "data": {
      "text/plain": [
       "array([[[23,  3,  6],\n",
       "        [ 2,  2, 11],\n",
       "        [19, 23,  9],\n",
       "        [15, 18, 16],\n",
       "        [ 2, 24, 10],\n",
       "        [ 8, 23, 22]],\n",
       "\n",
       "       [[10, 21, 20],\n",
       "        [20, 24, 15],\n",
       "        [ 5,  6,  1],\n",
       "        [ 8,  8, 24],\n",
       "        [17, 18,  3],\n",
       "        [11, 10,  7]],\n",
       "\n",
       "       [[10,  6, 14],\n",
       "        [21, 19, 13],\n",
       "        [20,  6, 11],\n",
       "        [ 6, 19, 16],\n",
       "        [14, 22,  8],\n",
       "        [ 7,  1, 12]],\n",
       "\n",
       "       [[17,  8, 11],\n",
       "        [15,  8, 20],\n",
       "        [ 4, 19, 11],\n",
       "        [23, 14, 16],\n",
       "        [ 1, 14,  1],\n",
       "        [11, 18, 20]],\n",
       "\n",
       "       [[ 1,  5,  2],\n",
       "        [ 5, 15,  5],\n",
       "        [10, 22, 14],\n",
       "        [19, 15, 19],\n",
       "        [16,  3, 14],\n",
       "        [18,  8,  6]]], dtype=int32)"
      ]
     },
     "execution_count": 49,
     "metadata": {},
     "output_type": "execute_result"
    }
   ],
   "source": [
    "arr"
   ]
  },
  {
   "cell_type": "code",
   "execution_count": 50,
   "id": "eddfea4b-47c4-4443-a7d9-2895c173e735",
   "metadata": {},
   "outputs": [
    {
     "data": {
      "text/plain": [
       "array([[17,  8, 11],\n",
       "       [15,  8, 20],\n",
       "       [ 4, 19, 11],\n",
       "       [23, 14, 16],\n",
       "       [ 1, 14,  1],\n",
       "       [11, 18, 20]], dtype=int32)"
      ]
     },
     "execution_count": 50,
     "metadata": {},
     "output_type": "execute_result"
    }
   ],
   "source": [
    "arr[3]"
   ]
  },
  {
   "cell_type": "code",
   "execution_count": 51,
   "id": "a16dd594-7981-44fe-8edf-512812899bde",
   "metadata": {},
   "outputs": [
    {
     "data": {
      "text/plain": [
       "array([23, 14, 16], dtype=int32)"
      ]
     },
     "execution_count": 51,
     "metadata": {},
     "output_type": "execute_result"
    }
   ],
   "source": [
    "arr[3][3]"
   ]
  },
  {
   "cell_type": "code",
   "execution_count": 55,
   "id": "33b6cdbf-9ee3-49c6-8028-d2a37d745e6d",
   "metadata": {},
   "outputs": [
    {
     "data": {
      "text/plain": [
       "np.int32(14)"
      ]
     },
     "execution_count": 55,
     "metadata": {},
     "output_type": "execute_result"
    }
   ],
   "source": [
    "arr[3][3][1]"
   ]
  },
  {
   "cell_type": "code",
   "execution_count": 56,
   "id": "6fbf9f5c-f6c1-4217-8783-3ca649e0f03e",
   "metadata": {},
   "outputs": [],
   "source": [
    "arr = np.random.randint(1,10,(4,4))"
   ]
  },
  {
   "cell_type": "code",
   "execution_count": 57,
   "id": "6d3c5977-2125-4698-a8d8-c89fbb6a7efd",
   "metadata": {},
   "outputs": [
    {
     "data": {
      "text/plain": [
       "array([[6, 5, 8, 9],\n",
       "       [2, 5, 3, 3],\n",
       "       [6, 1, 8, 6],\n",
       "       [4, 1, 2, 8]], dtype=int32)"
      ]
     },
     "execution_count": 57,
     "metadata": {},
     "output_type": "execute_result"
    }
   ],
   "source": [
    "arr"
   ]
  },
  {
   "cell_type": "code",
   "execution_count": 58,
   "id": "3e79f0df-65a6-46c4-b0c2-6598c1a58833",
   "metadata": {},
   "outputs": [
    {
     "data": {
      "text/plain": [
       "array([6, 5, 8, 9], dtype=int32)"
      ]
     },
     "execution_count": 58,
     "metadata": {},
     "output_type": "execute_result"
    }
   ],
   "source": [
    "arr[0]"
   ]
  },
  {
   "cell_type": "code",
   "execution_count": 59,
   "id": "d4557775-c61b-4015-afc0-81c77cd53444",
   "metadata": {},
   "outputs": [
    {
     "data": {
      "text/plain": [
       "np.int32(9)"
      ]
     },
     "execution_count": 59,
     "metadata": {},
     "output_type": "execute_result"
    }
   ],
   "source": [
    "arr[0,-1]"
   ]
  },
  {
   "cell_type": "code",
   "execution_count": 60,
   "id": "dd8acbae-cde9-4b8e-8443-30b6be56dc25",
   "metadata": {},
   "outputs": [
    {
     "data": {
      "text/plain": [
       "np.int32(9)"
      ]
     },
     "execution_count": 60,
     "metadata": {},
     "output_type": "execute_result"
    }
   ],
   "source": [
    "arr[0,3]"
   ]
  },
  {
   "cell_type": "code",
   "execution_count": 61,
   "id": "5c0717e4-5d4b-4848-8c0f-e084281c0e0f",
   "metadata": {},
   "outputs": [],
   "source": [
    "arr[0,-1] = 7"
   ]
  },
  {
   "cell_type": "code",
   "execution_count": 62,
   "id": "48835840-7747-43fb-a824-a33966c50b29",
   "metadata": {},
   "outputs": [
    {
     "data": {
      "text/plain": [
       "array([[6, 5, 8, 7],\n",
       "       [2, 5, 3, 3],\n",
       "       [6, 1, 8, 6],\n",
       "       [4, 1, 2, 8]], dtype=int32)"
      ]
     },
     "execution_count": 62,
     "metadata": {},
     "output_type": "execute_result"
    }
   ],
   "source": [
    "arr"
   ]
  },
  {
   "cell_type": "code",
   "execution_count": 66,
   "id": "c0f3ced2-cb2c-43eb-89e1-aa2ddbaec11a",
   "metadata": {},
   "outputs": [],
   "source": [
    "arr[1:,1:3] = 5"
   ]
  },
  {
   "cell_type": "code",
   "execution_count": 67,
   "id": "e4841a80-dee5-4985-9309-00d4aefdd14b",
   "metadata": {},
   "outputs": [
    {
     "data": {
      "text/plain": [
       "array([[6, 5, 8, 7],\n",
       "       [2, 5, 5, 3],\n",
       "       [6, 5, 5, 6],\n",
       "       [4, 5, 5, 8]], dtype=int32)"
      ]
     },
     "execution_count": 67,
     "metadata": {},
     "output_type": "execute_result"
    }
   ],
   "source": [
    "arr"
   ]
  },
  {
   "cell_type": "code",
   "execution_count": 68,
   "id": "b2b0ac86-18f4-4b98-b3ff-ee7439aa2b03",
   "metadata": {},
   "outputs": [
    {
     "data": {
      "text/plain": [
       "array([[6, 5, 8, 7],\n",
       "       [2, 5, 5, 3],\n",
       "       [6, 5, 5, 6],\n",
       "       [4, 5, 5, 8]], dtype=int32)"
      ]
     },
     "execution_count": 68,
     "metadata": {},
     "output_type": "execute_result"
    }
   ],
   "source": [
    "arr"
   ]
  },
  {
   "cell_type": "code",
   "execution_count": 74,
   "id": "dff9146f-1169-44c1-8efb-d21574b633f0",
   "metadata": {},
   "outputs": [],
   "source": [
    "a = arr[-2:, -2:]"
   ]
  },
  {
   "cell_type": "code",
   "execution_count": 75,
   "id": "aeab2f66-2560-4a9c-a6d6-31dc9a0248c1",
   "metadata": {},
   "outputs": [
    {
     "data": {
      "text/plain": [
       "array([[5, 6],\n",
       "       [5, 8]], dtype=int32)"
      ]
     },
     "execution_count": 75,
     "metadata": {},
     "output_type": "execute_result"
    }
   ],
   "source": [
    "a"
   ]
  },
  {
   "cell_type": "code",
   "execution_count": 76,
   "id": "6ff0eec5-a01f-465f-8e26-a8307369635d",
   "metadata": {},
   "outputs": [
    {
     "data": {
      "text/plain": [
       "array([[6, 5, 8, 7],\n",
       "       [2, 5, 5, 3],\n",
       "       [6, 5, 5, 6],\n",
       "       [4, 5, 5, 8]], dtype=int32)"
      ]
     },
     "execution_count": 76,
     "metadata": {},
     "output_type": "execute_result"
    }
   ],
   "source": [
    "arr"
   ]
  },
  {
   "cell_type": "code",
   "execution_count": 78,
   "id": "e3a0ae36-3923-4075-80b0-07455f1962ac",
   "metadata": {},
   "outputs": [],
   "source": [
    "a[0,-1] = 333"
   ]
  },
  {
   "cell_type": "code",
   "execution_count": 79,
   "id": "269307b5-f6af-4f53-9304-85373fca543e",
   "metadata": {},
   "outputs": [
    {
     "data": {
      "text/plain": [
       "array([[  5, 333],\n",
       "       [  5,   8]], dtype=int32)"
      ]
     },
     "execution_count": 79,
     "metadata": {},
     "output_type": "execute_result"
    }
   ],
   "source": [
    "a"
   ]
  },
  {
   "cell_type": "code",
   "execution_count": 80,
   "id": "74b9393d-ff86-4ca3-a1f7-693b2b9f1fcc",
   "metadata": {},
   "outputs": [
    {
     "data": {
      "text/plain": [
       "array([[  6,   5,   8,   7],\n",
       "       [  2,   5,   5,   3],\n",
       "       [  6,   5,   5, 333],\n",
       "       [  4,   5,   5,   8]], dtype=int32)"
      ]
     },
     "execution_count": 80,
     "metadata": {},
     "output_type": "execute_result"
    }
   ],
   "source": [
    "arr"
   ]
  },
  {
   "cell_type": "code",
   "execution_count": 81,
   "id": "c8529a86-f4a8-426a-af61-4466af1eccf9",
   "metadata": {},
   "outputs": [
    {
     "data": {
      "text/plain": [
       "array([[  5, 333],\n",
       "       [  5,   8]], dtype=int32)"
      ]
     },
     "execution_count": 81,
     "metadata": {},
     "output_type": "execute_result"
    }
   ],
   "source": [
    "a"
   ]
  },
  {
   "cell_type": "code",
   "execution_count": 87,
   "id": "5157b50a-fa14-474c-92c3-b493bbe9e558",
   "metadata": {},
   "outputs": [
    {
     "data": {
      "text/plain": [
       "array([0, 1, 2, 3, 4, 5, 6, 7, 8])"
      ]
     },
     "execution_count": 87,
     "metadata": {},
     "output_type": "execute_result"
    }
   ],
   "source": [
    "np.arange(9)"
   ]
  },
  {
   "cell_type": "code",
   "execution_count": 103,
   "id": "c2db40d6-cd01-4aa6-8cd9-1dd354889839",
   "metadata": {},
   "outputs": [],
   "source": [
    "arr = np.arange(9)\n",
    "arr = arr.reshape(3,3)"
   ]
  },
  {
   "cell_type": "code",
   "execution_count": 104,
   "id": "5f91ad5f-32aa-44b1-a74e-c648ef96f876",
   "metadata": {},
   "outputs": [],
   "source": [
    "a = arr"
   ]
  },
  {
   "cell_type": "code",
   "execution_count": 105,
   "id": "c83b654e-7598-49d1-a140-dc92d93fbe8b",
   "metadata": {},
   "outputs": [
    {
     "data": {
      "text/plain": [
       "array([[0, 1, 2],\n",
       "       [3, 4, 5],\n",
       "       [6, 7, 8]])"
      ]
     },
     "execution_count": 105,
     "metadata": {},
     "output_type": "execute_result"
    }
   ],
   "source": [
    "a"
   ]
  },
  {
   "cell_type": "code",
   "execution_count": 106,
   "id": "2d644fbf-b54a-4fb4-af97-f44c584dd470",
   "metadata": {},
   "outputs": [],
   "source": [
    "b = arr.copy()"
   ]
  },
  {
   "cell_type": "code",
   "execution_count": 107,
   "id": "95b9b3a5-a631-465c-8b31-e12275e66912",
   "metadata": {},
   "outputs": [],
   "source": [
    "a[0][0] = 50"
   ]
  },
  {
   "cell_type": "code",
   "execution_count": 108,
   "id": "a5114ae0-bc2a-4d1c-a0ec-027360beb574",
   "metadata": {},
   "outputs": [
    {
     "data": {
      "text/plain": [
       "array([[50,  1,  2],\n",
       "       [ 3,  4,  5],\n",
       "       [ 6,  7,  8]])"
      ]
     },
     "execution_count": 108,
     "metadata": {},
     "output_type": "execute_result"
    }
   ],
   "source": [
    "arr"
   ]
  },
  {
   "cell_type": "code",
   "execution_count": 109,
   "id": "92443df9-fb43-4259-9046-2158a92e3d42",
   "metadata": {},
   "outputs": [],
   "source": [
    "b[0,0] = 100"
   ]
  },
  {
   "cell_type": "code",
   "execution_count": 110,
   "id": "ea2b5559-3ab1-41fb-8b46-056f4441ef83",
   "metadata": {},
   "outputs": [
    {
     "data": {
      "text/plain": [
       "array([[100,   1,   2],\n",
       "       [  3,   4,   5],\n",
       "       [  6,   7,   8]])"
      ]
     },
     "execution_count": 110,
     "metadata": {},
     "output_type": "execute_result"
    }
   ],
   "source": [
    "b"
   ]
  },
  {
   "cell_type": "code",
   "execution_count": 111,
   "id": "684eeadd-8268-481f-827e-02943aecfbcb",
   "metadata": {},
   "outputs": [
    {
     "data": {
      "text/plain": [
       "array([[50,  1,  2],\n",
       "       [ 3,  4,  5],\n",
       "       [ 6,  7,  8]])"
      ]
     },
     "execution_count": 111,
     "metadata": {},
     "output_type": "execute_result"
    }
   ],
   "source": [
    "a"
   ]
  },
  {
   "cell_type": "code",
   "execution_count": 112,
   "id": "266aa11f-d238-49d0-92b1-646387e1616f",
   "metadata": {},
   "outputs": [
    {
     "data": {
      "text/plain": [
       "array([[50,  1,  2],\n",
       "       [ 3,  4,  5],\n",
       "       [ 6,  7,  8]])"
      ]
     },
     "execution_count": 112,
     "metadata": {},
     "output_type": "execute_result"
    }
   ],
   "source": [
    "arr"
   ]
  },
  {
   "cell_type": "code",
   "execution_count": null,
   "id": "7b8a6b74-a207-4e48-b068-fe2776588db8",
   "metadata": {},
   "outputs": [],
   "source": []
  }
 ],
 "metadata": {
  "kernelspec": {
   "display_name": "Python 3 (ipykernel)",
   "language": "python",
   "name": "python3"
  },
  "language_info": {
   "codemirror_mode": {
    "name": "ipython",
    "version": 3
   },
   "file_extension": ".py",
   "mimetype": "text/x-python",
   "name": "python",
   "nbconvert_exporter": "python",
   "pygments_lexer": "ipython3",
   "version": "3.13.5"
  }
 },
 "nbformat": 4,
 "nbformat_minor": 5
}
