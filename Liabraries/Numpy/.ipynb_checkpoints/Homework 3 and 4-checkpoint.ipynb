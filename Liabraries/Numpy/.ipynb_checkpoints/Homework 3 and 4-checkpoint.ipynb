{
 "cells": [
  {
   "cell_type": "code",
   "execution_count": 1,
   "id": "4b5fedeb-c0b5-4df5-87df-8c2a5e02ee85",
   "metadata": {},
   "outputs": [],
   "source": [
    "import numpy as np"
   ]
  },
  {
   "cell_type": "code",
   "execution_count": 4,
   "id": "1efe147b-71b7-4f97-8ab6-a330d4c9d8e1",
   "metadata": {},
   "outputs": [],
   "source": [
    "np.random.seed(100)"
   ]
  },
  {
   "cell_type": "markdown",
   "id": "ce3a3165-ab29-4d88-a3ef-93d6c7ccba03",
   "metadata": {},
   "source": [
    "** Indexing **"
   ]
  },
  {
   "cell_type": "code",
   "execution_count": 5,
   "id": "05cf5744-2ca3-4966-b932-190c3ba4a703",
   "metadata": {},
   "outputs": [
    {
     "data": {
      "text/plain": [
       "array([[[ 9, 25],\n",
       "        [68, 88],\n",
       "        [80, 49]],\n",
       "\n",
       "       [[11, 95],\n",
       "        [53, 99],\n",
       "        [54, 67]],\n",
       "\n",
       "       [[99, 15],\n",
       "        [35, 25],\n",
       "        [16, 61]],\n",
       "\n",
       "       [[59, 17],\n",
       "        [10, 94],\n",
       "        [87,  3]],\n",
       "\n",
       "       [[28,  5],\n",
       "        [32,  2],\n",
       "        [14, 84]]], dtype=int32)"
      ]
     },
     "execution_count": 5,
     "metadata": {},
     "output_type": "execute_result"
    }
   ],
   "source": [
    "np.random.randint(1,100,(5,3,2))"
   ]
  },
  {
   "cell_type": "code",
   "execution_count": 6,
   "id": "cf2efeb7-4bdd-4ff9-9d5b-ae6a5b771b48",
   "metadata": {},
   "outputs": [],
   "source": [
    "arr = np.random.randint(1,100,(5,3,2))"
   ]
  },
  {
   "cell_type": "code",
   "execution_count": 7,
   "id": "47e13bb4-5672-4a61-81d7-ddd680f0d1f1",
   "metadata": {},
   "outputs": [
    {
     "data": {
      "text/plain": [
       "array([[[ 5, 92],\n",
       "        [60, 68],\n",
       "        [ 8, 50]],\n",
       "\n",
       "       [[48, 66],\n",
       "        [62, 15],\n",
       "        [56, 72]],\n",
       "\n",
       "       [[81,  3],\n",
       "        [95, 20],\n",
       "        [99, 64]],\n",
       "\n",
       "       [[54, 28],\n",
       "        [57, 31],\n",
       "        [49, 48]],\n",
       "\n",
       "       [[40, 39],\n",
       "        [45, 19],\n",
       "        [65, 57]]], dtype=int32)"
      ]
     },
     "execution_count": 7,
     "metadata": {},
     "output_type": "execute_result"
    }
   ],
   "source": [
    "arr"
   ]
  },
  {
   "cell_type": "code",
   "execution_count": 8,
   "id": "40d83179-b77f-4cb6-b69b-816d5c762f45",
   "metadata": {},
   "outputs": [
    {
     "data": {
      "text/plain": [
       "array([[81,  3],\n",
       "       [95, 20],\n",
       "       [99, 64]], dtype=int32)"
      ]
     },
     "execution_count": 8,
     "metadata": {},
     "output_type": "execute_result"
    }
   ],
   "source": [
    "arr[2]"
   ]
  },
  {
   "cell_type": "code",
   "execution_count": 9,
   "id": "3e045680-bbca-4d93-8fbc-77243620001f",
   "metadata": {},
   "outputs": [
    {
     "data": {
      "text/plain": [
       "array([95, 20], dtype=int32)"
      ]
     },
     "execution_count": 9,
     "metadata": {},
     "output_type": "execute_result"
    }
   ],
   "source": [
    "arr[2][1]"
   ]
  },
  {
   "cell_type": "code",
   "execution_count": 10,
   "id": "9ff9147e-6e54-4a6d-bd77-5877314f4cbe",
   "metadata": {},
   "outputs": [],
   "source": [
    "arr[2][1] = 22,23"
   ]
  },
  {
   "cell_type": "code",
   "execution_count": 11,
   "id": "041f4ff8-cbdf-43af-ae3d-40e24c9b7e05",
   "metadata": {},
   "outputs": [
    {
     "data": {
      "text/plain": [
       "array([[[ 5, 92],\n",
       "        [60, 68],\n",
       "        [ 8, 50]],\n",
       "\n",
       "       [[48, 66],\n",
       "        [62, 15],\n",
       "        [56, 72]],\n",
       "\n",
       "       [[81,  3],\n",
       "        [22, 23],\n",
       "        [99, 64]],\n",
       "\n",
       "       [[54, 28],\n",
       "        [57, 31],\n",
       "        [49, 48]],\n",
       "\n",
       "       [[40, 39],\n",
       "        [45, 19],\n",
       "        [65, 57]]], dtype=int32)"
      ]
     },
     "execution_count": 11,
     "metadata": {},
     "output_type": "execute_result"
    }
   ],
   "source": [
    "arr"
   ]
  },
  {
   "cell_type": "code",
   "execution_count": 15,
   "id": "83128108-4154-498d-9dae-699d7afd5132",
   "metadata": {},
   "outputs": [
    {
     "data": {
      "text/plain": [
       "np.int32(22)"
      ]
     },
     "execution_count": 15,
     "metadata": {},
     "output_type": "execute_result"
    }
   ],
   "source": [
    "arr[2][1][0]"
   ]
  },
  {
   "cell_type": "markdown",
   "id": "c417d669-c158-4ae0-abff-23e64792ff6a",
   "metadata": {},
   "source": [
    "** Slicing ** "
   ]
  },
  {
   "cell_type": "code",
   "execution_count": 16,
   "id": "73afae4d-4e65-4751-9ab5-e6fa4bbd2c58",
   "metadata": {},
   "outputs": [],
   "source": [
    "arr = np.random.randint(1,50,(5,4,3))"
   ]
  },
  {
   "cell_type": "code",
   "execution_count": 17,
   "id": "04cbfd70-5369-436a-bb6c-e76ef1fb884c",
   "metadata": {},
   "outputs": [
    {
     "data": {
      "text/plain": [
       "array([[[35, 11, 18],\n",
       "        [ 9, 14, 43],\n",
       "        [31, 18,  5],\n",
       "        [41, 28, 28]],\n",
       "\n",
       "       [[20, 15,  1],\n",
       "        [14, 13, 43],\n",
       "        [ 4,  7,  4],\n",
       "        [21, 16, 11]],\n",
       "\n",
       "       [[24, 48,  4],\n",
       "        [42, 49, 44],\n",
       "        [37,  6,  8],\n",
       "        [39, 23, 31]],\n",
       "\n",
       "       [[35, 43, 21],\n",
       "        [32, 46, 13],\n",
       "        [34, 39, 43],\n",
       "        [23,  1, 35]],\n",
       "\n",
       "       [[20,  5,  5],\n",
       "        [36, 24, 10],\n",
       "        [49, 49, 22],\n",
       "        [26,  7, 38]]], dtype=int32)"
      ]
     },
     "execution_count": 17,
     "metadata": {},
     "output_type": "execute_result"
    }
   ],
   "source": [
    "arr"
   ]
  },
  {
   "cell_type": "code",
   "execution_count": 18,
   "id": "4060aec0-87cb-40b3-999e-caf66fb528b5",
   "metadata": {},
   "outputs": [
    {
     "data": {
      "text/plain": [
       "array([[35, 43, 21],\n",
       "       [32, 46, 13],\n",
       "       [34, 39, 43],\n",
       "       [23,  1, 35]], dtype=int32)"
      ]
     },
     "execution_count": 18,
     "metadata": {},
     "output_type": "execute_result"
    }
   ],
   "source": [
    "arr[3]"
   ]
  },
  {
   "cell_type": "code",
   "execution_count": 26,
   "id": "de20ed2b-6866-449a-8fcf-218c2300a48e",
   "metadata": {},
   "outputs": [
    {
     "data": {
      "text/plain": [
       "array([[34, 39, 43],\n",
       "       [23,  1, 35]], dtype=int32)"
      ]
     },
     "execution_count": 26,
     "metadata": {},
     "output_type": "execute_result"
    }
   ],
   "source": [
    "arr[3][2:4]"
   ]
  },
  {
   "cell_type": "code",
   "execution_count": 31,
   "id": "49b76369-f948-4f76-9658-328b4cb00423",
   "metadata": {},
   "outputs": [
    {
     "data": {
      "text/plain": [
       "array([[34, 39],\n",
       "       [23,  1]], dtype=int32)"
      ]
     },
     "execution_count": 31,
     "metadata": {},
     "output_type": "execute_result"
    }
   ],
   "source": [
    "arr[3][2:4,0:2]"
   ]
  },
  {
   "cell_type": "code",
   "execution_count": 33,
   "id": "727e1c9f-9afb-4b04-8cf8-e0d318284d48",
   "metadata": {},
   "outputs": [],
   "source": [
    "arr = np.random.randint(1,100,(7,6,5))"
   ]
  },
  {
   "cell_type": "code",
   "execution_count": 34,
   "id": "31492159-d9af-4a3a-8f12-5e4fd3e5b9f2",
   "metadata": {},
   "outputs": [
    {
     "data": {
      "text/plain": [
       "array([[[59, 40, 95, 52, 31],\n",
       "        [67, 25, 56, 18, 46],\n",
       "        [90, 46, 36, 17, 13],\n",
       "        [87, 83, 68, 93, 96],\n",
       "        [21, 11,  9, 90, 73],\n",
       "        [31, 13, 19, 94, 93]],\n",
       "\n",
       "       [[45, 58,  1, 74, 55],\n",
       "        [93, 67, 17,  6, 52],\n",
       "        [91, 35, 68, 95, 79],\n",
       "        [55, 78, 85,  2, 15],\n",
       "        [34, 21, 41, 25, 94],\n",
       "        [59, 29, 83, 83,  8]],\n",
       "\n",
       "       [[95,  3, 64,  3, 88],\n",
       "        [18, 91, 94, 97, 75],\n",
       "        [54, 31, 68, 29, 38],\n",
       "        [83, 18, 11, 14, 82],\n",
       "        [26, 67, 16, 12, 39],\n",
       "        [23, 56, 58, 88, 52]],\n",
       "\n",
       "       [[49, 54, 18, 66, 43],\n",
       "        [94, 45, 17, 52, 55],\n",
       "        [56, 84, 43, 62, 38],\n",
       "        [81,  3, 63, 82, 17],\n",
       "        [71, 54, 99, 97, 48],\n",
       "        [49, 10, 50, 54, 35]],\n",
       "\n",
       "       [[ 4, 12, 50, 30, 37],\n",
       "        [94, 68, 27, 53, 37],\n",
       "        [74, 32, 86, 93, 69],\n",
       "        [84, 72, 62, 94, 37],\n",
       "        [43, 14, 49, 83, 33],\n",
       "        [39, 41, 54, 94, 15]],\n",
       "\n",
       "       [[39, 87, 38,  1, 60],\n",
       "        [42, 45, 20, 77, 67],\n",
       "        [14, 88, 66, 69, 55],\n",
       "        [ 1, 88, 84, 11, 66],\n",
       "        [ 3, 88, 77, 40, 37],\n",
       "        [36, 27, 20,  5, 40]],\n",
       "\n",
       "       [[88, 75, 80, 93, 53],\n",
       "        [45, 14, 34, 16, 18],\n",
       "        [89, 24, 60,  9, 41],\n",
       "        [78, 48, 46, 26, 32],\n",
       "        [11, 39, 81, 88, 85],\n",
       "        [61, 18, 16, 86, 20]]], dtype=int32)"
      ]
     },
     "execution_count": 34,
     "metadata": {},
     "output_type": "execute_result"
    }
   ],
   "source": [
    "arr"
   ]
  },
  {
   "cell_type": "code",
   "execution_count": 36,
   "id": "6a108f3a-bb62-4820-a063-d16b446b80d2",
   "metadata": {},
   "outputs": [
    {
     "data": {
      "text/plain": [
       "array([[49, 54, 18, 66, 43],\n",
       "       [94, 45, 17, 52, 55],\n",
       "       [56, 84, 43, 62, 38],\n",
       "       [81,  3, 63, 82, 17],\n",
       "       [71, 54, 99, 97, 48],\n",
       "       [49, 10, 50, 54, 35]], dtype=int32)"
      ]
     },
     "execution_count": 36,
     "metadata": {},
     "output_type": "execute_result"
    }
   ],
   "source": [
    "arr[3]"
   ]
  },
  {
   "cell_type": "code",
   "execution_count": 37,
   "id": "2a859276-3f3a-422c-8f33-b7c4b659b574",
   "metadata": {},
   "outputs": [
    {
     "data": {
      "text/plain": [
       "array([[56, 84, 43, 62, 38],\n",
       "       [81,  3, 63, 82, 17]], dtype=int32)"
      ]
     },
     "execution_count": 37,
     "metadata": {},
     "output_type": "execute_result"
    }
   ],
   "source": [
    "arr[3][2:4]"
   ]
  },
  {
   "cell_type": "code",
   "execution_count": 42,
   "id": "cc0110f6-91fa-48c0-af7c-b60e01b9e075",
   "metadata": {},
   "outputs": [
    {
     "data": {
      "text/plain": [
       "array([[56, 84],\n",
       "       [81,  3]], dtype=int32)"
      ]
     },
     "execution_count": 42,
     "metadata": {},
     "output_type": "execute_result"
    }
   ],
   "source": [
    "arr[3][2:4,0:2]"
   ]
  },
  {
   "cell_type": "code",
   "execution_count": 44,
   "id": "ae658f79-d67f-4d84-bb4a-e63d3e11525d",
   "metadata": {},
   "outputs": [
    {
     "data": {
      "text/plain": [
       "array([81,  3], dtype=int32)"
      ]
     },
     "execution_count": 44,
     "metadata": {},
     "output_type": "execute_result"
    }
   ],
   "source": [
    "arr[3][2:4,0:2][1]"
   ]
  },
  {
   "cell_type": "code",
   "execution_count": 45,
   "id": "54734071-9786-4daa-9621-8cc9ef3a9098",
   "metadata": {},
   "outputs": [],
   "source": [
    "arr[3][2:4,0:2][1] = 7,7"
   ]
  },
  {
   "cell_type": "code",
   "execution_count": 46,
   "id": "ee788f39-dee7-495b-b114-7c04f81e8e44",
   "metadata": {},
   "outputs": [
    {
     "data": {
      "text/plain": [
       "array([[[59, 40, 95, 52, 31],\n",
       "        [67, 25, 56, 18, 46],\n",
       "        [90, 46, 36, 17, 13],\n",
       "        [87, 83, 68, 93, 96],\n",
       "        [21, 11,  9, 90, 73],\n",
       "        [31, 13, 19, 94, 93]],\n",
       "\n",
       "       [[45, 58,  1, 74, 55],\n",
       "        [93, 67, 17,  6, 52],\n",
       "        [91, 35, 68, 95, 79],\n",
       "        [55, 78, 85,  2, 15],\n",
       "        [34, 21, 41, 25, 94],\n",
       "        [59, 29, 83, 83,  8]],\n",
       "\n",
       "       [[95,  3, 64,  3, 88],\n",
       "        [18, 91, 94, 97, 75],\n",
       "        [54, 31, 68, 29, 38],\n",
       "        [83, 18, 11, 14, 82],\n",
       "        [26, 67, 16, 12, 39],\n",
       "        [23, 56, 58, 88, 52]],\n",
       "\n",
       "       [[49, 54, 18, 66, 43],\n",
       "        [94, 45, 17, 52, 55],\n",
       "        [56, 84, 43, 62, 38],\n",
       "        [ 7,  7, 63, 82, 17],\n",
       "        [71, 54, 99, 97, 48],\n",
       "        [49, 10, 50, 54, 35]],\n",
       "\n",
       "       [[ 4, 12, 50, 30, 37],\n",
       "        [94, 68, 27, 53, 37],\n",
       "        [74, 32, 86, 93, 69],\n",
       "        [84, 72, 62, 94, 37],\n",
       "        [43, 14, 49, 83, 33],\n",
       "        [39, 41, 54, 94, 15]],\n",
       "\n",
       "       [[39, 87, 38,  1, 60],\n",
       "        [42, 45, 20, 77, 67],\n",
       "        [14, 88, 66, 69, 55],\n",
       "        [ 1, 88, 84, 11, 66],\n",
       "        [ 3, 88, 77, 40, 37],\n",
       "        [36, 27, 20,  5, 40]],\n",
       "\n",
       "       [[88, 75, 80, 93, 53],\n",
       "        [45, 14, 34, 16, 18],\n",
       "        [89, 24, 60,  9, 41],\n",
       "        [78, 48, 46, 26, 32],\n",
       "        [11, 39, 81, 88, 85],\n",
       "        [61, 18, 16, 86, 20]]], dtype=int32)"
      ]
     },
     "execution_count": 46,
     "metadata": {},
     "output_type": "execute_result"
    }
   ],
   "source": [
    "arr"
   ]
  },
  {
   "cell_type": "code",
   "execution_count": 47,
   "id": "56b14ba7-d871-44d5-9237-bbb2c34a1afd",
   "metadata": {},
   "outputs": [
    {
     "data": {
      "text/plain": [
       "array([[56, 84],\n",
       "       [ 7,  7]], dtype=int32)"
      ]
     },
     "execution_count": 47,
     "metadata": {},
     "output_type": "execute_result"
    }
   ],
   "source": [
    "arr[3][2:4,0:2]"
   ]
  },
  {
   "cell_type": "code",
   "execution_count": 52,
   "id": "9563b2c4-93f3-4eed-8bf5-e537b1d7bd4e",
   "metadata": {},
   "outputs": [],
   "source": [
    "arr[3][2:4,0:2] = 5,5"
   ]
  },
  {
   "cell_type": "code",
   "execution_count": 53,
   "id": "e2c3656b-fb01-44c2-abb2-0ae25351dd2f",
   "metadata": {},
   "outputs": [
    {
     "data": {
      "text/plain": [
       "array([[[59, 40, 95, 52, 31],\n",
       "        [67, 25, 56, 18, 46],\n",
       "        [90, 46, 36, 17, 13],\n",
       "        [87, 83, 68, 93, 96],\n",
       "        [21, 11,  9, 90, 73],\n",
       "        [31, 13, 19, 94, 93]],\n",
       "\n",
       "       [[45, 58,  1, 74, 55],\n",
       "        [93, 67, 17,  6, 52],\n",
       "        [91, 35, 68, 95, 79],\n",
       "        [55, 78, 85,  2, 15],\n",
       "        [34, 21, 41, 25, 94],\n",
       "        [59, 29, 83, 83,  8]],\n",
       "\n",
       "       [[95,  3, 64,  3, 88],\n",
       "        [18, 91, 94, 97, 75],\n",
       "        [54, 31, 68, 29, 38],\n",
       "        [83, 18, 11, 14, 82],\n",
       "        [26, 67, 16, 12, 39],\n",
       "        [23, 56, 58, 88, 52]],\n",
       "\n",
       "       [[49, 54, 18, 66, 43],\n",
       "        [94, 45, 17, 52, 55],\n",
       "        [ 5,  5, 43, 62, 38],\n",
       "        [ 5,  5, 63, 82, 17],\n",
       "        [71, 54, 99, 97, 48],\n",
       "        [49, 10, 50, 54, 35]],\n",
       "\n",
       "       [[ 4, 12, 50, 30, 37],\n",
       "        [94, 68, 27, 53, 37],\n",
       "        [74, 32, 86, 93, 69],\n",
       "        [84, 72, 62, 94, 37],\n",
       "        [43, 14, 49, 83, 33],\n",
       "        [39, 41, 54, 94, 15]],\n",
       "\n",
       "       [[39, 87, 38,  1, 60],\n",
       "        [42, 45, 20, 77, 67],\n",
       "        [14, 88, 66, 69, 55],\n",
       "        [ 1, 88, 84, 11, 66],\n",
       "        [ 3, 88, 77, 40, 37],\n",
       "        [36, 27, 20,  5, 40]],\n",
       "\n",
       "       [[88, 75, 80, 93, 53],\n",
       "        [45, 14, 34, 16, 18],\n",
       "        [89, 24, 60,  9, 41],\n",
       "        [78, 48, 46, 26, 32],\n",
       "        [11, 39, 81, 88, 85],\n",
       "        [61, 18, 16, 86, 20]]], dtype=int32)"
      ]
     },
     "execution_count": 53,
     "metadata": {},
     "output_type": "execute_result"
    }
   ],
   "source": [
    "arr"
   ]
  },
  {
   "cell_type": "code",
   "execution_count": 74,
   "id": "eb3f4132-0b07-46a4-bb42-5f4a156951d3",
   "metadata": {},
   "outputs": [],
   "source": [
    "a = np.arange(10)"
   ]
  },
  {
   "cell_type": "code",
   "execution_count": 75,
   "id": "f57e2db7-a7e1-462c-9602-a4f237c12f46",
   "metadata": {},
   "outputs": [],
   "source": [
    "a = a.reshape(2,5)"
   ]
  },
  {
   "cell_type": "code",
   "execution_count": 76,
   "id": "022d977d-7896-4836-a780-2e8e45d3a0a9",
   "metadata": {},
   "outputs": [
    {
     "data": {
      "text/plain": [
       "array([[0, 1, 2, 3, 4],\n",
       "       [5, 6, 7, 8, 9]])"
      ]
     },
     "execution_count": 76,
     "metadata": {},
     "output_type": "execute_result"
    }
   ],
   "source": [
    "a"
   ]
  },
  {
   "cell_type": "code",
   "execution_count": 78,
   "id": "d9b091cf-2bc0-4f93-a728-a1a6d386888d",
   "metadata": {},
   "outputs": [
    {
     "data": {
      "text/plain": [
       "array([[0, 1, 2, 3, 4],\n",
       "       [5, 6, 7, 8, 9]])"
      ]
     },
     "execution_count": 78,
     "metadata": {},
     "output_type": "execute_result"
    }
   ],
   "source": [
    "a"
   ]
  },
  {
   "cell_type": "code",
   "execution_count": 79,
   "id": "3028340b-1166-4225-92af-83fd0da02112",
   "metadata": {},
   "outputs": [],
   "source": [
    "a = b"
   ]
  },
  {
   "cell_type": "code",
   "execution_count": 80,
   "id": "62611cb8-1076-4dcf-a92c-f64ce543c267",
   "metadata": {},
   "outputs": [],
   "source": [
    "b = a.copy()"
   ]
  },
  {
   "cell_type": "code",
   "execution_count": 81,
   "id": "590611a0-137b-4fc0-955b-4a990035dcc0",
   "metadata": {},
   "outputs": [
    {
     "data": {
      "text/plain": [
       "array([[0, 1, 2, 3, 4],\n",
       "       [5, 6, 7, 8, 9]])"
      ]
     },
     "execution_count": 81,
     "metadata": {},
     "output_type": "execute_result"
    }
   ],
   "source": [
    "b"
   ]
  },
  {
   "cell_type": "code",
   "execution_count": 84,
   "id": "f33f9fd6-5bdc-4a75-a4bf-d212ad4000d3",
   "metadata": {},
   "outputs": [],
   "source": [
    "b[1][2] = 3"
   ]
  },
  {
   "cell_type": "code",
   "execution_count": 85,
   "id": "09f91707-53b8-4969-a824-c97664e53922",
   "metadata": {},
   "outputs": [
    {
     "data": {
      "text/plain": [
       "array([[0, 1, 2, 3, 4],\n",
       "       [5, 6, 3, 8, 9]])"
      ]
     },
     "execution_count": 85,
     "metadata": {},
     "output_type": "execute_result"
    }
   ],
   "source": [
    "b"
   ]
  },
  {
   "cell_type": "code",
   "execution_count": 86,
   "id": "079da9ce-f87b-4cc3-8934-b8f6fe83ccf4",
   "metadata": {},
   "outputs": [
    {
     "data": {
      "text/plain": [
       "array([[0, 1, 2, 3, 4],\n",
       "       [5, 6, 7, 8, 9]])"
      ]
     },
     "execution_count": 86,
     "metadata": {},
     "output_type": "execute_result"
    }
   ],
   "source": [
    "a"
   ]
  },
  {
   "cell_type": "code",
   "execution_count": 93,
   "id": "5a2bf488-3672-4269-976d-b36752e42021",
   "metadata": {},
   "outputs": [],
   "source": [
    "zeros =  np.zeros((5,5))"
   ]
  },
  {
   "cell_type": "code",
   "execution_count": 94,
   "id": "99e3ed44-fb53-48d0-9a0a-0c0f9dccfd6a",
   "metadata": {},
   "outputs": [
    {
     "data": {
      "text/plain": [
       "array([[0., 0., 0., 0., 0.],\n",
       "       [0., 0., 0., 0., 0.],\n",
       "       [0., 0., 0., 0., 0.],\n",
       "       [0., 0., 0., 0., 0.],\n",
       "       [0., 0., 0., 0., 0.]])"
      ]
     },
     "execution_count": 94,
     "metadata": {},
     "output_type": "execute_result"
    }
   ],
   "source": [
    "zeros"
   ]
  },
  {
   "cell_type": "code",
   "execution_count": 95,
   "id": "e7137698-6e71-43e5-8616-931931981f22",
   "metadata": {},
   "outputs": [],
   "source": [
    "one = np.ones((5,5))"
   ]
  },
  {
   "cell_type": "code",
   "execution_count": 96,
   "id": "0e1490c9-f663-43b2-8266-c361f8050ca3",
   "metadata": {},
   "outputs": [
    {
     "data": {
      "text/plain": [
       "array([[1., 1., 1., 1., 1.],\n",
       "       [1., 1., 1., 1., 1.],\n",
       "       [1., 1., 1., 1., 1.],\n",
       "       [1., 1., 1., 1., 1.],\n",
       "       [1., 1., 1., 1., 1.]])"
      ]
     },
     "execution_count": 96,
     "metadata": {},
     "output_type": "execute_result"
    }
   ],
   "source": [
    "one"
   ]
  },
  {
   "cell_type": "code",
   "execution_count": 99,
   "id": "1057cf1a-123b-44db-9836-587050184d99",
   "metadata": {},
   "outputs": [
    {
     "data": {
      "text/plain": [
       "array([[1., 0., 0., 0., 0., 0.],\n",
       "       [0., 1., 0., 0., 0., 0.],\n",
       "       [0., 0., 1., 0., 0., 0.],\n",
       "       [0., 0., 0., 1., 0., 0.],\n",
       "       [0., 0., 0., 0., 1., 0.],\n",
       "       [0., 0., 0., 0., 0., 1.]])"
      ]
     },
     "execution_count": 99,
     "metadata": {},
     "output_type": "execute_result"
    }
   ],
   "source": [
    "np.eye(6)"
   ]
  },
  {
   "cell_type": "code",
   "execution_count": null,
   "id": "c9dba0c1-bb56-44ad-a813-cc7450fe5cf0",
   "metadata": {},
   "outputs": [],
   "source": []
  }
 ],
 "metadata": {
  "kernelspec": {
   "display_name": "Python 3 (ipykernel)",
   "language": "python",
   "name": "python3"
  },
  "language_info": {
   "codemirror_mode": {
    "name": "ipython",
    "version": 3
   },
   "file_extension": ".py",
   "mimetype": "text/x-python",
   "name": "python",
   "nbconvert_exporter": "python",
   "pygments_lexer": "ipython3",
   "version": "3.13.5"
  }
 },
 "nbformat": 4,
 "nbformat_minor": 5
}
