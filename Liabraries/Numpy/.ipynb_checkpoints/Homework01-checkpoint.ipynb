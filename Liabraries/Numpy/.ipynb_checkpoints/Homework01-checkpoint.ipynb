{
 "cells": [
  {
   "cell_type": "code",
   "execution_count": 2,
   "id": "b1c77796-90d1-4dea-a8bb-e12e5ab9caab",
   "metadata": {},
   "outputs": [],
   "source": [
    "import numpy as np"
   ]
  },
  {
   "cell_type": "code",
   "execution_count": 2,
   "id": "484496b1-71af-4ed1-b613-4c935f4601a0",
   "metadata": {},
   "outputs": [],
   "source": [
    "numList = ([1,2,3,4,5],[6,7,8,9,10])"
   ]
  },
  {
   "cell_type": "code",
   "execution_count": 3,
   "id": "fbe48416-c5fb-4464-8ee1-9dbec7fe2a18",
   "metadata": {},
   "outputs": [
    {
     "data": {
      "text/plain": [
       "array([[ 1,  2,  3,  4,  5],\n",
       "       [ 6,  7,  8,  9, 10]])"
      ]
     },
     "execution_count": 3,
     "metadata": {},
     "output_type": "execute_result"
    }
   ],
   "source": [
    "np.array(numList)"
   ]
  },
  {
   "cell_type": "code",
   "execution_count": 4,
   "id": "c0433825-dc7a-404e-bb34-ddd46b2128ee",
   "metadata": {},
   "outputs": [],
   "source": [
    "npArr = np.array(numList)"
   ]
  },
  {
   "cell_type": "code",
   "execution_count": 5,
   "id": "0985f17a-5767-45bb-8e45-48af8a84d895",
   "metadata": {},
   "outputs": [
    {
     "name": "stdout",
     "output_type": "stream",
     "text": [
      "[[ 1  2  3  4  5]\n",
      " [ 6  7  8  9 10]]\n"
     ]
    }
   ],
   "source": [
    "print(npArr)"
   ]
  },
  {
   "cell_type": "code",
   "execution_count": 6,
   "id": "88d57643-b283-4c5f-9654-78a65386e093",
   "metadata": {},
   "outputs": [
    {
     "data": {
      "text/plain": [
       "(2, 5)"
      ]
     },
     "execution_count": 6,
     "metadata": {},
     "output_type": "execute_result"
    }
   ],
   "source": [
    "npArr.shape"
   ]
  },
  {
   "cell_type": "code",
   "execution_count": 7,
   "id": "202c638b-1a86-4ada-9726-468d99749289",
   "metadata": {},
   "outputs": [
    {
     "data": {
      "text/plain": [
       "dtype('int64')"
      ]
     },
     "execution_count": 7,
     "metadata": {},
     "output_type": "execute_result"
    }
   ],
   "source": [
    "npArr.dtype"
   ]
  },
  {
   "cell_type": "code",
   "execution_count": 8,
   "id": "94906b03-0281-4f3e-a497-8f074c5b26d6",
   "metadata": {},
   "outputs": [
    {
     "data": {
      "text/plain": [
       "10"
      ]
     },
     "execution_count": 8,
     "metadata": {},
     "output_type": "execute_result"
    }
   ],
   "source": [
    "npArr.size"
   ]
  },
  {
   "cell_type": "code",
   "execution_count": 54,
   "id": "77c1fab8-a717-400f-bfaf-058383fa252c",
   "metadata": {},
   "outputs": [],
   "source": [
    "zeros = np.zeros((1,5))"
   ]
  },
  {
   "cell_type": "code",
   "execution_count": 55,
   "id": "d440d64a-5df3-4efb-a847-18500962f449",
   "metadata": {},
   "outputs": [
    {
     "data": {
      "text/plain": [
       "array([[0., 0., 0., 0., 0.]])"
      ]
     },
     "execution_count": 55,
     "metadata": {},
     "output_type": "execute_result"
    }
   ],
   "source": [
    "zeros"
   ]
  },
  {
   "cell_type": "code",
   "execution_count": 5,
   "id": "200cb170-75a2-4904-b444-32edfcdab0e8",
   "metadata": {},
   "outputs": [
    {
     "data": {
      "text/plain": [
       "(4, 5)"
      ]
     },
     "execution_count": 5,
     "metadata": {},
     "output_type": "execute_result"
    }
   ],
   "source": [
    "zeros.shape"
   ]
  },
  {
   "cell_type": "code",
   "execution_count": 6,
   "id": "90487bdc-e1cb-4665-ba99-13f73b1d19d5",
   "metadata": {},
   "outputs": [
    {
     "data": {
      "text/plain": [
       "2"
      ]
     },
     "execution_count": 6,
     "metadata": {},
     "output_type": "execute_result"
    }
   ],
   "source": [
    "zeros.ndim"
   ]
  },
  {
   "cell_type": "code",
   "execution_count": 8,
   "id": "eec12185-92ba-4684-8bc8-c406bf59a492",
   "metadata": {},
   "outputs": [],
   "source": [
    "rng = np.arange(21)"
   ]
  },
  {
   "cell_type": "code",
   "execution_count": 9,
   "id": "5668f194-05d1-42de-a98c-c441a7acb0a3",
   "metadata": {},
   "outputs": [
    {
     "data": {
      "text/plain": [
       "array([ 0,  1,  2,  3,  4,  5,  6,  7,  8,  9, 10, 11, 12, 13, 14, 15, 16,\n",
       "       17, 18, 19, 20])"
      ]
     },
     "execution_count": 9,
     "metadata": {},
     "output_type": "execute_result"
    }
   ],
   "source": [
    "rng"
   ]
  },
  {
   "cell_type": "code",
   "execution_count": 10,
   "id": "3efbf87c-12af-40af-8064-34f85e18a1c6",
   "metadata": {},
   "outputs": [
    {
     "data": {
      "text/plain": [
       "1"
      ]
     },
     "execution_count": 10,
     "metadata": {},
     "output_type": "execute_result"
    }
   ],
   "source": [
    "rng.ndim"
   ]
  },
  {
   "cell_type": "code",
   "execution_count": 11,
   "id": "363b2828-1ac6-40b1-80aa-fde79b12b6e3",
   "metadata": {},
   "outputs": [
    {
     "data": {
      "text/plain": [
       "21"
      ]
     },
     "execution_count": 11,
     "metadata": {},
     "output_type": "execute_result"
    }
   ],
   "source": [
    "rng.size"
   ]
  },
  {
   "cell_type": "code",
   "execution_count": 12,
   "id": "9c164702-4971-453d-8054-15e770a89316",
   "metadata": {},
   "outputs": [
    {
     "data": {
      "text/plain": [
       "(21,)"
      ]
     },
     "execution_count": 12,
     "metadata": {},
     "output_type": "execute_result"
    }
   ],
   "source": [
    "rng.shape"
   ]
  },
  {
   "cell_type": "code",
   "execution_count": 17,
   "id": "ab934bdb-74bb-47ce-9e43-8ca612aaea79",
   "metadata": {},
   "outputs": [],
   "source": [
    "lin = np.linspace(1,5,5)  # yeh function ek se dusre no k bich meh numbers provide krta hea jesa hum chaiye"
   ]
  },
  {
   "cell_type": "code",
   "execution_count": 18,
   "id": "4d1bf726-31cd-4f7e-8495-ef93f138f676",
   "metadata": {},
   "outputs": [
    {
     "data": {
      "text/plain": [
       "array([1., 2., 3., 4., 5.])"
      ]
     },
     "execution_count": 18,
     "metadata": {},
     "output_type": "execute_result"
    }
   ],
   "source": [
    "lin  # this function has 3 no and only one ()"
   ]
  },
  {
   "cell_type": "code",
   "execution_count": 20,
   "id": "e896bcb9-1e8c-410d-8e10-145b807ffc8b",
   "metadata": {},
   "outputs": [
    {
     "data": {
      "text/plain": [
       "(5,)"
      ]
     },
     "execution_count": 20,
     "metadata": {},
     "output_type": "execute_result"
    }
   ],
   "source": [
    "lin.shape"
   ]
  },
  {
   "cell_type": "code",
   "execution_count": 21,
   "id": "8112e261-ce54-4ad9-808a-7346c8afa9cd",
   "metadata": {},
   "outputs": [
    {
     "data": {
      "text/plain": [
       "5"
      ]
     },
     "execution_count": 21,
     "metadata": {},
     "output_type": "execute_result"
    }
   ],
   "source": [
    "lin.size"
   ]
  },
  {
   "cell_type": "code",
   "execution_count": 37,
   "id": "2cc87caf-31af-467a-81f6-81d8c29e98e3",
   "metadata": {},
   "outputs": [
    {
     "data": {
      "text/plain": [
       "dtype('float64')"
      ]
     },
     "execution_count": 37,
     "metadata": {},
     "output_type": "execute_result"
    }
   ],
   "source": [
    "lin.dtype"
   ]
  },
  {
   "cell_type": "code",
   "execution_count": 22,
   "id": "4471a3f0-2230-4ba4-a665-ed14abe450c8",
   "metadata": {},
   "outputs": [
    {
     "data": {
      "text/plain": [
       "1"
      ]
     },
     "execution_count": 22,
     "metadata": {},
     "output_type": "execute_result"
    }
   ],
   "source": [
    "lin.ndim"
   ]
  },
  {
   "cell_type": "code",
   "execution_count": 60,
   "id": "3fd44541-4a8a-4697-adda-31e7a325df50",
   "metadata": {},
   "outputs": [],
   "source": [
    "emp = np.empty((7,6))"
   ]
  },
  {
   "cell_type": "code",
   "execution_count": 61,
   "id": "c75355d3-159b-4603-952e-c0e6a842dfae",
   "metadata": {},
   "outputs": [
    {
     "data": {
      "text/plain": [
       "array([[3.95030780e-317, 1.42495192e-311, 0.00000000e+000,\n",
       "        0.00000000e+000, 4.94065646e-324, 0.00000000e+000],\n",
       "       [0.00000000e+000, 0.00000000e+000, 4.94065646e-324,\n",
       "        0.00000000e+000, 6.95183846e-310, 0.00000000e+000],\n",
       "       [0.00000000e+000, 0.00000000e+000, 0.00000000e+000,\n",
       "        0.00000000e+000, 0.00000000e+000, 0.00000000e+000],\n",
       "       [0.00000000e+000, 0.00000000e+000, 0.00000000e+000,\n",
       "        0.00000000e+000, 0.00000000e+000, 0.00000000e+000],\n",
       "       [0.00000000e+000, 0.00000000e+000, 0.00000000e+000,\n",
       "        0.00000000e+000, 0.00000000e+000, 0.00000000e+000],\n",
       "       [0.00000000e+000, 0.00000000e+000, 0.00000000e+000,\n",
       "        0.00000000e+000, 0.00000000e+000, 0.00000000e+000],\n",
       "       [0.00000000e+000, 0.00000000e+000, 0.00000000e+000,\n",
       "        0.00000000e+000, 0.00000000e+000, 0.00000000e+000]])"
      ]
     },
     "execution_count": 61,
     "metadata": {},
     "output_type": "execute_result"
    }
   ],
   "source": [
    "emp"
   ]
  },
  {
   "cell_type": "code",
   "execution_count": 62,
   "id": "de0a3c1f-5643-496b-bc78-060dd57fb3de",
   "metadata": {},
   "outputs": [
    {
     "data": {
      "text/plain": [
       "2"
      ]
     },
     "execution_count": 62,
     "metadata": {},
     "output_type": "execute_result"
    }
   ],
   "source": [
    "emp.ndim"
   ]
  },
  {
   "cell_type": "code",
   "execution_count": 63,
   "id": "d597fd17-09ec-4d23-858b-d6cfa5972aa7",
   "metadata": {},
   "outputs": [],
   "source": [
    "emp_like = np.empty"
   ]
  },
  {
   "cell_type": "code",
   "execution_count": 64,
   "id": "396e3153-777b-497b-9d03-acfeef6865da",
   "metadata": {},
   "outputs": [
    {
     "data": {
      "text/plain": [
       "<function numpy.empty>"
      ]
     },
     "execution_count": 64,
     "metadata": {},
     "output_type": "execute_result"
    }
   ],
   "source": [
    "emp_like"
   ]
  },
  {
   "cell_type": "code",
   "execution_count": 65,
   "id": "2f7a1b29-fccf-43ef-b8be-5b2cf2a0262d",
   "metadata": {},
   "outputs": [],
   "source": [
    "id = np.identity(45)"
   ]
  },
  {
   "cell_type": "code",
   "execution_count": 66,
   "id": "eed13386-0e5b-4343-99fc-0fde851bc6c4",
   "metadata": {},
   "outputs": [
    {
     "data": {
      "text/plain": [
       "array([[1., 0., 0., ..., 0., 0., 0.],\n",
       "       [0., 1., 0., ..., 0., 0., 0.],\n",
       "       [0., 0., 1., ..., 0., 0., 0.],\n",
       "       ...,\n",
       "       [0., 0., 0., ..., 1., 0., 0.],\n",
       "       [0., 0., 0., ..., 0., 1., 0.],\n",
       "       [0., 0., 0., ..., 0., 0., 1.]])"
      ]
     },
     "execution_count": 66,
     "metadata": {},
     "output_type": "execute_result"
    }
   ],
   "source": [
    "id"
   ]
  },
  {
   "cell_type": "code",
   "execution_count": 67,
   "id": "a6a9ff03-c9c2-4435-8185-961e08281707",
   "metadata": {},
   "outputs": [
    {
     "data": {
      "text/plain": [
       "2025"
      ]
     },
     "execution_count": 67,
     "metadata": {},
     "output_type": "execute_result"
    }
   ],
   "source": [
    "id.size"
   ]
  },
  {
   "cell_type": "code",
   "execution_count": 68,
   "id": "83217e42-0e34-4a2e-ac7d-d5425f7c5f0e",
   "metadata": {},
   "outputs": [
    {
     "data": {
      "text/plain": [
       "2"
      ]
     },
     "execution_count": 68,
     "metadata": {},
     "output_type": "execute_result"
    }
   ],
   "source": [
    "id.ndim"
   ]
  },
  {
   "cell_type": "code",
   "execution_count": 69,
   "id": "15d000a4-8360-4df7-97eb-e58db9391e24",
   "metadata": {},
   "outputs": [
    {
     "data": {
      "text/plain": [
       "(45, 45)"
      ]
     },
     "execution_count": 69,
     "metadata": {},
     "output_type": "execute_result"
    }
   ],
   "source": [
    "id.shape"
   ]
  },
  {
   "cell_type": "code",
   "execution_count": null,
   "id": "49ad7220-1125-4a09-a548-ee0869e147e4",
   "metadata": {},
   "outputs": [],
   "source": []
  },
  {
   "cell_type": "code",
   "execution_count": null,
   "id": "de44a714-5c3c-4d81-a811-017c9b0b4e33",
   "metadata": {},
   "outputs": [],
   "source": []
  }
 ],
 "metadata": {
  "kernelspec": {
   "display_name": "Python 3 (ipykernel)",
   "language": "python",
   "name": "python3"
  },
  "language_info": {
   "codemirror_mode": {
    "name": "ipython",
    "version": 3
   },
   "file_extension": ".py",
   "mimetype": "text/x-python",
   "name": "python",
   "nbconvert_exporter": "python",
   "pygments_lexer": "ipython3",
   "version": "3.13.5"
  }
 },
 "nbformat": 4,
 "nbformat_minor": 5
}
