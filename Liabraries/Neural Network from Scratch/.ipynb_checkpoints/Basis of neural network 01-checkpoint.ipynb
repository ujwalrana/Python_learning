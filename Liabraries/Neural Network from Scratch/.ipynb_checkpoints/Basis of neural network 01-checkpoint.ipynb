{
 "cells": [
  {
   "cell_type": "markdown",
   "id": "772cd22e-ec95-4225-a182-be13ff57fd60",
   "metadata": {},
   "source": [
    "## Single neuron"
   ]
  },
  {
   "cell_type": "code",
   "execution_count": 1,
   "id": "c25f9df3-f816-4c6a-995f-fdd92c7c5277",
   "metadata": {},
   "outputs": [],
   "source": [
    "inputs = [1,2,3]\n",
    "weights = [0.2,0.8,-0.5]\n",
    "bias = 2"
   ]
  },
  {
   "cell_type": "code",
   "execution_count": 3,
   "id": "2cb70c9e-7867-43fd-9dfc-9fed06fa9bc3",
   "metadata": {},
   "outputs": [
    {
     "name": "stdout",
     "output_type": "stream",
     "text": [
      "2.3\n"
     ]
    }
   ],
   "source": [
    "output = inputs[0]*weights[0]+inputs[1]*weights[1]+inputs[2]*weights[2] +bias\n",
    "print(output)"
   ]
  },
  {
   "cell_type": "markdown",
   "id": "354d20b9-00cb-4df1-8b8c-fbcf91dd74b1",
   "metadata": {},
   "source": [
    "** Adding an input **"
   ]
  },
  {
   "cell_type": "code",
   "execution_count": 4,
   "id": "d19806e7-61ca-4b21-84c0-13a6ce1b6479",
   "metadata": {},
   "outputs": [],
   "source": [
    "inputs = [1,2,3,2.5]\n",
    "weights = [0.2,0.8,-0.5,1.0]\n",
    "bias = 2"
   ]
  },
  {
   "cell_type": "code",
   "execution_count": 5,
   "id": "734fab7f-489d-4672-a504-6ee69ba796ee",
   "metadata": {},
   "outputs": [
    {
     "name": "stdout",
     "output_type": "stream",
     "text": [
      "4.8\n"
     ]
    }
   ],
   "source": [
    "output = inputs[0]*weights[0]+inputs[1]*weights[1]+inputs[2]*weights[2]+inputs[3]*weights[3] +bias\n",
    "print(output)"
   ]
  },
  {
   "cell_type": "markdown",
   "id": "754ec7c2-e85f-450d-84d1-9b5e0ee31924",
   "metadata": {},
   "source": [
    "## Layer of Neuron "
   ]
  },
  {
   "cell_type": "code",
   "execution_count": 6,
   "id": "5a7c42b1-9f33-400d-97fb-2d5391772a36",
   "metadata": {},
   "outputs": [],
   "source": [
    "inputs = [1,2,3, 2.5]\n",
    "weights1 = [0.2, 0.8, -0.5, 1.0]\n",
    "weights2 = [0.5, -0.91, 0.26, -0.5]\n",
    "weights3 = [-0.26, -0.27, 0.17, 0.87]\n",
    "\n",
    "bias1 = 2\n",
    "bias2 = 3\n",
    "bias3 = 0.5"
   ]
  },
  {
   "cell_type": "code",
   "execution_count": 7,
   "id": "4e55195a-6e3e-4580-ad82-3870106b423e",
   "metadata": {},
   "outputs": [],
   "source": [
    "outputs = [\n",
    "    # first neuron\n",
    "    inputs[0] * weights1[0]+\n",
    "    inputs[1] * weights1[1]+\n",
    "    inputs[2] * weights1[2]+\n",
    "    inputs[3] * weights1[3]+ bias1 ,\n",
    "\n",
    "    # second\n",
    "    inputs[0] * weights2[0]+\n",
    "    inputs[1] * weights2[1]+\n",
    "    inputs[2] * weights2[2]+\n",
    "    inputs[3] * weights2[3]+ bias2,\n",
    "\n",
    "    # third neuron\n",
    "    inputs[0] * weights3[0]+\n",
    "    inputs[1] * weights3[1]+\n",
    "    inputs[2] * weights3[2]+\n",
    "    inputs[3] * weights3[3]+ bias3\n",
    "    \n",
    "]"
   ]
  },
  {
   "cell_type": "code",
   "execution_count": 8,
   "id": "fbff3509-0407-4878-af12-bd2a8d2a07ab",
   "metadata": {},
   "outputs": [
    {
     "name": "stdout",
     "output_type": "stream",
     "text": [
      "[4.8, 1.21, 2.385]\n"
     ]
    }
   ],
   "source": [
    "print(outputs)"
   ]
  },
  {
   "cell_type": "markdown",
   "id": "09a2e851-8790-4c92-9272-ad138a6b8cc5",
   "metadata": {},
   "source": [
    "** Calculating through loops **"
   ]
  },
  {
   "cell_type": "code",
   "execution_count": 11,
   "id": "d352cc45-c8cd-46ba-b2f7-451f572c01c3",
   "metadata": {},
   "outputs": [],
   "source": [
    "inputs = [1,2,3, 2.5]\n",
    "weights = [[0.2, 0.8, -0.5, 1.0],\n",
    "           [0.5, -0.91, 0.26, -0.5],\n",
    "           [-0.26, -0.27, 0.17, 0.87]]\n",
    "biases = [2,3,0.5]"
   ]
  },
  {
   "cell_type": "code",
   "execution_count": 12,
   "id": "9c63b123-07a0-4285-8435-16f4ee307d2f",
   "metadata": {},
   "outputs": [],
   "source": [
    "layers_output = []"
   ]
  },
  {
   "cell_type": "code",
   "execution_count": 13,
   "id": "fd7e9b5f-7639-4515-95e2-7b55f1e8d29a",
   "metadata": {},
   "outputs": [
    {
     "name": "stdout",
     "output_type": "stream",
     "text": [
      "[4.8, 1.21, 2.385]\n"
     ]
    }
   ],
   "source": [
    "# for each neuron\n",
    "for neuron_weights , neuron_bias in zip(weights,biases):\n",
    "    # setting a variable\n",
    "    neuron_output = 0\n",
    "    # for each input and weight\n",
    "    for n_input , weight in zip(inputs, neuron_weights):\n",
    "        neuron_output += n_input * weight\n",
    "\n",
    "    neuron_output += neuron_bias\n",
    "\n",
    "    layers_output.append(neuron_output)\n",
    "\n",
    "print(layers_output)"
   ]
  },
  {
   "cell_type": "markdown",
   "id": "25ed6f55-74cd-4b3f-ab02-8afa755d1b04",
   "metadata": {},
   "source": [
    "** Dot product 2 Vectors **"
   ]
  },
  {
   "cell_type": "code",
   "execution_count": 15,
   "id": "5c2083db-280f-4aef-8a10-3c077a4786f0",
   "metadata": {},
   "outputs": [],
   "source": [
    "import numpy as np"
   ]
  },
  {
   "cell_type": "code",
   "execution_count": 16,
   "id": "93665b88-6674-444a-88fc-3c34f4f57494",
   "metadata": {},
   "outputs": [],
   "source": [
    "a = [1,2,3]\n",
    "b = [2,3,4]"
   ]
  },
  {
   "cell_type": "code",
   "execution_count": 17,
   "id": "9804b9e7-cf82-4a4b-bfba-c94f72bb5dac",
   "metadata": {},
   "outputs": [
    {
     "data": {
      "text/plain": [
       "np.int64(20)"
      ]
     },
     "execution_count": 17,
     "metadata": {},
     "output_type": "execute_result"
    }
   ],
   "source": [
    "np.dot(a,b)"
   ]
  },
  {
   "cell_type": "code",
   "execution_count": 19,
   "id": "fac429f2-4578-4bb3-9497-acc555c2cc02",
   "metadata": {},
   "outputs": [
    {
     "data": {
      "text/plain": [
       "20"
      ]
     },
     "execution_count": 19,
     "metadata": {},
     "output_type": "execute_result"
    }
   ],
   "source": [
    "a[0]*b[0]+a[1]*b[1]+a[2]*b[2]"
   ]
  },
  {
   "cell_type": "code",
   "execution_count": null,
   "id": "876ccdbc-de60-4ac4-aa17-fc019b4202f2",
   "metadata": {},
   "outputs": [],
   "source": []
  }
 ],
 "metadata": {
  "kernelspec": {
   "display_name": "Python 3 (ipykernel)",
   "language": "python",
   "name": "python3"
  },
  "language_info": {
   "codemirror_mode": {
    "name": "ipython",
    "version": 3
   },
   "file_extension": ".py",
   "mimetype": "text/x-python",
   "name": "python",
   "nbconvert_exporter": "python",
   "pygments_lexer": "ipython3",
   "version": "3.13.5"
  }
 },
 "nbformat": 4,
 "nbformat_minor": 5
}
