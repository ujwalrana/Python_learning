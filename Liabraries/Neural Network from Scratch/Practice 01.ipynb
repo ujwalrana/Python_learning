{
 "cells": [
  {
   "cell_type": "markdown",
   "id": "35feeb49-17b9-4b03-83b4-9414628e0589",
   "metadata": {},
   "source": [
    "## Single neuron"
   ]
  },
  {
   "cell_type": "code",
   "execution_count": 1,
   "id": "36d9b51a-5a24-4f27-b67d-4144db0ca6db",
   "metadata": {},
   "outputs": [],
   "source": [
    "inputs = [10,20,5,2]\n",
    "weights = [7,10,2,4]\n",
    "bias = 4 "
   ]
  },
  {
   "cell_type": "code",
   "execution_count": 3,
   "id": "02180606-6eaa-4915-ad18-56605fa09a97",
   "metadata": {},
   "outputs": [],
   "source": [
    "output = inputs[0]*weights[0]+inputs[1]*weights[1]+inputs[2]*weights[2]+inputs[3]*weights[3]+ bias"
   ]
  },
  {
   "cell_type": "code",
   "execution_count": 5,
   "id": "d07d9a75-7f88-4cd9-846c-4c4565785d8f",
   "metadata": {},
   "outputs": [
    {
     "name": "stdout",
     "output_type": "stream",
     "text": [
      "292\n"
     ]
    }
   ],
   "source": [
    "print(output)"
   ]
  },
  {
   "cell_type": "code",
   "execution_count": 6,
   "id": "e6b9665e-43d5-4275-ad56-64c3bb4eb1fe",
   "metadata": {},
   "outputs": [],
   "source": [
    "inputs = [1,2,3,4.5]\n",
    "weights = [1.2,1.3,1.4,1.5]\n",
    "bias = 7"
   ]
  },
  {
   "cell_type": "code",
   "execution_count": 8,
   "id": "eb9d4b39-8ea2-4b33-97e8-07b049663536",
   "metadata": {},
   "outputs": [],
   "source": [
    "a = inputs\n",
    "b = weights"
   ]
  },
  {
   "cell_type": "code",
   "execution_count": 9,
   "id": "a38bf58f-940e-4069-8742-f1515305bee6",
   "metadata": {},
   "outputs": [
    {
     "name": "stdout",
     "output_type": "stream",
     "text": [
      "21.75\n"
     ]
    }
   ],
   "source": [
    "output = a[0]*b[0]+a[1]*b[1]+a[2]*b[2]+a[3]*b[3]+ bias\n",
    "print(output)"
   ]
  },
  {
   "cell_type": "markdown",
   "id": "bee449dd-d59d-4bb5-8f63-da84bf6e620b",
   "metadata": {},
   "source": [
    "## Layer of neuron "
   ]
  },
  {
   "cell_type": "code",
   "execution_count": 27,
   "id": "c41464bb-d207-4056-80ac-4eac8981b95e",
   "metadata": {},
   "outputs": [],
   "source": [
    "inputs = [1,2,3,4]\n",
    "weights1 = [0.1,0.2,0.3,0.4]\n",
    "weights2 = [1.2,1.1,1.3,1.4]\n",
    "weights3 = [2.1,2.2,2.3,2.4]\n",
    "bias1 = 2\n",
    "bias2 = 3\n",
    "bias3 = 4"
   ]
  },
  {
   "cell_type": "code",
   "execution_count": 28,
   "id": "daebb067-69b1-4c95-9129-acacdc132123",
   "metadata": {},
   "outputs": [
    {
     "name": "stdout",
     "output_type": "stream",
     "text": [
      "[5.0, 15.9, 27.0]\n"
     ]
    }
   ],
   "source": [
    "# first neuron\n",
    "outputs = [\n",
    "    inputs[0]*weights1[0]+\n",
    "    inputs[1]*weights1[1]+\n",
    "    inputs[2]*weights1[2]+\n",
    "    inputs[3]*weights1[3]+ bias1 ,\n",
    "# second neuron\n",
    "    inputs[0]*weights2[0]+\n",
    "    inputs[1]*weights2[1]+\n",
    "    inputs[2]*weights2[2]+\n",
    "    inputs[3]*weights2[3]+ bias2 ,\n",
    "# third neuron\n",
    "    inputs[0]*weights3[0]+\n",
    "    inputs[1]*weights3[1]+\n",
    "    inputs[2]*weights3[2]+\n",
    "    inputs[3]*weights3[3]+ bias3]\n",
    "print(outputs)"
   ]
  },
  {
   "cell_type": "code",
   "execution_count": 29,
   "id": "10295ed6-7c32-4aca-9b93-4ea592f1728c",
   "metadata": {},
   "outputs": [],
   "source": [
    "inputs = [1,2,3, 2.5]\n",
    "weights1 = [0.2, 0.8, -0.5, 1.0]\n",
    "weights2 = [0.5, -0.91, 0.26, -0.5]\n",
    "weights3 = [-0.26, -0.27, 0.17, 0.87]\n",
    "\n",
    "bias1 = 2\n",
    "bias2 = 3\n",
    "bias3 = 0.5"
   ]
  },
  {
   "cell_type": "code",
   "execution_count": 30,
   "id": "2a2c2b2a-4eca-46ef-a87e-d87a4f3af881",
   "metadata": {},
   "outputs": [],
   "source": [
    "outputs = [\n",
    "    # first neuron\n",
    "    inputs[0] * weights1[0]+\n",
    "    inputs[1] * weights1[1]+\n",
    "    inputs[2] * weights1[2]+\n",
    "    inputs[3] * weights1[3]+ bias1 ,\n",
    "    # second neuron\n",
    "    inputs[0] * weights2[0]+\n",
    "    inputs[1] * weights2[1]+\n",
    "    inputs[2] * weights2[2]+\n",
    "    inputs[3] * weights2[3]+ bias2 ,\n",
    "    # third neuron\n",
    "    inputs[0] * weights3[0]+\n",
    "    inputs[1] * weights3[1]+\n",
    "    inputs[2] * weights3[2]+\n",
    "    inputs[3] * weights3[3]+ bias3\n",
    "]"
   ]
  },
  {
   "cell_type": "code",
   "execution_count": 31,
   "id": "de06197f-4e60-4e2c-9b75-6f595fdc4a97",
   "metadata": {},
   "outputs": [
    {
     "name": "stdout",
     "output_type": "stream",
     "text": [
      "[4.8, 1.21, 2.385]\n"
     ]
    }
   ],
   "source": [
    "print(outputs)"
   ]
  },
  {
   "cell_type": "markdown",
   "id": "265c854d-4e9e-4140-aa5d-711f324bf841",
   "metadata": {},
   "source": [
    "## Neuron through numpy"
   ]
  },
  {
   "cell_type": "markdown",
   "id": "3f6a0ca3-5085-429a-b3b8-29f0060b284b",
   "metadata": {},
   "source": [
    "** Dot product 2 Vectors **"
   ]
  },
  {
   "cell_type": "code",
   "execution_count": 32,
   "id": "d0127377-51c1-48a3-999b-327909a75f2c",
   "metadata": {},
   "outputs": [],
   "source": [
    "import numpy as np"
   ]
  },
  {
   "cell_type": "code",
   "execution_count": 33,
   "id": "ba66feab-e8d7-41f0-8b9c-2e4dd54e2cf6",
   "metadata": {},
   "outputs": [],
   "source": [
    "a = [1,2,3]\n",
    "b = [4,5,6]"
   ]
  },
  {
   "cell_type": "code",
   "execution_count": 34,
   "id": "896d2c2e-60c8-4601-8505-459070f29034",
   "metadata": {},
   "outputs": [
    {
     "data": {
      "text/plain": [
       "[1, 2, 3]"
      ]
     },
     "execution_count": 34,
     "metadata": {},
     "output_type": "execute_result"
    }
   ],
   "source": [
    "a"
   ]
  },
  {
   "cell_type": "code",
   "execution_count": 35,
   "id": "328dee00-06af-4a4b-9de2-974cbe2a0537",
   "metadata": {},
   "outputs": [
    {
     "data": {
      "text/plain": [
       "[4, 5, 6]"
      ]
     },
     "execution_count": 35,
     "metadata": {},
     "output_type": "execute_result"
    }
   ],
   "source": [
    "b"
   ]
  },
  {
   "cell_type": "code",
   "execution_count": 37,
   "id": "d42e65be-caec-470f-870a-e46afee5f669",
   "metadata": {},
   "outputs": [
    {
     "data": {
      "text/plain": [
       "np.int64(32)"
      ]
     },
     "execution_count": 37,
     "metadata": {},
     "output_type": "execute_result"
    }
   ],
   "source": [
    "np.dot(a,b)"
   ]
  },
  {
   "cell_type": "code",
   "execution_count": 39,
   "id": "fd1e57d3-3b71-47d7-906f-ad2186715356",
   "metadata": {},
   "outputs": [
    {
     "data": {
      "text/plain": [
       "32"
      ]
     },
     "execution_count": 39,
     "metadata": {},
     "output_type": "execute_result"
    }
   ],
   "source": [
    "a[0]*b[0]+a[1]*b[1]+a[2]*b[2]"
   ]
  },
  {
   "cell_type": "code",
   "execution_count": 41,
   "id": "a4e43c0a-fa8a-436b-b259-a8b0627d1ba0",
   "metadata": {},
   "outputs": [],
   "source": [
    "a = [1,2,3]\n",
    "b = [4,5,6]\n",
    "bias = 2"
   ]
  },
  {
   "cell_type": "code",
   "execution_count": 44,
   "id": "cd8a659b-ada1-435a-bb18-3a82bf2c9070",
   "metadata": {},
   "outputs": [
    {
     "data": {
      "text/plain": [
       "np.int64(34)"
      ]
     },
     "execution_count": 44,
     "metadata": {},
     "output_type": "execute_result"
    }
   ],
   "source": [
    "np.dot(a,b) + bias"
   ]
  },
  {
   "cell_type": "code",
   "execution_count": 45,
   "id": "d59c6e05-acd2-4791-a4d0-a8f769201fd2",
   "metadata": {},
   "outputs": [
    {
     "data": {
      "text/plain": [
       "34"
      ]
     },
     "execution_count": 45,
     "metadata": {},
     "output_type": "execute_result"
    }
   ],
   "source": [
    "a[0]*b[0]+a[1]*b[1]+a[2]*b[2] + bias"
   ]
  },
  {
   "cell_type": "code",
   "execution_count": null,
   "id": "44889b57-67b0-4231-b50d-817d93f435f5",
   "metadata": {},
   "outputs": [],
   "source": []
  }
 ],
 "metadata": {
  "kernelspec": {
   "display_name": "Python 3 (ipykernel)",
   "language": "python",
   "name": "python3"
  },
  "language_info": {
   "codemirror_mode": {
    "name": "ipython",
    "version": 3
   },
   "file_extension": ".py",
   "mimetype": "text/x-python",
   "name": "python",
   "nbconvert_exporter": "python",
   "pygments_lexer": "ipython3",
   "version": "3.13.5"
  }
 },
 "nbformat": 4,
 "nbformat_minor": 5
}
