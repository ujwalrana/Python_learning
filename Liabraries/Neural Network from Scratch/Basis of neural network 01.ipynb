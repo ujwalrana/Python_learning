{
 "cells": [
  {
   "cell_type": "markdown",
   "id": "772cd22e-ec95-4225-a182-be13ff57fd60",
   "metadata": {},
   "source": [
    "## Single neuron"
   ]
  },
  {
   "cell_type": "code",
   "execution_count": 1,
   "id": "c25f9df3-f816-4c6a-995f-fdd92c7c5277",
   "metadata": {},
   "outputs": [],
   "source": [
    "inputs = [1,2,3]\n",
    "weights = [0.2,0.8,-0.5]\n",
    "bias = 2"
   ]
  },
  {
   "cell_type": "code",
   "execution_count": 3,
   "id": "2cb70c9e-7867-43fd-9dfc-9fed06fa9bc3",
   "metadata": {},
   "outputs": [
    {
     "name": "stdout",
     "output_type": "stream",
     "text": [
      "2.3\n"
     ]
    }
   ],
   "source": [
    "output = inputs[0]*weights[0]+inputs[1]*weights[1]+inputs[2]*weights[2] +bias\n",
    "print(output)"
   ]
  },
  {
   "cell_type": "markdown",
   "id": "354d20b9-00cb-4df1-8b8c-fbcf91dd74b1",
   "metadata": {},
   "source": [
    "** Adding an input **"
   ]
  },
  {
   "cell_type": "code",
   "execution_count": 4,
   "id": "d19806e7-61ca-4b21-84c0-13a6ce1b6479",
   "metadata": {},
   "outputs": [],
   "source": [
    "inputs = [1,2,3,2.5]\n",
    "weights = [0.2,0.8,-0.5,1.0]\n",
    "bias = 2"
   ]
  },
  {
   "cell_type": "code",
   "execution_count": 5,
   "id": "734fab7f-489d-4672-a504-6ee69ba796ee",
   "metadata": {},
   "outputs": [
    {
     "name": "stdout",
     "output_type": "stream",
     "text": [
      "4.8\n"
     ]
    }
   ],
   "source": [
    "output = inputs[0]*weights[0]+inputs[1]*weights[1]+inputs[2]*weights[2]+inputs[3]*weights[3] +bias\n",
    "print(output)"
   ]
  },
  {
   "cell_type": "markdown",
   "id": "754ec7c2-e85f-450d-84d1-9b5e0ee31924",
   "metadata": {},
   "source": [
    "## Layer of Neuron "
   ]
  },
  {
   "cell_type": "code",
   "execution_count": 1,
   "id": "5a7c42b1-9f33-400d-97fb-2d5391772a36",
   "metadata": {},
   "outputs": [],
   "source": [
    "inputs = [1,2,3, 2.5]\n",
    "weights1 = [0.2, 0.8, -0.5, 1.0]\n",
    "weights2 = [0.5, -0.91, 0.26, -0.5]\n",
    "weights3 = [-0.26, -0.27, 0.17, 0.87]\n",
    "\n",
    "bias1 = 2\n",
    "bias2 = 3\n",
    "bias3 = 0.5"
   ]
  },
  {
   "cell_type": "code",
   "execution_count": 2,
   "id": "4e55195a-6e3e-4580-ad82-3870106b423e",
   "metadata": {},
   "outputs": [],
   "source": [
    "outputs = [\n",
    "    # first neuron\n",
    "    inputs[0] * weights1[0]+\n",
    "    inputs[1] * weights1[1]+\n",
    "    inputs[2] * weights1[2]+\n",
    "    inputs[3] * weights1[3]+ bias1 ,\n",
    "\n",
    "    # second\n",
    "    inputs[0] * weights2[0]+\n",
    "    inputs[1] * weights2[1]+\n",
    "    inputs[2] * weights2[2]+\n",
    "    inputs[3] * weights2[3]+ bias2,\n",
    "\n",
    "    # third neuron\n",
    "    inputs[0] * weights3[0]+\n",
    "    inputs[1] * weights3[1]+\n",
    "    inputs[2] * weights3[2]+\n",
    "    inputs[3] * weights3[3]+ bias3\n",
    "    \n",
    "]"
   ]
  },
  {
   "cell_type": "code",
   "execution_count": 3,
   "id": "fbff3509-0407-4878-af12-bd2a8d2a07ab",
   "metadata": {},
   "outputs": [
    {
     "name": "stdout",
     "output_type": "stream",
     "text": [
      "[4.8, 1.21, 2.385]\n"
     ]
    }
   ],
   "source": [
    "print(outputs)"
   ]
  },
  {
   "cell_type": "markdown",
   "id": "09a2e851-8790-4c92-9272-ad138a6b8cc5",
   "metadata": {},
   "source": [
    "** Calculating through loops **"
   ]
  },
  {
   "cell_type": "code",
   "execution_count": 11,
   "id": "d352cc45-c8cd-46ba-b2f7-451f572c01c3",
   "metadata": {},
   "outputs": [],
   "source": [
    "inputs = [1,2,3, 2.5]\n",
    "weights = [[0.2, 0.8, -0.5, 1.0],\n",
    "           [0.5, -0.91, 0.26, -0.5],\n",
    "           [-0.26, -0.27, 0.17, 0.87]]\n",
    "biases = [2,3,0.5]"
   ]
  },
  {
   "cell_type": "code",
   "execution_count": 12,
   "id": "9c63b123-07a0-4285-8435-16f4ee307d2f",
   "metadata": {},
   "outputs": [],
   "source": [
    "layers_output = []"
   ]
  },
  {
   "cell_type": "code",
   "execution_count": 13,
   "id": "fd7e9b5f-7639-4515-95e2-7b55f1e8d29a",
   "metadata": {},
   "outputs": [
    {
     "name": "stdout",
     "output_type": "stream",
     "text": [
      "[4.8, 1.21, 2.385]\n"
     ]
    }
   ],
   "source": [
    "# for each neuron\n",
    "for neuron_weights , neuron_bias in zip(weights,biases):\n",
    "    # setting a variable\n",
    "    neuron_output = 0\n",
    "    # for each input and weight\n",
    "    for n_input , weight in zip(inputs, neuron_weights):\n",
    "        neuron_output += n_input * weight\n",
    "\n",
    "    neuron_output += neuron_bias\n",
    "\n",
    "    layers_output.append(neuron_output)\n",
    "\n",
    "print(layers_output)"
   ]
  },
  {
   "cell_type": "markdown",
   "id": "25ed6f55-74cd-4b3f-ab02-8afa755d1b04",
   "metadata": {},
   "source": [
    "** Dot product 2 Vectors **"
   ]
  },
  {
   "cell_type": "code",
   "execution_count": 15,
   "id": "5c2083db-280f-4aef-8a10-3c077a4786f0",
   "metadata": {},
   "outputs": [],
   "source": [
    "import numpy as np"
   ]
  },
  {
   "cell_type": "code",
   "execution_count": 16,
   "id": "93665b88-6674-444a-88fc-3c34f4f57494",
   "metadata": {},
   "outputs": [],
   "source": [
    "a = [1,2,3]\n",
    "b = [2,3,4]"
   ]
  },
  {
   "cell_type": "code",
   "execution_count": 17,
   "id": "9804b9e7-cf82-4a4b-bfba-c94f72bb5dac",
   "metadata": {},
   "outputs": [
    {
     "data": {
      "text/plain": [
       "np.int64(20)"
      ]
     },
     "execution_count": 17,
     "metadata": {},
     "output_type": "execute_result"
    }
   ],
   "source": [
    "np.dot(a,b)"
   ]
  },
  {
   "cell_type": "code",
   "execution_count": 19,
   "id": "fac429f2-4578-4bb3-9497-acc555c2cc02",
   "metadata": {},
   "outputs": [
    {
     "data": {
      "text/plain": [
       "20"
      ]
     },
     "execution_count": 19,
     "metadata": {},
     "output_type": "execute_result"
    }
   ],
   "source": [
    "a[0]*b[0]+a[1]*b[1]+a[2]*b[2]"
   ]
  },
  {
   "cell_type": "markdown",
   "id": "3140d751-5d9b-45cf-94d9-20bd726e1bc0",
   "metadata": {},
   "source": [
    "#### Single layer with numpy"
   ]
  },
  {
   "cell_type": "code",
   "execution_count": 1,
   "id": "0d469c12-1d52-425a-b413-0abdf0e0cec6",
   "metadata": {},
   "outputs": [],
   "source": [
    "import numpy as np"
   ]
  },
  {
   "cell_type": "code",
   "execution_count": 6,
   "id": "93adb38f-3b5d-4cb6-8bc3-5edf406bdecb",
   "metadata": {},
   "outputs": [],
   "source": [
    "inputs = [1.0,2.0,3.0,2.5]\n",
    "weights = [\n",
    "    [0.2,0.8,-0.5,1],\n",
    "    [0.5,-0.91,0.26,-0.5],\n",
    "    [-0.26,-0.27,0.17,0.87]\n",
    "]\n",
    "biases = [2.0,3.0,0.5]"
   ]
  },
  {
   "cell_type": "code",
   "execution_count": 7,
   "id": "343012b2-5e12-4aa9-b269-329563e9869c",
   "metadata": {},
   "outputs": [],
   "source": [
    "layerOutput = np.dot(weights,inputs) + biases"
   ]
  },
  {
   "cell_type": "code",
   "execution_count": 8,
   "id": "013fb960-5813-4041-9c58-48e8a16d8dde",
   "metadata": {},
   "outputs": [
    {
     "name": "stdout",
     "output_type": "stream",
     "text": [
      "[4.8   1.21  2.385]\n"
     ]
    }
   ],
   "source": [
    "print(layerOutput)"
   ]
  },
  {
   "cell_type": "markdown",
   "id": "01cd325f-ec77-4b64-9974-6826044399c1",
   "metadata": {},
   "source": [
    "** Checking layer individualy **"
   ]
  },
  {
   "cell_type": "code",
   "execution_count": 9,
   "id": "b2dc1de4-c992-45d9-bfda-145114de2034",
   "metadata": {},
   "outputs": [
    {
     "data": {
      "text/plain": [
       "np.float64(4.8)"
      ]
     },
     "execution_count": 9,
     "metadata": {},
     "output_type": "execute_result"
    }
   ],
   "source": [
    "np.dot(weights[0],inputs)+ biases[0]"
   ]
  },
  {
   "cell_type": "code",
   "execution_count": 10,
   "id": "423aa1ec-ed24-434a-981a-79245cc6eeb9",
   "metadata": {},
   "outputs": [
    {
     "data": {
      "text/plain": [
       "np.float64(1.2099999999999997)"
      ]
     },
     "execution_count": 10,
     "metadata": {},
     "output_type": "execute_result"
    }
   ],
   "source": [
    "np.dot(weights[1],inputs) + biases[1]"
   ]
  },
  {
   "cell_type": "code",
   "execution_count": 11,
   "id": "60dd6181-6033-42c2-84f6-64b06c534ff7",
   "metadata": {},
   "outputs": [
    {
     "data": {
      "text/plain": [
       "np.float64(2.385)"
      ]
     },
     "execution_count": 11,
     "metadata": {},
     "output_type": "execute_result"
    }
   ],
   "source": [
    "np.dot(weights[2],inputs)+ biases[2]"
   ]
  },
  {
   "cell_type": "markdown",
   "id": "9f3cb9c6-8c8a-432b-9177-21543db30925",
   "metadata": {},
   "source": [
    " ** Multiplication by transpose **"
   ]
  },
  {
   "cell_type": "code",
   "execution_count": 12,
   "id": "dd4c7c23-6956-40aa-9a83-9fd3ff7984b9",
   "metadata": {},
   "outputs": [],
   "source": [
    "a = np.array([1,2,3])\n",
    "b = np.array([2,3,4])"
   ]
  },
  {
   "cell_type": "code",
   "execution_count": 13,
   "id": "5b09599d-8333-45f7-910e-a5856e505c0e",
   "metadata": {},
   "outputs": [
    {
     "data": {
      "text/plain": [
       "np.int64(20)"
      ]
     },
     "execution_count": 13,
     "metadata": {},
     "output_type": "execute_result"
    }
   ],
   "source": [
    "np.dot(a,b.T)"
   ]
  },
  {
   "cell_type": "markdown",
   "id": "9846df81-8fed-4c7d-bcbb-fcf0b7853295",
   "metadata": {},
   "source": [
    "** Layers of neurons and batch of data **"
   ]
  },
  {
   "cell_type": "code",
   "execution_count": 28,
   "id": "28cdba2c-14b1-47c3-8f89-a42125262fcc",
   "metadata": {},
   "outputs": [],
   "source": [
    "inputs = [\n",
    "    [1.0,2.0,3.0,2.5],\n",
    "    [2.0,5.0,-1.0,2.0],\n",
    "    [-1.5,2.7,3.3,-0.8]\n",
    "]\n",
    "weights1 = [\n",
    "    [0.2,0.8,-0.5,1],\n",
    "    [0.5,-0.91,0.26,-0.5],\n",
    "    [-0.26,-0.27,0.17,0.87]\n",
    "]\n",
    "biases1 = [2.0,3.0,0.5]"
   ]
  },
  {
   "cell_type": "code",
   "execution_count": 31,
   "id": "4fcef8f3-99ce-4cc5-9a75-3d31f9c30473",
   "metadata": {},
   "outputs": [],
   "source": [
    "output = np.dot(inputs,np.array(weights).T) + biases1"
   ]
  },
  {
   "cell_type": "code",
   "execution_count": 32,
   "id": "61b2eb6d-50a9-45f6-bdcb-a687efb94a2f",
   "metadata": {},
   "outputs": [
    {
     "data": {
      "text/plain": [
       "array([[ 4.8  ,  1.21 ,  2.385],\n",
       "       [ 8.9  , -1.81 ,  0.2  ],\n",
       "       [ 1.41 ,  1.051,  0.026]])"
      ]
     },
     "execution_count": 32,
     "metadata": {},
     "output_type": "execute_result"
    }
   ],
   "source": [
    "output"
   ]
  },
  {
   "cell_type": "markdown",
   "id": "d43bcc33-a5ef-4b24-9c46-49b6ac912258",
   "metadata": {},
   "source": [
    "** Adding Layers **"
   ]
  },
  {
   "cell_type": "code",
   "execution_count": 35,
   "id": "f7ef5707-e2ac-4b88-8b4b-03ae251d5235",
   "metadata": {},
   "outputs": [],
   "source": [
    "weights2 = [\n",
    "    [0.1,-0.14,0.5],\n",
    "    [-0.5,0.12,-0.33],\n",
    "    [-0.44,0.73,-0.13]\n",
    "]\n",
    "biases2 = [-1,2,0.5]"
   ]
  },
  {
   "cell_type": "code",
   "execution_count": 36,
   "id": "0fdaf454-6f5a-4474-a44f-ccc07ada6d66",
   "metadata": {},
   "outputs": [],
   "source": [
    "layer1Output = np.dot(inputs,np.array(weights1).T) + biases1\n",
    "layer2Output = np.dot(layer1Output,np.array(weights2).T) + biases2 "
   ]
  },
  {
   "cell_type": "code",
   "execution_count": 37,
   "id": "a6b926e9-7923-4f6e-a98e-571854cc6240",
   "metadata": {},
   "outputs": [
    {
     "data": {
      "text/plain": [
       "array([[ 0.5031 , -1.04185, -1.03875],\n",
       "       [ 0.2434 , -2.7332 , -4.7633 ],\n",
       "       [-0.99314,  1.41254,  0.64345]])"
      ]
     },
     "execution_count": 37,
     "metadata": {},
     "output_type": "execute_result"
    }
   ],
   "source": [
    "layer2Output "
   ]
  },
  {
   "cell_type": "code",
   "execution_count": 39,
   "id": "c929ea37-d4cf-4851-b798-5a9f32ac2641",
   "metadata": {},
   "outputs": [
    {
     "data": {
      "text/plain": [
       "array([[ 1, -1, -1],\n",
       "       [ 1, -1, -1],\n",
       "       [-1,  1,  1]])"
      ]
     },
     "execution_count": 39,
     "metadata": {},
     "output_type": "execute_result"
    }
   ],
   "source": [
    "np.array([\n",
    "    [1,-1,-1],\n",
    "    [1,-1,-1],\n",
    "    [-1,1,1]\n",
    "])"
   ]
  },
  {
   "cell_type": "code",
   "execution_count": null,
   "id": "96df01ed-83b8-4bf8-952b-e2d4ff36287e",
   "metadata": {},
   "outputs": [],
   "source": []
  }
 ],
 "metadata": {
  "kernelspec": {
   "display_name": "Python 3 (ipykernel)",
   "language": "python",
   "name": "python3"
  },
  "language_info": {
   "codemirror_mode": {
    "name": "ipython",
    "version": 3
   },
   "file_extension": ".py",
   "mimetype": "text/x-python",
   "name": "python",
   "nbconvert_exporter": "python",
   "pygments_lexer": "ipython3",
   "version": "3.13.5"
  }
 },
 "nbformat": 4,
 "nbformat_minor": 5
}
