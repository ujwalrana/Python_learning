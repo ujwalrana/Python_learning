{
 "cells": [
  {
   "cell_type": "markdown",
   "id": "c4669514-601a-4534-9d0c-cdb7606484c7",
   "metadata": {},
   "source": [
    "## ulta loop"
   ]
  },
  {
   "cell_type": "code",
   "execution_count": 1,
   "id": "3110ea97-50bf-4599-90d8-4b1fce089555",
   "metadata": {},
   "outputs": [
    {
     "name": "stdout",
     "output_type": "stream",
     "text": [
      "0\n",
      "1\n",
      "2\n",
      "3\n",
      "4\n"
     ]
    }
   ],
   "source": [
    "i = 0\n",
    "n = 5\n",
    "while i < n:\n",
    "    print(i)\n",
    "    i+=1"
   ]
  },
  {
   "cell_type": "code",
   "execution_count": 3,
   "id": "ccebfc45-00eb-4c32-a520-30ce2f40f9c1",
   "metadata": {},
   "outputs": [
    {
     "name": "stdout",
     "output_type": "stream",
     "text": [
      "5\n",
      "4\n",
      "3\n",
      "2\n",
      "1\n"
     ]
    }
   ],
   "source": [
    "i = 5\n",
    "n = 0\n",
    "while i > n:\n",
    "    print(i)\n",
    "    i-=1"
   ]
  },
  {
   "cell_type": "code",
   "execution_count": 4,
   "id": "f60d12a7-b90a-42bd-8b90-8ea8dc95d286",
   "metadata": {},
   "outputs": [
    {
     "name": "stdout",
     "output_type": "stream",
     "text": [
      "0\n",
      "1\n",
      "2\n",
      "3\n",
      "4\n",
      "5\n"
     ]
    }
   ],
   "source": [
    "i = 0\n",
    "n = 5\n",
    "while i <= n:\n",
    "    print(i)\n",
    "    i+=1"
   ]
  },
  {
   "cell_type": "code",
   "execution_count": 5,
   "id": "e0702d4b-f393-4051-81ff-6e1cd5338511",
   "metadata": {},
   "outputs": [
    {
     "name": "stdout",
     "output_type": "stream",
     "text": [
      "5\n",
      "4\n",
      "3\n",
      "2\n",
      "1\n",
      "0\n"
     ]
    }
   ],
   "source": [
    "i = 5\n",
    "n = 0\n",
    "while i >= n:\n",
    "    print(i)\n",
    "    i-=1"
   ]
  },
  {
   "cell_type": "code",
   "execution_count": 6,
   "id": "8946b290-cd14-4429-981f-e1d993fe08c1",
   "metadata": {},
   "outputs": [
    {
     "name": "stdout",
     "output_type": "stream",
     "text": [
      "5\n",
      "4\n",
      "3\n",
      "2\n",
      "1\n"
     ]
    }
   ],
   "source": [
    "i = 5\n",
    "while i:\n",
    "    print(i)\n",
    "    i -= 1"
   ]
  },
  {
   "cell_type": "code",
   "execution_count": 7,
   "id": "97b43639-5a95-411d-82f2-b5c7eb00a40c",
   "metadata": {
    "scrolled": true
   },
   "outputs": [
    {
     "name": "stdout",
     "output_type": "stream",
     "text": [
      "-5\n",
      "-4\n",
      "-3\n",
      "-2\n",
      "-1\n"
     ]
    }
   ],
   "source": [
    "i = 5\n",
    "while i:\n",
    "    print(n-i)\n",
    "    i -= 1"
   ]
  },
  {
   "cell_type": "code",
   "execution_count": 11,
   "id": "1cfaa4e7-d5c6-4c78-94fd-a7d0dde04cc7",
   "metadata": {},
   "outputs": [
    {
     "name": "stdout",
     "output_type": "stream",
     "text": [
      "5 4\n",
      "4 3\n",
      "3 2\n",
      "2 1\n",
      "1 0\n"
     ]
    }
   ],
   "source": [
    "i = 5\n",
    "while i:\n",
    "    print(i,i-1)\n",
    "    i -= 1"
   ]
  },
  {
   "cell_type": "markdown",
   "id": "05efcc41-db1d-4f29-b524-4021a1f7059e",
   "metadata": {},
   "source": [
    "## For loop"
   ]
  },
  {
   "cell_type": "code",
   "execution_count": 10,
   "id": "0a442143-73a0-4055-976a-ea550a740e59",
   "metadata": {},
   "outputs": [
    {
     "name": "stdout",
     "output_type": "stream",
     "text": [
      "0\n",
      "1\n",
      "2\n",
      "3\n",
      "4\n",
      "5\n",
      "6\n",
      "7\n",
      "8\n",
      "9\n"
     ]
    }
   ],
   "source": [
    "for i in range(0,10):\n",
    "    print(i)"
   ]
  },
  {
   "cell_type": "code",
   "execution_count": 12,
   "id": "a5b7f0f6-fcc3-4398-b773-a9b693df6a63",
   "metadata": {},
   "outputs": [],
   "source": [
    "name = \"Ujwal\""
   ]
  },
  {
   "cell_type": "code",
   "execution_count": 13,
   "id": "0633c45f-055a-498b-bda7-da43dafc968c",
   "metadata": {},
   "outputs": [
    {
     "name": "stdout",
     "output_type": "stream",
     "text": [
      "hi\n",
      "hi\n",
      "hi\n",
      "hi\n",
      "hi\n"
     ]
    }
   ],
   "source": [
    "for alphabet in name:\n",
    "    print('hi')"
   ]
  },
  {
   "cell_type": "code",
   "execution_count": 14,
   "id": "8bb0721f-5a66-4ae2-8f75-4213ab09a32e",
   "metadata": {},
   "outputs": [
    {
     "name": "stdout",
     "output_type": "stream",
     "text": [
      "U\n",
      "j\n",
      "w\n",
      "a\n",
      "l\n"
     ]
    }
   ],
   "source": [
    "for alphabet in name:\n",
    "    print(alphabet)"
   ]
  },
  {
   "cell_type": "code",
   "execution_count": 16,
   "id": "b9c2ad75-16a0-408b-826c-154cb8f63db0",
   "metadata": {},
   "outputs": [
    {
     "name": "stdout",
     "output_type": "stream",
     "text": [
      "Ujwal 10\n",
      "Ujwal 10\n",
      "Ujwal 10\n",
      "Ujwal 10\n",
      "Ujwal 10\n"
     ]
    }
   ],
   "source": [
    "for alphabet in name:\n",
    "    print(name,10)"
   ]
  },
  {
   "cell_type": "code",
   "execution_count": 18,
   "id": "8d8a8488-0ec7-4414-b333-24bfdaae3c03",
   "metadata": {},
   "outputs": [
    {
     "name": "stdout",
     "output_type": "stream",
     "text": [
      "tamatar\n",
      "pyaz\n",
      "aloo\n",
      "bhindi\n"
     ]
    }
   ],
   "source": [
    "prachi =['tamatar','pyaz','aloo','bhindi']\n",
    "\n",
    "for sabzi in prachi:\n",
    "    print(sabzi)"
   ]
  },
  {
   "cell_type": "code",
   "execution_count": 19,
   "id": "680a98d3-0df6-447f-ae16-42577d8c4beb",
   "metadata": {},
   "outputs": [
    {
     "name": "stdout",
     "output_type": "stream",
     "text": [
      "sahil\n",
      "ujwal\n",
      "saransh\n",
      "harjeet\n"
     ]
    }
   ],
   "source": [
    "course =['sahil','ujwal','saransh','harjeet']\n",
    "for person in course:\n",
    "    print(person)"
   ]
  },
  {
   "cell_type": "code",
   "execution_count": 20,
   "id": "3517ac0c-0727-42dc-89b7-ecaf2b8490bd",
   "metadata": {},
   "outputs": [
    {
     "name": "stdout",
     "output_type": "stream",
     "text": [
      "hello sahil\n",
      "hello ujwal\n",
      "hello saransh\n",
      "hello harjeet\n"
     ]
    }
   ],
   "source": [
    "course =['sahil','ujwal','saransh','harjeet']\n",
    "for person in course:\n",
    "    print(\"hello\",person)"
   ]
  },
  {
   "cell_type": "code",
   "execution_count": 28,
   "id": "3abd771e-6c5a-46ac-bc86-a0c3abd32c12",
   "metadata": {},
   "outputs": [
    {
     "name": "stdout",
     "output_type": "stream",
     "text": [
      "['sahil', 'ujwal', 'saransh', 'harjeet']\n",
      "['sahil', 'ujwal', 'saransh', 'harjeet']\n",
      "['sahil', 'ujwal', 'saransh', 'harjeet']\n",
      "['sahil', 'ujwal', 'saransh', 'harjeet']\n"
     ]
    }
   ],
   "source": [
    "course =['sahil','ujwal','saransh','harjeet']\n",
    "for person in course:\n",
    "    print(course)"
   ]
  },
  {
   "cell_type": "code",
   "execution_count": 29,
   "id": "1db7d472-83a5-4e9a-b1b9-ffd146200879",
   "metadata": {},
   "outputs": [
    {
     "name": "stdout",
     "output_type": "stream",
     "text": [
      "l\n",
      "l\n",
      "l\n",
      "l\n"
     ]
    }
   ],
   "source": [
    "course =['sahil','ujwal','saransh','harjeet']\n",
    "for person in course:\n",
    "    print(alphabet)"
   ]
  },
  {
   "cell_type": "code",
   "execution_count": 30,
   "id": "5d32918f-1356-415f-8a02-2f07fc60d3dc",
   "metadata": {},
   "outputs": [
    {
     "name": "stdout",
     "output_type": "stream",
     "text": [
      "4\n",
      "5\n",
      "6\n",
      "7\n",
      "8\n"
     ]
    }
   ],
   "source": [
    "s = {8,5,6,4,7}\n",
    "for i in s:\n",
    "    print(i)"
   ]
  },
  {
   "cell_type": "code",
   "execution_count": 38,
   "id": "062bc422-4dfa-49e9-a1e3-880fa14a506f",
   "metadata": {},
   "outputs": [
    {
     "name": "stdout",
     "output_type": "stream",
     "text": [
      "{4, 5, 6, 7, 8}\n",
      "{4, 5, 6, 7, 8}\n",
      "{4, 5, 6, 7, 8}\n",
      "{4, 5, 6, 7, 8}\n",
      "{4, 5, 6, 7, 8}\n"
     ]
    }
   ],
   "source": [
    "s = {8,5,6,4,7}\n",
    "for i in s:\n",
    "    print(s)"
   ]
  },
  {
   "cell_type": "code",
   "execution_count": 31,
   "id": "7abcf84a-23ae-4380-8d32-39cdc540a81f",
   "metadata": {},
   "outputs": [
    {
     "name": "stdout",
     "output_type": "stream",
     "text": [
      "0\n",
      "1\n",
      "2\n",
      "3\n",
      "4\n"
     ]
    }
   ],
   "source": [
    "i = 0\n",
    "n = 5\n",
    "while i < n:\n",
    "    print(i)\n",
    "    i+=1"
   ]
  },
  {
   "cell_type": "code",
   "execution_count": 42,
   "id": "a4dea024-ff60-457d-b848-18c02a004181",
   "metadata": {},
   "outputs": [
    {
     "name": "stdout",
     "output_type": "stream",
     "text": [
      "0\n",
      "2\n",
      "4\n"
     ]
    }
   ],
   "source": [
    "i = 0\n",
    "n = 5\n",
    "while i < n:\n",
    "    print(i)\n",
    "    i+=2"
   ]
  },
  {
   "cell_type": "code",
   "execution_count": 37,
   "id": "a1d3ead1-4af6-4866-9e06-4e93a76c0af3",
   "metadata": {},
   "outputs": [
    {
     "name": "stdout",
     "output_type": "stream",
     "text": [
      "3\n",
      "4\n",
      "5\n",
      "6\n",
      "7\n",
      "8\n",
      "9\n"
     ]
    }
   ],
   "source": [
    "for i in range(3,10):\n",
    "    print(i)"
   ]
  },
  {
   "cell_type": "code",
   "execution_count": 41,
   "id": "723660c7-75c5-46af-b81c-a452cc110117",
   "metadata": {},
   "outputs": [
    {
     "name": "stdout",
     "output_type": "stream",
     "text": [
      "3\n",
      "5\n",
      "7\n",
      "9\n"
     ]
    }
   ],
   "source": [
    "for i in range(3,10,2):\n",
    "    print(i)"
   ]
  },
  {
   "cell_type": "code",
   "execution_count": 43,
   "id": "66360a0b-1261-4d16-bbc0-cbc15c2e0823",
   "metadata": {},
   "outputs": [
    {
     "name": "stdout",
     "output_type": "stream",
     "text": [
      "u\n",
      "j\n",
      "w\n",
      "a\n",
      "l\n"
     ]
    }
   ],
   "source": [
    "name = \"ujwal\"\n",
    "for i in range(len(name)):\n",
    "    print(name[i])"
   ]
  },
  {
   "cell_type": "code",
   "execution_count": null,
   "id": "89797314-009d-4c12-9af1-f3e863ea1b5f",
   "metadata": {},
   "outputs": [],
   "source": []
  }
 ],
 "metadata": {
  "kernelspec": {
   "display_name": "Python 3 (ipykernel)",
   "language": "python",
   "name": "python3"
  },
  "language_info": {
   "codemirror_mode": {
    "name": "ipython",
    "version": 3
   },
   "file_extension": ".py",
   "mimetype": "text/x-python",
   "name": "python",
   "nbconvert_exporter": "python",
   "pygments_lexer": "ipython3",
   "version": "3.13.5"
  }
 },
 "nbformat": 4,
 "nbformat_minor": 5
}
