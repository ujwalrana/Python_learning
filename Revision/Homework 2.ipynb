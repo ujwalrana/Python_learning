{
 "cells": [
  {
   "cell_type": "code",
   "execution_count": 7,
   "id": "7b7227b1-b0d9-4685-b06a-3846a7c8d274",
   "metadata": {},
   "outputs": [],
   "source": [
    "class car():\n",
    "    tyre = 4\n",
    "\n",
    "    def move():\n",
    "       print(\"i am moving forward\")"
   ]
  },
  {
   "cell_type": "code",
   "execution_count": 11,
   "id": "33b278eb-9f98-4af5-8e31-4acd5110bae6",
   "metadata": {},
   "outputs": [
    {
     "data": {
      "text/plain": [
       "4"
      ]
     },
     "execution_count": 11,
     "metadata": {},
     "output_type": "execute_result"
    }
   ],
   "source": [
    "car.tyre"
   ]
  },
  {
   "cell_type": "code",
   "execution_count": 12,
   "id": "2a15d3da-58fd-466f-b14f-12a888f05aac",
   "metadata": {},
   "outputs": [
    {
     "name": "stdout",
     "output_type": "stream",
     "text": [
      "i am moving forward\n"
     ]
    }
   ],
   "source": [
    "car.move()"
   ]
  },
  {
   "cell_type": "code",
   "execution_count": 13,
   "id": "dba13bdb-f7f6-4bab-b532-81132d021a88",
   "metadata": {},
   "outputs": [],
   "source": [
    "car = \"nano\""
   ]
  },
  {
   "cell_type": "code",
   "execution_count": 14,
   "id": "1d8d10dd-370d-49ec-be6b-92a7181d87a4",
   "metadata": {},
   "outputs": [
    {
     "data": {
      "text/plain": [
       "'nano'"
      ]
     },
     "execution_count": 14,
     "metadata": {},
     "output_type": "execute_result"
    }
   ],
   "source": [
    "car"
   ]
  },
  {
   "cell_type": "code",
   "execution_count": 174,
   "id": "f15f0dfd-badf-4433-b768-c767d5da4feb",
   "metadata": {},
   "outputs": [
    {
     "ename": "NameError",
     "evalue": "name 'nano' is not defined",
     "output_type": "error",
     "traceback": [
      "\u001b[1;31m---------------------------------------------------------------------------\u001b[0m",
      "\u001b[1;31mNameError\u001b[0m                                 Traceback (most recent call last)",
      "Cell \u001b[1;32mIn[174], line 1\u001b[0m\n\u001b[1;32m----> 1\u001b[0m nano\u001b[38;5;241m.\u001b[39mtyre\n",
      "\u001b[1;31mNameError\u001b[0m: name 'nano' is not defined"
     ]
    }
   ],
   "source": [
    "nano.tyre"
   ]
  },
  {
   "cell_type": "code",
   "execution_count": 18,
   "id": "dd3d6578-ea4a-4640-8c8b-35d1c0133807",
   "metadata": {},
   "outputs": [],
   "source": [
    "class Phone():\n",
    "    accesory = 3\n",
    "\n",
    "    def charge():\n",
    "        print(\"i am fully charge\")"
   ]
  },
  {
   "cell_type": "code",
   "execution_count": 19,
   "id": "78f29778-934e-4c23-a7e4-80eab1336039",
   "metadata": {},
   "outputs": [
    {
     "data": {
      "text/plain": [
       "3"
      ]
     },
     "execution_count": 19,
     "metadata": {},
     "output_type": "execute_result"
    }
   ],
   "source": [
    "Phone.accesory"
   ]
  },
  {
   "cell_type": "code",
   "execution_count": 20,
   "id": "91693506-0b74-4fe1-a5f9-5db9d49ae313",
   "metadata": {},
   "outputs": [
    {
     "name": "stdout",
     "output_type": "stream",
     "text": [
      "i am fully charge\n"
     ]
    }
   ],
   "source": [
    "Phone.charge()"
   ]
  },
  {
   "cell_type": "code",
   "execution_count": 24,
   "id": "10d8855d-4c7a-4bac-9788-57c434639582",
   "metadata": {},
   "outputs": [],
   "source": [
    "Poco = Phone()"
   ]
  },
  {
   "cell_type": "code",
   "execution_count": 26,
   "id": "328eb96a-d1ac-4bfe-8b53-4944dfe4a57d",
   "metadata": {},
   "outputs": [],
   "source": [
    "Redmi = Phone()"
   ]
  },
  {
   "cell_type": "code",
   "execution_count": 29,
   "id": "359e311c-e71f-4282-9e91-abe822f92068",
   "metadata": {},
   "outputs": [
    {
     "data": {
      "text/plain": [
       "3"
      ]
     },
     "execution_count": 29,
     "metadata": {},
     "output_type": "execute_result"
    }
   ],
   "source": [
    "Poco.accesory"
   ]
  },
  {
   "cell_type": "code",
   "execution_count": 30,
   "id": "c6ddd9ec-bbf3-4a4f-9bc3-f12817906058",
   "metadata": {},
   "outputs": [
    {
     "data": {
      "text/plain": [
       "3"
      ]
     },
     "execution_count": 30,
     "metadata": {},
     "output_type": "execute_result"
    }
   ],
   "source": [
    "Redmi.accesory"
   ]
  },
  {
   "cell_type": "code",
   "execution_count": 32,
   "id": "8f59250a-1ae9-430c-bf91-9c58c58fde6a",
   "metadata": {},
   "outputs": [
    {
     "name": "stdout",
     "output_type": "stream",
     "text": [
      "i am fully charge\n"
     ]
    }
   ],
   "source": [
    "Phone.charge()"
   ]
  },
  {
   "cell_type": "code",
   "execution_count": 33,
   "id": "09e76bd2-c1b4-4206-9896-6e6aa480dcc4",
   "metadata": {},
   "outputs": [],
   "source": [
    "class Phone():\n",
    "    accesory = 3\n",
    "\n",
    "    def charge(self):\n",
    "        print(\"i am fully charge\")"
   ]
  },
  {
   "cell_type": "code",
   "execution_count": 34,
   "id": "27f7dbaa-cd85-46bd-97b4-17d9f0661444",
   "metadata": {},
   "outputs": [],
   "source": [
    "Poco = Phone()"
   ]
  },
  {
   "cell_type": "code",
   "execution_count": 35,
   "id": "1c20cf9c-9828-4481-be25-0cd6d03d4937",
   "metadata": {},
   "outputs": [
    {
     "data": {
      "text/plain": [
       "3"
      ]
     },
     "execution_count": 35,
     "metadata": {},
     "output_type": "execute_result"
    }
   ],
   "source": [
    "Poco.accesory"
   ]
  },
  {
   "cell_type": "code",
   "execution_count": 36,
   "id": "1b716de9-2ddb-4912-b691-257b6f0b4042",
   "metadata": {},
   "outputs": [
    {
     "name": "stdout",
     "output_type": "stream",
     "text": [
      "i am fully charge\n"
     ]
    }
   ],
   "source": [
    "Poco.charge()"
   ]
  },
  {
   "cell_type": "code",
   "execution_count": 41,
   "id": "69c94bf8-6f5f-4c36-b853-902772afabfd",
   "metadata": {},
   "outputs": [],
   "source": [
    "Poco.name = \"Poco M4 5g\""
   ]
  },
  {
   "cell_type": "code",
   "execution_count": 42,
   "id": "afc9f97b-3d45-48ea-b160-ed5362a2ae19",
   "metadata": {},
   "outputs": [
    {
     "data": {
      "text/plain": [
       "'Poco M4 5g'"
      ]
     },
     "execution_count": 42,
     "metadata": {},
     "output_type": "execute_result"
    }
   ],
   "source": [
    "Poco.name"
   ]
  },
  {
   "cell_type": "code",
   "execution_count": 45,
   "id": "6bd66c67-9bb0-4c9f-beb5-12c9fc9796d8",
   "metadata": {},
   "outputs": [],
   "source": [
    "Redmi = Phone()"
   ]
  },
  {
   "cell_type": "code",
   "execution_count": 46,
   "id": "b0e66862-2e3c-415b-91e8-b5f5c39200b8",
   "metadata": {},
   "outputs": [
    {
     "data": {
      "text/plain": [
       "3"
      ]
     },
     "execution_count": 46,
     "metadata": {},
     "output_type": "execute_result"
    }
   ],
   "source": [
    "Redmi.accesory"
   ]
  },
  {
   "cell_type": "code",
   "execution_count": 47,
   "id": "c252921d-0f0b-4a02-90d9-0a7ba458c84b",
   "metadata": {},
   "outputs": [],
   "source": [
    "Redmi.name = \"Redmi 10 A\""
   ]
  },
  {
   "cell_type": "code",
   "execution_count": 48,
   "id": "86b1d316-3741-4938-bd02-4d92e9b20041",
   "metadata": {},
   "outputs": [
    {
     "data": {
      "text/plain": [
       "'Redmi 10 A'"
      ]
     },
     "execution_count": 48,
     "metadata": {},
     "output_type": "execute_result"
    }
   ],
   "source": [
    "Redmi.name"
   ]
  },
  {
   "cell_type": "code",
   "execution_count": 74,
   "id": "377b6416-778d-43c3-9e45-f10022cada24",
   "metadata": {},
   "outputs": [],
   "source": [
    "class Phone():\n",
    "    accesory = 3\n",
    "\n",
    "    def __init__(self,modelName):\n",
    "        self.name = modelName\n",
    "\n",
    "        def charge():\n",
    "            print(\"i am fully charge\")\n",
    "    "
   ]
  },
  {
   "cell_type": "code",
   "execution_count": 82,
   "id": "414c48c1-e691-4ff6-be25-8a34f4747dc4",
   "metadata": {},
   "outputs": [
    {
     "data": {
      "text/plain": [
       "'Poco M 5'"
      ]
     },
     "execution_count": 82,
     "metadata": {},
     "output_type": "execute_result"
    }
   ],
   "source": [
    "Poco.name"
   ]
  },
  {
   "cell_type": "code",
   "execution_count": 83,
   "id": "a2278e98-db9f-44c3-9c3e-c24ae78400b1",
   "metadata": {},
   "outputs": [
    {
     "data": {
      "text/plain": [
       "'Redmi 11 A'"
      ]
     },
     "execution_count": 83,
     "metadata": {},
     "output_type": "execute_result"
    }
   ],
   "source": [
    "Redmi.name"
   ]
  },
  {
   "cell_type": "code",
   "execution_count": 172,
   "id": "41f2c772-572a-4fc5-accf-ef13e84fbeaa",
   "metadata": {},
   "outputs": [
    {
     "name": "stdout",
     "output_type": "stream",
     "text": [
      "hi i am Poco m4 5g and i was fully charge 2022\n"
     ]
    }
   ],
   "source": [
    "Poco.charge()"
   ]
  },
  {
   "cell_type": "code",
   "execution_count": 173,
   "id": "e39c963b-5bb9-4f24-96e8-010fc760a02d",
   "metadata": {},
   "outputs": [
    {
     "name": "stdout",
     "output_type": "stream",
     "text": [
      "hi i am Redmi 11 A and i was fully charge 2025\n"
     ]
    }
   ],
   "source": [
    "Redmi.charge()"
   ]
  },
  {
   "cell_type": "code",
   "execution_count": 79,
   "id": "0be45132-9ab2-48ca-8634-0bafec4ae55d",
   "metadata": {},
   "outputs": [],
   "source": [
    "Poco = Phone(\"Poco M 5\")"
   ]
  },
  {
   "cell_type": "code",
   "execution_count": 80,
   "id": "61420e18-2b48-47c0-92f5-f4005a6bc6a9",
   "metadata": {},
   "outputs": [
    {
     "data": {
      "text/plain": [
       "'Poco M 5'"
      ]
     },
     "execution_count": 80,
     "metadata": {},
     "output_type": "execute_result"
    }
   ],
   "source": [
    "Poco.name"
   ]
  },
  {
   "cell_type": "code",
   "execution_count": 81,
   "id": "392724cd-f8a4-49e5-9ffd-466821050622",
   "metadata": {},
   "outputs": [],
   "source": [
    "Redmi = Phone(\"Redmi 11 A\")"
   ]
  },
  {
   "cell_type": "code",
   "execution_count": 64,
   "id": "b4bba9ea-0da7-447b-9704-ce0440cf48c3",
   "metadata": {},
   "outputs": [
    {
     "data": {
      "text/plain": [
       "'Redmi 11 A'"
      ]
     },
     "execution_count": 64,
     "metadata": {},
     "output_type": "execute_result"
    }
   ],
   "source": [
    "Redmi.name"
   ]
  },
  {
   "cell_type": "code",
   "execution_count": 166,
   "id": "a6fa1850-9e7b-46b0-bd78-3922a747bcbb",
   "metadata": {},
   "outputs": [],
   "source": [
    "class Phone():\n",
    "    accesory = 3\n",
    "\n",
    "    def __init__(self,model,year = None):\n",
    "         self.model = model\n",
    "         self.year = year\n",
    "\n",
    "    def introduction(self):\n",
    "        print(f'hi i am {self.model} and i was made in {self.year}')\n",
    "\n",
    "    def charge(self):\n",
    "        print(f'hi i am {self.model} and i was fully charge {self.year}')"
   ]
  },
  {
   "cell_type": "code",
   "execution_count": 167,
   "id": "19af7ccc-5e26-4216-a0c4-6559c1106bfd",
   "metadata": {},
   "outputs": [],
   "source": [
    "Poco = Phone(\"Poco m4 5g\",\"2022\")"
   ]
  },
  {
   "cell_type": "code",
   "execution_count": 168,
   "id": "662739a6-6e9b-462f-b4ee-9ef1f0e88f67",
   "metadata": {},
   "outputs": [
    {
     "name": "stdout",
     "output_type": "stream",
     "text": [
      "hi i am Poco m4 5g and i was made in 2022\n"
     ]
    }
   ],
   "source": [
    "Poco.introduction()"
   ]
  },
  {
   "cell_type": "code",
   "execution_count": 169,
   "id": "1e7ef6cc-fb3e-4e4b-94b6-299a13a31c52",
   "metadata": {},
   "outputs": [],
   "source": [
    "Redmi = Phone(\"Redmi 11 A\",\"2025\")"
   ]
  },
  {
   "cell_type": "code",
   "execution_count": 170,
   "id": "81eb2eb1-fd00-4e0c-884b-d646604c59d7",
   "metadata": {},
   "outputs": [
    {
     "name": "stdout",
     "output_type": "stream",
     "text": [
      "hi i am Redmi 11 A and i was made in 2025\n"
     ]
    }
   ],
   "source": [
    "Redmi.introduction()"
   ]
  },
  {
   "cell_type": "code",
   "execution_count": 171,
   "id": "72397c2a-2efe-4430-9227-9596fad7d384",
   "metadata": {},
   "outputs": [
    {
     "name": "stdout",
     "output_type": "stream",
     "text": [
      "hi i am Poco m4 5g and i was fully charge 2022\n"
     ]
    }
   ],
   "source": [
    "Poco.charge()"
   ]
  },
  {
   "cell_type": "code",
   "execution_count": null,
   "id": "3011b83e-4aba-4720-b278-700078339e43",
   "metadata": {},
   "outputs": [],
   "source": []
  }
 ],
 "metadata": {
  "kernelspec": {
   "display_name": "Python 3 (ipykernel)",
   "language": "python",
   "name": "python3"
  },
  "language_info": {
   "codemirror_mode": {
    "name": "ipython",
    "version": 3
   },
   "file_extension": ".py",
   "mimetype": "text/x-python",
   "name": "python",
   "nbconvert_exporter": "python",
   "pygments_lexer": "ipython3",
   "version": "3.13.5"
  }
 },
 "nbformat": 4,
 "nbformat_minor": 5
}
