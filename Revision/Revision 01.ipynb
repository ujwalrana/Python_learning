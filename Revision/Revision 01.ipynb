{
 "cells": [
  {
   "cell_type": "markdown",
   "id": "06f9c042-5f45-4cb3-aa24-f27b39f94567",
   "metadata": {
    "jp-MarkdownHeadingCollapsed": true
   },
   "source": [
    "## Variables and numbers"
   ]
  },
  {
   "cell_type": "code",
   "execution_count": 1,
   "id": "a9e41844-066a-4319-89c9-aa846f71e1f7",
   "metadata": {},
   "outputs": [],
   "source": [
    "a = 4\n",
    "b = 5"
   ]
  },
  {
   "cell_type": "code",
   "execution_count": 2,
   "id": "b814893a-c636-4391-a26c-d82bcb129612",
   "metadata": {},
   "outputs": [
    {
     "name": "stdout",
     "output_type": "stream",
     "text": [
      "9\n"
     ]
    }
   ],
   "source": [
    "print(a+b)"
   ]
  },
  {
   "cell_type": "code",
   "execution_count": 3,
   "id": "cb15ad3c-4ea4-414f-9b6e-eea579e5e3db",
   "metadata": {},
   "outputs": [
    {
     "name": "stdout",
     "output_type": "stream",
     "text": [
      "100\n"
     ]
    }
   ],
   "source": [
    "a = 100\n",
    "print(a)"
   ]
  },
  {
   "cell_type": "code",
   "execution_count": 5,
   "id": "7e8f04e2-7ff8-4c19-bdd0-cb2fa7ef19d1",
   "metadata": {},
   "outputs": [],
   "source": [
    "a += 10"
   ]
  },
  {
   "cell_type": "code",
   "execution_count": 6,
   "id": "a71df248-4051-4723-b91a-1a170cc83ad5",
   "metadata": {},
   "outputs": [
    {
     "data": {
      "text/plain": [
       "200"
      ]
     },
     "execution_count": 6,
     "metadata": {},
     "output_type": "execute_result"
    }
   ],
   "source": [
    "a"
   ]
  },
  {
   "cell_type": "code",
   "execution_count": 8,
   "id": "a5f12cdb-2439-4d5c-9494-8c3b7d9c4a55",
   "metadata": {},
   "outputs": [
    {
     "data": {
      "text/plain": [
       "66"
      ]
     },
     "execution_count": 8,
     "metadata": {},
     "output_type": "execute_result"
    }
   ],
   "source": [
    "a//3"
   ]
  },
  {
   "cell_type": "code",
   "execution_count": 9,
   "id": "c5a205e2-b05f-4ffd-b160-7e1389c6bc70",
   "metadata": {},
   "outputs": [
    {
     "data": {
      "text/plain": [
       "50"
      ]
     },
     "execution_count": 9,
     "metadata": {},
     "output_type": "execute_result"
    }
   ],
   "source": [
    "a//4"
   ]
  },
  {
   "cell_type": "code",
   "execution_count": 10,
   "id": "a0f50add-0dd3-497f-9077-8c00f8db7599",
   "metadata": {},
   "outputs": [],
   "source": [
    "a = 3\n",
    "b = 7\n",
    "c = 21"
   ]
  },
  {
   "cell_type": "code",
   "execution_count": 12,
   "id": "4ce144dc-c926-4a25-a7ec-919b0296be83",
   "metadata": {},
   "outputs": [
    {
     "name": "stdout",
     "output_type": "stream",
     "text": [
      "1.0\n"
     ]
    }
   ],
   "source": [
    "print(a*b/c)"
   ]
  },
  {
   "cell_type": "code",
   "execution_count": 13,
   "id": "d8134a4d-e7f1-4c07-ab30-74308c922bf0",
   "metadata": {},
   "outputs": [
    {
     "name": "stdout",
     "output_type": "stream",
     "text": [
      "1000\n"
     ]
    }
   ],
   "source": [
    "a = 1000\n",
    "print(1000)"
   ]
  },
  {
   "cell_type": "code",
   "execution_count": 14,
   "id": "dc4ff899-6141-4ca4-b735-ecc3dc3c9704",
   "metadata": {},
   "outputs": [],
   "source": [
    "a += 100"
   ]
  },
  {
   "cell_type": "code",
   "execution_count": 15,
   "id": "fb18eba3-b254-463d-846b-04bf858700a6",
   "metadata": {},
   "outputs": [
    {
     "data": {
      "text/plain": [
       "1100"
      ]
     },
     "execution_count": 15,
     "metadata": {},
     "output_type": "execute_result"
    }
   ],
   "source": [
    "a"
   ]
  },
  {
   "cell_type": "code",
   "execution_count": 16,
   "id": "168b1359-e6e7-4488-bf4d-545c19339704",
   "metadata": {},
   "outputs": [
    {
     "data": {
      "text/plain": [
       "1100"
      ]
     },
     "execution_count": 16,
     "metadata": {},
     "output_type": "execute_result"
    }
   ],
   "source": [
    "a"
   ]
  },
  {
   "cell_type": "code",
   "execution_count": 25,
   "id": "4b3e6439-0735-45f0-b8fa-be88fcb65701",
   "metadata": {},
   "outputs": [],
   "source": [
    "a = 10\n",
    "b = 70\n",
    "c = 20"
   ]
  },
  {
   "cell_type": "markdown",
   "id": "e85ae3b4-9460-467e-a854-8318c81471d1",
   "metadata": {
    "jp-MarkdownHeadingCollapsed": true
   },
   "source": [
    "## Input Functions"
   ]
  },
  {
   "cell_type": "code",
   "execution_count": 26,
   "id": "5727f471-8975-4b2b-8d0f-64d886420d2f",
   "metadata": {},
   "outputs": [
    {
     "name": "stdin",
     "output_type": "stream",
     "text": [
      "Enter your Age 21\n"
     ]
    },
    {
     "name": "stdout",
     "output_type": "stream",
     "text": [
      "21\n"
     ]
    }
   ],
   "source": [
    "Age = int(input(\"Enter your Age\"))\n",
    "print(Age)"
   ]
  },
  {
   "cell_type": "code",
   "execution_count": 45,
   "id": "79bed614-5b52-45a8-ba02-69721d9d7c14",
   "metadata": {},
   "outputs": [
    {
     "name": "stdin",
     "output_type": "stream",
     "text": [
      "Enter the equation 77+55\n"
     ]
    },
    {
     "name": "stdout",
     "output_type": "stream",
     "text": [
      "132\n"
     ]
    }
   ],
   "source": [
    "construction = eval(input(\"Enter the equation\"))\n",
    "print(construction)"
   ]
  },
  {
   "cell_type": "code",
   "execution_count": 30,
   "id": "c3a99e33-0684-4621-8297-495dce642dbf",
   "metadata": {},
   "outputs": [
    {
     "name": "stdin",
     "output_type": "stream",
     "text": [
      "enter your length 7\n"
     ]
    },
    {
     "name": "stdout",
     "output_type": "stream",
     "text": [
      "7.0\n"
     ]
    }
   ],
   "source": [
    "length = float(input(\"enter your length\"))\n",
    "print(length)"
   ]
  },
  {
   "cell_type": "code",
   "execution_count": 31,
   "id": "68929d23-ed13-4515-81d7-5e45a6eb4228",
   "metadata": {},
   "outputs": [
    {
     "name": "stdin",
     "output_type": "stream",
     "text": [
      "Enter your breadth 8\n"
     ]
    },
    {
     "name": "stdout",
     "output_type": "stream",
     "text": [
      "8.0\n"
     ]
    }
   ],
   "source": [
    "breadth = float(input(\"Enter your breadth\"))\n",
    "print(breadth)"
   ]
  },
  {
   "cell_type": "code",
   "execution_count": 44,
   "id": "171e1219-35a3-4a06-954f-723adc0108ca",
   "metadata": {},
   "outputs": [],
   "source": [
    "length = 10\n",
    "breadth = 20"
   ]
  },
  {
   "cell_type": "markdown",
   "id": "da3384a4-6c42-44b1-8e6a-9a7222b5acb0",
   "metadata": {
    "jp-MarkdownHeadingCollapsed": true
   },
   "source": [
    "## Datatypes or type function"
   ]
  },
  {
   "cell_type": "code",
   "execution_count": 45,
   "id": "efa1aa3c-2813-498d-8cd6-14ada04af627",
   "metadata": {},
   "outputs": [],
   "source": [
    "a = 100"
   ]
  },
  {
   "cell_type": "code",
   "execution_count": 54,
   "id": "ed60d5ea-97c6-4f0c-9295-5deb9e9b2eef",
   "metadata": {},
   "outputs": [],
   "source": [
    "a -= 90"
   ]
  },
  {
   "cell_type": "code",
   "execution_count": 55,
   "id": "66876b1d-faff-47b2-be3a-5bcbffb844f8",
   "metadata": {},
   "outputs": [
    {
     "data": {
      "text/plain": [
       "-102"
      ]
     },
     "execution_count": 55,
     "metadata": {},
     "output_type": "execute_result"
    }
   ],
   "source": [
    "a"
   ]
  },
  {
   "cell_type": "code",
   "execution_count": 57,
   "id": "d7a148a5-fecd-4605-8e99-8f1158a2dd41",
   "metadata": {},
   "outputs": [
    {
     "data": {
      "text/plain": [
       "str"
      ]
     },
     "execution_count": 57,
     "metadata": {},
     "output_type": "execute_result"
    }
   ],
   "source": [
    "type(\"ujwal\")"
   ]
  },
  {
   "cell_type": "code",
   "execution_count": 58,
   "id": "ef878772-a902-424d-9c38-5fc0fd75c34b",
   "metadata": {},
   "outputs": [
    {
     "data": {
      "text/plain": [
       "int"
      ]
     },
     "execution_count": 58,
     "metadata": {},
     "output_type": "execute_result"
    }
   ],
   "source": [
    "type(0)"
   ]
  },
  {
   "cell_type": "code",
   "execution_count": 59,
   "id": "cb4f3c29-631c-4434-aec3-c1ffbcf2d63d",
   "metadata": {},
   "outputs": [
    {
     "data": {
      "text/plain": [
       "float"
      ]
     },
     "execution_count": 59,
     "metadata": {},
     "output_type": "execute_result"
    }
   ],
   "source": [
    "type(7.0)"
   ]
  },
  {
   "cell_type": "code",
   "execution_count": 60,
   "id": "b4403351-8052-4d74-b8a9-23c4351dd272",
   "metadata": {},
   "outputs": [
    {
     "data": {
      "text/plain": [
       "bool"
      ]
     },
     "execution_count": 60,
     "metadata": {},
     "output_type": "execute_result"
    }
   ],
   "source": [
    "type(True)"
   ]
  },
  {
   "cell_type": "code",
   "execution_count": 61,
   "id": "40244e25-2e09-4bc7-bef3-c1e052bd46f6",
   "metadata": {},
   "outputs": [
    {
     "data": {
      "text/plain": [
       "bool"
      ]
     },
     "execution_count": 61,
     "metadata": {},
     "output_type": "execute_result"
    }
   ],
   "source": [
    "type(False)"
   ]
  },
  {
   "cell_type": "code",
   "execution_count": 65,
   "id": "a355eed2-cc5f-4805-83f6-a594a018d55b",
   "metadata": {},
   "outputs": [
    {
     "data": {
      "text/plain": [
       "complex"
      ]
     },
     "execution_count": 65,
     "metadata": {},
     "output_type": "execute_result"
    }
   ],
   "source": [
    "type(2+3j)"
   ]
  },
  {
   "cell_type": "code",
   "execution_count": 113,
   "id": "505acece-46f7-49ff-9ae0-959ce0fc83ea",
   "metadata": {},
   "outputs": [
    {
     "name": "stdout",
     "output_type": "stream",
     "text": [
      "3\n"
     ]
    }
   ],
   "source": [
    "name = \"ujwal rana\"\n",
    "print(name.count(\"a\"))"
   ]
  },
  {
   "cell_type": "code",
   "execution_count": 114,
   "id": "9fbd1d64-eec0-4d88-9ba4-165747facb55",
   "metadata": {},
   "outputs": [
    {
     "name": "stdout",
     "output_type": "stream",
     "text": [
      "UJWAL RANA\n"
     ]
    }
   ],
   "source": [
    "name = \"ujwal rana\"\n",
    "print(name.upper())"
   ]
  },
  {
   "cell_type": "code",
   "execution_count": 115,
   "id": "a51c025b-8ae3-418d-bf7c-7c2e24e659e9",
   "metadata": {},
   "outputs": [
    {
     "name": "stdout",
     "output_type": "stream",
     "text": [
      "ujwal rana\n"
     ]
    }
   ],
   "source": [
    "name = \"UJWAL RANA\"\n",
    "print(name.lower())"
   ]
  },
  {
   "cell_type": "code",
   "execution_count": 117,
   "id": "9cc88f1b-6df0-4246-b055-985ceaf11b8e",
   "metadata": {},
   "outputs": [
    {
     "name": "stdout",
     "output_type": "stream",
     "text": [
      "6\n"
     ]
    }
   ],
   "source": [
    "name = \"Ujwal Rana\"\n",
    "print(name.find(\"R\"))"
   ]
  },
  {
   "cell_type": "code",
   "execution_count": 120,
   "id": "dacc90ea-97a5-49e5-898b-9492be96e6a4",
   "metadata": {},
   "outputs": [
    {
     "name": "stdout",
     "output_type": "stream",
     "text": [
      "Ujwnl Rnnn\n"
     ]
    }
   ],
   "source": [
    "name = \"Ujwal Rana\"\n",
    "print(name.replace(\"a\",\"n\"))"
   ]
  },
  {
   "cell_type": "code",
   "execution_count": 127,
   "id": "874c8e70-382a-4e9a-baef-2194cebd1740",
   "metadata": {},
   "outputs": [
    {
     "name": "stdout",
     "output_type": "stream",
     "text": [
      "Ujwel Rana\n"
     ]
    }
   ],
   "source": [
    "name = \"Ujwal Rana\"\n",
    "print(name.replace(\"a\",\"e\",1))"
   ]
  },
  {
   "cell_type": "code",
   "execution_count": 131,
   "id": "cd1dd3cf-90b8-4a91-bbfa-bc7e8de46b26",
   "metadata": {},
   "outputs": [
    {
     "name": "stdout",
     "output_type": "stream",
     "text": [
      "['ujwal Rana 21']\n"
     ]
    }
   ],
   "source": [
    "name = \"ujwal Rana 21\"\n",
    "print(name.split(\"_\"))"
   ]
  },
  {
   "cell_type": "code",
   "execution_count": 145,
   "id": "74898300-127c-494f-b6ac-a64712626039",
   "metadata": {},
   "outputs": [],
   "source": [
    "pets = \"TOM,JEERY,KUTTA,BILLI\".split()"
   ]
  },
  {
   "cell_type": "code",
   "execution_count": 146,
   "id": "c7a1aceb-68e8-46f0-860c-64ad4200fd16",
   "metadata": {},
   "outputs": [
    {
     "data": {
      "text/plain": [
       "['TOM,JEERY,KUTTA,BILLI']"
      ]
     },
     "execution_count": 146,
     "metadata": {},
     "output_type": "execute_result"
    }
   ],
   "source": [
    "pets"
   ]
  },
  {
   "cell_type": "code",
   "execution_count": 156,
   "id": "cb06f2cc-71af-44b5-8f0c-0188f33e0b23",
   "metadata": {},
   "outputs": [
    {
     "name": "stdout",
     "output_type": "stream",
     "text": [
      "['tom', 'jeery', 'kutta', 'billi']\n"
     ]
    }
   ],
   "source": [
    "pets = \"tom jeery kutta billi\"\n",
    "print(pets.split())"
   ]
  },
  {
   "cell_type": "code",
   "execution_count": 159,
   "id": "94b67a68-b661-4139-8d7c-53ee8a2116a8",
   "metadata": {},
   "outputs": [
    {
     "name": "stdout",
     "output_type": "stream",
     "text": [
      "tom    jerry   kutta\n"
     ]
    }
   ],
   "source": [
    "pets = \"tom    jerry   kutta\"\n",
    "print(pets.strip())"
   ]
  },
  {
   "cell_type": "code",
   "execution_count": 7,
   "id": "896b7389-3ee1-462f-8573-2c060bc65000",
   "metadata": {
    "scrolled": true
   },
   "outputs": [
    {
     "name": "stdout",
     "output_type": "stream",
     "text": [
      "ujwal rana\n"
     ]
    }
   ],
   "source": [
    "name = (\"ujwal rana\")\n",
    "print(name)"
   ]
  },
  {
   "cell_type": "code",
   "execution_count": 8,
   "id": "d6e8575e-af0d-4b46-b27a-ff6aa58fee70",
   "metadata": {},
   "outputs": [],
   "source": [
    "def myProfile(name,age,Profession):\n",
    "    return myProfile\n"
   ]
  },
  {
   "cell_type": "code",
   "execution_count": 9,
   "id": "ff99c9fb-210e-4f87-974f-e0b54326f6c5",
   "metadata": {},
   "outputs": [
    {
     "data": {
      "text/plain": [
       "<function __main__.myProfile(name, age, Profession)>"
      ]
     },
     "execution_count": 9,
     "metadata": {},
     "output_type": "execute_result"
    }
   ],
   "source": [
    "myProfile(\"ujwal rana\",21,\"student\")"
   ]
  },
  {
   "cell_type": "code",
   "execution_count": 10,
   "id": "8b2f3aa6-f8e2-445a-87f5-83f34b8e71ab",
   "metadata": {},
   "outputs": [
    {
     "data": {
      "text/plain": [
       "<function __main__.myProfile(name, age, Profession)>"
      ]
     },
     "execution_count": 10,
     "metadata": {},
     "output_type": "execute_result"
    }
   ],
   "source": [
    "myProfile"
   ]
  },
  {
   "cell_type": "code",
   "execution_count": 11,
   "id": "39c1ae16-b954-4b7e-891e-3ac49461c546",
   "metadata": {},
   "outputs": [],
   "source": [
    "name = (\"ujwal\")"
   ]
  },
  {
   "cell_type": "code",
   "execution_count": 12,
   "id": "5e40bf86-2f1a-4ac4-bcdd-e1dbf01327d7",
   "metadata": {},
   "outputs": [
    {
     "data": {
      "text/plain": [
       "'ujwal'"
      ]
     },
     "execution_count": 12,
     "metadata": {},
     "output_type": "execute_result"
    }
   ],
   "source": [
    "name"
   ]
  },
  {
   "cell_type": "code",
   "execution_count": 13,
   "id": "c9b2c578-0cb4-4eea-8b9b-35614158ecf2",
   "metadata": {},
   "outputs": [
    {
     "data": {
      "text/plain": [
       "'UJWAL'"
      ]
     },
     "execution_count": 13,
     "metadata": {},
     "output_type": "execute_result"
    }
   ],
   "source": [
    "name.upper()"
   ]
  },
  {
   "cell_type": "code",
   "execution_count": 14,
   "id": "7f118bab-fb7c-4d73-a02f-9e94d84cc98a",
   "metadata": {},
   "outputs": [
    {
     "data": {
      "text/plain": [
       "'ujwal'"
      ]
     },
     "execution_count": 14,
     "metadata": {},
     "output_type": "execute_result"
    }
   ],
   "source": [
    "name.lower()"
   ]
  },
  {
   "cell_type": "code",
   "execution_count": 15,
   "id": "e5dcdee1-fb3c-4a96-950e-ee79fe539e60",
   "metadata": {},
   "outputs": [
    {
     "data": {
      "text/plain": [
       "'UJWAL'"
      ]
     },
     "execution_count": 15,
     "metadata": {},
     "output_type": "execute_result"
    }
   ],
   "source": [
    "name.upper()"
   ]
  },
  {
   "cell_type": "code",
   "execution_count": 16,
   "id": "90e77e51-0590-4e63-a309-217e26fd1053",
   "metadata": {},
   "outputs": [
    {
     "data": {
      "text/plain": [
       "'ujwal'"
      ]
     },
     "execution_count": 16,
     "metadata": {},
     "output_type": "execute_result"
    }
   ],
   "source": [
    "name.lower()"
   ]
  },
  {
   "cell_type": "code",
   "execution_count": 17,
   "id": "7eb529e9-4e55-4d1e-be15-e67c4547eb28",
   "metadata": {},
   "outputs": [
    {
     "data": {
      "text/plain": [
       "False"
      ]
     },
     "execution_count": 17,
     "metadata": {},
     "output_type": "execute_result"
    }
   ],
   "source": [
    "name.isnumeric()"
   ]
  },
  {
   "cell_type": "code",
   "execution_count": 18,
   "id": "0a462662-2973-4b71-bbbc-c38141d94883",
   "metadata": {
    "scrolled": true
   },
   "outputs": [
    {
     "data": {
      "text/plain": [
       "True"
      ]
     },
     "execution_count": 18,
     "metadata": {},
     "output_type": "execute_result"
    }
   ],
   "source": [
    "name.isalpha()"
   ]
  },
  {
   "cell_type": "markdown",
   "id": "1afd4e68-67c6-434d-8a44-2386afe789b7",
   "metadata": {
    "jp-MarkdownHeadingCollapsed": true
   },
   "source": [
    "## String"
   ]
  },
  {
   "cell_type": "code",
   "execution_count": 43,
   "id": "ad3c5bf9-ac74-4dd1-a29e-5d850091ad56",
   "metadata": {},
   "outputs": [],
   "source": [
    "name = \"ujwal\"\n",
    "salary = 80000"
   ]
  },
  {
   "cell_type": "code",
   "execution_count": 45,
   "id": "0006f182-1396-4978-ae06-d60ad529ed67",
   "metadata": {},
   "outputs": [
    {
     "data": {
      "text/plain": [
       "'hi my name is ujwal and my salary is 80000'"
      ]
     },
     "execution_count": 45,
     "metadata": {},
     "output_type": "execute_result"
    }
   ],
   "source": [
    "f\"hi my name is {name} and my salary is {salary}\""
   ]
  },
  {
   "cell_type": "code",
   "execution_count": 60,
   "id": "f647d55f-789b-4fb5-bd83-0ec0acd2b9c5",
   "metadata": {},
   "outputs": [],
   "source": [
    "name = \"ujwal\"\n",
    "salary = 80000\n",
    "education = \"Bba\""
   ]
  },
  {
   "cell_type": "code",
   "execution_count": 62,
   "id": "d41ccc84-c043-49a0-bb85-fdca1da47462",
   "metadata": {},
   "outputs": [
    {
     "data": {
      "text/plain": [
       "'hi my name is ujwal and my salary is 80000 and my education is Bba'"
      ]
     },
     "execution_count": 62,
     "metadata": {},
     "output_type": "execute_result"
    }
   ],
   "source": [
    "f\"hi my name is {name} and my salary is {salary} and my education is {education}\""
   ]
  },
  {
   "cell_type": "code",
   "execution_count": 63,
   "id": "5d7ec153-6c90-4274-9fa9-e2289a88466f",
   "metadata": {},
   "outputs": [],
   "source": [
    "a = name \n",
    "b = salary\n",
    "c = education"
   ]
  },
  {
   "cell_type": "code",
   "execution_count": 64,
   "id": "1408bbb3-6d8c-41be-bf89-dd52ecb3a692",
   "metadata": {},
   "outputs": [
    {
     "data": {
      "text/plain": [
       "'ujwal'"
      ]
     },
     "execution_count": 64,
     "metadata": {},
     "output_type": "execute_result"
    }
   ],
   "source": [
    "a"
   ]
  },
  {
   "cell_type": "code",
   "execution_count": 65,
   "id": "885c91aa-d84c-4728-9fbe-04dc8bb94bda",
   "metadata": {},
   "outputs": [
    {
     "data": {
      "text/plain": [
       "80000"
      ]
     },
     "execution_count": 65,
     "metadata": {},
     "output_type": "execute_result"
    }
   ],
   "source": [
    "b"
   ]
  },
  {
   "cell_type": "code",
   "execution_count": 66,
   "id": "76d7cd3b-8f2c-4426-acb4-4eae28136b62",
   "metadata": {},
   "outputs": [
    {
     "data": {
      "text/plain": [
       "'Bba'"
      ]
     },
     "execution_count": 66,
     "metadata": {},
     "output_type": "execute_result"
    }
   ],
   "source": [
    "c"
   ]
  },
  {
   "cell_type": "code",
   "execution_count": 101,
   "id": "e1636286-a370-420c-b958-1dd5a9f6fdef",
   "metadata": {},
   "outputs": [],
   "source": [
    "name = \"ujwal\"\n",
    "age = 21\n",
    "salary = 75000"
   ]
  },
  {
   "cell_type": "code",
   "execution_count": 103,
   "id": "88b4374d-4908-4f9b-a590-eedbf79833b9",
   "metadata": {},
   "outputs": [
    {
     "data": {
      "text/plain": [
       "'Hi my name is ujwal my age is 21 any my salary is 75000'"
      ]
     },
     "execution_count": 103,
     "metadata": {},
     "output_type": "execute_result"
    }
   ],
   "source": [
    "\"Hi my name is {} my age is {} any my salary is {}\".format(name,age,salary)"
   ]
  },
  {
   "cell_type": "code",
   "execution_count": 104,
   "id": "eb945fe2-b289-4221-9b14-e8431fc03765",
   "metadata": {},
   "outputs": [],
   "source": [
    "name = \"ujwal\"\n",
    "age = 21\n",
    "salary = 75000"
   ]
  },
  {
   "cell_type": "code",
   "execution_count": 105,
   "id": "2ed0f97b-43a6-49e2-859f-ac1d0839330a",
   "metadata": {},
   "outputs": [
    {
     "data": {
      "text/plain": [
       "'Hi my name is ujwal my age is 21 any my salary is 75000'"
      ]
     },
     "execution_count": 105,
     "metadata": {},
     "output_type": "execute_result"
    }
   ],
   "source": [
    "f\"Hi my name is {name} my age is {age} any my salary is {salary}\""
   ]
  },
  {
   "cell_type": "markdown",
   "id": "449a5ca5-d366-4022-ba80-dd7d3e002f9d",
   "metadata": {
    "jp-MarkdownHeadingCollapsed": true
   },
   "source": [
    "## Conditional statements"
   ]
  },
  {
   "cell_type": "code",
   "execution_count": 79,
   "id": "111945d3-86ed-454d-b19e-f6c7c14c27c3",
   "metadata": {},
   "outputs": [],
   "source": [
    "num = 4"
   ]
  },
  {
   "cell_type": "code",
   "execution_count": 80,
   "id": "acf2a62f-733e-4f2f-9e52-0b685ba153d1",
   "metadata": {},
   "outputs": [
    {
     "name": "stdout",
     "output_type": "stream",
     "text": [
      "this number is positive\n"
     ]
    }
   ],
   "source": [
    "if num > 3:\n",
    "    print(\"this number is positive\")\n",
    "\n",
    "elif num < 1:\n",
    "    print(\"this number is negative\")\n",
    "\n",
    "else:\n",
    "    print(\"the actual reason\")"
   ]
  },
  {
   "cell_type": "code",
   "execution_count": 91,
   "id": "0b815535-8239-4240-ae13-ff3ad2be8e02",
   "metadata": {},
   "outputs": [
    {
     "name": "stdout",
     "output_type": "stream",
     "text": [
      "Very great\n"
     ]
    }
   ],
   "source": [
    "if num > 5:\n",
    "    print(\"Very great\")\n",
    "\n",
    "elif num < 1:\n",
    "    print(\"Not bad\")\n",
    "\n",
    "else:\n",
    "    print(\"Worst\")"
   ]
  },
  {
   "cell_type": "code",
   "execution_count": 90,
   "id": "44470a5f-d2bb-4758-8925-d72941cd280f",
   "metadata": {},
   "outputs": [],
   "source": [
    "num = 7"
   ]
  },
  {
   "cell_type": "markdown",
   "id": "ba5c7646-9125-4913-904a-17c67fb2d3fb",
   "metadata": {},
   "source": [
    "## Questions"
   ]
  },
  {
   "cell_type": "markdown",
   "id": "2a82c6cd-a736-48f2-87e6-da05a1b474ba",
   "metadata": {},
   "source": [
    "1. check if a number is positive and negative in python"
   ]
  },
  {
   "cell_type": "code",
   "execution_count": 14,
   "id": "1dd91172-4861-416e-85ae-22cc120f591e",
   "metadata": {},
   "outputs": [],
   "source": [
    "num = 999"
   ]
  },
  {
   "cell_type": "code",
   "execution_count": 15,
   "id": "2135e3a1-be56-4af2-bb27-e63c60b2455c",
   "metadata": {},
   "outputs": [
    {
     "name": "stdout",
     "output_type": "stream",
     "text": [
      "positive\n"
     ]
    }
   ],
   "source": [
    "if num > 0:\n",
    "    print(\"positive\")\n",
    "\n",
    "else:\n",
    "    print(\"negative\")"
   ]
  },
  {
   "cell_type": "markdown",
   "id": "8dca1221-c40c-415e-8a8a-d484bf556200",
   "metadata": {},
   "source": [
    "####  or"
   ]
  },
  {
   "cell_type": "code",
   "execution_count": 30,
   "id": "0cbe4b28-a88b-4310-936a-91f28062bbab",
   "metadata": {},
   "outputs": [],
   "source": [
    "num = 99"
   ]
  },
  {
   "cell_type": "code",
   "execution_count": 31,
   "id": "6d321f1f-1d17-498e-8e2c-1096ab0aff85",
   "metadata": {},
   "outputs": [
    {
     "name": "stdout",
     "output_type": "stream",
     "text": [
      "number is positive\n"
     ]
    }
   ],
   "source": [
    "if num > 0:\n",
    "    if num ==0:\n",
    "        print(\"number is zero\")\n",
    "\n",
    "    elif num <= 0:\n",
    "        print(\"negative number\")\n",
    "\n",
    "    else:\n",
    "        print(\"number is positive\")"
   ]
  },
  {
   "cell_type": "code",
   "execution_count": 42,
   "id": "3f5dcf51-741e-458b-beb2-e59d505d1711",
   "metadata": {},
   "outputs": [
    {
     "name": "stdin",
     "output_type": "stream",
     "text": [
      "Enter your number 8\n"
     ]
    },
    {
     "name": "stdout",
     "output_type": "stream",
     "text": [
      "Positive\n"
     ]
    }
   ],
   "source": [
    "num = int(input(\"Enter your number\"))\n",
    "if num > 0:\n",
    "    print(\"Positive\")\n",
    "\n",
    "else: print(\"Negative\")"
   ]
  },
  {
   "cell_type": "markdown",
   "id": "bdc94e52-1c80-4b68-91b8-99585310dbde",
   "metadata": {},
   "source": [
    "2. Check whether a number is even or odd in pyhton?"
   ]
  },
  {
   "cell_type": "code",
   "execution_count": 34,
   "id": "a1797ea1-d981-420e-815a-60749e25c144",
   "metadata": {},
   "outputs": [],
   "source": [
    "num = 10"
   ]
  },
  {
   "cell_type": "code",
   "execution_count": 35,
   "id": "080a0668-9060-4079-80eb-836cd44e1a8f",
   "metadata": {},
   "outputs": [
    {
     "name": "stdout",
     "output_type": "stream",
     "text": [
      "Even\n"
     ]
    }
   ],
   "source": [
    "if num % 2 == 0:\n",
    "    print(\"Even\")\n",
    "\n",
    "else:\n",
    "    print(\"odd\")"
   ]
  },
  {
   "cell_type": "markdown",
   "id": "9469b133-36d2-4547-9d64-5eaa39315814",
   "metadata": {},
   "source": [
    "or "
   ]
  },
  {
   "cell_type": "code",
   "execution_count": 12,
   "id": "479c9024-9109-4fb2-94aa-e0c66e29fc45",
   "metadata": {},
   "outputs": [
    {
     "name": "stdin",
     "output_type": "stream",
     "text": [
      "Enter your number: 1\n"
     ]
    },
    {
     "name": "stdout",
     "output_type": "stream",
     "text": [
      "odd\n"
     ]
    }
   ],
   "source": [
    "num = int(input(\"Enter your number:\"))\n",
    "if num % 2 == 0:\n",
    "    print(\"Even\")\n",
    "\n",
    "else:\n",
    "    print(\"odd\")"
   ]
  },
  {
   "cell_type": "markdown",
   "id": "d417d673-f514-41bb-a1cc-2a6e55089a47",
   "metadata": {},
   "source": [
    "3. Find the sum of the first N natural numbers in Python"
   ]
  },
  {
   "cell_type": "code",
   "execution_count": 73,
   "id": "ab4013b5-976c-45bc-a3bb-a8edb512e49a",
   "metadata": {},
   "outputs": [
    {
     "name": "stdout",
     "output_type": "stream",
     "text": [
      "0\n",
      "1\n",
      "2\n",
      "3\n",
      "4\n",
      "5\n",
      "6\n",
      "7\n",
      "8\n",
      "9\n"
     ]
    }
   ],
   "source": [
    "# formula = num(num+1)/2\n",
    "num = 10\n",
    "sum = 0\n",
    "for i in range (0,10):\n",
    "    sum += 1\n",
    "    print(i)"
   ]
  },
  {
   "cell_type": "code",
   "execution_count": 70,
   "id": "41978637-10a3-4690-bdc1-8e46565c12ca",
   "metadata": {},
   "outputs": [
    {
     "name": "stdout",
     "output_type": "stream",
     "text": [
      "1\n",
      "2\n",
      "3\n",
      "4\n",
      "5\n",
      "6\n",
      "7\n",
      "8\n",
      "9\n",
      "10\n"
     ]
    }
   ],
   "source": [
    "num = 10\n",
    "sum = 0\n",
    "for i in range (0,10):\n",
    "    sum += 1\n",
    "    print(sum)"
   ]
  },
  {
   "cell_type": "code",
   "execution_count": 72,
   "id": "bda0950e-ee86-4f7e-b236-1f478dd5ee9a",
   "metadata": {},
   "outputs": [
    {
     "name": "stdout",
     "output_type": "stream",
     "text": [
      "39\n",
      "38\n",
      "37\n",
      "36\n",
      "35\n",
      "34\n",
      "33\n",
      "32\n",
      "31\n",
      "30\n",
      "29\n"
     ]
    }
   ],
   "source": [
    "num = 50\n",
    "sum = 40\n",
    "for i in range (0,11):\n",
    "    sum -= 1\n",
    "    print(sum)"
   ]
  },
  {
   "cell_type": "markdown",
   "id": "fc66ec30-1c75-4b31-a77d-479842f3d14e",
   "metadata": {},
   "source": [
    "4. Find the greatest of 2 numbers  "
   ]
  },
  {
   "cell_type": "code",
   "execution_count": 9,
   "id": "46b7196c-618e-4e96-b6c3-1d4ce51ad53d",
   "metadata": {},
   "outputs": [
    {
     "name": "stdout",
     "output_type": "stream",
     "text": [
      "num1\n"
     ]
    }
   ],
   "source": [
    "num1 = 29\n",
    "num2 = 30\n",
    "if num1 < num2:\n",
    "    print(\"num1\")\n",
    "else:\n",
    "    print(\"num2\")"
   ]
  },
  {
   "cell_type": "markdown",
   "id": "2ac87068-b078-4a4a-9a20-9488896fd73e",
   "metadata": {},
   "source": [
    "5. Find the greatest between three numbers"
   ]
  },
  {
   "cell_type": "code",
   "execution_count": 32,
   "id": "b6123a90-c81f-450f-beea-dbda2d2260cd",
   "metadata": {},
   "outputs": [
    {
     "name": "stdout",
     "output_type": "stream",
     "text": [
      "33\n"
     ]
    }
   ],
   "source": [
    "num1 = 5\n",
    "num2 = 33\n",
    "num3 = 9\n",
    "if num1> num2 > num3:\n",
    "    print(num1)\n",
    "elif num2> num3 > num1:\n",
    "    print(num2)\n",
    "else:\n",
    "    print(num3)"
   ]
  },
  {
   "cell_type": "code",
   "execution_count": 43,
   "id": "7d665df8-bdab-41a6-9d77-916691a2002b",
   "metadata": {},
   "outputs": [
    {
     "name": "stdout",
     "output_type": "stream",
     "text": [
      "10\n"
     ]
    }
   ],
   "source": [
    "num1 = 7\n",
    "num2 = 90\n",
    "num3 = 10\n",
    "if num1 > num2 > num3:\n",
    "    print(num1)\n",
    "    if num1> num2 > num3:\n",
    "        print(num2)\n",
    "else:\n",
    "    print(num3)"
   ]
  },
  {
   "cell_type": "markdown",
   "id": "8777d3a2-99ad-4d83-9a4a-ff8833055094",
   "metadata": {},
   "source": [
    "6. Leap or not"
   ]
  },
  {
   "cell_type": "code",
   "execution_count": 13,
   "id": "487919dd-392c-4cbd-b741-ffffc8d58182",
   "metadata": {},
   "outputs": [
    {
     "name": "stdout",
     "output_type": "stream",
     "text": [
      "Not a leap year\n"
     ]
    }
   ],
   "source": [
    "year = 2001\n",
    "if (year% 400 == 0) or (year%4==0 and year%100!=0):\n",
    "    print(\"Leap year\")\n",
    "else:\n",
    "    print(\"Not a leap year\")"
   ]
  },
  {
   "cell_type": "code",
   "execution_count": 15,
   "id": "66dcbeb6-4e0d-48e2-9262-ca5a0efca8a6",
   "metadata": {},
   "outputs": [],
   "source": [
    "year = 2000"
   ]
  },
  {
   "cell_type": "code",
   "execution_count": 16,
   "id": "d18acde9-abfd-4647-abf3-4d1a3beadb7e",
   "metadata": {},
   "outputs": [
    {
     "name": "stdout",
     "output_type": "stream",
     "text": [
      "Leap year\n"
     ]
    }
   ],
   "source": [
    "if (year%400 == 0) or (year%4 ==0 and year%100!=0):\n",
    "    print(\"Leap year\")\n",
    "else:\n",
    "    print(\"Not a leap yaer\")"
   ]
  },
  {
   "cell_type": "code",
   "execution_count": 34,
   "id": "af1e4e57-06e7-4003-b680-a60386ce9264",
   "metadata": {},
   "outputs": [
    {
     "name": "stdout",
     "output_type": "stream",
     "text": [
      "Leap year\n"
     ]
    }
   ],
   "source": [
    "year = 2004\n",
    "if (year%400 == 0) or (year%4 == 0 and year%100!= 0):\n",
    "    print('Leap year')\n",
    "else:\n",
    "    print('Not a leap year')"
   ]
  },
  {
   "cell_type": "markdown",
   "id": "f93de2db-d62e-429c-971a-5f3566b2eabe",
   "metadata": {},
   "source": [
    "7. Prime Number or not"
   ]
  },
  {
   "cell_type": "code",
   "execution_count": 43,
   "id": "8f7847fb-c082-4ffe-ad46-16969c4233df",
   "metadata": {},
   "outputs": [
    {
     "name": "stdout",
     "output_type": "stream",
     "text": [
      "Prime number\n"
     ]
    }
   ],
   "source": [
    "num = 19\n",
    "prime = True\n",
    "if num % 2 == 0:\n",
    "    print(\"Not a prime number\")\n",
    "else:\n",
    "    print(\"Prime number\")"
   ]
  },
  {
   "cell_type": "markdown",
   "id": "e94d9caa-40b1-42d5-adf2-5751659571c5",
   "metadata": {},
   "source": [
    "8. Prime Number with a given range"
   ]
  },
  {
   "cell_type": "code",
   "execution_count": 51,
   "id": "40d4ad3a-9747-49ee-9f5c-0a288f24b8b9",
   "metadata": {},
   "outputs": [
    {
     "ename": "TypeError",
     "evalue": "unsupported operand type(s) for %: 'tuple' and 'int'",
     "output_type": "error",
     "traceback": [
      "\u001b[1;31m---------------------------------------------------------------------------\u001b[0m",
      "\u001b[1;31mTypeError\u001b[0m                                 Traceback (most recent call last)",
      "Cell \u001b[1;32mIn[51], line 3\u001b[0m\n\u001b[0;32m      1\u001b[0m num \u001b[38;5;241m=\u001b[39m \u001b[38;5;241m1\u001b[39m,\u001b[38;5;241m2\u001b[39m,\u001b[38;5;241m3\u001b[39m,\u001b[38;5;241m4\u001b[39m,\u001b[38;5;241m5\u001b[39m,\u001b[38;5;241m6\u001b[39m,\u001b[38;5;241m7\u001b[39m,\u001b[38;5;241m8\u001b[39m,\u001b[38;5;241m9\u001b[39m,\u001b[38;5;241m10\u001b[39m\n\u001b[0;32m      2\u001b[0m prime \u001b[38;5;241m=\u001b[39m \u001b[38;5;28;01mTrue\u001b[39;00m\n\u001b[1;32m----> 3\u001b[0m \u001b[38;5;28;01mif\u001b[39;00m num \u001b[38;5;241m%\u001b[39m \u001b[38;5;241m2\u001b[39m \u001b[38;5;241m==\u001b[39m \u001b[38;5;241m0\u001b[39m:\n\u001b[0;32m      4\u001b[0m     \u001b[38;5;28mprint\u001b[39m(\u001b[38;5;124m\"\u001b[39m\u001b[38;5;124mThis is not a prime number\u001b[39m\u001b[38;5;124m\"\u001b[39m)\n\u001b[0;32m      5\u001b[0m \u001b[38;5;28;01melse\u001b[39;00m:\n",
      "\u001b[1;31mTypeError\u001b[0m: unsupported operand type(s) for %: 'tuple' and 'int'"
     ]
    }
   ],
   "source": [
    "num = 1,2,3,4,5,6,7,8,9,10\n",
    "prime = True\n",
    "if num % 2 == 0:\n",
    "    print(\"This is not a prime number\")\n",
    "else:\n",
    "    print(\"This is a prime number\")"
   ]
  },
  {
   "cell_type": "code",
   "execution_count": null,
   "id": "afebb0e4-7bc2-4faa-9ba7-f1bbc87eaf20",
   "metadata": {},
   "outputs": [],
   "source": []
  }
 ],
 "metadata": {
  "kernelspec": {
   "display_name": "Python 3 (ipykernel)",
   "language": "python",
   "name": "python3"
  },
  "language_info": {
   "codemirror_mode": {
    "name": "ipython",
    "version": 3
   },
   "file_extension": ".py",
   "mimetype": "text/x-python",
   "name": "python",
   "nbconvert_exporter": "python",
   "pygments_lexer": "ipython3",
   "version": "3.13.5"
  }
 },
 "nbformat": 4,
 "nbformat_minor": 5
}
