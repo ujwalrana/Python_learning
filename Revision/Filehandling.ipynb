{
 "cells": [
  {
   "cell_type": "code",
   "execution_count": 3,
   "id": "6cfbefdb-47c7-41f5-adab-4d8d1ceb4479",
   "metadata": {},
   "outputs": [
    {
     "name": "stdout",
     "output_type": "stream",
     "text": [
      "IOO9;PT9;O;PYPT'['[DER'[[''['[']]]]\n"
     ]
    }
   ],
   "source": [
    "myfile = open(\"Netmax.txt\",\"r\")\n",
    "print(myfile.read())"
   ]
  },
  {
   "cell_type": "code",
   "execution_count": 4,
   "id": "c8478f81-d513-4a6d-abe9-0dcffe670006",
   "metadata": {},
   "outputs": [
    {
     "name": "stdout",
     "output_type": "stream",
     "text": [
      "IOO9;PT9;O;PYPT'['[DER'[[''['[']]]]\n"
     ]
    }
   ],
   "source": [
    "with open(\"Netmax.txt\",\"r\")as file:\n",
    "    print(file.readline())"
   ]
  },
  {
   "cell_type": "code",
   "execution_count": 6,
   "id": "560b6751-efb7-49c0-b341-bf0662ac8ed9",
   "metadata": {},
   "outputs": [
    {
     "name": "stdout",
     "output_type": "stream",
     "text": [
      "IOO9;PT9;O;PYPT'['[DER'[[''['[']]]]\n"
     ]
    }
   ],
   "source": [
    "with open(\"Netmax.txt\",\"r\") as file:\n",
    "     print(file.read())"
   ]
  },
  {
   "cell_type": "code",
   "execution_count": 7,
   "id": "f0e82e2f-1821-452f-bb11-1d6e687e9fc7",
   "metadata": {},
   "outputs": [
    {
     "name": "stdout",
     "output_type": "stream",
     "text": [
      "21\n"
     ]
    }
   ],
   "source": [
    "with open(\"rajput.txt\",\"w\") as file:\n",
    "    print(file.write(\"hello i am ujwal rana\"))"
   ]
  },
  {
   "cell_type": "code",
   "execution_count": 8,
   "id": "d1ef5c9e-7e9e-4d4b-b732-b5530bf97e48",
   "metadata": {},
   "outputs": [
    {
     "name": "stdout",
     "output_type": "stream",
     "text": [
      "hello i am ujwal rana\n"
     ]
    }
   ],
   "source": [
    "with open(\"rajput.txt\",\"r\")as file:\n",
    "    print(file.read())"
   ]
  },
  {
   "cell_type": "code",
   "execution_count": null,
   "id": "2b796db1-b5dd-408d-9e11-701994171c82",
   "metadata": {},
   "outputs": [],
   "source": []
  }
 ],
 "metadata": {
  "kernelspec": {
   "display_name": "Python 3 (ipykernel)",
   "language": "python",
   "name": "python3"
  },
  "language_info": {
   "codemirror_mode": {
    "name": "ipython",
    "version": 3
   },
   "file_extension": ".py",
   "mimetype": "text/x-python",
   "name": "python",
   "nbconvert_exporter": "python",
   "pygments_lexer": "ipython3",
   "version": "3.13.5"
  }
 },
 "nbformat": 4,
 "nbformat_minor": 5
}
