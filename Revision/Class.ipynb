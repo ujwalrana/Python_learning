{
 "cells": [
  {
   "cell_type": "code",
   "execution_count": 3,
   "id": "4fb80606-7c9c-4d4b-9f54-a462835b10ea",
   "metadata": {},
   "outputs": [],
   "source": [
    " class Car():\n",
    "     tyre = 4\n",
    "\n",
    "     def move():\n",
    "        print(\"i am moving forward\")"
   ]
  },
  {
   "cell_type": "code",
   "execution_count": 4,
   "id": "b8c86d92-6db8-40b0-92d4-b5debbed62c9",
   "metadata": {},
   "outputs": [
    {
     "data": {
      "text/plain": [
       "4"
      ]
     },
     "execution_count": 4,
     "metadata": {},
     "output_type": "execute_result"
    }
   ],
   "source": [
    "Car.tyre"
   ]
  },
  {
   "cell_type": "code",
   "execution_count": 6,
   "id": "06ff45f4-1a15-471c-944e-dddcd282f4f7",
   "metadata": {},
   "outputs": [
    {
     "name": "stdout",
     "output_type": "stream",
     "text": [
      "i am moving forward\n"
     ]
    }
   ],
   "source": [
    "Car.move()"
   ]
  },
  {
   "cell_type": "code",
   "execution_count": 7,
   "id": "3d8179d2-80c3-4118-9302-54c7b9af99e5",
   "metadata": {},
   "outputs": [],
   "source": [
    "class Human():\n",
    "    legs = 2\n",
    "\n",
    "    def eatUP():\n",
    "        print(\"i am eating\")\n",
    "        print(\"now i am full\")\n",
    "        print(\"Thank you\")"
   ]
  },
  {
   "cell_type": "code",
   "execution_count": 8,
   "id": "15caa152-defa-4633-8b06-e46870b3b3cc",
   "metadata": {},
   "outputs": [
    {
     "data": {
      "text/plain": [
       "2"
      ]
     },
     "execution_count": 8,
     "metadata": {},
     "output_type": "execute_result"
    }
   ],
   "source": [
    "Human.legs"
   ]
  },
  {
   "cell_type": "code",
   "execution_count": 9,
   "id": "911e305c-b24a-4bd2-a947-b78fd8657732",
   "metadata": {},
   "outputs": [
    {
     "name": "stdout",
     "output_type": "stream",
     "text": [
      "i am eating\n",
      "now i am full\n",
      "Thank you\n"
     ]
    }
   ],
   "source": [
    "Human.eatUP()"
   ]
  },
  {
   "cell_type": "code",
   "execution_count": 10,
   "id": "331b2014-f877-4970-b943-3267bee3437d",
   "metadata": {},
   "outputs": [],
   "source": [
    "gadi = Car()"
   ]
  },
  {
   "cell_type": "code",
   "execution_count": 11,
   "id": "a7237107-7e53-4333-9dc6-5026811550f0",
   "metadata": {},
   "outputs": [],
   "source": [
    "gadi2 = Car()"
   ]
  },
  {
   "cell_type": "code",
   "execution_count": 12,
   "id": "f6738668-724c-4566-abd3-47bf81887acd",
   "metadata": {},
   "outputs": [
    {
     "data": {
      "text/plain": [
       "4"
      ]
     },
     "execution_count": 12,
     "metadata": {},
     "output_type": "execute_result"
    }
   ],
   "source": [
    "gadi.tyre"
   ]
  },
  {
   "cell_type": "code",
   "execution_count": 13,
   "id": "7231f7fd-8acc-4e00-8b20-29e8f72de03e",
   "metadata": {},
   "outputs": [
    {
     "data": {
      "text/plain": [
       "4"
      ]
     },
     "execution_count": 13,
     "metadata": {},
     "output_type": "execute_result"
    }
   ],
   "source": [
    "gadi.tyre"
   ]
  },
  {
   "cell_type": "code",
   "execution_count": 14,
   "id": "18169e0d-56f6-4ea2-a1fc-ed39adf92fc6",
   "metadata": {},
   "outputs": [],
   "source": [
    "gadi.tyre = 3"
   ]
  },
  {
   "cell_type": "code",
   "execution_count": 15,
   "id": "03ab33ae-7221-4b45-910b-8a30c2458b0a",
   "metadata": {},
   "outputs": [
    {
     "data": {
      "text/plain": [
       "3"
      ]
     },
     "execution_count": 15,
     "metadata": {},
     "output_type": "execute_result"
    }
   ],
   "source": [
    "gadi.tyre"
   ]
  },
  {
   "cell_type": "code",
   "execution_count": 16,
   "id": "3727605a-c691-4867-be54-99666a3d8688",
   "metadata": {},
   "outputs": [
    {
     "data": {
      "text/plain": [
       "4"
      ]
     },
     "execution_count": 16,
     "metadata": {},
     "output_type": "execute_result"
    }
   ],
   "source": [
    "gadi2.tyre"
   ]
  },
  {
   "cell_type": "code",
   "execution_count": 20,
   "id": "e96238e1-63a1-42ad-ab99-285c1c048e96",
   "metadata": {},
   "outputs": [],
   "source": [
    "class Car():\n",
    "    tyre = 4\n",
    "\n",
    "    def move():\n",
    "        print(\"moving forward\")"
   ]
  },
  {
   "cell_type": "code",
   "execution_count": 21,
   "id": "41562ea0-44d3-4738-9358-c8eebff2c665",
   "metadata": {},
   "outputs": [],
   "source": [
    "gadi = Car()"
   ]
  },
  {
   "cell_type": "code",
   "execution_count": 22,
   "id": "2ecaf651-226d-4cc6-8c61-09c45bcff753",
   "metadata": {},
   "outputs": [
    {
     "data": {
      "text/plain": [
       "4"
      ]
     },
     "execution_count": 22,
     "metadata": {},
     "output_type": "execute_result"
    }
   ],
   "source": [
    "gadi.tyre"
   ]
  },
  {
   "cell_type": "code",
   "execution_count": 32,
   "id": "8b6e1cc7-e0f1-481d-902c-1e7b6b864ca0",
   "metadata": {},
   "outputs": [
    {
     "name": "stdout",
     "output_type": "stream",
     "text": [
      "moving forward\n"
     ]
    }
   ],
   "source": [
    "gadi.move()"
   ]
  },
  {
   "cell_type": "code",
   "execution_count": 26,
   "id": "981d63d7-6a86-4da8-8a93-3000808f356e",
   "metadata": {},
   "outputs": [],
   "source": [
    "class Car():\n",
    "    tyre = 4\n",
    "\n",
    "    def move(self):\n",
    "        print(\"moving forward\")"
   ]
  },
  {
   "cell_type": "code",
   "execution_count": 29,
   "id": "c5c7f3ff-0022-46e3-a93d-63e4f1cd9f47",
   "metadata": {},
   "outputs": [],
   "source": [
    "gadi = Car()"
   ]
  },
  {
   "cell_type": "code",
   "execution_count": 30,
   "id": "e550044f-0b0e-4eb7-b1a6-d18d5f62f2a7",
   "metadata": {},
   "outputs": [
    {
     "data": {
      "text/plain": [
       "4"
      ]
     },
     "execution_count": 30,
     "metadata": {},
     "output_type": "execute_result"
    }
   ],
   "source": [
    "gadi.tyre"
   ]
  },
  {
   "cell_type": "code",
   "execution_count": 31,
   "id": "78dbee09-c905-4bf8-83aa-930994cae91b",
   "metadata": {},
   "outputs": [
    {
     "name": "stdout",
     "output_type": "stream",
     "text": [
      "moving forward\n"
     ]
    }
   ],
   "source": [
    "gadi.move()"
   ]
  },
  {
   "cell_type": "code",
   "execution_count": 33,
   "id": "7a924262-cdde-4420-a9f0-ce405eb068e6",
   "metadata": {},
   "outputs": [],
   "source": [
    "gadi.name = \"nano\""
   ]
  },
  {
   "cell_type": "code",
   "execution_count": 34,
   "id": "4cda0cd7-08af-4f66-a557-427015a2d64b",
   "metadata": {},
   "outputs": [
    {
     "data": {
      "text/plain": [
       "'nano'"
      ]
     },
     "execution_count": 34,
     "metadata": {},
     "output_type": "execute_result"
    }
   ],
   "source": [
    "gadi.name"
   ]
  },
  {
   "cell_type": "code",
   "execution_count": 35,
   "id": "bc100b5a-7298-4ddc-b097-b64f13ba00c8",
   "metadata": {},
   "outputs": [],
   "source": [
    "gadi2.name = \"alto\""
   ]
  },
  {
   "cell_type": "code",
   "execution_count": 36,
   "id": "d7b56e7d-c126-4ba5-b77e-699089a127b2",
   "metadata": {},
   "outputs": [
    {
     "data": {
      "text/plain": [
       "'alto'"
      ]
     },
     "execution_count": 36,
     "metadata": {},
     "output_type": "execute_result"
    }
   ],
   "source": [
    "gadi2.name"
   ]
  },
  {
   "cell_type": "code",
   "execution_count": 37,
   "id": "32d1ab68-e7e8-40d7-85cb-221455ee0dab",
   "metadata": {},
   "outputs": [],
   "source": [
    "class Car():\n",
    "    tyre = 4\n",
    "\n",
    "    def __int__(self):\n",
    "        self.name = \"nano\"\n",
    "\n",
    "    def mave():\n",
    "        print(\"moving forward\")"
   ]
  },
  {
   "cell_type": "code",
   "execution_count": 38,
   "id": "c4725559-4565-443f-bff4-0692bc71c219",
   "metadata": {},
   "outputs": [
    {
     "data": {
      "text/plain": [
       "'nano'"
      ]
     },
     "execution_count": 38,
     "metadata": {},
     "output_type": "execute_result"
    }
   ],
   "source": [
    "gadi.name"
   ]
  },
  {
   "cell_type": "code",
   "execution_count": 39,
   "id": "3879e1e4-7199-400f-b051-6a4312e5d467",
   "metadata": {},
   "outputs": [
    {
     "name": "stdout",
     "output_type": "stream",
     "text": [
      "moving forward\n"
     ]
    }
   ],
   "source": [
    "gadi.move()"
   ]
  },
  {
   "cell_type": "code",
   "execution_count": 40,
   "id": "15da2704-83ad-4553-8fdc-167901a5a0b0",
   "metadata": {},
   "outputs": [],
   "source": [
    "class Car():\n",
    "    # variable belonging to whole class\n",
    "    tyre = 4\n",
    "\n",
    "    def __init__(self,modelName):\n",
    "        # variable of the object\n",
    "        self.name = modelName\n",
    "\n",
    "    def move():\n",
    "        print(\"moving forward\")"
   ]
  },
  {
   "cell_type": "code",
   "execution_count": 41,
   "id": "2e0c00f6-2d60-495b-be15-5e1b0178f3e2",
   "metadata": {},
   "outputs": [
    {
     "data": {
      "text/plain": [
       "'nano'"
      ]
     },
     "execution_count": 41,
     "metadata": {},
     "output_type": "execute_result"
    }
   ],
   "source": [
    "gadi.name"
   ]
  },
  {
   "cell_type": "code",
   "execution_count": 42,
   "id": "329d5742-08ac-45a7-ac34-2d4d487d44ee",
   "metadata": {},
   "outputs": [
    {
     "data": {
      "text/plain": [
       "'alto'"
      ]
     },
     "execution_count": 42,
     "metadata": {},
     "output_type": "execute_result"
    }
   ],
   "source": [
    "gadi2.name"
   ]
  },
  {
   "cell_type": "code",
   "execution_count": 45,
   "id": "29e30ca6-c10c-4c86-bf23-994e074fdab9",
   "metadata": {},
   "outputs": [
    {
     "name": "stdout",
     "output_type": "stream",
     "text": [
      "moving forward\n"
     ]
    }
   ],
   "source": [
    "gadi.move()"
   ]
  },
  {
   "cell_type": "code",
   "execution_count": 46,
   "id": "8b0578e0-21d9-49ea-af26-91aa298467a1",
   "metadata": {},
   "outputs": [],
   "source": [
    "gadi = Car(\"Nano\")"
   ]
  },
  {
   "cell_type": "code",
   "execution_count": 47,
   "id": "e3debe00-2a12-463d-b4a8-79e1343d4245",
   "metadata": {},
   "outputs": [
    {
     "data": {
      "text/plain": [
       "'Nano'"
      ]
     },
     "execution_count": 47,
     "metadata": {},
     "output_type": "execute_result"
    }
   ],
   "source": [
    "gadi.name"
   ]
  },
  {
   "cell_type": "code",
   "execution_count": 48,
   "id": "06204cda-1916-4b58-b4fd-c17a6a2ac0ee",
   "metadata": {},
   "outputs": [],
   "source": [
    "gadi2 = Car(\"Scorpio\")"
   ]
  },
  {
   "cell_type": "code",
   "execution_count": 49,
   "id": "9dc89d12-3cd9-4fae-aa8a-e471bd1cb8a0",
   "metadata": {},
   "outputs": [
    {
     "data": {
      "text/plain": [
       "'Scorpio'"
      ]
     },
     "execution_count": 49,
     "metadata": {},
     "output_type": "execute_result"
    }
   ],
   "source": [
    "gadi2.name"
   ]
  },
  {
   "cell_type": "code",
   "execution_count": 50,
   "id": "b478db3e-4412-45f6-99b2-90ee60e1d2fb",
   "metadata": {},
   "outputs": [],
   "source": [
    "gadi3 = Car(\"Thar\")"
   ]
  },
  {
   "cell_type": "code",
   "execution_count": 51,
   "id": "58d2ee1b-64dd-4f73-a66b-c9f84205f964",
   "metadata": {},
   "outputs": [
    {
     "data": {
      "text/plain": [
       "'Thar'"
      ]
     },
     "execution_count": 51,
     "metadata": {},
     "output_type": "execute_result"
    }
   ],
   "source": [
    "gadi3.name"
   ]
  },
  {
   "cell_type": "code",
   "execution_count": 1,
   "id": "75a5fb05-cfee-4779-909c-2b8178e709ea",
   "metadata": {},
   "outputs": [],
   "source": [
    "class Car():\n",
    "    tyre = 4\n",
    "\n",
    "    def __init__(self,model,year = None):\n",
    "        self.model = model\n",
    "        self.year = year\n",
    "\n",
    "    def introduction(self):\n",
    "        print(f'hi i am {self.model} and i was made in {self.year}')\n",
    "\n",
    "    def move(self):\n",
    "        print(f\"i am {self.model} moving forward since {self.year}\")\n",
    "    "
   ]
  },
  {
   "cell_type": "code",
   "execution_count": 5,
   "id": "be3d87d1-01ef-45e4-9152-2c21ca567719",
   "metadata": {},
   "outputs": [],
   "source": [
    "gadi = Car(\"alto\",\"2005\")"
   ]
  },
  {
   "cell_type": "code",
   "execution_count": 6,
   "id": "c6ab1a8b-81e6-4000-abf8-80820b803739",
   "metadata": {},
   "outputs": [
    {
     "name": "stdout",
     "output_type": "stream",
     "text": [
      "hi i am alto and i was made in 2005\n"
     ]
    }
   ],
   "source": [
    "gadi.introduction()"
   ]
  },
  {
   "cell_type": "code",
   "execution_count": 7,
   "id": "875b6a22-2b6f-4dcc-b834-fac388ed4517",
   "metadata": {},
   "outputs": [
    {
     "name": "stdout",
     "output_type": "stream",
     "text": [
      "i am alto moving forward since 2005\n"
     ]
    }
   ],
   "source": [
    "gadi.move()"
   ]
  },
  {
   "cell_type": "markdown",
   "id": "67231d09-4ed0-4f13-8997-b5f93db36907",
   "metadata": {
    "jp-MarkdownHeadingCollapsed": true
   },
   "source": [
    "#### Magic Functions"
   ]
  },
  {
   "cell_type": "code",
   "execution_count": 3,
   "id": "38a75238-59fc-4920-8874-9038de72628a",
   "metadata": {},
   "outputs": [],
   "source": [
    "class Account():\n",
    "    BANK_NAME = \"SBI\"\n",
    "\n",
    "    def __init__(self,name,initialDeposit = 0):\n",
    "        self.name = name\n",
    "        self.balance = initialDeposit"
   ]
  },
  {
   "cell_type": "code",
   "execution_count": 4,
   "id": "0acd3090-ed6a-40b6-bd6b-57de5669ed29",
   "metadata": {},
   "outputs": [],
   "source": [
    "phelaAccount = Account(\"ujwal\",50000)"
   ]
  },
  {
   "cell_type": "code",
   "execution_count": 7,
   "id": "620a7ec7-3f13-4b00-b4c3-a10062be92e2",
   "metadata": {},
   "outputs": [
    {
     "data": {
      "text/plain": [
       "'SBI'"
      ]
     },
     "execution_count": 7,
     "metadata": {},
     "output_type": "execute_result"
    }
   ],
   "source": [
    "phelaAccount.BANK_NAME"
   ]
  },
  {
   "cell_type": "code",
   "execution_count": 8,
   "id": "44df73e2-e9cb-438d-a778-1ec5e35cf3ac",
   "metadata": {},
   "outputs": [
    {
     "data": {
      "text/plain": [
       "50000"
      ]
     },
     "execution_count": 8,
     "metadata": {},
     "output_type": "execute_result"
    }
   ],
   "source": [
    "phelaAccount.balance"
   ]
  },
  {
   "cell_type": "code",
   "execution_count": 9,
   "id": "7f94940f-4746-4ce8-bbd8-c4fb84689c9c",
   "metadata": {},
   "outputs": [
    {
     "data": {
      "text/plain": [
       "'ujwal'"
      ]
     },
     "execution_count": 9,
     "metadata": {},
     "output_type": "execute_result"
    }
   ],
   "source": [
    "phelaAccount.name"
   ]
  },
  {
   "cell_type": "code",
   "execution_count": 52,
   "id": "efb3676c-a3da-49de-94c0-830d97acfaa8",
   "metadata": {},
   "outputs": [],
   "source": [
    "class Account():\n",
    "    BANK_NAME = \"SBI\"\n",
    "\n",
    "    def __init__(self,name,initialDeposit = 0):\n",
    "        self.name = name\n",
    "        self.balance = initialDeposit\n",
    "        print(f\"\"\"{self.name} WELCOME TO {self.BANK_NAME}\"\"\")"
   ]
  },
  {
   "cell_type": "code",
   "execution_count": null,
   "id": "ebcd7984-13ec-4e3f-a27b-247a90aa0e22",
   "metadata": {},
   "outputs": [],
   "source": []
  },
  {
   "cell_type": "code",
   "execution_count": 29,
   "id": "4e6e433b-49a7-4ae3-98f6-98ca32f4556f",
   "metadata": {},
   "outputs": [
    {
     "name": "stdout",
     "output_type": "stream",
     "text": [
      "ujwal WELCOME TO SBI\n"
     ]
    }
   ],
   "source": [
    "phelaAccount = Account('ujwal',50000)"
   ]
  },
  {
   "cell_type": "code",
   "execution_count": 30,
   "id": "8d84e07f-5690-4d4e-8cd1-05e17ffe0a72",
   "metadata": {},
   "outputs": [
    {
     "data": {
      "text/plain": [
       "50000"
      ]
     },
     "execution_count": 30,
     "metadata": {},
     "output_type": "execute_result"
    }
   ],
   "source": [
    "phelaAccount.balance"
   ]
  },
  {
   "cell_type": "code",
   "execution_count": 31,
   "id": "89bb4238-13a6-4048-a16b-bc39a3d5cc7e",
   "metadata": {},
   "outputs": [
    {
     "data": {
      "text/plain": [
       "'SBI'"
      ]
     },
     "execution_count": 31,
     "metadata": {},
     "output_type": "execute_result"
    }
   ],
   "source": [
    "phelaAccount.BANK_NAME"
   ]
  },
  {
   "cell_type": "code",
   "execution_count": 32,
   "id": "27012cc3-abc1-42e0-8ee6-bdcfb67961bb",
   "metadata": {},
   "outputs": [
    {
     "data": {
      "text/plain": [
       "'ujwal'"
      ]
     },
     "execution_count": 32,
     "metadata": {},
     "output_type": "execute_result"
    }
   ],
   "source": [
    "phelaAccount.name"
   ]
  },
  {
   "cell_type": "code",
   "execution_count": 74,
   "id": "e6580d9e-dc8c-4ed3-b6ae-d333d145cf8d",
   "metadata": {},
   "outputs": [],
   "source": [
    "class Account():\n",
    "    BANK_NAME = \"SBI\"\n",
    "\n",
    "    def __init__(self,name,initialDeposit = 0):\n",
    "        self.name = name\n",
    "        self.balance = initialDeposit\n",
    "        print(f\"\"\"{self.name} WELCOME TO {self.BANK_NAME}\"\"\")\n",
    "\n",
    "    def __str__(self):\n",
    "            # mandatary to return a str\n",
    "\n",
    "        a = f\"\"\"\n",
    "            ======={self.BANK_NAME}=======\n",
    "            Account Holder  : {self.name}\n",
    "            Account Balance : {self.balance}\n",
    "            \"\"\"\n",
    "        return a"
   ]
  },
  {
   "cell_type": "code",
   "execution_count": 75,
   "id": "6cc4d04b-e130-4ae9-9976-61a37890ccf1",
   "metadata": {},
   "outputs": [
    {
     "name": "stdout",
     "output_type": "stream",
     "text": [
      "Ujwal WELCOME TO SBI\n"
     ]
    }
   ],
   "source": [
    "phelaAccount = Account('Ujwal',50000)"
   ]
  },
  {
   "cell_type": "code",
   "execution_count": 76,
   "id": "33cc55a1-cdf7-41f2-b153-4211e49455d0",
   "metadata": {},
   "outputs": [
    {
     "data": {
      "text/plain": [
       "'Ujwal'"
      ]
     },
     "execution_count": 76,
     "metadata": {},
     "output_type": "execute_result"
    }
   ],
   "source": [
    "phelaAccount.name"
   ]
  },
  {
   "cell_type": "code",
   "execution_count": 77,
   "id": "b75d258f-d35e-43a3-90f3-9dff2f63de83",
   "metadata": {},
   "outputs": [
    {
     "data": {
      "text/plain": [
       "50000"
      ]
     },
     "execution_count": 77,
     "metadata": {},
     "output_type": "execute_result"
    }
   ],
   "source": [
    "phelaAccount.balance"
   ]
  },
  {
   "cell_type": "code",
   "execution_count": 78,
   "id": "54ec1bb5-189c-4fef-8dd3-9accaa922b62",
   "metadata": {},
   "outputs": [
    {
     "name": "stdout",
     "output_type": "stream",
     "text": [
      "\n",
      "            =======SBI=======\n",
      "            Account Holder  : Ujwal\n",
      "            Account Balance : 50000\n",
      "            \n"
     ]
    }
   ],
   "source": [
    "print(phelaAccount)"
   ]
  },
  {
   "cell_type": "code",
   "execution_count": 79,
   "id": "75dd088e-4168-46c0-bcdc-2aa5a06f7fb1",
   "metadata": {},
   "outputs": [
    {
     "name": "stdout",
     "output_type": "stream",
     "text": [
      "\n",
      "            =======SBI=======\n",
      "            Account Holder  : Ujwal\n",
      "            Account Balance : 50000\n",
      "            \n"
     ]
    }
   ],
   "source": [
    "print(phelaAccount)"
   ]
  },
  {
   "cell_type": "code",
   "execution_count": 114,
   "id": "d6507f29-83d8-4da5-9f12-ded7dced9e29",
   "metadata": {},
   "outputs": [],
   "source": [
    "class Account():\n",
    "    BANK_NAME = \"SBI\"\n",
    "\n",
    "    def __init__(self,name,initialDeposit = 0):\n",
    "        # runs when object is created\n",
    "        self.name = name\n",
    "        self.balance = initialDeposit\n",
    "        print(f\"\"\"{self.name} WELCOME TO {self.BANK_NAME}\"\"\")\n",
    "\n",
    "    def __str__(self):\n",
    "          # mandatary to return a str\n",
    "         # runs before object is printed\n",
    "        a = f\"\"\"\n",
    "            ======={self.BANK_NAME}=======\n",
    "            Account Holder  : {self.name}\n",
    "            Account Balance : {self.balance}\n",
    "        \"\"\"\n",
    "        return a\n",
    "\n",
    "    def __del__(self):\n",
    "        # when memory location is clear\n",
    "        # runs before object is deleted\n",
    "        a = f\"\"\"\n",
    "            ======={self.BANK_NAME}=======\n",
    "            we are sorry to see you go.\n",
    "             \"\"\"\n",
    "        print(a)\n",
    "                "
   ]
  },
  {
   "cell_type": "code",
   "execution_count": 115,
   "id": "922838f2-0a53-4ec6-9204-4c267f39a8d2",
   "metadata": {},
   "outputs": [
    {
     "name": "stdout",
     "output_type": "stream",
     "text": [
      "Ujwal WELCOME TO SBI\n"
     ]
    }
   ],
   "source": [
    "phelaAccount = Account(\"Ujwal\",70000)"
   ]
  },
  {
   "cell_type": "code",
   "execution_count": 116,
   "id": "4f3fc078-9064-4b97-a5d8-144d466cf345",
   "metadata": {},
   "outputs": [
    {
     "name": "stdout",
     "output_type": "stream",
     "text": [
      "\n",
      "            =======SBI=======\n",
      "            Account Holder  : Ujwal\n",
      "            Account Balance : 70000\n",
      "        \n"
     ]
    }
   ],
   "source": [
    "print(phelaAccount)"
   ]
  },
  {
   "cell_type": "code",
   "execution_count": 120,
   "id": "7f9db086-81ef-43ba-a8cf-34a7eb81f723",
   "metadata": {},
   "outputs": [
    {
     "data": {
      "text/plain": [
       "70000"
      ]
     },
     "execution_count": 120,
     "metadata": {},
     "output_type": "execute_result"
    }
   ],
   "source": [
    "phelaAccount.balance"
   ]
  },
  {
   "cell_type": "code",
   "execution_count": 121,
   "id": "aeb4de7c-ec1c-470a-abf9-bf4b71272f76",
   "metadata": {},
   "outputs": [],
   "source": [
    "class Car():\n",
    "    def __init__(self):\n",
    "        self.name = 'Tata'\n",
    "        print(\"runs when item is created\")\n",
    "\n",
    "\n",
    "    def __str__(self):\n",
    "        print(\"hello\")\n",
    "        print(\"low fuel\")\n",
    "\n",
    "    def __del__(self):\n",
    "        print(\"runs when item iss cleared\")\n",
    "        "
   ]
  },
  {
   "cell_type": "code",
   "execution_count": 124,
   "id": "6f843a94-7dfa-49d6-898f-054636314873",
   "metadata": {},
   "outputs": [
    {
     "name": "stdout",
     "output_type": "stream",
     "text": [
      "runs when item is created\n"
     ]
    }
   ],
   "source": [
    "gadi = Car()"
   ]
  },
  {
   "cell_type": "code",
   "execution_count": 125,
   "id": "1a31cbaa-355f-4fa1-9169-c2fac5b5c465",
   "metadata": {},
   "outputs": [
    {
     "name": "stdout",
     "output_type": "stream",
     "text": [
      "hello\n",
      "low fuel\n"
     ]
    },
    {
     "ename": "TypeError",
     "evalue": "__str__ returned non-string (type NoneType)",
     "output_type": "error",
     "traceback": [
      "\u001b[1;31m---------------------------------------------------------------------------\u001b[0m",
      "\u001b[1;31mTypeError\u001b[0m                                 Traceback (most recent call last)",
      "Cell \u001b[1;32mIn[125], line 1\u001b[0m\n\u001b[1;32m----> 1\u001b[0m \u001b[38;5;28mprint\u001b[39m(gadi)\n",
      "\u001b[1;31mTypeError\u001b[0m: __str__ returned non-string (type NoneType)"
     ]
    }
   ],
   "source": [
    "print(gadi)"
   ]
  },
  {
   "cell_type": "code",
   "execution_count": 126,
   "id": "38938c97-f7d0-4ee6-bddb-010cdbb70e00",
   "metadata": {},
   "outputs": [
    {
     "name": "stdout",
     "output_type": "stream",
     "text": [
      "runs when item iss cleared\n"
     ]
    }
   ],
   "source": [
    "del(gadi)"
   ]
  },
  {
   "cell_type": "markdown",
   "id": "11d9830b-536d-4bae-9801-aa6f372c05e9",
   "metadata": {
    "jp-MarkdownHeadingCollapsed": true
   },
   "source": [
    "#### Encapsulation"
   ]
  },
  {
   "cell_type": "code",
   "execution_count": 1,
   "id": "4b32b5ce-1e43-449b-a4ac-8bbfd418295c",
   "metadata": {},
   "outputs": [],
   "source": [
    "class Account():\n",
    "    BANK_NAME = \"SBI\"\n",
    "    def __init__(self,name,initialDeposit=0):\n",
    "        # runs when object is created\n",
    "        self.name = name\n",
    "        self._balance = initialDeposit\n",
    "        print(f\"{self.name} WELCOME TO {self.BANK_NAME}\")\n",
    "\n",
    "    def __str__(self):\n",
    "        # mandatory to return a str\n",
    "        # runs before object is printed\n",
    "        a = f\"\"\"\n",
    "            ======={self.BANK_NAME}=======\n",
    "            Account Holder : {self.name}\n",
    "            Account Balance : {self._balance}\n",
    "        \"\"\"\n",
    "        return a\n",
    "\n",
    "    def __del__(self):\n",
    "        # when memory location is cleared\n",
    "        # runs before object is deleted\n",
    "        a = f\"\"\"\n",
    "            ======={self.BANK_NAME}=======\n",
    "            we are sorry to see you go.\n",
    "        \"\"\"\n",
    "        print(a)\n",
    "\n",
    "    def _transection(self,ammount,T):\n",
    "        print(f'{ammount} was {T}')\n",
    "        print(f'current balance {self._balance}')\n",
    "        if T == \"Credited\":\n",
    "            print(f'initial ammount {self._balance - ammount}')\n",
    "        else:\n",
    "            print(f'initial ammount {self._balance + ammount}')\n",
    "\n",
    "    def credit(self,ammount = 0):\n",
    "        self._balance += ammount\n",
    "        self._transection(ammount,\"Credited\")\n",
    "\n",
    "    def debit(self,ammount = 0):\n",
    "        if self._balance > ammount:\n",
    "            self._balance -= ammount\n",
    "            self._transection(ammount,\"Debited\")\n",
    "            return ammount\n",
    "        else:\n",
    "            print(\"insufficient balance\")"
   ]
  },
  {
   "cell_type": "code",
   "execution_count": 2,
   "id": "0f5fd3ff-0fd5-4ae0-851e-8aa8b45e39b0",
   "metadata": {},
   "outputs": [
    {
     "name": "stdout",
     "output_type": "stream",
     "text": [
      "ujwal WELCOME TO SBI\n"
     ]
    }
   ],
   "source": [
    "phelaAccount = Account(\"ujwal\",5000)"
   ]
  },
  {
   "cell_type": "code",
   "execution_count": 3,
   "id": "daa8630c-66af-4a64-a20e-fab7e7670fd2",
   "metadata": {},
   "outputs": [
    {
     "name": "stdout",
     "output_type": "stream",
     "text": [
      "\n",
      "            =======SBI=======\n",
      "            Account Holder : ujwal\n",
      "            Account Balance : 5000\n",
      "        \n"
     ]
    }
   ],
   "source": [
    "print(phelaAccount)"
   ]
  },
  {
   "cell_type": "code",
   "execution_count": 4,
   "id": "e7292e9a-9c3e-4d2d-82b8-3e1d2fb5ea01",
   "metadata": {},
   "outputs": [
    {
     "data": {
      "text/plain": [
       "'ujwal'"
      ]
     },
     "execution_count": 4,
     "metadata": {},
     "output_type": "execute_result"
    }
   ],
   "source": [
    "phelaAccount.name"
   ]
  },
  {
   "cell_type": "code",
   "execution_count": 5,
   "id": "7c82e9c9-3b64-4892-84ba-5ceb2ec3561b",
   "metadata": {},
   "outputs": [
    {
     "data": {
      "text/plain": [
       "5000"
      ]
     },
     "execution_count": 5,
     "metadata": {},
     "output_type": "execute_result"
    }
   ],
   "source": [
    "phelaAccount._balance"
   ]
  },
  {
   "cell_type": "code",
   "execution_count": 6,
   "id": "8dfe3249-26b6-4e52-96a5-32299dc81203",
   "metadata": {},
   "outputs": [
    {
     "name": "stdout",
     "output_type": "stream",
     "text": [
      "3000 was Credited\n",
      "current balance 8000\n",
      "initial ammount 5000\n"
     ]
    }
   ],
   "source": [
    "phelaAccount.credit(3000)"
   ]
  },
  {
   "cell_type": "code",
   "execution_count": 7,
   "id": "2dade27c-a8fa-4d8f-8308-396234cd0df3",
   "metadata": {},
   "outputs": [
    {
     "name": "stdout",
     "output_type": "stream",
     "text": [
      "2000 was Debited\n",
      "current balance 6000\n",
      "initial ammount 8000\n"
     ]
    },
    {
     "data": {
      "text/plain": [
       "2000"
      ]
     },
     "execution_count": 7,
     "metadata": {},
     "output_type": "execute_result"
    }
   ],
   "source": [
    "phelaAccount.debit(2000)"
   ]
  },
  {
   "cell_type": "code",
   "execution_count": 8,
   "id": "f1f74bd7-7b41-4924-bd2a-69d5059231e6",
   "metadata": {},
   "outputs": [
    {
     "data": {
      "text/plain": [
       "6000"
      ]
     },
     "execution_count": 8,
     "metadata": {},
     "output_type": "execute_result"
    }
   ],
   "source": [
    "phelaAccount._balance"
   ]
  },
  {
   "cell_type": "code",
   "execution_count": 9,
   "id": "be7aacaf-bacf-4b46-a369-c85548f4b900",
   "metadata": {},
   "outputs": [
    {
     "name": "stdout",
     "output_type": "stream",
     "text": [
      "10000 was Credited\n",
      "current balance 16000\n",
      "initial ammount 6000\n"
     ]
    }
   ],
   "source": [
    "phelaAccount.credit(10000)"
   ]
  },
  {
   "cell_type": "code",
   "execution_count": 11,
   "id": "81474b6a-78ad-4ac5-921d-da0ca2578ce9",
   "metadata": {},
   "outputs": [
    {
     "data": {
      "text/plain": [
       "16000"
      ]
     },
     "execution_count": 11,
     "metadata": {},
     "output_type": "execute_result"
    }
   ],
   "source": [
    "phelaAccount._balance"
   ]
  },
  {
   "cell_type": "markdown",
   "id": "951b9cbe-5d8e-4071-801d-58369bd14cc5",
   "metadata": {},
   "source": [
    "### INharitence"
   ]
  },
  {
   "cell_type": "code",
   "execution_count": 8,
   "id": "f867df18-cc4f-4e25-8269-f51729e37640",
   "metadata": {},
   "outputs": [],
   "source": [
    "class Car():\n",
    "    TYRE = 4\n",
    "\n",
    "    def __init__(self,company):\n",
    "        self.company = company\n",
    "        print(\"car was made\")\n",
    "\n",
    "    def __del__(self):\n",
    "        print(\"car was scraped\")\n",
    "\n",
    "    def __str__(self):\n",
    "        print(\"this is a car\")\n",
    "\n",
    "    def move(self):\n",
    "        print(\"moving forward\")\n",
    "\n",
    "    def fuel(self):\n",
    "        print(\"fuel up\")"
   ]
  },
  {
   "cell_type": "code",
   "execution_count": 9,
   "id": "3f826679-0160-4ce8-bcd4-a3ce5bb50838",
   "metadata": {},
   "outputs": [
    {
     "name": "stdout",
     "output_type": "stream",
     "text": [
      "car was made\n"
     ]
    }
   ],
   "source": [
    "gadi = Car(\"Tata\")"
   ]
  },
  {
   "cell_type": "code",
   "execution_count": 10,
   "id": "b804972b-3241-4e3f-a6d4-4cc7f9790c60",
   "metadata": {},
   "outputs": [
    {
     "data": {
      "text/plain": [
       "4"
      ]
     },
     "execution_count": 10,
     "metadata": {},
     "output_type": "execute_result"
    }
   ],
   "source": [
    "gadi.TYRE"
   ]
  },
  {
   "cell_type": "code",
   "execution_count": 11,
   "id": "2528cd30-2896-4dfb-89a1-cb902c56a9ab",
   "metadata": {},
   "outputs": [
    {
     "name": "stdout",
     "output_type": "stream",
     "text": [
      "moving forward\n"
     ]
    }
   ],
   "source": [
    "gadi.move()"
   ]
  },
  {
   "cell_type": "code",
   "execution_count": 12,
   "id": "056b0937-77e8-4bf5-9855-f25facb1c8e6",
   "metadata": {},
   "outputs": [
    {
     "name": "stdout",
     "output_type": "stream",
     "text": [
      "fuel up\n"
     ]
    }
   ],
   "source": [
    "gadi.fuel()"
   ]
  },
  {
   "cell_type": "code",
   "execution_count": 14,
   "id": "6e76351d-3151-44a9-b6e8-bc1592f226ba",
   "metadata": {},
   "outputs": [
    {
     "name": "stdout",
     "output_type": "stream",
     "text": [
      "<class '__main__.Car'>\n"
     ]
    }
   ],
   "source": [
    "print(Car)"
   ]
  },
  {
   "cell_type": "code",
   "execution_count": 18,
   "id": "e5ce11b4-831e-40a7-a42d-2eced7f54947",
   "metadata": {},
   "outputs": [],
   "source": [
    "class CngCar(Car):\n",
    "    fuel = \"CNG\""
   ]
  },
  {
   "cell_type": "code",
   "execution_count": 19,
   "id": "c18417f4-83e8-43dd-a919-5837ef5f91e8",
   "metadata": {},
   "outputs": [
    {
     "name": "stdout",
     "output_type": "stream",
     "text": [
      "car was made\n"
     ]
    }
   ],
   "source": [
    "gadi = CngCar(\"TATA\")"
   ]
  },
  {
   "cell_type": "code",
   "execution_count": 20,
   "id": "54852203-052f-414e-8cc5-6ee9fe6da1f1",
   "metadata": {},
   "outputs": [
    {
     "data": {
      "text/plain": [
       "'TATA'"
      ]
     },
     "execution_count": 20,
     "metadata": {},
     "output_type": "execute_result"
    }
   ],
   "source": [
    "gadi.company"
   ]
  },
  {
   "cell_type": "code",
   "execution_count": 21,
   "id": "f9aff21f-92f6-4945-af53-58e0221978d5",
   "metadata": {},
   "outputs": [
    {
     "data": {
      "text/plain": [
       "4"
      ]
     },
     "execution_count": 21,
     "metadata": {},
     "output_type": "execute_result"
    }
   ],
   "source": [
    "gadi.TYRE"
   ]
  },
  {
   "cell_type": "code",
   "execution_count": 22,
   "id": "b617d223-d58d-4967-aa15-8c40b42ea5d4",
   "metadata": {},
   "outputs": [
    {
     "name": "stdout",
     "output_type": "stream",
     "text": [
      "moving forward\n"
     ]
    }
   ],
   "source": [
    "gadi.move()"
   ]
  },
  {
   "cell_type": "code",
   "execution_count": 23,
   "id": "12fd2421-5428-4026-88fb-d02a4b801f2e",
   "metadata": {},
   "outputs": [],
   "source": [
    "class Car():\n",
    "    TYRE = 4\n",
    "\n",
    "    def __init__(self,company):\n",
    "        self.company = company\n",
    "        print(\"car was made\")\n",
    "\n",
    "    def __del__(self):\n",
    "        print(\"car was scraped\")\n",
    "\n",
    "    def __str__(self):\n",
    "        print(\"this is a car\")\n",
    "\n",
    "    def move(self):\n",
    "        print(\"moving forward\")\n",
    "\n",
    "    def fuel(self):\n",
    "        print(\"fuel up\")"
   ]
  },
  {
   "cell_type": "code",
   "execution_count": 27,
   "id": "28c08136-7da0-4e3d-8422-9901412e3e6d",
   "metadata": {},
   "outputs": [],
   "source": [
    "class CngCar(Car):\n",
    "    fuel = \"CNG\"\n",
    "\n",
    "    def discription(self):\n",
    "        print(\"this is a cng car\")"
   ]
  },
  {
   "cell_type": "code",
   "execution_count": 29,
   "id": "fac04788-547a-443c-a3b8-f5cb317eafe7",
   "metadata": {},
   "outputs": [
    {
     "name": "stdout",
     "output_type": "stream",
     "text": [
      "car was made\n"
     ]
    }
   ],
   "source": [
    "gadi = CngCar(Car)"
   ]
  },
  {
   "cell_type": "code",
   "execution_count": 30,
   "id": "5e22bcb5-1c8c-4bbf-bacd-8f4f9efae28b",
   "metadata": {},
   "outputs": [
    {
     "name": "stdout",
     "output_type": "stream",
     "text": [
      "this is a cng car\n"
     ]
    }
   ],
   "source": [
    "gadi.discription()"
   ]
  },
  {
   "cell_type": "code",
   "execution_count": 31,
   "id": "66579489-0304-41b1-90a2-cba5679c7c3b",
   "metadata": {},
   "outputs": [],
   "source": [
    "class Car():\n",
    "    TYRE = 4\n",
    "\n",
    "    def __init__(self,company):\n",
    "        self.company = company\n",
    "        print(\"car was made\")\n",
    "\n",
    "    def __del__(self):\n",
    "        print(\"car was scraped\")\n",
    "\n",
    "    def __str__(self):\n",
    "        print(\"this is a car\")\n",
    "\n",
    "    def move(self):\n",
    "        print(\"moving forward\")\n",
    "\n",
    "    def fuel(self):\n",
    "        print(\"fuel up\")"
   ]
  },
  {
   "cell_type": "code",
   "execution_count": 32,
   "id": "43488270-618d-4d14-abee-eca39da362e6",
   "metadata": {},
   "outputs": [],
   "source": [
    "class CngCar(Car):\n",
    "    fuel = \"CNG\"\n",
    "\n",
    "    def discription(self):\n",
    "        print(\"this is a cng car\")\n",
    "        super().fuel()"
   ]
  },
  {
   "cell_type": "code",
   "execution_count": 33,
   "id": "10ace4f8-84d9-4557-b3db-3bd8078b864b",
   "metadata": {},
   "outputs": [
    {
     "name": "stdout",
     "output_type": "stream",
     "text": [
      "car was made\n",
      "car was scraped\n"
     ]
    }
   ],
   "source": [
    "gadi = CngCar(\"TATA\")"
   ]
  },
  {
   "cell_type": "code",
   "execution_count": 34,
   "id": "1f0c9033-67a9-4561-a7b2-0d464ef09455",
   "metadata": {},
   "outputs": [
    {
     "name": "stdout",
     "output_type": "stream",
     "text": [
      "this is a cng car\n",
      "fuel up\n"
     ]
    }
   ],
   "source": [
    "gadi.discription()"
   ]
  },
  {
   "cell_type": "code",
   "execution_count": 35,
   "id": "0f0ba0c6-63a2-4832-941c-697902b95b77",
   "metadata": {},
   "outputs": [],
   "source": [
    "class Car():\n",
    "    TYRE = 4\n",
    "\n",
    "    def __init__(self,company):\n",
    "        self.company = company\n",
    "        print(\"car was made\")\n",
    "\n",
    "    def __del__(self):\n",
    "        print(\"car was scraped\")\n",
    "\n",
    "    def __str__(self):\n",
    "        print(\"this is a car\")\n",
    "\n",
    "    def move(self):\n",
    "        print(\"moving forward\")\n",
    "\n",
    "    def fuel(self):\n",
    "        print(\"fuel up\")"
   ]
  },
  {
   "cell_type": "code",
   "execution_count": 45,
   "id": "20341ced-b454-4a6c-ba41-1bdd9c580ff1",
   "metadata": {},
   "outputs": [],
   "source": [
    "class CngCar(Car):\n",
    "    fuel = \"CNG\"\n",
    "\n",
    "    # function overloading meaning re writing a function\n",
    "    def fuel(self):\n",
    "        print(\"filling Cng\")\n",
    "\n",
    "    def discription(self):\n",
    "        print(\"this is a cng car\")\n",
    "        super().fuel()"
   ]
  },
  {
   "cell_type": "code",
   "execution_count": 46,
   "id": "99d7ddda-c176-4200-810d-e23dbb5b1f67",
   "metadata": {},
   "outputs": [
    {
     "name": "stdout",
     "output_type": "stream",
     "text": [
      "car was made\n"
     ]
    }
   ],
   "source": [
    "gadi = CngCar(\"TATA\")"
   ]
  },
  {
   "cell_type": "code",
   "execution_count": 47,
   "id": "d28d4911-cc44-4b3c-84aa-97d687e020fa",
   "metadata": {},
   "outputs": [
    {
     "name": "stdout",
     "output_type": "stream",
     "text": [
      "this is a cng car\n",
      "fuel up\n"
     ]
    }
   ],
   "source": [
    "gadi.discription()"
   ]
  },
  {
   "cell_type": "code",
   "execution_count": 65,
   "id": "fbbd67f4-eb90-4538-a01c-c49acfebf399",
   "metadata": {},
   "outputs": [],
   "source": [
    "class Car():\n",
    "    TYRE = 4\n",
    "\n",
    "    def __init__(self,company):\n",
    "        self.company = company\n",
    "        print(\"car was made\")\n",
    "\n",
    "    def __del__(self):\n",
    "        print(\"car was scraped\")\n",
    "\n",
    "    def __str__(self):\n",
    "        return \"this is a cngcar\"\n",
    "\n",
    "    def intro(self):\n",
    "        print(\"hi this is a car\")\n",
    "\n",
    "    def move(self):\n",
    "        print(\"moving forward\")\n",
    "\n",
    "    def fuel(self):\n",
    "        print(\"fuel up\")"
   ]
  },
  {
   "cell_type": "code",
   "execution_count": 66,
   "id": "04f121fc-a3d9-4b3f-af0a-52ca25d89181",
   "metadata": {},
   "outputs": [],
   "source": [
    "class CngCar(Car):\n",
    "    fuel = \"CNG\"\n",
    "\n",
    "    # function overloading meaning re writing a function\n",
    "    def fuel(self):\n",
    "        print(\"filling Cng\")\n",
    "\n",
    "    def intro(self):\n",
    "        print(\"this is a car\")\n",
    "\n",
    "    def discription(self):\n",
    "        print(\"this is a cng car\")\n",
    "        super().fuel()"
   ]
  },
  {
   "cell_type": "code",
   "execution_count": 67,
   "id": "a90036f4-71a6-47d5-9de4-b3a20432f2e0",
   "metadata": {},
   "outputs": [
    {
     "name": "stdout",
     "output_type": "stream",
     "text": [
      "car was made\n",
      "car was scraped\n"
     ]
    }
   ],
   "source": [
    "gadi = CngCar(\"TATA\")"
   ]
  },
  {
   "cell_type": "code",
   "execution_count": 68,
   "id": "4e9ad7f3-afb0-479b-afaf-727302f36243",
   "metadata": {},
   "outputs": [
    {
     "name": "stdout",
     "output_type": "stream",
     "text": [
      "this is a cng car\n",
      "fuel up\n"
     ]
    }
   ],
   "source": [
    "gadi.discription()"
   ]
  },
  {
   "cell_type": "code",
   "execution_count": 69,
   "id": "2c42703e-9c5d-45ad-af76-1e2132fce2b1",
   "metadata": {},
   "outputs": [
    {
     "name": "stdout",
     "output_type": "stream",
     "text": [
      "this is a car\n"
     ]
    }
   ],
   "source": [
    "gadi.intro()"
   ]
  },
  {
   "cell_type": "code",
   "execution_count": 70,
   "id": "1c9e9898-5ca2-499b-9585-07f98b5d78ab",
   "metadata": {},
   "outputs": [],
   "source": [
    "class Car():\n",
    "    TYRE = 4\n",
    "\n",
    "    def __init__(self,company):\n",
    "        self.company = company\n",
    "        print(\"car was made\")\n",
    "\n",
    "    def __del__(self):\n",
    "        print(\"car was scraped\")\n",
    "\n",
    "    def __str__(self):\n",
    "        print(\"this is a cngcar\")\n",
    "\n",
    "    def intro(self):\n",
    "        print(\"hi this is a car\")\n",
    "\n",
    "    def move(self):\n",
    "        print(\"moving forward\")\n",
    "\n",
    "    def fuel(self):\n",
    "        print(\"fuel up\")"
   ]
  },
  {
   "cell_type": "code",
   "execution_count": 71,
   "id": "071e2d6f-d448-4e4e-8cf1-f4f49b203389",
   "metadata": {},
   "outputs": [],
   "source": [
    "class CngCar(Car):\n",
    "    fuel = \"CNG\"\n",
    "\n",
    "    # function overloading \n",
    "    \n",
    "    def __init__(self,company,model):\n",
    "        # super\n",
    "        super().__init__(company)\n",
    "        self.model = model\n",
    "        \n",
    "    def intro(self):\n",
    "        print(\"this is a car\")\n",
    "\n",
    "    def discription(self):\n",
    "        print(\"this is a cng car\")\n",
    "        super().fuel()"
   ]
  },
  {
   "cell_type": "code",
   "execution_count": 72,
   "id": "a945c5e1-af43-46f4-97ff-c56c2dd0fc19",
   "metadata": {},
   "outputs": [
    {
     "name": "stdout",
     "output_type": "stream",
     "text": [
      "car was made\n",
      "car was scraped\n"
     ]
    }
   ],
   "source": [
    "gadi = CngCar(\"TATA\",\"NANO\")"
   ]
  },
  {
   "cell_type": "code",
   "execution_count": 73,
   "id": "e15f2d17-7ecc-44a6-b456-35f5096ae9fa",
   "metadata": {},
   "outputs": [
    {
     "name": "stdout",
     "output_type": "stream",
     "text": [
      "this is a cng car\n",
      "fuel up\n"
     ]
    }
   ],
   "source": [
    "gadi.discription()"
   ]
  },
  {
   "cell_type": "markdown",
   "id": "220cc494-7f3e-4182-82c6-8bf576d83411",
   "metadata": {},
   "source": [
    "### Polymorphism"
   ]
  },
  {
   "cell_type": "code",
   "execution_count": 74,
   "id": "bd462e21-43b7-4c08-8004-72811b6fb0e4",
   "metadata": {},
   "outputs": [],
   "source": [
    "import numpy"
   ]
  },
  {
   "cell_type": "code",
   "execution_count": 75,
   "id": "18700155-671a-4285-949a-355db8c06fe2",
   "metadata": {},
   "outputs": [],
   "source": [
    "import random"
   ]
  },
  {
   "cell_type": "code",
   "execution_count": 76,
   "id": "71f03d09-c5e7-479c-b0bd-fb3ea3210a72",
   "metadata": {},
   "outputs": [
    {
     "data": {
      "text/plain": [
       "6"
      ]
     },
     "execution_count": 76,
     "metadata": {},
     "output_type": "execute_result"
    }
   ],
   "source": [
    "random.randint(5,10)"
   ]
  },
  {
   "cell_type": "code",
   "execution_count": 77,
   "id": "c918816d-595e-4ab3-b940-d00ba0ad9f78",
   "metadata": {},
   "outputs": [
    {
     "data": {
      "text/plain": [
       "array([3, 3, 4, 3, 3, 3, 1, 2, 3, 3], dtype=int32)"
      ]
     },
     "execution_count": 77,
     "metadata": {},
     "output_type": "execute_result"
    }
   ],
   "source": [
    "numpy.random.randint(1,5,10)"
   ]
  },
  {
   "cell_type": "code",
   "execution_count": null,
   "id": "c5a662c6-9218-4b53-aad0-7816c693bc45",
   "metadata": {},
   "outputs": [],
   "source": [
    " as"
   ]
  },
  {
   "cell_type": "markdown",
   "id": "91a5a799-4bae-4083-9548-8b4fcb1d30c1",
   "metadata": {},
   "source": [
    "#### CARDS"
   ]
  },
  {
   "cell_type": "code",
   "execution_count": 8,
   "id": "6d4a1c63-0fb5-4aa7-b3d0-dd34c553e6ec",
   "metadata": {},
   "outputs": [
    {
     "data": {
      "text/plain": [
       "['A', '2', '3', '4', '5', '6', '7', '8', '9', '10', 'J', 'Q', 'K']"
      ]
     },
     "execution_count": 8,
     "metadata": {},
     "output_type": "execute_result"
    }
   ],
   "source": [
    " \"A 2 3 4 5 6 7 8 9 10 J Q K\".split()"
   ]
  },
  {
   "cell_type": "code",
   "execution_count": 10,
   "id": "497e65d0-3cf8-433d-8671-420129e4f591",
   "metadata": {},
   "outputs": [
    {
     "data": {
      "text/plain": [
       "['Spade', 'Heart', 'Dimond', 'Club']"
      ]
     },
     "execution_count": 10,
     "metadata": {},
     "output_type": "execute_result"
    }
   ],
   "source": [
    " suits = \"Spade Heart Dimond Club\".split()"
   ]
  },
  {
   "cell_type": "code",
   "execution_count": 16,
   "id": "65fc65dc-bc92-4ea4-a599-a565b989130d",
   "metadata": {},
   "outputs": [],
   "source": [
    "class Card():\n",
    "    def __init__(self,rank,suit):\n",
    "        self.rank = rank\n",
    "        self.suit = suit\n",
    "\n",
    "    def __str__(self):\n",
    "        return f'{self.rank} of {self.suit}'\n",
    "\n",
    "    def value(self):\n",
    "        a = self.rank\n",
    "        if a == \"A\":\n",
    "            return 1\n",
    "        elif a == \"J\":\n",
    "            return 11\n",
    "        elif a == \"Q\":\n",
    "            return 12\n",
    "        elif a == \"K\":\n",
    "            return 13\n",
    "        else:\n",
    "            return int(a)\n",
    "        "
   ]
  },
  {
   "cell_type": "code",
   "execution_count": 17,
   "id": "abdf7129-2325-4696-9e53-40cd8834208c",
   "metadata": {},
   "outputs": [],
   "source": [
    "a = card(\"K\",\"Hearts\")"
   ]
  },
  {
   "cell_type": "code",
   "execution_count": 18,
   "id": "85f1a74a-63ca-44f4-8c9d-8736e653809c",
   "metadata": {},
   "outputs": [
    {
     "name": "stdout",
     "output_type": "stream",
     "text": [
      "K of Hearts\n"
     ]
    }
   ],
   "source": [
    "print(a)"
   ]
  },
  {
   "cell_type": "code",
   "execution_count": 19,
   "id": "451a25a7-505b-4385-9623-2961e941f474",
   "metadata": {},
   "outputs": [
    {
     "data": {
      "text/plain": [
       "13"
      ]
     },
     "execution_count": 19,
     "metadata": {},
     "output_type": "execute_result"
    }
   ],
   "source": [
    "a.value()"
   ]
  },
  {
   "cell_type": "code",
   "execution_count": 22,
   "id": "56df780f-c382-4b1c-9624-ba3f63da1ec9",
   "metadata": {},
   "outputs": [],
   "source": [
    "class DeckofCards():\n",
    "    def __init__(self):\n",
    "        self.suits = \"Spade Heart Dimond Club\".split()\n",
    "        self.ranks = \"A 2 3 4 5 6 7 8 9 10 J Q K\".split()\n",
    "\n",
    "        self.Cards = []\n",
    "        for suit in self.suits:\n",
    "            for rank in self.ranks:\n",
    "                Patta = card(rank,suit)\n",
    "                self.Cards.append(Patta)\n",
    "\n",
    "        def deal(self):\n",
    "            return self.Cards.pop()\n",
    "         \n",
    "        "
   ]
  },
  {
   "cell_type": "code",
   "execution_count": 23,
   "id": "21ba9858-cc1b-4fe1-9af7-90de18f0a17f",
   "metadata": {},
   "outputs": [],
   "source": [
    "deck = DeckofCards()"
   ]
  },
  {
   "cell_type": "code",
   "execution_count": 28,
   "id": "df69c80a-bd8d-46ed-93e0-c0c1ad747683",
   "metadata": {},
   "outputs": [
    {
     "data": {
      "text/plain": [
       "<__main__.card at 0x13da7321150>"
      ]
     },
     "execution_count": 28,
     "metadata": {},
     "output_type": "execute_result"
    }
   ],
   "source": [
    "(deck.Cards[6])"
   ]
  },
  {
   "cell_type": "code",
   "execution_count": 121,
   "id": "149ba79f-21ce-4761-a6bc-83ee5506b366",
   "metadata": {},
   "outputs": [],
   "source": [
    "class DeckofCards():\n",
    "    def __init__(self):\n",
    "        self.suits = \"Spade Heart Dimond Club\".split()\n",
    "        self.ranks = \"A 2 3 4 5 6 7 8 9 10 J Q K\".split()\n",
    "\n",
    "        self.Cards = []\n",
    "        for suit in self.suits:\n",
    "            for rank in self.ranks:\n",
    "                Patta = card(rank,suit)\n",
    "                self.Cards.append(Patta)\n",
    "\n",
    "    def __str__(self):\n",
    "        a = \"\"\n",
    "        \n",
    "        for i in self.Cards:\n",
    "            \n",
    "            #print(i)\n",
    "            a += f'{i.rank} of {i.suit} \\n'\n",
    "            #print(i)\n",
    "        return a\n",
    "             \n",
    "    def deal(self):\n",
    "        return self.Cards.pop()"
   ]
  },
  {
   "cell_type": "code",
   "execution_count": 122,
   "id": "2e5e0ac1-803a-4003-9e5a-0edf5efeb330",
   "metadata": {},
   "outputs": [],
   "source": [
    "deck = DeckofCards()"
   ]
  },
  {
   "cell_type": "code",
   "execution_count": 123,
   "id": "1e19b39a-38ae-44c6-ab48-8a8549b231d3",
   "metadata": {},
   "outputs": [
    {
     "name": "stdout",
     "output_type": "stream",
     "text": [
      "A of Spade \n",
      "2 of Spade \n",
      "3 of Spade \n",
      "4 of Spade \n",
      "5 of Spade \n",
      "6 of Spade \n",
      "7 of Spade \n",
      "8 of Spade \n",
      "9 of Spade \n",
      "10 of Spade \n",
      "J of Spade \n",
      "Q of Spade \n",
      "K of Spade \n",
      "A of Heart \n",
      "2 of Heart \n",
      "3 of Heart \n",
      "4 of Heart \n",
      "5 of Heart \n",
      "6 of Heart \n",
      "7 of Heart \n",
      "8 of Heart \n",
      "9 of Heart \n",
      "10 of Heart \n",
      "J of Heart \n",
      "Q of Heart \n",
      "K of Heart \n",
      "A of Dimond \n",
      "2 of Dimond \n",
      "3 of Dimond \n",
      "4 of Dimond \n",
      "5 of Dimond \n",
      "6 of Dimond \n",
      "7 of Dimond \n",
      "8 of Dimond \n",
      "9 of Dimond \n",
      "10 of Dimond \n",
      "J of Dimond \n",
      "Q of Dimond \n",
      "K of Dimond \n",
      "A of Club \n",
      "2 of Club \n",
      "3 of Club \n",
      "4 of Club \n",
      "5 of Club \n",
      "6 of Club \n",
      "7 of Club \n",
      "8 of Club \n",
      "9 of Club \n",
      "10 of Club \n",
      "J of Club \n",
      "Q of Club \n",
      "K of Club \n",
      "\n"
     ]
    }
   ],
   "source": [
    "print(deck)"
   ]
  },
  {
   "cell_type": "code",
   "execution_count": 134,
   "id": "8e7f2df9-50bb-46a5-88bc-93dd10b6635b",
   "metadata": {},
   "outputs": [],
   "source": [
    "class DeckofCards():\n",
    "    def __init__(self):\n",
    "        self.suits = \"Spade Heart Dimond Club\".split()\n",
    "        self.ranks = \"A 2 3 4 5 6 7 8 9 10 J Q K\".split()\n",
    "\n",
    "        self.Cards = []\n",
    "        for suit in self.suits:\n",
    "            for rank in self.ranks:\n",
    "                Patta = card(rank,suit)\n",
    "                self.Cards.append(Patta)\n",
    "\n",
    "    def __str__(self):\n",
    "        a = \"\"\n",
    "        \n",
    "        for i in self.Cards:\n",
    "            \n",
    "            #print(i)\n",
    "            a += f'{i.rank} of {i.suit} \\n'\n",
    "            #print(i)\n",
    "        return a\n",
    "             \n",
    "    def deal(self):\n",
    "        return self.Cards.pop()\n",
    "\n",
    "    def shuffle(self):\n",
    "        random.shuffle(self.cards)"
   ]
  },
  {
   "cell_type": "code",
   "execution_count": 135,
   "id": "36afdd4b-ea54-410a-a54d-9af07b934202",
   "metadata": {},
   "outputs": [],
   "source": [
    "deck = DeckofCards"
   ]
  },
  {
   "cell_type": "code",
   "execution_count": 136,
   "id": "d857d283-74a0-415d-bf24-eb884a1b158c",
   "metadata": {},
   "outputs": [
    {
     "data": {
      "text/plain": [
       "__main__.DeckofCards"
      ]
     },
     "execution_count": 136,
     "metadata": {},
     "output_type": "execute_result"
    }
   ],
   "source": [
    "deck"
   ]
  },
  {
   "cell_type": "code",
   "execution_count": 137,
   "id": "cf9419a1-57e3-4931-9fd7-8f01af146369",
   "metadata": {},
   "outputs": [
    {
     "ename": "TypeError",
     "evalue": "DeckofCards.shuffle() missing 1 required positional argument: 'self'",
     "output_type": "error",
     "traceback": [
      "\u001b[1;31m---------------------------------------------------------------------------\u001b[0m",
      "\u001b[1;31mTypeError\u001b[0m                                 Traceback (most recent call last)",
      "Cell \u001b[1;32mIn[137], line 1\u001b[0m\n\u001b[1;32m----> 1\u001b[0m deck\u001b[38;5;241m.\u001b[39mshuffle()\n",
      "\u001b[1;31mTypeError\u001b[0m: DeckofCards.shuffle() missing 1 required positional argument: 'self'"
     ]
    }
   ],
   "source": [
    "deck.shuffle()"
   ]
  },
  {
   "cell_type": "code",
   "execution_count": null,
   "id": "7b263bbe-c3e5-45f0-a85c-695330e8f141",
   "metadata": {},
   "outputs": [],
   "source": []
  }
 ],
 "metadata": {
  "kernelspec": {
   "display_name": "Python 3 (ipykernel)",
   "language": "python",
   "name": "python3"
  },
  "language_info": {
   "codemirror_mode": {
    "name": "ipython",
    "version": 3
   },
   "file_extension": ".py",
   "mimetype": "text/x-python",
   "name": "python",
   "nbconvert_exporter": "python",
   "pygments_lexer": "ipython3",
   "version": "3.13.5"
  }
 },
 "nbformat": 4,
 "nbformat_minor": 5
}
