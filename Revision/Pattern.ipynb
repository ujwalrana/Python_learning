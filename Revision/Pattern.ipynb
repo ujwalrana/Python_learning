{
 "cells": [
  {
   "cell_type": "code",
   "execution_count": 27,
   "id": "120694c8-608d-4f71-ae0c-161627ea4959",
   "metadata": {},
   "outputs": [
    {
     "name": "stdout",
     "output_type": "stream",
     "text": [
      "000000\n",
      "1\n",
      "2\n",
      "3\n",
      "4\n"
     ]
    }
   ],
   "source": [
    "i = 0\n",
    "n = 5\n",
    "while i < n:\n",
    "    j = 0\n",
    "    while j < n-i:\n",
    "        print(i, end=\"\")\n",
    "        j += 1\n",
    "    k =0\n",
    "    while k < n:\n",
    "        print(i,end=\"\")\n",
    "        k+=1\n",
    "\n",
    "        print()\n",
    "        i += 1"
   ]
  },
  {
   "cell_type": "code",
   "execution_count": null,
   "id": "8ebc7c7e-f406-4c9e-9d75-f9935a918012",
   "metadata": {},
   "outputs": [],
   "source": [
    "i+1*2-1"
   ]
  },
  {
   "cell_type": "code",
   "execution_count": 28,
   "id": "bd2c23dd-d93a-4a73-9ca2-5227d46091b3",
   "metadata": {},
   "outputs": [
    {
     "name": "stdout",
     "output_type": "stream",
     "text": [
      "    0\n",
      "    012\n",
      "    01234\n",
      "    0123456\n",
      "    012345678\n"
     ]
    }
   ],
   "source": [
    "i = 0\n",
    "n = 5\n",
    "while i<n:\n",
    "    j = 0\n",
    "    while j < n-1:\n",
    "        print(\" \",end=\"\")\n",
    "        j+=1\n",
    "\n",
    "    k =0\n",
    "    while k <((i + 1)*2)-1:\n",
    "        print(k,end=\"\")\n",
    "        k += 1\n",
    "\n",
    "    print()\n",
    "    i +=1"
   ]
  },
  {
   "cell_type": "code",
   "execution_count": null,
   "id": "5f1119c3-e38a-4ec4-8ece-334ceb25960f",
   "metadata": {},
   "outputs": [],
   "source": []
  }
 ],
 "metadata": {
  "kernelspec": {
   "display_name": "Python 3 (ipykernel)",
   "language": "python",
   "name": "python3"
  },
  "language_info": {
   "codemirror_mode": {
    "name": "ipython",
    "version": 3
   },
   "file_extension": ".py",
   "mimetype": "text/x-python",
   "name": "python",
   "nbconvert_exporter": "python",
   "pygments_lexer": "ipython3",
   "version": "3.13.5"
  }
 },
 "nbformat": 4,
 "nbformat_minor": 5
}
