{
 "cells": [
  {
   "cell_type": "markdown",
   "id": "b3a848ab-f874-419a-8d68-a2c0ba341baf",
   "metadata": {
    "jp-MarkdownHeadingCollapsed": true
   },
   "source": [
    "# booleans"
   ]
  },
  {
   "cell_type": "code",
   "execution_count": 1,
   "id": "add9bae2-aeec-4435-8830-6f0409452bda",
   "metadata": {},
   "outputs": [
    {
     "data": {
      "text/plain": [
       "1"
      ]
     },
     "execution_count": 1,
     "metadata": {},
     "output_type": "execute_result"
    }
   ],
   "source": [
    "0 or 1"
   ]
  },
  {
   "cell_type": "code",
   "execution_count": 3,
   "id": "27d9bdb0-3462-4dc3-90ca-deed572b7467",
   "metadata": {},
   "outputs": [
    {
     "data": {
      "text/plain": [
       "True"
      ]
     },
     "execution_count": 3,
     "metadata": {},
     "output_type": "execute_result"
    }
   ],
   "source": [
    "True"
   ]
  },
  {
   "cell_type": "code",
   "execution_count": 4,
   "id": "a555ef4f-c278-47e6-a3d3-ca77c11f8151",
   "metadata": {},
   "outputs": [
    {
     "data": {
      "text/plain": [
       "False"
      ]
     },
     "execution_count": 4,
     "metadata": {},
     "output_type": "execute_result"
    }
   ],
   "source": [
    "False"
   ]
  },
  {
   "cell_type": "code",
   "execution_count": 5,
   "id": "72dfc813-fc21-429d-ac33-5c01032909ea",
   "metadata": {},
   "outputs": [
    {
     "data": {
      "text/plain": [
       "1"
      ]
     },
     "execution_count": 5,
     "metadata": {},
     "output_type": "execute_result"
    }
   ],
   "source": [
    "int(True)"
   ]
  },
  {
   "cell_type": "code",
   "execution_count": 6,
   "id": "f8dd30c1-f573-4d68-896f-8bfb61698724",
   "metadata": {},
   "outputs": [
    {
     "data": {
      "text/plain": [
       "0"
      ]
     },
     "execution_count": 6,
     "metadata": {},
     "output_type": "execute_result"
    }
   ],
   "source": [
    "int(False)"
   ]
  },
  {
   "cell_type": "code",
   "execution_count": 7,
   "id": "e7424509-a280-4e7c-bc22-4c4c05e6e3b0",
   "metadata": {},
   "outputs": [
    {
     "data": {
      "text/plain": [
       "True"
      ]
     },
     "execution_count": 7,
     "metadata": {},
     "output_type": "execute_result"
    }
   ],
   "source": [
    "bool(5)"
   ]
  },
  {
   "cell_type": "code",
   "execution_count": 8,
   "id": "723d9067-632f-4a92-83d3-dcebcb9fa698",
   "metadata": {},
   "outputs": [
    {
     "data": {
      "text/plain": [
       "True"
      ]
     },
     "execution_count": 8,
     "metadata": {},
     "output_type": "execute_result"
    }
   ],
   "source": [
    "bool(-7)"
   ]
  },
  {
   "cell_type": "code",
   "execution_count": 9,
   "id": "a0afed11-c8fc-48af-86b9-1e849ea9a9df",
   "metadata": {},
   "outputs": [
    {
     "data": {
      "text/plain": [
       "True"
      ]
     },
     "execution_count": 9,
     "metadata": {},
     "output_type": "execute_result"
    }
   ],
   "source": [
    "bool(_)"
   ]
  },
  {
   "cell_type": "code",
   "execution_count": 10,
   "id": "33d24f09-c57e-4049-b103-3808fa06e542",
   "metadata": {},
   "outputs": [
    {
     "data": {
      "text/plain": [
       "False"
      ]
     },
     "execution_count": 10,
     "metadata": {},
     "output_type": "execute_result"
    }
   ],
   "source": [
    "bool()"
   ]
  },
  {
   "cell_type": "code",
   "execution_count": 12,
   "id": "90c7717e-178e-47d3-87c5-ccb2e78c410f",
   "metadata": {},
   "outputs": [
    {
     "data": {
      "text/plain": [
       "True"
      ]
     },
     "execution_count": 12,
     "metadata": {},
     "output_type": "execute_result"
    }
   ],
   "source": [
    "bool(6969)"
   ]
  },
  {
   "cell_type": "code",
   "execution_count": 13,
   "id": "4396087c-8d88-4a39-acc4-05888dcde1a4",
   "metadata": {},
   "outputs": [
    {
     "data": {
      "text/plain": [
       "False"
      ]
     },
     "execution_count": 13,
     "metadata": {},
     "output_type": "execute_result"
    }
   ],
   "source": [
    "bool(0)"
   ]
  },
  {
   "cell_type": "code",
   "execution_count": 15,
   "id": "12a64288-ddc4-4097-9b90-a2eadfddb35e",
   "metadata": {},
   "outputs": [
    {
     "data": {
      "text/plain": [
       "False"
      ]
     },
     "execution_count": 15,
     "metadata": {},
     "output_type": "execute_result"
    }
   ],
   "source": [
    "bool(None)"
   ]
  },
  {
   "cell_type": "code",
   "execution_count": 16,
   "id": "243efbe3-ff38-4c9d-8ae9-bc855dd0cc7b",
   "metadata": {},
   "outputs": [
    {
     "data": {
      "text/plain": [
       "bool"
      ]
     },
     "execution_count": 16,
     "metadata": {},
     "output_type": "execute_result"
    }
   ],
   "source": [
    "type(True)"
   ]
  },
  {
   "cell_type": "code",
   "execution_count": 17,
   "id": "bc6ca78c-42d0-4f14-b65e-666c7d0235a3",
   "metadata": {},
   "outputs": [
    {
     "data": {
      "text/plain": [
       "bool"
      ]
     },
     "execution_count": 17,
     "metadata": {},
     "output_type": "execute_result"
    }
   ],
   "source": [
    "type(False)"
   ]
  },
  {
   "cell_type": "code",
   "execution_count": 18,
   "id": "e39a135f-d6c1-4edf-834e-cc995f176352",
   "metadata": {},
   "outputs": [
    {
     "data": {
      "text/plain": [
       "False"
      ]
     },
     "execution_count": 18,
     "metadata": {},
     "output_type": "execute_result"
    }
   ],
   "source": [
    "bool(\"\")"
   ]
  },
  {
   "cell_type": "code",
   "execution_count": 19,
   "id": "8a6fc668-19a8-472a-b333-9b874080beba",
   "metadata": {},
   "outputs": [
    {
     "data": {
      "text/plain": [
       "True"
      ]
     },
     "execution_count": 19,
     "metadata": {},
     "output_type": "execute_result"
    }
   ],
   "source": [
    "bool(\"a\")"
   ]
  },
  {
   "cell_type": "code",
   "execution_count": 20,
   "id": "4377557f-8c7a-429a-a5c0-cad7cd14429b",
   "metadata": {},
   "outputs": [
    {
     "data": {
      "text/plain": [
       "True"
      ]
     },
     "execution_count": 20,
     "metadata": {},
     "output_type": "execute_result"
    }
   ],
   "source": [
    "bool(\" \")"
   ]
  },
  {
   "cell_type": "code",
   "execution_count": 21,
   "id": "27304b6d-2fbb-45f6-b2b5-cf7959f48684",
   "metadata": {},
   "outputs": [
    {
     "data": {
      "text/plain": [
       "False"
      ]
     },
     "execution_count": 21,
     "metadata": {},
     "output_type": "execute_result"
    }
   ],
   "source": [
    "bool([])"
   ]
  },
  {
   "cell_type": "code",
   "execution_count": 22,
   "id": "e0a3c1d5-0cb4-469d-a46f-eafa32fa534a",
   "metadata": {},
   "outputs": [
    {
     "data": {
      "text/plain": [
       "True"
      ]
     },
     "execution_count": 22,
     "metadata": {},
     "output_type": "execute_result"
    }
   ],
   "source": [
    "bool([8])"
   ]
  },
  {
   "cell_type": "code",
   "execution_count": 23,
   "id": "a01535c6-1682-4056-8e81-6b71104d8825",
   "metadata": {},
   "outputs": [
    {
     "data": {
      "text/plain": [
       "False"
      ]
     },
     "execution_count": 23,
     "metadata": {},
     "output_type": "execute_result"
    }
   ],
   "source": [
    "bool(())"
   ]
  },
  {
   "cell_type": "code",
   "execution_count": 24,
   "id": "c9a2a4d2-90cb-48e4-9c60-acccbd6f3199",
   "metadata": {},
   "outputs": [
    {
     "data": {
      "text/plain": [
       "True"
      ]
     },
     "execution_count": 24,
     "metadata": {},
     "output_type": "execute_result"
    }
   ],
   "source": [
    "bool((1))"
   ]
  },
  {
   "cell_type": "code",
   "execution_count": 25,
   "id": "64043ddf-0e93-4174-95f0-ffd6714ff41f",
   "metadata": {},
   "outputs": [
    {
     "data": {
      "text/plain": [
       "False"
      ]
     },
     "execution_count": 25,
     "metadata": {},
     "output_type": "execute_result"
    }
   ],
   "source": [
    "bool({})"
   ]
  },
  {
   "cell_type": "code",
   "execution_count": 26,
   "id": "412cd5dd-5a8c-4f50-b9bc-b3c24ac789e7",
   "metadata": {},
   "outputs": [
    {
     "data": {
      "text/plain": [
       "True"
      ]
     },
     "execution_count": 26,
     "metadata": {},
     "output_type": "execute_result"
    }
   ],
   "source": [
    "bool({1})"
   ]
  },
  {
   "cell_type": "code",
   "execution_count": 27,
   "id": "7363d901-9643-4905-9179-c019117a326c",
   "metadata": {},
   "outputs": [],
   "source": [
    "age = 20"
   ]
  },
  {
   "cell_type": "code",
   "execution_count": 28,
   "id": "b88b229b-8545-497a-815f-763dd65bc99e",
   "metadata": {},
   "outputs": [
    {
     "name": "stdout",
     "output_type": "stream",
     "text": [
      "welcome\n"
     ]
    }
   ],
   "source": [
    "if age >18:\n",
    "    print(\"welcome\")"
   ]
  },
  {
   "cell_type": "code",
   "execution_count": 34,
   "id": "1456f13a-e5b5-4de4-bda2-03b5943f61e7",
   "metadata": {},
   "outputs": [],
   "source": [
    "age = 17"
   ]
  },
  {
   "cell_type": "code",
   "execution_count": 36,
   "id": "7b74b815-f078-4f51-8fef-2554384ab885",
   "metadata": {},
   "outputs": [],
   "source": [
    "if age > 18:\n",
    "    print(\"welcome\")"
   ]
  },
  {
   "cell_type": "markdown",
   "id": "f97145ef-aa37-4649-a0a7-e943f96abd09",
   "metadata": {
    "jp-MarkdownHeadingCollapsed": true
   },
   "source": [
    "# comparison operations"
   ]
  },
  {
   "cell_type": "code",
   "execution_count": 37,
   "id": "d4018de9-8f70-4943-ab0c-c2a25b947bbc",
   "metadata": {},
   "outputs": [
    {
     "data": {
      "text/plain": [
       "False"
      ]
     },
     "execution_count": 37,
     "metadata": {},
     "output_type": "execute_result"
    }
   ],
   "source": [
    "5 > 10"
   ]
  },
  {
   "cell_type": "code",
   "execution_count": 38,
   "id": "6ed19c1c-a272-467d-a1ed-ac138e67aeaf",
   "metadata": {},
   "outputs": [
    {
     "data": {
      "text/plain": [
       "True"
      ]
     },
     "execution_count": 38,
     "metadata": {},
     "output_type": "execute_result"
    }
   ],
   "source": [
    "10 > 5"
   ]
  },
  {
   "cell_type": "code",
   "execution_count": 39,
   "id": "ac2c668c-f713-4674-a289-58307533e2d1",
   "metadata": {},
   "outputs": [
    {
     "data": {
      "text/plain": [
       "False"
      ]
     },
     "execution_count": 39,
     "metadata": {},
     "output_type": "execute_result"
    }
   ],
   "source": [
    "5 > 5"
   ]
  },
  {
   "cell_type": "code",
   "execution_count": 42,
   "id": "dfc1e7fe-1b40-4e38-9033-0b2a77760a8c",
   "metadata": {},
   "outputs": [],
   "source": [
    "age = 15"
   ]
  },
  {
   "cell_type": "code",
   "execution_count": 43,
   "id": "57171c79-d632-4524-9dbb-ebb5e121b14e",
   "metadata": {},
   "outputs": [
    {
     "data": {
      "text/plain": [
       "False"
      ]
     },
     "execution_count": 43,
     "metadata": {},
     "output_type": "execute_result"
    }
   ],
   "source": [
    "age ==18"
   ]
  },
  {
   "cell_type": "code",
   "execution_count": 44,
   "id": "684b8f0a-5a83-4a8a-b1da-772c4a9fba26",
   "metadata": {},
   "outputs": [
    {
     "data": {
      "text/plain": [
       "True"
      ]
     },
     "execution_count": 44,
     "metadata": {},
     "output_type": "execute_result"
    }
   ],
   "source": [
    "5==5"
   ]
  },
  {
   "cell_type": "code",
   "execution_count": 45,
   "id": "d02727ba-e24c-400e-8695-1d8646bace24",
   "metadata": {},
   "outputs": [],
   "source": [
    "password = 1234567"
   ]
  },
  {
   "cell_type": "code",
   "execution_count": 46,
   "id": "8ec122a7-2ee6-4686-b7ea-95e392065df0",
   "metadata": {},
   "outputs": [],
   "source": [
    "if password ==12345678:\n",
    "    print('connect')"
   ]
  },
  {
   "cell_type": "code",
   "execution_count": 47,
   "id": "84dc28c2-9cf6-40d5-b927-27e34710130e",
   "metadata": {},
   "outputs": [
    {
     "data": {
      "text/plain": [
       "True"
      ]
     },
     "execution_count": 47,
     "metadata": {},
     "output_type": "execute_result"
    }
   ],
   "source": [
    "10==10"
   ]
  },
  {
   "cell_type": "code",
   "execution_count": 48,
   "id": "eeeed4df-99c5-4cfb-af3d-08e3dc9e594f",
   "metadata": {
    "scrolled": true
   },
   "outputs": [
    {
     "data": {
      "text/plain": [
       "False"
      ]
     },
     "execution_count": 48,
     "metadata": {},
     "output_type": "execute_result"
    }
   ],
   "source": [
    "10==11"
   ]
  },
  {
   "cell_type": "code",
   "execution_count": 50,
   "id": "71dc75a7-0652-41f0-a6b0-08b693d7172e",
   "metadata": {},
   "outputs": [],
   "source": [
    "age =18"
   ]
  },
  {
   "cell_type": "code",
   "execution_count": 51,
   "id": "1878bdb3-6d96-4b9e-8c1c-79aa45f6eecb",
   "metadata": {},
   "outputs": [
    {
     "data": {
      "text/plain": [
       "True"
      ]
     },
     "execution_count": 51,
     "metadata": {},
     "output_type": "execute_result"
    }
   ],
   "source": [
    "age >=18"
   ]
  },
  {
   "cell_type": "code",
   "execution_count": 54,
   "id": "3c1eae05-bae8-43bf-8705-831a79de1244",
   "metadata": {},
   "outputs": [
    {
     "data": {
      "text/plain": [
       "False"
      ]
     },
     "execution_count": 54,
     "metadata": {},
     "output_type": "execute_result"
    }
   ],
   "source": [
    "age !=19"
   ]
  },
  {
   "cell_type": "code",
   "execution_count": 55,
   "id": "a5508d05-61e6-4b69-8868-94064080c402",
   "metadata": {},
   "outputs": [
    {
     "data": {
      "text/plain": [
       "True"
      ]
     },
     "execution_count": 55,
     "metadata": {},
     "output_type": "execute_result"
    }
   ],
   "source": [
    "age !=18"
   ]
  },
  {
   "cell_type": "code",
   "execution_count": 57,
   "id": "7008ad52-7546-41be-913e-d66ddf83c313",
   "metadata": {},
   "outputs": [],
   "source": [
    "age =20"
   ]
  },
  {
   "cell_type": "code",
   "execution_count": 59,
   "id": "b78874ac-2d67-4c69-8af0-a60c500bcb94",
   "metadata": {},
   "outputs": [
    {
     "data": {
      "text/plain": [
       "True"
      ]
     },
     "execution_count": 59,
     "metadata": {},
     "output_type": "execute_result"
    }
   ],
   "source": [
    "age >18"
   ]
  },
  {
   "cell_type": "code",
   "execution_count": 58,
   "id": "8101104a-ad0e-4d34-a01c-e2de0bc3d0c3",
   "metadata": {},
   "outputs": [
    {
     "name": "stdout",
     "output_type": "stream",
     "text": [
      "welcome\n"
     ]
    }
   ],
   "source": [
    "if age>18:\n",
    "    print('welcome')"
   ]
  },
  {
   "cell_type": "code",
   "execution_count": 60,
   "id": "9889909f-1079-422d-9c1d-4e12f59b14ae",
   "metadata": {},
   "outputs": [
    {
     "name": "stdout",
     "output_type": "stream",
     "text": [
      "welcome\n"
     ]
    }
   ],
   "source": [
    "if True:\n",
    "    print('welcome')"
   ]
  },
  {
   "cell_type": "code",
   "execution_count": 66,
   "id": "d5a72229-659a-47c3-b523-8ec3c5c1333e",
   "metadata": {},
   "outputs": [],
   "source": [
    "marks = 35"
   ]
  },
  {
   "cell_type": "code",
   "execution_count": 67,
   "id": "06ce8eba-fd20-4b07-b497-4d60edc973d1",
   "metadata": {},
   "outputs": [
    {
     "name": "stdout",
     "output_type": "stream",
     "text": [
      "Fail\n"
     ]
    }
   ],
   "source": [
    "if marks >= 90:\n",
    "    print(\"A\")\n",
    "elif marks >=75:\n",
    "    print(\"B\")\n",
    "elif marks >=60:\n",
    "    print(\"C\")\n",
    "elif marks >= 40:\n",
    "    print(\"D\")\n",
    "else:\n",
    "    print(\"Fail\")"
   ]
  },
  {
   "cell_type": "code",
   "execution_count": null,
   "id": "02427c17-65f8-4198-9717-35774ff1f950",
   "metadata": {},
   "outputs": [],
   "source": []
  },
  {
   "cell_type": "markdown",
   "id": "8ea52939-1dea-40fe-9e16-4deeb435dc6e",
   "metadata": {},
   "source": [
    "# if elif else"
   ]
  },
  {
   "cell_type": "markdown",
   "id": "05974dc8-2b7f-4b2b-a5d1-f292f02f82bc",
   "metadata": {},
   "source": [
    "# logical operations"
   ]
  },
  {
   "cell_type": "markdown",
   "id": "273bf3a3-854e-4e3f-b90b-b549f17d9bf7",
   "metadata": {
    "jp-MarkdownHeadingCollapsed": true
   },
   "source": [
    "## NOT"
   ]
  },
  {
   "cell_type": "code",
   "execution_count": 5,
   "id": "5a2f15cb-eb40-4779-9ee3-0d1cb24cac97",
   "metadata": {},
   "outputs": [
    {
     "data": {
      "text/plain": [
       "False"
      ]
     },
     "execution_count": 5,
     "metadata": {},
     "output_type": "execute_result"
    }
   ],
   "source": [
    "not True"
   ]
  },
  {
   "cell_type": "code",
   "execution_count": 6,
   "id": "64598fff-2e8e-4bcb-abe1-f8a959bba2f8",
   "metadata": {},
   "outputs": [
    {
     "data": {
      "text/plain": [
       "True"
      ]
     },
     "execution_count": 6,
     "metadata": {},
     "output_type": "execute_result"
    }
   ],
   "source": [
    "not False"
   ]
  },
  {
   "cell_type": "code",
   "execution_count": 11,
   "id": "be1c5f21-873b-423f-99cb-f3350189a52e",
   "metadata": {},
   "outputs": [],
   "source": [
    "if not True:\n",
    "    print(\"hello\")"
   ]
  },
  {
   "cell_type": "code",
   "execution_count": 14,
   "id": "328852d6-effd-49f4-b488-475b90ad69dc",
   "metadata": {},
   "outputs": [
    {
     "name": "stdout",
     "output_type": "stream",
     "text": [
      "hi\n"
     ]
    }
   ],
   "source": [
    "if not False: \n",
    "     print(\"hi\")"
   ]
  },
  {
   "cell_type": "code",
   "execution_count": 15,
   "id": "7894e126-f07f-412b-af79-618b015ea80f",
   "metadata": {},
   "outputs": [
    {
     "name": "stdout",
     "output_type": "stream",
     "text": [
      "hi ujwal\n"
     ]
    }
   ],
   "source": [
    "name = \"ujwal\"\n",
    "if name:\n",
    "    print(\"hi\",name)"
   ]
  },
  {
   "cell_type": "code",
   "execution_count": 16,
   "id": "69c12769-165a-4bea-aed6-37ace61ff318",
   "metadata": {},
   "outputs": [],
   "source": [
    "name = \"\"\n",
    "if name:\n",
    "    print(\"hi\",name)"
   ]
  },
  {
   "cell_type": "code",
   "execution_count": 17,
   "id": "fe0e16b1-f65f-4c83-9b26-3499558e487c",
   "metadata": {},
   "outputs": [
    {
     "data": {
      "text/plain": [
       "False"
      ]
     },
     "execution_count": 17,
     "metadata": {},
     "output_type": "execute_result"
    }
   ],
   "source": [
    "bool(name)"
   ]
  },
  {
   "cell_type": "code",
   "execution_count": 18,
   "id": "32646968-d694-44ac-a5e2-135a9e9fee17",
   "metadata": {},
   "outputs": [],
   "source": [
    "name =\"ujwal\""
   ]
  },
  {
   "cell_type": "code",
   "execution_count": 19,
   "id": "c5b1061a-09fa-4325-ad4b-0441619e1345",
   "metadata": {},
   "outputs": [
    {
     "data": {
      "text/plain": [
       "True"
      ]
     },
     "execution_count": 19,
     "metadata": {},
     "output_type": "execute_result"
    }
   ],
   "source": [
    "bool(name)"
   ]
  },
  {
   "cell_type": "code",
   "execution_count": 20,
   "id": "b9b94c86-ec72-4167-a728-2543998796e8",
   "metadata": {},
   "outputs": [
    {
     "name": "stdout",
     "output_type": "stream",
     "text": [
      "hi ujwal\n"
     ]
    }
   ],
   "source": [
    "if name:\n",
    "    print(\"hi\",name)"
   ]
  },
  {
   "cell_type": "code",
   "execution_count": 21,
   "id": "1b8cd585-f5fa-4fa3-a10d-c9555fb099e8",
   "metadata": {},
   "outputs": [],
   "source": [
    "first = True"
   ]
  },
  {
   "cell_type": "code",
   "execution_count": 25,
   "id": "9bb32a22-2822-4b5c-9a7d-a9159896a56a",
   "metadata": {},
   "outputs": [
    {
     "name": "stdout",
     "output_type": "stream",
     "text": [
      " HI USER NICE TO MEET YOU\n"
     ]
    },
    {
     "name": "stdin",
     "output_type": "stream",
     "text": [
      "enter your name rohit\n"
     ]
    }
   ],
   "source": [
    "if first:\n",
    "    print(\" HI USER NICE TO MEET YOU\")\n",
    "    name = input(\"enter your name\")\n",
    "else : \n",
    "    print(name)"
   ]
  },
  {
   "cell_type": "code",
   "execution_count": 27,
   "id": "6e32dd27-76e3-4f4a-b924-64ce6d813eb1",
   "metadata": {},
   "outputs": [
    {
     "name": "stdout",
     "output_type": "stream",
     "text": [
      " HI USER NICE TO MEET YOU\n"
     ]
    },
    {
     "name": "stdin",
     "output_type": "stream",
     "text": [
      "enter your name shubham\n"
     ]
    }
   ],
   "source": [
    "if first:\n",
    "    print(\" HI USER NICE TO MEET YOU\")\n",
    "    name = input(\"enter your name\")\n",
    "else : \n",
    "    print(name)"
   ]
  },
  {
   "cell_type": "code",
   "execution_count": 29,
   "id": "fa68fdd0-869b-46a2-ad02-381bdafd24d2",
   "metadata": {},
   "outputs": [],
   "source": [
    "name = 'shubham'"
   ]
  },
  {
   "cell_type": "code",
   "execution_count": 31,
   "id": "a0e8507f-7acc-460a-bc75-d8ed46dd4451",
   "metadata": {},
   "outputs": [
    {
     "name": "stdout",
     "output_type": "stream",
     "text": [
      "hi shubham\n"
     ]
    }
   ],
   "source": [
    "if first:\n",
    "    print(\" HI USER NICE TO MEET YOU\")\n",
    "    name = input(\"enter your name\")\n",
    "    first = False\n",
    "\n",
    "else : \n",
    "    print(\"hi\",name)"
   ]
  },
  {
   "cell_type": "code",
   "execution_count": 36,
   "id": "b3ffa80d-61fa-4e58-b354-6f9cbbabcbca",
   "metadata": {},
   "outputs": [],
   "source": [
    "count = 0"
   ]
  },
  {
   "cell_type": "code",
   "execution_count": 37,
   "id": "67de5361-3c2d-4aa1-8450-20bb9094966f",
   "metadata": {},
   "outputs": [
    {
     "name": "stdout",
     "output_type": "stream",
     "text": [
      "you are out of game\n"
     ]
    }
   ],
   "source": [
    "if not count:\n",
    "    print(\"you are out of game\")"
   ]
  },
  {
   "cell_type": "code",
   "execution_count": 38,
   "id": "578d976f-4bf7-432d-bbb1-953b0e12ce70",
   "metadata": {},
   "outputs": [],
   "source": [
    "count =1"
   ]
  },
  {
   "cell_type": "code",
   "execution_count": 39,
   "id": "6feb64c3-5028-4875-83bf-e45093a48b2c",
   "metadata": {},
   "outputs": [],
   "source": [
    "if not count:\n",
    "    print(\"you are out of game\")"
   ]
  },
  {
   "cell_type": "markdown",
   "id": "dc7e9c5a-b78a-4119-b374-9d4f930d5e23",
   "metadata": {
    "jp-MarkdownHeadingCollapsed": true
   },
   "source": [
    "## AND"
   ]
  },
  {
   "cell_type": "code",
   "execution_count": 48,
   "id": "734b8fdc-4f18-421a-a745-840192585aea",
   "metadata": {},
   "outputs": [],
   "source": [
    "attendence = 80"
   ]
  },
  {
   "cell_type": "code",
   "execution_count": 41,
   "id": "7bf31cd4-d51d-4d4f-8925-09f57bd269c3",
   "metadata": {},
   "outputs": [],
   "source": [
    "marks = 50"
   ]
  },
  {
   "cell_type": "code",
   "execution_count": 49,
   "id": "50d00379-2f77-4fa7-8136-768ac01fb825",
   "metadata": {},
   "outputs": [
    {
     "name": "stdout",
     "output_type": "stream",
     "text": [
      "PASS\n"
     ]
    }
   ],
   "source": [
    "if attendence > 75:\n",
    "    print(\"PASS\")"
   ]
  },
  {
   "cell_type": "code",
   "execution_count": 47,
   "id": "64049acc-df6d-45e1-a7df-86b08a047be8",
   "metadata": {},
   "outputs": [
    {
     "name": "stdout",
     "output_type": "stream",
     "text": [
      "PASS\n"
     ]
    }
   ],
   "source": [
    "if marks > 30:\n",
    "    print(\"PASS\")"
   ]
  },
  {
   "cell_type": "code",
   "execution_count": 51,
   "id": "c1d7da76-29e1-48d6-9d97-69411751be6c",
   "metadata": {},
   "outputs": [
    {
     "name": "stdout",
     "output_type": "stream",
     "text": [
      "PASS\n"
     ]
    }
   ],
   "source": [
    "if (attendence > 75) and (marks > 35):\n",
    "    print(\"PASS\")\n",
    "else:\n",
    "    print(\"FAIL\")"
   ]
  },
  {
   "cell_type": "code",
   "execution_count": 54,
   "id": "9f377baa-7d58-4089-b7d3-bbaa78bf9f4a",
   "metadata": {},
   "outputs": [],
   "source": [
    "attendence = 80"
   ]
  },
  {
   "cell_type": "code",
   "execution_count": 55,
   "id": "f23c0dd7-3fb8-4abb-9399-adba668ea945",
   "metadata": {},
   "outputs": [],
   "source": [
    "marks = 20"
   ]
  },
  {
   "cell_type": "code",
   "execution_count": 56,
   "id": "8392c51f-38b7-4a65-8da5-f346855068d9",
   "metadata": {},
   "outputs": [
    {
     "name": "stdout",
     "output_type": "stream",
     "text": [
      "FAIL\n"
     ]
    }
   ],
   "source": [
    "if (attendence > 75) and (marks > 35):\n",
    "    print(\"PASS\")\n",
    "else:\n",
    "    print(\"FAIL\")"
   ]
  },
  {
   "cell_type": "code",
   "execution_count": 62,
   "id": "025cf67e-df97-4a42-8bce-ce50aa85787b",
   "metadata": {},
   "outputs": [],
   "source": [
    "ticket = True"
   ]
  },
  {
   "cell_type": "code",
   "execution_count": 63,
   "id": "a920df6c-0145-4f8e-8887-36c849a3badc",
   "metadata": {},
   "outputs": [],
   "source": [
    "age = 20"
   ]
  },
  {
   "cell_type": "code",
   "execution_count": 61,
   "id": "53ae2f12-d6bb-40c5-8262-0a2f0cab6083",
   "metadata": {},
   "outputs": [
    {
     "name": "stdout",
     "output_type": "stream",
     "text": [
      "welcome\n"
     ]
    }
   ],
   "source": [
    "if age >= 18 and ticket:\n",
    "    print(\"welcome\")\n",
    "else :\n",
    "    print(\"BYE\")"
   ]
  },
  {
   "cell_type": "code",
   "execution_count": 65,
   "id": "279f913e-8ea8-4de9-9645-14a00a5795b7",
   "metadata": {},
   "outputs": [],
   "source": [
    "ticket = False\n",
    "age = 20"
   ]
  },
  {
   "cell_type": "code",
   "execution_count": 66,
   "id": "e6b6aa99-ddbe-4dc6-bf46-82785f86e375",
   "metadata": {},
   "outputs": [
    {
     "name": "stdout",
     "output_type": "stream",
     "text": [
      "welcome\n"
     ]
    }
   ],
   "source": [
    "if age >= 18 and not ticket:\n",
    "    print(\"welcome\")\n",
    "else :\n",
    "    print(\"BYE\")"
   ]
  },
  {
   "cell_type": "code",
   "execution_count": 67,
   "id": "b184faf4-0740-472e-8a79-c3c14a838fdc",
   "metadata": {},
   "outputs": [],
   "source": [
    "ticket = True\n",
    "age = 20"
   ]
  },
  {
   "cell_type": "code",
   "execution_count": 68,
   "id": "abca2ecf-be69-4a65-a086-46327b5e1b7e",
   "metadata": {},
   "outputs": [
    {
     "name": "stdout",
     "output_type": "stream",
     "text": [
      "BYE\n"
     ]
    }
   ],
   "source": [
    "if (age >= 18) and not (ticket):\n",
    "    print (\"welcome\")\n",
    "else:\n",
    "    print(\"BYE\")"
   ]
  },
  {
   "cell_type": "code",
   "execution_count": 69,
   "id": "056fa331-3a52-41a2-b5ae-82db30bf8029",
   "metadata": {},
   "outputs": [
    {
     "data": {
      "text/plain": [
       "True"
      ]
     },
     "execution_count": 69,
     "metadata": {},
     "output_type": "execute_result"
    }
   ],
   "source": [
    "True and True"
   ]
  },
  {
   "cell_type": "code",
   "execution_count": 70,
   "id": "db126e27-a9a2-48e8-b589-7a3fb9176190",
   "metadata": {},
   "outputs": [
    {
     "data": {
      "text/plain": [
       "False"
      ]
     },
     "execution_count": 70,
     "metadata": {},
     "output_type": "execute_result"
    }
   ],
   "source": [
    "False and True"
   ]
  },
  {
   "cell_type": "code",
   "execution_count": 71,
   "id": "0eb17b1b-b83a-4898-bd17-26a7cdfb4b1e",
   "metadata": {},
   "outputs": [
    {
     "data": {
      "text/plain": [
       "False"
      ]
     },
     "execution_count": 71,
     "metadata": {},
     "output_type": "execute_result"
    }
   ],
   "source": [
    "True and False"
   ]
  },
  {
   "cell_type": "markdown",
   "id": "21fa0025-0bdb-428d-b504-24f7178b9eb4",
   "metadata": {},
   "source": [
    "## OR"
   ]
  },
  {
   "cell_type": "code",
   "execution_count": 72,
   "id": "d8ccca1b-6e1f-4bce-b4fe-3ae3919af587",
   "metadata": {},
   "outputs": [
    {
     "data": {
      "text/plain": [
       "True"
      ]
     },
     "execution_count": 72,
     "metadata": {},
     "output_type": "execute_result"
    }
   ],
   "source": [
    "True or True"
   ]
  },
  {
   "cell_type": "code",
   "execution_count": 73,
   "id": "25e5dccc-aa4d-457a-9305-b4422236f9ba",
   "metadata": {},
   "outputs": [
    {
     "data": {
      "text/plain": [
       "True"
      ]
     },
     "execution_count": 73,
     "metadata": {},
     "output_type": "execute_result"
    }
   ],
   "source": [
    "True or False"
   ]
  },
  {
   "cell_type": "code",
   "execution_count": 74,
   "id": "110cb6fd-a6ae-47c3-afc2-b3e73a2298d9",
   "metadata": {},
   "outputs": [
    {
     "data": {
      "text/plain": [
       "False"
      ]
     },
     "execution_count": 74,
     "metadata": {},
     "output_type": "execute_result"
    }
   ],
   "source": [
    "False or False"
   ]
  },
  {
   "cell_type": "code",
   "execution_count": 75,
   "id": "e2993fb7-7864-4e63-b846-d55678345e58",
   "metadata": {},
   "outputs": [],
   "source": [
    "marks = 90"
   ]
  },
  {
   "cell_type": "code",
   "execution_count": 76,
   "id": "b58fb47e-d038-4aeb-a297-f9a816c8e125",
   "metadata": {},
   "outputs": [],
   "source": [
    "donation = 90"
   ]
  },
  {
   "cell_type": "code",
   "execution_count": 77,
   "id": "d52dc59c-2472-4add-be4b-3e30690b4e1c",
   "metadata": {},
   "outputs": [
    {
     "name": "stdout",
     "output_type": "stream",
     "text": [
      "welcome to the school\n"
     ]
    }
   ],
   "source": [
    "if marks > 80 or donation > 80000:\n",
    "    print (\"welcome to the school\")\n",
    "else:\n",
    "    print(\"bhar jao\")"
   ]
  },
  {
   "cell_type": "code",
   "execution_count": 78,
   "id": "fafbf9d0-bcaa-48cd-997b-d239ed3cd952",
   "metadata": {},
   "outputs": [],
   "source": [
    "marks = 20"
   ]
  },
  {
   "cell_type": "code",
   "execution_count": 79,
   "id": "e489340b-2170-457f-9836-e9ddb25b0bae",
   "metadata": {},
   "outputs": [],
   "source": [
    "donation = 90"
   ]
  },
  {
   "cell_type": "code",
   "execution_count": 80,
   "id": "debcfa7d-7c95-48c9-9214-9ed58e9f11aa",
   "metadata": {},
   "outputs": [
    {
     "name": "stdout",
     "output_type": "stream",
     "text": [
      "bhar jao\n"
     ]
    }
   ],
   "source": [
    "if marks > 80 or donation > 80000:\n",
    "    print (\"welcome to the school\")\n",
    "else:\n",
    "    print(\"bhar jao\")"
   ]
  },
  {
   "cell_type": "code",
   "execution_count": 81,
   "id": "a20a4077-4ae7-409b-83f1-07aea3d09264",
   "metadata": {},
   "outputs": [],
   "source": [
    "email = True\n",
    "numbe = True"
   ]
  },
  {
   "cell_type": "code",
   "execution_count": 82,
   "id": "27adf55a-a6ca-4e39-8bae-8d6490eef111",
   "metadata": {},
   "outputs": [
    {
     "name": "stdout",
     "output_type": "stream",
     "text": [
      "welcome user\n"
     ]
    }
   ],
   "source": [
    "if email or number:\n",
    "    print(\"welcome user\")\n",
    "else:\n",
    "    print(\"login krke aao\")"
   ]
  },
  {
   "cell_type": "code",
   "execution_count": 83,
   "id": "3d80830d-6658-4810-ab84-e18ac930b29c",
   "metadata": {},
   "outputs": [],
   "source": [
    "email = False\n",
    "number = False"
   ]
  },
  {
   "cell_type": "code",
   "execution_count": 84,
   "id": "dc21b73e-7838-4c96-9aad-65a6dfe437ae",
   "metadata": {},
   "outputs": [
    {
     "name": "stdout",
     "output_type": "stream",
     "text": [
      "login krke aao\n"
     ]
    }
   ],
   "source": [
    "if email or number:\n",
    "    print(\"welcome user\")\n",
    "else:\n",
    "    print(\"login krke aao\")"
   ]
  },
  {
   "cell_type": "code",
   "execution_count": 85,
   "id": "c09b486c-fd49-41f6-809b-475a112c46af",
   "metadata": {},
   "outputs": [],
   "source": [
    "email = True\n",
    "Number = True\n",
    "password = True"
   ]
  },
  {
   "cell_type": "code",
   "execution_count": 86,
   "id": "e55be57b-5757-4d0d-8ebe-ae9fbf474a2d",
   "metadata": {},
   "outputs": [
    {
     "name": "stdout",
     "output_type": "stream",
     "text": [
      "welcome\n"
     ]
    }
   ],
   "source": [
    "if (email or number) and password:\n",
    "    print(\"welcome\")\n",
    "else:\n",
    "    print(\"bye\")"
   ]
  },
  {
   "cell_type": "code",
   "execution_count": 91,
   "id": "643c584b-65bd-4544-a482-c9cf0dd49a98",
   "metadata": {},
   "outputs": [],
   "source": [
    "hindi = 50\n",
    "english = 50\n",
    "math = 20\n",
    "science = 50"
   ]
  },
  {
   "cell_type": "code",
   "execution_count": 92,
   "id": "36d4d831-f114-4d2d-8894-2d9bbccced31",
   "metadata": {},
   "outputs": [
    {
     "name": "stdout",
     "output_type": "stream",
     "text": [
      "Fail\n"
     ]
    }
   ],
   "source": [
    "if (hindi > 35) and (english > 35) and (math > 35) and (science > 35):\n",
    "    print(\"Pass\")\n",
    "else: \n",
    "    print(\"Fail\")"
   ]
  },
  {
   "cell_type": "code",
   "execution_count": 93,
   "id": "8f2314db-6e4f-4a45-a821-a475b18bf648",
   "metadata": {},
   "outputs": [],
   "source": [
    "hindi = 50\n",
    "english = 50\n",
    "math = 20\n",
    "science = 50"
   ]
  },
  {
   "cell_type": "code",
   "execution_count": 94,
   "id": "22052349-a2b9-4d0f-a6d1-bc2160f03ef8",
   "metadata": {},
   "outputs": [],
   "source": [
    "average = (hindi + english + math + science)//4"
   ]
  },
  {
   "cell_type": "code",
   "execution_count": 95,
   "id": "b0cf60f9-2990-4d02-86c8-a4d887354a81",
   "metadata": {},
   "outputs": [
    {
     "data": {
      "text/plain": [
       "42"
      ]
     },
     "execution_count": 95,
     "metadata": {},
     "output_type": "execute_result"
    }
   ],
   "source": [
    "average"
   ]
  },
  {
   "cell_type": "code",
   "execution_count": null,
   "id": "1d3f6d52-276b-4b49-83c9-90dfc002d189",
   "metadata": {},
   "outputs": [],
   "source": []
  }
 ],
 "metadata": {
  "kernelspec": {
   "display_name": "Python 3 (ipykernel)",
   "language": "python",
   "name": "python3"
  },
  "language_info": {
   "codemirror_mode": {
    "name": "ipython",
    "version": 3
   },
   "file_extension": ".py",
   "mimetype": "text/x-python",
   "name": "python",
   "nbconvert_exporter": "python",
   "pygments_lexer": "ipython3",
   "version": "3.13.5"
  }
 },
 "nbformat": 4,
 "nbformat_minor": 5
}
