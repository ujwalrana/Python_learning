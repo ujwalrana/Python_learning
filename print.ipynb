{
 "cells": [
  {
   "cell_type": "raw",
   "id": "50900958-178e-4ed2-92c9-93687eb5420d",
   "metadata": {},
   "source": []
  },
  {
   "cell_type": "code",
   "execution_count": 1,
   "id": "c7edb324-7fb4-4f9b-97e7-71121b48b7c3",
   "metadata": {},
   "outputs": [],
   "source": [
    "a =5"
   ]
  },
  {
   "cell_type": "code",
   "execution_count": 2,
   "id": "43ebcddf-7121-42ec-8c75-290b87d12f0f",
   "metadata": {},
   "outputs": [],
   "source": [
    "b=6"
   ]
  },
  {
   "cell_type": "code",
   "execution_count": 3,
   "id": "69538e2e-0955-49e2-8942-b347a79ffc9d",
   "metadata": {},
   "outputs": [
    {
     "data": {
      "text/plain": [
       "5"
      ]
     },
     "execution_count": 3,
     "metadata": {},
     "output_type": "execute_result"
    }
   ],
   "source": [
    "a"
   ]
  },
  {
   "cell_type": "code",
   "execution_count": 6,
   "id": "4d3dbbec-7d59-4102-b2fd-7519d0a20a64",
   "metadata": {},
   "outputs": [
    {
     "data": {
      "text/plain": [
       "6"
      ]
     },
     "execution_count": 6,
     "metadata": {},
     "output_type": "execute_result"
    }
   ],
   "source": [
    "b"
   ]
  },
  {
   "cell_type": "code",
   "execution_count": 5,
   "id": "82ab1260-3322-4c0f-9f5f-8b9e20a419b5",
   "metadata": {},
   "outputs": [
    {
     "data": {
      "text/plain": [
       "6"
      ]
     },
     "execution_count": 5,
     "metadata": {},
     "output_type": "execute_result"
    }
   ],
   "source": [
    "a\n",
    "b"
   ]
  },
  {
   "cell_type": "code",
   "execution_count": 7,
   "id": "a9516d1b-c7d9-4f5f-a3c1-032525adb5cc",
   "metadata": {},
   "outputs": [
    {
     "name": "stdout",
     "output_type": "stream",
     "text": [
      "5\n",
      "6\n"
     ]
    }
   ],
   "source": [
    "print(a)\n",
    "print(b)"
   ]
  },
  {
   "cell_type": "code",
   "execution_count": 9,
   "id": "a035b10f-911f-4df3-83c6-bd7bcbf5b88e",
   "metadata": {},
   "outputs": [
    {
     "name": "stdout",
     "output_type": "stream",
     "text": [
      "5\n"
     ]
    }
   ],
   "source": [
    "print(5)"
   ]
  },
  {
   "cell_type": "code",
   "execution_count": 10,
   "id": "f428c664-1e1a-4776-9fbc-b4bd6d6ade7c",
   "metadata": {},
   "outputs": [
    {
     "data": {
      "text/plain": [
       "int"
      ]
     },
     "execution_count": 10,
     "metadata": {},
     "output_type": "execute_result"
    }
   ],
   "source": [
    "type(5)"
   ]
  },
  {
   "cell_type": "code",
   "execution_count": 15,
   "id": "4b3e0e38-05d0-41f9-9380-d45e74b666cb",
   "metadata": {},
   "outputs": [
    {
     "data": {
      "text/plain": [
       "5"
      ]
     },
     "execution_count": 15,
     "metadata": {},
     "output_type": "execute_result"
    }
   ],
   "source": [
    "len('ujwal')"
   ]
  },
  {
   "cell_type": "markdown",
   "id": "dc2f0424-c0bf-4def-b321-4e49e2ac6794",
   "metadata": {},
   "source": [
    "## input"
   ]
  },
  {
   "cell_type": "code",
   "execution_count": 16,
   "id": "89fedacf-3550-457a-86ec-23f296e77c38",
   "metadata": {},
   "outputs": [
    {
     "name": "stdin",
     "output_type": "stream",
     "text": [
      " ujwal\n"
     ]
    }
   ],
   "source": [
    "name = input()"
   ]
  },
  {
   "cell_type": "code",
   "execution_count": 17,
   "id": "4ceff936-e3d8-4947-b6f5-35d2501cf5e4",
   "metadata": {},
   "outputs": [
    {
     "data": {
      "text/plain": [
       "'ujwal'"
      ]
     },
     "execution_count": 17,
     "metadata": {},
     "output_type": "execute_result"
    }
   ],
   "source": [
    "name"
   ]
  },
  {
   "cell_type": "code",
   "execution_count": 18,
   "id": "bd471f41-570d-483e-b5db-6b4215892114",
   "metadata": {},
   "outputs": [
    {
     "name": "stdin",
     "output_type": "stream",
     "text": [
      "enter your age 21\n"
     ]
    }
   ],
   "source": [
    "age =input (\"enter your age\")"
   ]
  },
  {
   "cell_type": "code",
   "execution_count": 19,
   "id": "0b7da449-3592-46bb-898f-ff8853b1d88c",
   "metadata": {},
   "outputs": [
    {
     "data": {
      "text/plain": [
       "'21'"
      ]
     },
     "execution_count": 19,
     "metadata": {},
     "output_type": "execute_result"
    }
   ],
   "source": [
    "age"
   ]
  },
  {
   "cell_type": "code",
   "execution_count": 22,
   "id": "8410bcd1-481d-4054-8075-f59ea7d55f34",
   "metadata": {},
   "outputs": [
    {
     "name": "stdin",
     "output_type": "stream",
     "text": [
      " hello nice to meet you\n"
     ]
    }
   ],
   "source": [
    "name = input()\n",
    "l = len(name)//2\n",
    "new = name[:1] + name[1:][::-1]"
   ]
  },
  {
   "cell_type": "code",
   "execution_count": 23,
   "id": "21315904-28b2-42ed-8563-216df1fc71f9",
   "metadata": {},
   "outputs": [
    {
     "data": {
      "text/plain": [
       "'huoy teem ot ecin olle'"
      ]
     },
     "execution_count": 23,
     "metadata": {},
     "output_type": "execute_result"
    }
   ],
   "source": [
    "new"
   ]
  },
  {
   "cell_type": "code",
   "execution_count": 1,
   "id": "b3a0c7b4-a04b-4afe-adb5-08babf7946de",
   "metadata": {},
   "outputs": [
    {
     "name": "stdin",
     "output_type": "stream",
     "text": [
      " rana\n"
     ]
    }
   ],
   "source": [
    "name = input()"
   ]
  },
  {
   "cell_type": "code",
   "execution_count": 2,
   "id": "aaf57cb9-d85c-4bc1-bf41-23b3e758ed6f",
   "metadata": {},
   "outputs": [
    {
     "data": {
      "text/plain": [
       "'rana'"
      ]
     },
     "execution_count": 2,
     "metadata": {},
     "output_type": "execute_result"
    }
   ],
   "source": [
    "name"
   ]
  },
  {
   "cell_type": "code",
   "execution_count": 4,
   "id": "0dd2419f-7fe0-453a-9b1e-b898e4c8d85a",
   "metadata": {},
   "outputs": [
    {
     "name": "stdin",
     "output_type": "stream",
     "text": [
      " 21\n"
     ]
    }
   ],
   "source": [
    "age = input()"
   ]
  },
  {
   "cell_type": "code",
   "execution_count": 5,
   "id": "b47bc8c5-23dc-4ec7-bc02-9c5af4313aa8",
   "metadata": {},
   "outputs": [
    {
     "data": {
      "text/plain": [
       "'21'"
      ]
     },
     "execution_count": 5,
     "metadata": {},
     "output_type": "execute_result"
    }
   ],
   "source": [
    "age"
   ]
  },
  {
   "cell_type": "markdown",
   "id": "f540760b-cd2b-413a-bbf8-acfa81784fc8",
   "metadata": {},
   "source": [
    "# type casting"
   ]
  },
  {
   "cell_type": "code",
   "execution_count": 1,
   "id": "f6679ac8-bede-4fbf-905f-183cccbf278b",
   "metadata": {},
   "outputs": [
    {
     "data": {
      "text/plain": [
       "'50.6'"
      ]
     },
     "execution_count": 1,
     "metadata": {},
     "output_type": "execute_result"
    }
   ],
   "source": [
    "str(50.6)"
   ]
  },
  {
   "cell_type": "code",
   "execution_count": 2,
   "id": "38ee440f-96ca-485b-9687-b18a98968992",
   "metadata": {},
   "outputs": [
    {
     "data": {
      "text/plain": [
       "50"
      ]
     },
     "execution_count": 2,
     "metadata": {},
     "output_type": "execute_result"
    }
   ],
   "source": [
    "int(50.6)"
   ]
  },
  {
   "cell_type": "code",
   "execution_count": 3,
   "id": "acb6a36b-a83b-481e-99c7-2591329b5eb0",
   "metadata": {},
   "outputs": [
    {
     "data": {
      "text/plain": [
       "50"
      ]
     },
     "execution_count": 3,
     "metadata": {},
     "output_type": "execute_result"
    }
   ],
   "source": [
    "int(float(\"50.6\"))"
   ]
  },
  {
   "cell_type": "markdown",
   "id": "366814af-74fc-4a79-9788-9de67e122ecc",
   "metadata": {},
   "source": [
    "# print"
   ]
  },
  {
   "cell_type": "code",
   "execution_count": 4,
   "id": "d3f26ecf-fc2c-46f2-a27e-d40ea38a786a",
   "metadata": {},
   "outputs": [
    {
     "name": "stdout",
     "output_type": "stream",
     "text": [
      "5\n"
     ]
    }
   ],
   "source": [
    "print(5)"
   ]
  },
  {
   "cell_type": "code",
   "execution_count": 5,
   "id": "d23780f2-fa83-491d-a2ad-d7569742ef65",
   "metadata": {},
   "outputs": [
    {
     "name": "stdout",
     "output_type": "stream",
     "text": [
      "5\n"
     ]
    }
   ],
   "source": [
    "a = print(5)"
   ]
  },
  {
   "cell_type": "code",
   "execution_count": 6,
   "id": "9fdc238e-9a17-42a9-9c11-ef8f2c927f98",
   "metadata": {},
   "outputs": [],
   "source": [
    "a"
   ]
  },
  {
   "cell_type": "code",
   "execution_count": 7,
   "id": "8a11b4a4-8708-40f5-ac23-c087aad449af",
   "metadata": {},
   "outputs": [
    {
     "data": {
      "text/plain": [
       "NoneType"
      ]
     },
     "execution_count": 7,
     "metadata": {},
     "output_type": "execute_result"
    }
   ],
   "source": [
    "type(a)"
   ]
  },
  {
   "cell_type": "code",
   "execution_count": 8,
   "id": "a718ab24-777e-4edf-b4e3-d03e5ec65853",
   "metadata": {},
   "outputs": [
    {
     "name": "stdout",
     "output_type": "stream",
     "text": [
      "None\n"
     ]
    }
   ],
   "source": [
    "print(a)"
   ]
  },
  {
   "cell_type": "code",
   "execution_count": 11,
   "id": "34ca13c1-6065-41be-8c05-38ddba19f69b",
   "metadata": {},
   "outputs": [],
   "source": [
    "a = None"
   ]
  },
  {
   "cell_type": "code",
   "execution_count": 12,
   "id": "baa777ac-3336-46a2-ac23-9a5398aa46b8",
   "metadata": {},
   "outputs": [],
   "source": [
    "a"
   ]
  },
  {
   "cell_type": "code",
   "execution_count": 13,
   "id": "caaac5d2-1571-40e1-8b55-762fa9af82ce",
   "metadata": {},
   "outputs": [
    {
     "name": "stdout",
     "output_type": "stream",
     "text": [
      "5 3 ujwal rana\n"
     ]
    }
   ],
   "source": [
    "print(5,3,\"ujwal\",\"rana\")"
   ]
  },
  {
   "cell_type": "code",
   "execution_count": 15,
   "id": "8a6304ba-afa8-498a-bad0-118cb4074486",
   "metadata": {},
   "outputs": [
    {
     "name": "stdout",
     "output_type": "stream",
     "text": [
      "5 3 ujwal rana\n"
     ]
    }
   ],
   "source": [
    "print(5,3,\"ujwal\",\"rana\",sep=\" \")"
   ]
  },
  {
   "cell_type": "code",
   "execution_count": 17,
   "id": "d4f2d9d0-2d45-4c9a-92df-60364e1d43ff",
   "metadata": {},
   "outputs": [
    {
     "name": "stdout",
     "output_type": "stream",
     "text": [
      "5*3*ujwal*rana\n"
     ]
    }
   ],
   "source": [
    "print(5,3,\"ujwal\",\"rana\",sep=\"*\")"
   ]
  },
  {
   "cell_type": "code",
   "execution_count": 18,
   "id": "68aef0c3-eb61-4cdb-a2ce-2591b54a67e6",
   "metadata": {},
   "outputs": [
    {
     "name": "stdout",
     "output_type": "stream",
     "text": [
      "50 60 70 80\n",
      "30\n",
      "40\n"
     ]
    }
   ],
   "source": [
    "print(50,60,70,80)\n",
    "print(30)\n",
    "print(40)\n"
   ]
  },
  {
   "cell_type": "code",
   "execution_count": 24,
   "id": "f8d364d5-3532-41a6-9672-58bad80c30ff",
   "metadata": {},
   "outputs": [
    {
     "name": "stdout",
     "output_type": "stream",
     "text": [
      "50 60 70 80*30-40\n"
     ]
    }
   ],
   "source": [
    "print(50,60,70,80,end=\"*\")\n",
    "print(30,end=\"-\")\n",
    "print(40)\n"
   ]
  },
  {
   "cell_type": "code",
   "execution_count": 25,
   "id": "170119e4-9ec9-4079-935b-afe8c85742c6",
   "metadata": {},
   "outputs": [
    {
     "name": "stdout",
     "output_type": "stream",
     "text": [
      "ujwal 5000\n"
     ]
    }
   ],
   "source": [
    "print(\"ujwal\",5000)\n"
   ]
  },
  {
   "cell_type": "code",
   "execution_count": 26,
   "id": "c6fc8a0d-2f4a-4262-8d29-a959837c6c8a",
   "metadata": {},
   "outputs": [],
   "source": [
    "name =\"ujwal\""
   ]
  },
  {
   "cell_type": "code",
   "execution_count": 27,
   "id": "8882ca5a-991b-4f25-8ca1-a6aa50da9259",
   "metadata": {},
   "outputs": [],
   "source": [
    "age =21"
   ]
  },
  {
   "cell_type": "code",
   "execution_count": 29,
   "id": "733a50a7-e970-4058-8374-08e8afb94c49",
   "metadata": {},
   "outputs": [
    {
     "name": "stdout",
     "output_type": "stream",
     "text": [
      "ujwal 21\n"
     ]
    }
   ],
   "source": [
    "print(f'{name} {age}')"
   ]
  },
  {
   "cell_type": "code",
   "execution_count": 30,
   "id": "4a9a4bb4-4b32-4da4-b128-b53947cf353f",
   "metadata": {},
   "outputs": [
    {
     "name": "stdout",
     "output_type": "stream",
     "text": [
      "ujwal   21\n"
     ]
    }
   ],
   "source": [
    "print(name,age,sep=\"   \")"
   ]
  },
  {
   "cell_type": "code",
   "execution_count": 33,
   "id": "36103fd5-cce6-4286-841c-a563f4d2c3fd",
   "metadata": {},
   "outputs": [
    {
     "data": {
      "text/plain": [
       "'rrrrrrrrrr'"
      ]
     },
     "execution_count": 33,
     "metadata": {},
     "output_type": "execute_result"
    }
   ],
   "source": [
    "\"r\"*10"
   ]
  },
  {
   "cell_type": "code",
   "execution_count": 34,
   "id": "3c73c3e3-c647-477a-b470-8d502ed82838",
   "metadata": {},
   "outputs": [],
   "source": [
    "a =\"hello everyone my name is ujwal\""
   ]
  },
  {
   "cell_type": "code",
   "execution_count": 35,
   "id": "20e593d7-f671-4576-802c-b866fb9ff348",
   "metadata": {},
   "outputs": [
    {
     "data": {
      "text/plain": [
       "'hello everyone my name is ujwal'"
      ]
     },
     "execution_count": 35,
     "metadata": {},
     "output_type": "execute_result"
    }
   ],
   "source": [
    "a"
   ]
  },
  {
   "cell_type": "code",
   "execution_count": 36,
   "id": "a56eac53-d944-4e0d-b7f6-996c370e9946",
   "metadata": {},
   "outputs": [],
   "source": [
    "a=\"hello ujw\\tal\""
   ]
  },
  {
   "cell_type": "code",
   "execution_count": 37,
   "id": "0f6cef44-c2df-4a8b-ae80-16f81c5ff7b4",
   "metadata": {},
   "outputs": [
    {
     "name": "stdout",
     "output_type": "stream",
     "text": [
      "hello ujw\tal\n"
     ]
    }
   ],
   "source": [
    "print(a)"
   ]
  },
  {
   "cell_type": "code",
   "execution_count": 44,
   "id": "92ddc4ac-deb0-4cc4-905d-8b9e540ea811",
   "metadata": {},
   "outputs": [],
   "source": [
    "a=\"hello ujw/nal\""
   ]
  },
  {
   "cell_type": "code",
   "execution_count": 45,
   "id": "2711ce00-a5f5-4ce9-8ffd-b7a534f04da6",
   "metadata": {},
   "outputs": [
    {
     "name": "stdout",
     "output_type": "stream",
     "text": [
      "hello ujw/nal\n"
     ]
    }
   ],
   "source": [
    "print(a)"
   ]
  },
  {
   "cell_type": "code",
   "execution_count": 43,
   "id": "b8d04891-a4d1-4b10-adc1-08160ade994a",
   "metadata": {},
   "outputs": [
    {
     "name": "stdout",
     "output_type": "stream",
     "text": [
      "a\\t b\n"
     ]
    }
   ],
   "source": [
    "print('a\\\\t b')"
   ]
  },
  {
   "cell_type": "code",
   "execution_count": 46,
   "id": "f91df73c-f83e-4422-a2a9-ade6b74ab255",
   "metadata": {},
   "outputs": [
    {
     "name": "stdout",
     "output_type": "stream",
     "text": [
      "Help on built-in function print in module builtins:\n",
      "\n",
      "print(*args, sep=' ', end='\\n', file=None, flush=False)\n",
      "    Prints the values to a stream, or to sys.stdout by default.\n",
      "\n",
      "    sep\n",
      "      string inserted between values, default a space.\n",
      "    end\n",
      "      string appended after the last value, default a newline.\n",
      "    file\n",
      "      a file-like object (stream); defaults to the current sys.stdout.\n",
      "    flush\n",
      "      whether to forcibly flush the stream.\n",
      "\n"
     ]
    }
   ],
   "source": [
    "help(print)"
   ]
  },
  {
   "cell_type": "code",
   "execution_count": 50,
   "id": "b5553581-98de-473f-86e4-01aa48850346",
   "metadata": {},
   "outputs": [
    {
     "name": "stdout",
     "output_type": "stream",
     "text": [
      "🤣\n"
     ]
    }
   ],
   "source": [
    "print(\"\\U0001F923\")"
   ]
  },
  {
   "cell_type": "code",
   "execution_count": 51,
   "id": "f25956f8-0e7d-4bfb-9db5-c4e3dc2ba356",
   "metadata": {},
   "outputs": [
    {
     "data": {
      "text/plain": [
       "0"
      ]
     },
     "execution_count": 51,
     "metadata": {},
     "output_type": "execute_result"
    }
   ],
   "source": [
    "# 1 byte\n",
    "0"
   ]
  },
  {
   "cell_type": "code",
   "execution_count": 52,
   "id": "7dd69471-9908-412c-8e3b-afaaa4d65a04",
   "metadata": {},
   "outputs": [
    {
     "data": {
      "text/plain": [
       "10010010"
      ]
     },
     "execution_count": 52,
     "metadata": {},
     "output_type": "execute_result"
    }
   ],
   "source": [
    "# byte -8bit\n",
    "10010010"
   ]
  },
  {
   "cell_type": "code",
   "execution_count": 53,
   "id": "d3263624-0f1c-4744-a868-e00e2e033234",
   "metadata": {},
   "outputs": [
    {
     "ename": "SyntaxError",
     "evalue": "invalid decimal literal (3786931215.py, line 2)",
     "output_type": "error",
     "traceback": [
      "\u001b[1;36m  Cell \u001b[1;32mIn[53], line 2\u001b[1;36m\u001b[0m\n\u001b[1;33m    1kb= 1024 bytes\u001b[0m\n\u001b[1;37m    ^\u001b[0m\n\u001b[1;31mSyntaxError\u001b[0m\u001b[1;31m:\u001b[0m invalid decimal literal\n"
     ]
    }
   ],
   "source": [
    "# kb -kilobyte\n",
    "1kb= 1024 bytes"
   ]
  },
  {
   "cell_type": "code",
   "execution_count": 54,
   "id": "dec07de5-b8d6-4dd5-b962-6b97b41d8a9c",
   "metadata": {},
   "outputs": [
    {
     "ename": "SyntaxError",
     "evalue": "invalid decimal literal (2103437610.py, line 1)",
     "output_type": "error",
     "traceback": [
      "\u001b[1;36m  Cell \u001b[1;32mIn[54], line 1\u001b[1;36m\u001b[0m\n\u001b[1;33m    1Mb =1024 KB\u001b[0m\n\u001b[1;37m    ^\u001b[0m\n\u001b[1;31mSyntaxError\u001b[0m\u001b[1;31m:\u001b[0m invalid decimal literal\n"
     ]
    }
   ],
   "source": [
    "1Mb =1024 KB"
   ]
  },
  {
   "cell_type": "markdown",
   "id": "06c9d2c1-4c0f-4e6b-8586-eb12989e5859",
   "metadata": {},
   "source": [
    "# 0 or 1-bit\n",
    "\n",
    "8 bit- 1 byte\n",
    "\n",
    "1024 byte- 1kilobyte\n",
    "\n",
    "1024 kb- 1Megabyte\n",
    "\n",
    "1024 Mb- 1Gegabyte\n",
    "\n",
    "1024Gb- 1Terabyte\n",
    "\n",
    "1024Tb- 1Petabyte\n"
   ]
  },
  {
   "cell_type": "code",
   "execution_count": 55,
   "id": "c22546d7-83f7-4688-b976-d0e42458784e",
   "metadata": {},
   "outputs": [
    {
     "name": "stdout",
     "output_type": "stream",
     "text": [
      "🤣\n"
     ]
    }
   ],
   "source": [
    "print(\"\\U0001F923\")"
   ]
  },
  {
   "cell_type": "code",
   "execution_count": 56,
   "id": "e5c3d341-a634-43ae-9c33-9124dc9e048d",
   "metadata": {},
   "outputs": [
    {
     "data": {
      "text/plain": [
       "129315"
      ]
     },
     "execution_count": 56,
     "metadata": {},
     "output_type": "execute_result"
    }
   ],
   "source": [
    "ord('🤣')"
   ]
  },
  {
   "cell_type": "code",
   "execution_count": 57,
   "id": "ceb7e429-a1b3-4725-9756-ec223ac591b5",
   "metadata": {},
   "outputs": [
    {
     "data": {
      "text/plain": [
       "50"
      ]
     },
     "execution_count": 57,
     "metadata": {},
     "output_type": "execute_result"
    }
   ],
   "source": [
    "ord('2')"
   ]
  },
  {
   "cell_type": "code",
   "execution_count": 58,
   "id": "da62b250-a5f6-46c2-8c28-77ec711445c6",
   "metadata": {},
   "outputs": [
    {
     "data": {
      "text/plain": [
       "2384715313632"
      ]
     },
     "execution_count": 58,
     "metadata": {},
     "output_type": "execute_result"
    }
   ],
   "source": [
    "id('🤣')"
   ]
  },
  {
   "cell_type": "code",
   "execution_count": 59,
   "id": "d0989399-e27b-4fab-a22d-c97547e4b279",
   "metadata": {},
   "outputs": [
    {
     "data": {
      "text/plain": [
       "98"
      ]
     },
     "execution_count": 59,
     "metadata": {},
     "output_type": "execute_result"
    }
   ],
   "source": [
    "ord('b')"
   ]
  },
  {
   "cell_type": "code",
   "execution_count": 60,
   "id": "4f27856d-87be-4217-ad25-092f914acfa3",
   "metadata": {},
   "outputs": [
    {
     "data": {
      "text/plain": [
       "66"
      ]
     },
     "execution_count": 60,
     "metadata": {},
     "output_type": "execute_result"
    }
   ],
   "source": [
    "ord('B')"
   ]
  },
  {
   "cell_type": "code",
   "execution_count": null,
   "id": "b27ece67-fbd4-4f7b-8d9e-d7a35b7f4d54",
   "metadata": {},
   "outputs": [],
   "source": []
  }
 ],
 "metadata": {
  "kernelspec": {
   "display_name": "Python 3 (ipykernel)",
   "language": "python",
   "name": "python3"
  },
  "language_info": {
   "codemirror_mode": {
    "name": "ipython",
    "version": 3
   },
   "file_extension": ".py",
   "mimetype": "text/x-python",
   "name": "python",
   "nbconvert_exporter": "python",
   "pygments_lexer": "ipython3",
   "version": "3.13.5"
  }
 },
 "nbformat": 4,
 "nbformat_minor": 5
}
