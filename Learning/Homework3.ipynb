{
 "cells": [
  {
   "cell_type": "code",
   "execution_count": 13,
   "id": "fea56f04-671a-4b8b-b18c-9ad8cefdbccd",
   "metadata": {},
   "outputs": [],
   "source": [
    "class Amount():\n",
    "    BANK_NAME = \"SBI\"\n",
    "\n",
    "    def __init__(self,name,initialDeposit):\n",
    "        self.name = name\n",
    "        self._balance = initialDeposite\n",
    "        print(f'my name {self.name} and my {self._balance} and my {BANK_NAME} ')"
   ]
  },
  {
   "cell_type": "code",
   "execution_count": 7,
   "id": "70b4c360-6c49-444f-9385-b64cee4cceba",
   "metadata": {},
   "outputs": [],
   "source": [
    "def __str__(self):\n",
    "    a = f\"\"\"\n",
    "        ======={self.BANK_NAME}======\n",
    "        Account Holder = {self.name}\n",
    "        Account Balance = {self._balance}\n",
    "    \"\"\"\n",
    "    return a \n",
    "    "
   ]
  },
  {
   "cell_type": "code",
   "execution_count": 8,
   "id": "3673de08-87a0-44ef-a5b6-e557acdb8cb5",
   "metadata": {},
   "outputs": [],
   "source": [
    "def __del__(self):\n",
    "    a = f\"\"\"\n",
    "        ======{self.BANK_NAME}=======\n",
    "        WE ARE SORRY ABOUT THAT\n",
    "         \"\"\"\n",
    "    print(a)"
   ]
  },
  {
   "cell_type": "code",
   "execution_count": 9,
   "id": "ad5d8945-9bb1-4044-96c8-ebe0b13e79bf",
   "metadata": {},
   "outputs": [],
   "source": [
    "def _transection(self,ammount,T):\n",
    "    print(f\"{amount} was {T}\")\n",
    "    print(f'current balance{self._balance}')\n",
    "    if T == 'Credited':\n",
    "        print(f'initial amount {self._balance - ammount}')\n",
    "    else:\n",
    "        print(f'initial ammount {self._balance + ammount}')\n",
    "        "
   ]
  },
  {
   "cell_type": "code",
   "execution_count": 10,
   "id": "3a11951f-936a-4790-abf4-126d725c784c",
   "metadata": {},
   "outputs": [],
   "source": [
    "def credit(self,ammount = 0):\n",
    "    self._balance += ammount\n",
    "    self._transection(ammount,\"Credited\")"
   ]
  },
  {
   "cell_type": "code",
   "execution_count": 11,
   "id": "c318949c-e596-40cd-8ee3-a521face750d",
   "metadata": {},
   "outputs": [],
   "source": [
    "def debit(self,ammount = 0):\n",
    "    if self._balance > ammount:\n",
    "        self._balance -= ammount\n",
    "        self._transection(ammount,\"Debited\")\n",
    "    else:\n",
    "        print(\"insufficent balance\")"
   ]
  },
  {
   "cell_type": "code",
   "execution_count": null,
   "id": "2296b52a-0e6f-48b7-9889-9e1a1f61d705",
   "metadata": {},
   "outputs": [],
   "source": []
  }
 ],
 "metadata": {
  "kernelspec": {
   "display_name": "Python 3 (ipykernel)",
   "language": "python",
   "name": "python3"
  },
  "language_info": {
   "codemirror_mode": {
    "name": "ipython",
    "version": 3
   },
   "file_extension": ".py",
   "mimetype": "text/x-python",
   "name": "python",
   "nbconvert_exporter": "python",
   "pygments_lexer": "ipython3",
   "version": "3.13.5"
  }
 },
 "nbformat": 4,
 "nbformat_minor": 5
}
