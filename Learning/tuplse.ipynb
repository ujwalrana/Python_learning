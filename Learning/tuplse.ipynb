{
 "cells": [
  {
   "cell_type": "code",
   "execution_count": 1,
   "id": "cf5cb9a8-9531-4e6e-93f6-c0750f685523",
   "metadata": {},
   "outputs": [],
   "source": [
    "dogs = (\"tom\",\"kutta\",\"doggy\")"
   ]
  },
  {
   "cell_type": "code",
   "execution_count": 2,
   "id": "4af206eb-c069-4301-9129-fd56c1329380",
   "metadata": {},
   "outputs": [
    {
     "data": {
      "text/plain": [
       "('tom', 'kutta', 'doggy')"
      ]
     },
     "execution_count": 2,
     "metadata": {},
     "output_type": "execute_result"
    }
   ],
   "source": [
    "dogs"
   ]
  },
  {
   "cell_type": "code",
   "execution_count": 3,
   "id": "7dc73d04-a256-4568-a452-c16de07bfa2a",
   "metadata": {},
   "outputs": [
    {
     "data": {
      "text/plain": [
       "(2, 3, 8)"
      ]
     },
     "execution_count": 3,
     "metadata": {},
     "output_type": "execute_result"
    }
   ],
   "source": [
    "2,3,8"
   ]
  },
  {
   "cell_type": "code",
   "execution_count": 4,
   "id": "8174c058-76cd-4333-b635-f7d299450ba3",
   "metadata": {},
   "outputs": [
    {
     "data": {
      "text/plain": [
       "(('tom', 'kutta', 'doggy'), 8, 10)"
      ]
     },
     "execution_count": 4,
     "metadata": {},
     "output_type": "execute_result"
    }
   ],
   "source": [
    "dogs,8,10"
   ]
  },
  {
   "cell_type": "code",
   "execution_count": 7,
   "id": "ee4e7118-312f-4323-9a17-f0b3b01d2cfa",
   "metadata": {},
   "outputs": [],
   "source": [
    "a, b = 5, 8"
   ]
  },
  {
   "cell_type": "code",
   "execution_count": null,
   "id": "7bf35cb9-ebff-49c4-a960-5169e23d9cb0",
   "metadata": {},
   "outputs": [],
   "source": []
  }
 ],
 "metadata": {
  "kernelspec": {
   "display_name": "Python 3 (ipykernel)",
   "language": "python",
   "name": "python3"
  },
  "language_info": {
   "codemirror_mode": {
    "name": "ipython",
    "version": 3
   },
   "file_extension": ".py",
   "mimetype": "text/x-python",
   "name": "python",
   "nbconvert_exporter": "python",
   "pygments_lexer": "ipython3",
   "version": "3.13.5"
  }
 },
 "nbformat": 4,
 "nbformat_minor": 5
}
