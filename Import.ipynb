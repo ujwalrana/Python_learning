{
 "cells": [
  {
   "cell_type": "code",
   "execution_count": 1,
   "id": "71d5c16d-83b0-455f-a943-2ae25df1f29d",
   "metadata": {},
   "outputs": [
    {
     "name": "stdout",
     "output_type": "stream",
     "text": [
      "Requirement already satisfied: pandas in c:\\users\\hp\\music\\anaconda.apk\\lib\\site-packages (2.2.3)Note: you may need to restart the kernel to use updated packages.\n",
      "\n",
      "Requirement already satisfied: numpy>=1.26.0 in c:\\users\\hp\\music\\anaconda.apk\\lib\\site-packages (from pandas) (2.1.3)\n",
      "Requirement already satisfied: python-dateutil>=2.8.2 in c:\\users\\hp\\music\\anaconda.apk\\lib\\site-packages (from pandas) (2.9.0.post0)\n",
      "Requirement already satisfied: pytz>=2020.1 in c:\\users\\hp\\music\\anaconda.apk\\lib\\site-packages (from pandas) (2024.1)\n",
      "Requirement already satisfied: tzdata>=2022.7 in c:\\users\\hp\\music\\anaconda.apk\\lib\\site-packages (from pandas) (2025.2)\n",
      "Requirement already satisfied: six>=1.5 in c:\\users\\hp\\music\\anaconda.apk\\lib\\site-packages (from python-dateutil>=2.8.2->pandas) (1.17.0)\n"
     ]
    }
   ],
   "source": [
    "pip install pandas"
   ]
  },
  {
   "cell_type": "code",
   "execution_count": null,
   "id": "4049497b-f175-4531-8875-3130d711d6bf",
   "metadata": {},
   "outputs": [],
   "source": [
    "pip install Django==5.2.5"
   ]
  },
  {
   "cell_type": "code",
   "execution_count": 1,
   "id": "ac96aa97-cf4a-4972-a6cf-ccc7e0c3772e",
   "metadata": {},
   "outputs": [],
   "source": [
    "import pandas as pd"
   ]
  },
  {
   "cell_type": "code",
   "execution_count": 2,
   "id": "04617ac2-7e7f-4243-9cc4-df3e326ea4ce",
   "metadata": {},
   "outputs": [
    {
     "data": {
      "text/plain": [
       "<module 'pandas' from 'C:\\\\Users\\\\Hp\\\\Music\\\\anaconda.apk\\\\Lib\\\\site-packages\\\\pandas\\\\__init__.py'>"
      ]
     },
     "execution_count": 2,
     "metadata": {},
     "output_type": "execute_result"
    }
   ],
   "source": [
    "pd"
   ]
  },
  {
   "cell_type": "code",
   "execution_count": 4,
   "id": "81c56a36-e5a3-4586-a7cd-c6fb7d5ef5b2",
   "metadata": {},
   "outputs": [
    {
     "data": {
      "text/html": [
       "<div>\n",
       "<style scoped>\n",
       "    .dataframe tbody tr th:only-of-type {\n",
       "        vertical-align: middle;\n",
       "    }\n",
       "\n",
       "    .dataframe tbody tr th {\n",
       "        vertical-align: top;\n",
       "    }\n",
       "\n",
       "    .dataframe thead th {\n",
       "        text-align: right;\n",
       "    }\n",
       "</style>\n",
       "<table border=\"1\" class=\"dataframe\">\n",
       "  <thead>\n",
       "    <tr style=\"text-align: right;\">\n",
       "      <th></th>\n",
       "      <th>name</th>\n",
       "    </tr>\n",
       "  </thead>\n",
       "  <tbody>\n",
       "    <tr>\n",
       "      <th>0</th>\n",
       "      <td>[ujwal, satto]</td>\n",
       "    </tr>\n",
       "  </tbody>\n",
       "</table>\n",
       "</div>"
      ],
      "text/plain": [
       "             name\n",
       "0  [ujwal, satto]"
      ]
     },
     "execution_count": 4,
     "metadata": {},
     "output_type": "execute_result"
    }
   ],
   "source": [
    "pd.json_normalize({\"name\":[\"ujwal\",\"satto\"]})"
   ]
  },
  {
   "cell_type": "code",
   "execution_count": 7,
   "id": "f6614e7c-5741-4453-9b6c-05bbd69780c1",
   "metadata": {},
   "outputs": [],
   "source": [
    "from random import randint"
   ]
  },
  {
   "cell_type": "code",
   "execution_count": 8,
   "id": "addf168e-c8a1-421b-ad8e-e47216a3ef10",
   "metadata": {},
   "outputs": [
    {
     "data": {
      "text/plain": [
       "12"
      ]
     },
     "execution_count": 8,
     "metadata": {},
     "output_type": "execute_result"
    }
   ],
   "source": [
    "randint(10,20)"
   ]
  },
  {
   "cell_type": "code",
   "execution_count": 10,
   "id": "ff6d37ea-191d-4727-8f93-f749c7e4e62e",
   "metadata": {},
   "outputs": [],
   "source": [
    "from datetime import datetime"
   ]
  },
  {
   "cell_type": "code",
   "execution_count": 11,
   "id": "1ef1a9c5-aa2c-4acf-8a32-4d4908fea670",
   "metadata": {},
   "outputs": [
    {
     "data": {
      "text/plain": [
       "datetime.datetime(2025, 8, 19, 13, 13, 14, 283918)"
      ]
     },
     "execution_count": 11,
     "metadata": {},
     "output_type": "execute_result"
    }
   ],
   "source": [
    "datetime.today()"
   ]
  },
  {
   "cell_type": "code",
   "execution_count": 14,
   "id": "5ca2b59b-9082-4975-9042-411b32664f5c",
   "metadata": {},
   "outputs": [],
   "source": [
    "n = datetime.now()"
   ]
  },
  {
   "cell_type": "code",
   "execution_count": 17,
   "id": "ba362731-0eea-44e1-a9b1-a982f71fbc9b",
   "metadata": {},
   "outputs": [
    {
     "name": "stdout",
     "output_type": "stream",
     "text": [
      "2025-08-19 13:15:03.385448\n"
     ]
    }
   ],
   "source": [
    "a = datetime.now()\n",
    "print(a)"
   ]
  },
  {
   "cell_type": "code",
   "execution_count": 18,
   "id": "2204f1bb-ff36-4db4-a419-051f88523953",
   "metadata": {},
   "outputs": [
    {
     "data": {
      "text/plain": [
       "datetime.time(13, 15, 3, 385448)"
      ]
     },
     "execution_count": 18,
     "metadata": {},
     "output_type": "execute_result"
    }
   ],
   "source": [
    "a.time()"
   ]
  },
  {
   "cell_type": "code",
   "execution_count": 20,
   "id": "4752a717-bbd4-4de9-b3f6-9abdf7a71c31",
   "metadata": {},
   "outputs": [
    {
     "data": {
      "text/plain": [
       "13"
      ]
     },
     "execution_count": 20,
     "metadata": {},
     "output_type": "execute_result"
    }
   ],
   "source": [
    "a.hour"
   ]
  },
  {
   "cell_type": "code",
   "execution_count": 21,
   "id": "2a93ec3c-19a4-4be2-8711-846f65bf7977",
   "metadata": {},
   "outputs": [
    {
     "data": {
      "text/plain": [
       "datetime.datetime(9999, 12, 31, 23, 59, 59, 999999)"
      ]
     },
     "execution_count": 21,
     "metadata": {},
     "output_type": "execute_result"
    }
   ],
   "source": [
    "a.max"
   ]
  },
  {
   "cell_type": "code",
   "execution_count": 23,
   "id": "e0e3a7b3-e560-4e39-8bb8-92aed8b674f5",
   "metadata": {},
   "outputs": [
    {
     "data": {
      "text/plain": [
       "datetime.datetime(2025, 8, 19, 13, 17, 29, 25101)"
      ]
     },
     "execution_count": 23,
     "metadata": {},
     "output_type": "execute_result"
    }
   ],
   "source": [
    "datetime.today()"
   ]
  },
  {
   "cell_type": "code",
   "execution_count": 24,
   "id": "e7610e2f-e842-4dd5-af86-fec92636637d",
   "metadata": {},
   "outputs": [
    {
     "name": "stdout",
     "output_type": "stream",
     "text": [
      "Help on built-in function today:\n",
      "\n",
      "today() class method of datetime.datetime\n",
      "    Current date or datetime:  same as self.__class__.fromtimestamp(time.time()).\n",
      "\n"
     ]
    }
   ],
   "source": [
    "help(datetime.today)"
   ]
  },
  {
   "cell_type": "code",
   "execution_count": 28,
   "id": "c4520ea6-7e60-4dfc-8847-aa89eb645189",
   "metadata": {},
   "outputs": [
    {
     "data": {
      "text/plain": [
       "0"
      ]
     },
     "execution_count": 28,
     "metadata": {},
     "output_type": "execute_result"
    }
   ],
   "source": [
    "a.fold"
   ]
  },
  {
   "cell_type": "code",
   "execution_count": 31,
   "id": "3b6c4cfa-97aa-4ea2-9bb8-25c77bebaa33",
   "metadata": {},
   "outputs": [
    {
     "data": {
      "text/plain": [
       "datetime.datetime(1, 1, 1, 0, 0)"
      ]
     },
     "execution_count": 31,
     "metadata": {},
     "output_type": "execute_result"
    }
   ],
   "source": [
    "a.min"
   ]
  },
  {
   "cell_type": "code",
   "execution_count": 32,
   "id": "5a3ce89b-137e-4ffe-b887-32be1c11445d",
   "metadata": {},
   "outputs": [
    {
     "data": {
      "text/plain": [
       "datetime.date(2025, 8, 19)"
      ]
     },
     "execution_count": 32,
     "metadata": {},
     "output_type": "execute_result"
    }
   ],
   "source": [
    "datetime.date(a)"
   ]
  },
  {
   "cell_type": "code",
   "execution_count": 33,
   "id": "f6366046-0735-48af-92f8-9b9fa0387a92",
   "metadata": {},
   "outputs": [
    {
     "data": {
      "text/plain": [
       "datetime.time(13, 15, 3, 385448)"
      ]
     },
     "execution_count": 33,
     "metadata": {},
     "output_type": "execute_result"
    }
   ],
   "source": [
    "datetime.time(a)"
   ]
  },
  {
   "cell_type": "code",
   "execution_count": 42,
   "id": "9ca63fe8-73ef-4244-8942-c39a95f0cd55",
   "metadata": {},
   "outputs": [
    {
     "data": {
      "text/plain": [
       "datetime.date(2025, 8, 19)"
      ]
     },
     "execution_count": 42,
     "metadata": {},
     "output_type": "execute_result"
    }
   ],
   "source": [
    "datetime.date(a)"
   ]
  },
  {
   "cell_type": "code",
   "execution_count": 45,
   "id": "f4d0d5eb-556a-4d83-a5ee-44e5c76ec1ab",
   "metadata": {},
   "outputs": [
    {
     "data": {
      "text/plain": [
       "'25 - 08 -19'"
      ]
     },
     "execution_count": 45,
     "metadata": {},
     "output_type": "execute_result"
    }
   ],
   "source": [
    "datetime.strftime(a,\"%y - %m -%d\")"
   ]
  },
  {
   "cell_type": "code",
   "execution_count": 46,
   "id": "3d1b71c8-8ac5-4f6e-baab-03d0cce493b5",
   "metadata": {},
   "outputs": [
    {
     "data": {
      "text/plain": [
       "'19 -08 -25'"
      ]
     },
     "execution_count": 46,
     "metadata": {},
     "output_type": "execute_result"
    }
   ],
   "source": [
    "datetime.strftime(datetime.now(),\"%d -%m -%y\")"
   ]
  },
  {
   "cell_type": "code",
   "execution_count": 48,
   "id": "ce126ab3-efef-437e-afe5-e5f99c896043",
   "metadata": {
    "scrolled": true
   },
   "outputs": [
    {
     "data": {
      "text/plain": [
       "'19 -August -25'"
      ]
     },
     "execution_count": 48,
     "metadata": {},
     "output_type": "execute_result"
    }
   ],
   "source": [
    "datetime.strftime(datetime.now(),\"%d -%B -%y\")"
   ]
  },
  {
   "cell_type": "code",
   "execution_count": 56,
   "id": "de42453d-20a3-423c-883d-e77152873c00",
   "metadata": {},
   "outputs": [],
   "source": [
    "import random"
   ]
  },
  {
   "cell_type": "code",
   "execution_count": 58,
   "id": "e1bc0605-333e-4cc4-8b96-6c942e0657da",
   "metadata": {},
   "outputs": [
    {
     "data": {
      "text/plain": [
       "18"
      ]
     },
     "execution_count": 58,
     "metadata": {},
     "output_type": "execute_result"
    }
   ],
   "source": [
    "random.choice([12,13,14,15,16,17,18])"
   ]
  },
  {
   "cell_type": "code",
   "execution_count": 64,
   "id": "8b6dc779-908b-427f-b49d-2d01c4f1f508",
   "metadata": {},
   "outputs": [
    {
     "name": "stdout",
     "output_type": "stream",
     "text": [
      "[2, 3, 4, 5]\n",
      "[4, 9, 16, 25]\n"
     ]
    }
   ],
   "source": [
    "li =[2,3,4,5]\n",
    "a =[]\n",
    "for i in li:\n",
    "    s = i **2\n",
    "    a.append(s)\n",
    "print(li)\n",
    "print(a)"
   ]
  },
  {
   "cell_type": "code",
   "execution_count": 66,
   "id": "94302b65-4e44-47fc-867b-e5bba91fe735",
   "metadata": {},
   "outputs": [
    {
     "name": "stdout",
     "output_type": "stream",
     "text": [
      "[6]\n",
      "[6, 4]\n",
      "[6, 4, 5]\n",
      "[6, 4, 5, 4]\n",
      "[6, 4, 5, 4, 7]\n"
     ]
    }
   ],
   "source": [
    "a = []\n",
    "for i in range(5):\n",
    "    a.append(random.randint(1,10))\n",
    "    print(a)"
   ]
  },
  {
   "cell_type": "code",
   "execution_count": 73,
   "id": "5b32772e-d4d7-4902-8ff1-d729276f09ae",
   "metadata": {},
   "outputs": [
    {
     "name": "stdout",
     "output_type": "stream",
     "text": [
      "[3, 8, 7, 2, 9]\n"
     ]
    }
   ],
   "source": [
    "a = [random.randint(1,10)for i in range(5)]\n",
    "print(a)"
   ]
  },
  {
   "cell_type": "code",
   "execution_count": 74,
   "id": "eb501110-3be2-49c2-9e8f-13ed90d70800",
   "metadata": {
    "scrolled": true
   },
   "outputs": [
    {
     "data": {
      "text/plain": [
       "[3, 8, 7, 2, 9]"
      ]
     },
     "execution_count": 74,
     "metadata": {},
     "output_type": "execute_result"
    }
   ],
   "source": [
    "a"
   ]
  },
  {
   "cell_type": "code",
   "execution_count": 79,
   "id": "e641afeb-48a5-4bb3-bc3f-43f47ca71d19",
   "metadata": {},
   "outputs": [
    {
     "name": "stdout",
     "output_type": "stream",
     "text": [
      "[3, 8, 7, 2, 9]\n",
      "[3, 8, 7, 2, 9]\n"
     ]
    }
   ],
   "source": [
    "l = [i for i in a]\n",
    "print(a)\n",
    "print(l)"
   ]
  },
  {
   "cell_type": "code",
   "execution_count": 78,
   "id": "6f6af31a-417a-46e9-a0e3-f3ae85d11a59",
   "metadata": {},
   "outputs": [
    {
     "name": "stdout",
     "output_type": "stream",
     "text": [
      "[3, 8, 7, 2, 9]\n",
      "[9, 64, 49, 4, 81]\n"
     ]
    }
   ],
   "source": [
    "l = [i**2 for i in a]\n",
    "print(a)\n",
    "print(l)"
   ]
  },
  {
   "cell_type": "code",
   "execution_count": 81,
   "id": "68d0fc83-b9f9-4018-8d0f-ffd5789d0923",
   "metadata": {},
   "outputs": [
    {
     "name": "stdout",
     "output_type": "stream",
     "text": [
      "[3, 8, 7, 2, 9]\n",
      "[9, 64, 49, 4, 81]\n"
     ]
    }
   ],
   "source": [
    "l = [a[i]**2 for i in range(len(a))]\n",
    "print(a)\n",
    "print(l)"
   ]
  },
  {
   "cell_type": "code",
   "execution_count": 83,
   "id": "a9cce8ba-d253-465d-96aa-4e01d6882c4d",
   "metadata": {},
   "outputs": [
    {
     "name": "stdout",
     "output_type": "stream",
     "text": [
      "[3, 8, 7, 2, 9]\n",
      "[9, 64, 49, 4, 81]\n"
     ]
    }
   ],
   "source": [
    "print(a)\n",
    "l =[]\n",
    "for i in range(len(a)):\n",
    "    l.append(a[i]**2)\n",
    "print(l)"
   ]
  },
  {
   "cell_type": "code",
   "execution_count": 84,
   "id": "36023335-2c18-422b-a728-db3c6e2c118b",
   "metadata": {},
   "outputs": [],
   "source": [
    "name =['ujwal','rohit','sahil']\n",
    "age =[20,21,22]"
   ]
  },
  {
   "cell_type": "code",
   "execution_count": 85,
   "id": "f40f2bcd-4bc8-4f5b-bc2d-a1d80952d2bb",
   "metadata": {},
   "outputs": [
    {
     "data": {
      "text/plain": [
       "<zip at 0x246dab3e880>"
      ]
     },
     "execution_count": 85,
     "metadata": {},
     "output_type": "execute_result"
    }
   ],
   "source": [
    "zip(name,age)"
   ]
  },
  {
   "cell_type": "code",
   "execution_count": 87,
   "id": "b54bf508-d7ac-48ba-9dcf-b5c64477eaa9",
   "metadata": {},
   "outputs": [],
   "source": [
    "d = {}\n",
    "for i,j in zip(name,age):\n",
    "    d[i] = j"
   ]
  },
  {
   "cell_type": "code",
   "execution_count": 88,
   "id": "66bf653d-7629-45cf-af59-db1b309c76ce",
   "metadata": {},
   "outputs": [
    {
     "data": {
      "text/plain": [
       "{'ujwal': 20, 'rohit': 21, 'sahil': 22}"
      ]
     },
     "execution_count": 88,
     "metadata": {},
     "output_type": "execute_result"
    }
   ],
   "source": [
    "d"
   ]
  },
  {
   "cell_type": "code",
   "execution_count": 89,
   "id": "2cf6dc59-35e4-4c85-9ce6-8dbf5dc6fa30",
   "metadata": {},
   "outputs": [
    {
     "data": {
      "text/plain": [
       "{'ujwal': 20, 'rohit': 21, 'sahil': 22}"
      ]
     },
     "execution_count": 89,
     "metadata": {},
     "output_type": "execute_result"
    }
   ],
   "source": [
    "{i: j for i,j in zip(name,age)}"
   ]
  },
  {
   "cell_type": "code",
   "execution_count": null,
   "id": "e77ad3e9-6ac8-451c-ad10-d02414fb7aac",
   "metadata": {},
   "outputs": [],
   "source": []
  }
 ],
 "metadata": {
  "kernelspec": {
   "display_name": "Python 3 (ipykernel)",
   "language": "python",
   "name": "python3"
  },
  "language_info": {
   "codemirror_mode": {
    "name": "ipython",
    "version": 3
   },
   "file_extension": ".py",
   "mimetype": "text/x-python",
   "name": "python",
   "nbconvert_exporter": "python",
   "pygments_lexer": "ipython3",
   "version": "3.13.5"
  }
 },
 "nbformat": 4,
 "nbformat_minor": 5
}
