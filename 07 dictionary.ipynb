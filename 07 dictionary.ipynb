{
 "cells": [
  {
   "cell_type": "code",
   "execution_count": 1,
   "id": "d5e5138c-617a-4862-b096-cec239a54a19",
   "metadata": {},
   "outputs": [],
   "source": [
    "# dictionary"
   ]
  },
  {
   "cell_type": "code",
   "execution_count": 2,
   "id": "27a102cb-d41b-4f2f-87d3-025901c053c3",
   "metadata": {},
   "outputs": [
    {
     "data": {
      "text/plain": [
       "{'name': 'ujwal', 'age': 24, 'education': 'BBA'}"
      ]
     },
     "execution_count": 2,
     "metadata": {},
     "output_type": "execute_result"
    }
   ],
   "source": [
    "{\"name\":\"ujwal\",\"age\":24,\"education\":\"BBA\"}"
   ]
  },
  {
   "cell_type": "code",
   "execution_count": 3,
   "id": "7332d68a-5140-45ab-bcf6-0f51d45b2ca2",
   "metadata": {},
   "outputs": [],
   "source": [
    "d ={\"name\":\"ujwal\",\"age\":24,\"education\":\"BBA\"}"
   ]
  },
  {
   "cell_type": "code",
   "execution_count": 4,
   "id": "b746da62-257f-4f7a-8c33-a050b23dac50",
   "metadata": {},
   "outputs": [
    {
     "data": {
      "text/plain": [
       "{'name': 'ujwal', 'age': 24, 'education': 'BBA'}"
      ]
     },
     "execution_count": 4,
     "metadata": {},
     "output_type": "execute_result"
    }
   ],
   "source": [
    "d"
   ]
  },
  {
   "cell_type": "code",
   "execution_count": 7,
   "id": "7bac3631-4fd5-4d15-9add-32f25ef08a08",
   "metadata": {},
   "outputs": [
    {
     "data": {
      "text/plain": [
       "dict_keys(['name', 'age', 'education'])"
      ]
     },
     "execution_count": 7,
     "metadata": {},
     "output_type": "execute_result"
    }
   ],
   "source": [
    "d.keys()"
   ]
  },
  {
   "cell_type": "code",
   "execution_count": 8,
   "id": "953f8b91-b32f-4d6b-9813-5b21c76bf671",
   "metadata": {},
   "outputs": [
    {
     "data": {
      "text/plain": [
       "3"
      ]
     },
     "execution_count": 8,
     "metadata": {},
     "output_type": "execute_result"
    }
   ],
   "source": [
    "len(d)"
   ]
  },
  {
   "cell_type": "code",
   "execution_count": 9,
   "id": "3496cb0f-ed7c-4725-8373-0c242c93b362",
   "metadata": {},
   "outputs": [
    {
     "data": {
      "text/plain": [
       "dict_values(['ujwal', 24, 'BBA'])"
      ]
     },
     "execution_count": 9,
     "metadata": {},
     "output_type": "execute_result"
    }
   ],
   "source": [
    "d.values()"
   ]
  },
  {
   "cell_type": "code",
   "execution_count": 10,
   "id": "d4045a86-6938-491f-97fd-340831735194",
   "metadata": {},
   "outputs": [
    {
     "data": {
      "text/plain": [
       "'ujwal'"
      ]
     },
     "execution_count": 10,
     "metadata": {},
     "output_type": "execute_result"
    }
   ],
   "source": [
    "d['name']"
   ]
  },
  {
   "cell_type": "code",
   "execution_count": 11,
   "id": "a168a4c5-a343-4507-bafd-7068f36d0e58",
   "metadata": {},
   "outputs": [
    {
     "data": {
      "text/plain": [
       "24"
      ]
     },
     "execution_count": 11,
     "metadata": {},
     "output_type": "execute_result"
    }
   ],
   "source": [
    "d['age']"
   ]
  },
  {
   "cell_type": "code",
   "execution_count": 12,
   "id": "9be38863-9dad-44e9-ba5b-eb8a55b868ac",
   "metadata": {},
   "outputs": [],
   "source": [
    "d ={\"name\":\"sahil\",\"gender\":\"male\",\"age\":\"23\"}"
   ]
  },
  {
   "cell_type": "code",
   "execution_count": 13,
   "id": "a50cc008-f7bb-46b0-9103-0431cee04999",
   "metadata": {},
   "outputs": [
    {
     "data": {
      "text/plain": [
       "{'name': 'sahil', 'gender': 'male', 'age': '23'}"
      ]
     },
     "execution_count": 13,
     "metadata": {},
     "output_type": "execute_result"
    }
   ],
   "source": [
    "d"
   ]
  },
  {
   "cell_type": "code",
   "execution_count": 15,
   "id": "cf598886-0b10-4173-a97d-2d2629c0de06",
   "metadata": {},
   "outputs": [
    {
     "data": {
      "text/plain": [
       "dict_values(['sahil', 'male', '23'])"
      ]
     },
     "execution_count": 15,
     "metadata": {},
     "output_type": "execute_result"
    }
   ],
   "source": [
    "d.values()"
   ]
  },
  {
   "cell_type": "code",
   "execution_count": 17,
   "id": "644405f5-6a6b-4715-ba1c-df8174c90e79",
   "metadata": {},
   "outputs": [
    {
     "data": {
      "text/plain": [
       "dict_keys(['name', 'gender', 'age'])"
      ]
     },
     "execution_count": 17,
     "metadata": {},
     "output_type": "execute_result"
    }
   ],
   "source": [
    "d.keys()"
   ]
  },
  {
   "cell_type": "code",
   "execution_count": 20,
   "id": "e19e948c-2292-444c-bcdb-6bcba30c8b1d",
   "metadata": {},
   "outputs": [
    {
     "data": {
      "text/plain": [
       "'sahil'"
      ]
     },
     "execution_count": 20,
     "metadata": {},
     "output_type": "execute_result"
    }
   ],
   "source": [
    "d['name']"
   ]
  },
  {
   "cell_type": "code",
   "execution_count": 21,
   "id": "b7092345-05fc-4373-8f49-cac014a265b6",
   "metadata": {},
   "outputs": [
    {
     "data": {
      "text/plain": [
       "'23'"
      ]
     },
     "execution_count": 21,
     "metadata": {},
     "output_type": "execute_result"
    }
   ],
   "source": [
    "d['age']"
   ]
  },
  {
   "cell_type": "code",
   "execution_count": 24,
   "id": "c47834b4-9474-46f3-b932-145e88f2e670",
   "metadata": {},
   "outputs": [
    {
     "data": {
      "text/plain": [
       "3"
      ]
     },
     "execution_count": 24,
     "metadata": {},
     "output_type": "execute_result"
    }
   ],
   "source": [
    "len(d)"
   ]
  },
  {
   "cell_type": "code",
   "execution_count": 25,
   "id": "82019316-a6b8-4032-aebd-7fe9aa84658b",
   "metadata": {},
   "outputs": [
    {
     "data": {
      "text/plain": [
       "'sahil'"
      ]
     },
     "execution_count": 25,
     "metadata": {},
     "output_type": "execute_result"
    }
   ],
   "source": [
    "d[\"name\"]"
   ]
  },
  {
   "cell_type": "code",
   "execution_count": 26,
   "id": "c4513351-23ba-481a-9f99-d3a41cb31442",
   "metadata": {},
   "outputs": [],
   "source": [
    "d[\"wife\"]=\"rohit\""
   ]
  },
  {
   "cell_type": "code",
   "execution_count": 27,
   "id": "00691d62-9ca8-45ff-95cf-2e783251e29d",
   "metadata": {},
   "outputs": [
    {
     "data": {
      "text/plain": [
       "{'name': 'sahil', 'gender': 'male', 'age': '23', 'wife': 'rohit'}"
      ]
     },
     "execution_count": 27,
     "metadata": {},
     "output_type": "execute_result"
    }
   ],
   "source": [
    "d"
   ]
  },
  {
   "cell_type": "code",
   "execution_count": 28,
   "id": "6cb28f7b-2a85-4cd3-ad84-dfcd56f8618a",
   "metadata": {},
   "outputs": [],
   "source": [
    "d[\"height\"]=\"6.2\""
   ]
  },
  {
   "cell_type": "code",
   "execution_count": 29,
   "id": "0614c066-9716-48cd-a098-58952516fe2b",
   "metadata": {},
   "outputs": [
    {
     "data": {
      "text/plain": [
       "{'name': 'sahil',\n",
       " 'gender': 'male',\n",
       " 'age': '23',\n",
       " 'wife': 'rohit',\n",
       " 'height': '6.2'}"
      ]
     },
     "execution_count": 29,
     "metadata": {},
     "output_type": "execute_result"
    }
   ],
   "source": [
    "d"
   ]
  },
  {
   "cell_type": "code",
   "execution_count": 32,
   "id": "a6fd2256-4700-4fed-aa3b-516fdad16ed6",
   "metadata": {},
   "outputs": [
    {
     "data": {
      "text/plain": [
       "{1: 'ujwal', 2: 'sahil', 3: 'rohit'}"
      ]
     },
     "execution_count": 32,
     "metadata": {},
     "output_type": "execute_result"
    }
   ],
   "source": [
    "{1:\"ujwal\", 2:\"sahil\",3:\"rohit\"}"
   ]
  },
  {
   "cell_type": "code",
   "execution_count": 47,
   "id": "e9d68d0e-3c62-425f-8474-bd9600f6b289",
   "metadata": {},
   "outputs": [],
   "source": [
    "di ={1:{\"name\":\"ujwal\",\"age\":21,\"education\":\"bba\"},2:{\"name\":\"rohit\",\"age\":\"20\"},3:{\"name\":\"akash\",\"age\":20}}"
   ]
  },
  {
   "cell_type": "code",
   "execution_count": 50,
   "id": "4053c5d2-acf4-433a-8cc7-484279d89725",
   "metadata": {},
   "outputs": [
    {
     "data": {
      "text/plain": [
       "{'name': 'ujwal', 'age': 21, 'education': 'bba'}"
      ]
     },
     "execution_count": 50,
     "metadata": {},
     "output_type": "execute_result"
    }
   ],
   "source": [
    "di[1]"
   ]
  },
  {
   "cell_type": "code",
   "execution_count": 51,
   "id": "6a484fb3-e2df-42d9-a4dd-cc2611d1ef3f",
   "metadata": {},
   "outputs": [],
   "source": [
    "di[\"wife\"]=\"aaa\""
   ]
  },
  {
   "cell_type": "code",
   "execution_count": 52,
   "id": "fedf8a66-5329-4694-8161-6a4677a5b94c",
   "metadata": {},
   "outputs": [
    {
     "data": {
      "text/plain": [
       "{1: {'name': 'ujwal', 'age': 21, 'education': 'bba'},\n",
       " 2: {'name': 'rohit', 'age': '20'},\n",
       " 3: {'name': 'akash', 'age': 20},\n",
       " 'wife': 'aaa'}"
      ]
     },
     "execution_count": 52,
     "metadata": {},
     "output_type": "execute_result"
    }
   ],
   "source": [
    "di"
   ]
  },
  {
   "cell_type": "code",
   "execution_count": 57,
   "id": "b624d7b2-8aa7-4590-95e3-b66bb97a1fdb",
   "metadata": {},
   "outputs": [
    {
     "data": {
      "text/plain": [
       "'akas'"
      ]
     },
     "execution_count": 57,
     "metadata": {},
     "output_type": "execute_result"
    }
   ],
   "source": [
    "di[3][\"name\"][0:4]"
   ]
  },
  {
   "cell_type": "code",
   "execution_count": 58,
   "id": "f06c6566-ccd6-43b6-8a26-c0a3529a1259",
   "metadata": {},
   "outputs": [
    {
     "data": {
      "text/plain": [
       "dict_items([(1, {'name': 'ujwal', 'age': 21, 'education': 'bba'}), (2, {'name': 'rohit', 'age': '20'}), (3, {'name': 'akash', 'age': 20}), ('wife', 'aaa')])"
      ]
     },
     "execution_count": 58,
     "metadata": {},
     "output_type": "execute_result"
    }
   ],
   "source": [
    "di.items()"
   ]
  },
  {
   "cell_type": "code",
   "execution_count": 8,
   "id": "647d759b-75c4-42fd-85ba-ad810d2c3315",
   "metadata": {},
   "outputs": [],
   "source": [
    "d = {\"name\":\"ujwal\",\"age\":22,\"education\":\"bba\",\"height\":5.9}"
   ]
  },
  {
   "cell_type": "code",
   "execution_count": 9,
   "id": "06f45118-8050-4cb7-bf06-ed114b356325",
   "metadata": {},
   "outputs": [
    {
     "data": {
      "text/plain": [
       "{'name': 'ujwal', 'age': 22, 'education': 'bba', 'height': 5.9}"
      ]
     },
     "execution_count": 9,
     "metadata": {},
     "output_type": "execute_result"
    }
   ],
   "source": [
    "d"
   ]
  },
  {
   "cell_type": "code",
   "execution_count": 1,
   "id": "ac9858d3-2b02-45b9-8e4f-0eebcbe73b46",
   "metadata": {},
   "outputs": [],
   "source": [
    "D ={\"name\":\"ujwal\",\"age\":21,\"education\":\"bba\",\"gender\":\"male\"}"
   ]
  },
  {
   "cell_type": "code",
   "execution_count": 3,
   "id": "41643e5c-9126-485f-a63f-657c10d928e3",
   "metadata": {},
   "outputs": [
    {
     "data": {
      "text/plain": [
       "{'name': 'ujwal', 'age': 21, 'education': 'bba', 'gender': 'male'}"
      ]
     },
     "execution_count": 3,
     "metadata": {},
     "output_type": "execute_result"
    }
   ],
   "source": [
    "D"
   ]
  },
  {
   "cell_type": "code",
   "execution_count": 8,
   "id": "472a8024-9b75-496f-9e6b-d0ee93403fbf",
   "metadata": {},
   "outputs": [
    {
     "data": {
      "text/plain": [
       "dict_keys(['name', 'age', 'education', 'gender'])"
      ]
     },
     "execution_count": 8,
     "metadata": {},
     "output_type": "execute_result"
    }
   ],
   "source": [
    "D.keys()"
   ]
  },
  {
   "cell_type": "code",
   "execution_count": 9,
   "id": "6db2a151-c718-48ae-b40d-a89050096c02",
   "metadata": {},
   "outputs": [
    {
     "data": {
      "text/plain": [
       "dict_values(['ujwal', 21, 'bba', 'male'])"
      ]
     },
     "execution_count": 9,
     "metadata": {},
     "output_type": "execute_result"
    }
   ],
   "source": [
    "D.values()"
   ]
  },
  {
   "cell_type": "code",
   "execution_count": 11,
   "id": "1bef187c-297a-4c4b-815c-e7aba9391c0e",
   "metadata": {},
   "outputs": [
    {
     "data": {
      "text/plain": [
       "4"
      ]
     },
     "execution_count": 11,
     "metadata": {},
     "output_type": "execute_result"
    }
   ],
   "source": [
    "len(D)"
   ]
  },
  {
   "cell_type": "code",
   "execution_count": 14,
   "id": "1ab4b14d-be5a-4ea6-979c-2415ba77720b",
   "metadata": {},
   "outputs": [],
   "source": [
    "D[\"name\"]=\"ujju\""
   ]
  },
  {
   "cell_type": "code",
   "execution_count": 16,
   "id": "09a54894-9ecd-465b-aa00-46817f9c516f",
   "metadata": {},
   "outputs": [
    {
     "data": {
      "text/plain": [
       "{'name': 'ujju', 'age': 21, 'education': 'bba', 'gender': 'male'}"
      ]
     },
     "execution_count": 16,
     "metadata": {},
     "output_type": "execute_result"
    }
   ],
   "source": [
    "D"
   ]
  },
  {
   "cell_type": "code",
   "execution_count": 24,
   "id": "f40e3e26-edc5-4c96-9564-be95a54a7a76",
   "metadata": {},
   "outputs": [],
   "source": [
    "D={1:{\"name\":\"ujwal\",\"age\":21,\"education\":\"bba\"},2:{\"name\":\"rohit\",\"age\":\"20\"},3:{\"name\":\"akash\",\"age\":20}}"
   ]
  },
  {
   "cell_type": "code",
   "execution_count": 25,
   "id": "6cf20a38-9ae2-41ed-9301-595214ed4800",
   "metadata": {},
   "outputs": [
    {
     "data": {
      "text/plain": [
       "{1: {'name': 'ujwal', 'age': 21, 'education': 'bba'},\n",
       " 2: {'name': 'rohit', 'age': '20'},\n",
       " 3: {'name': 'akash', 'age': 20}}"
      ]
     },
     "execution_count": 25,
     "metadata": {},
     "output_type": "execute_result"
    }
   ],
   "source": [
    "D"
   ]
  },
  {
   "cell_type": "code",
   "execution_count": 27,
   "id": "52b81972-6cc8-462e-be80-121e31388dc1",
   "metadata": {},
   "outputs": [],
   "source": [
    "V ={1:{\"name\":\"varsha\"},2:{\"name\":\"ujju\"},3:{\"name\":\"viyu\"}}"
   ]
  },
  {
   "cell_type": "code",
   "execution_count": 28,
   "id": "8c54bed8-ba4a-499b-8ae4-49767bb2c9b6",
   "metadata": {},
   "outputs": [
    {
     "data": {
      "text/plain": [
       "{1: {'name': 'varsha'}, 2: {'name': 'ujju'}, 3: {'name': 'viyu'}}"
      ]
     },
     "execution_count": 28,
     "metadata": {},
     "output_type": "execute_result"
    }
   ],
   "source": [
    "V"
   ]
  },
  {
   "cell_type": "code",
   "execution_count": 45,
   "id": "9abbebd5-8147-47ec-8e66-3b7b0f54141f",
   "metadata": {},
   "outputs": [],
   "source": [
    "V[\"name\"]:\"varshu\""
   ]
  },
  {
   "cell_type": "code",
   "execution_count": 46,
   "id": "6a79f467-b476-4e39-ba4f-c0d17ed65c50",
   "metadata": {},
   "outputs": [
    {
     "data": {
      "text/plain": [
       "{1: {'name': 'varsha'}, 2: {'name': 'ujju'}, 3: {'name': 'viyu'}}"
      ]
     },
     "execution_count": 46,
     "metadata": {},
     "output_type": "execute_result"
    }
   ],
   "source": [
    "V"
   ]
  },
  {
   "cell_type": "code",
   "execution_count": null,
   "id": "c86d42c5-780e-448f-b684-3ee5209fbb30",
   "metadata": {},
   "outputs": [],
   "source": []
  }
 ],
 "metadata": {
  "kernelspec": {
   "display_name": "Python 3 (ipykernel)",
   "language": "python",
   "name": "python3"
  },
  "language_info": {
   "codemirror_mode": {
    "name": "ipython",
    "version": 3
   },
   "file_extension": ".py",
   "mimetype": "text/x-python",
   "name": "python",
   "nbconvert_exporter": "python",
   "pygments_lexer": "ipython3",
   "version": "3.13.5"
  }
 },
 "nbformat": 4,
 "nbformat_minor": 5
}
