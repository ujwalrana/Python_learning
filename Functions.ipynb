{
 "cells": [
  {
   "cell_type": "markdown",
   "id": "3d38889d-b29a-44f9-9d22-a56847ed94ad",
   "metadata": {},
   "source": [
    "# Functions"
   ]
  },
  {
   "cell_type": "markdown",
   "id": "a3d133d9-0b6d-4bcf-979a-ac5b8c7cc085",
   "metadata": {},
   "source": [
    "## Functions store code, and it executes the code when called"
   ]
  },
  {
   "cell_type": "code",
   "execution_count": 5,
   "id": "52777d52-3965-4d7a-9cd7-0785ae33aa75",
   "metadata": {},
   "outputs": [],
   "source": [
    "# define a function\n",
    "\n",
    "def greeting():\n",
    "    print(\"hello everyone nice t meet you\")\n",
    "    print(2+2)"
   ]
  },
  {
   "cell_type": "code",
   "execution_count": 6,
   "id": "27cc4018-ec10-4fa0-a5b2-f47ad0723dd6",
   "metadata": {},
   "outputs": [
    {
     "name": "stdout",
     "output_type": "stream",
     "text": [
      "hello everyone nice t meet you\n",
      "4\n"
     ]
    }
   ],
   "source": [
    "# call a function\n",
    "greeting()"
   ]
  },
  {
   "cell_type": "code",
   "execution_count": 8,
   "id": "a62b2e71-cfb5-43ae-b811-e66c05aaff5d",
   "metadata": {},
   "outputs": [
    {
     "name": "stdout",
     "output_type": "stream",
     "text": [
      "hello everyone nice t meet you\n",
      "4\n"
     ]
    }
   ],
   "source": [
    "greeting()"
   ]
  },
  {
   "cell_type": "code",
   "execution_count": 9,
   "id": "cc9d7252-bef6-469c-8597-f6738fdc9429",
   "metadata": {
    "scrolled": true
   },
   "outputs": [
    {
     "name": "stdout",
     "output_type": "stream",
     "text": [
      "hello everyone nice t meet you\n",
      "4\n",
      "hello\n",
      "hello everyone nice t meet you\n",
      "4\n"
     ]
    }
   ],
   "source": [
    "greeting()\n",
    "print('hello')\n",
    "greeting()"
   ]
  },
  {
   "cell_type": "markdown",
   "id": "54c25da9-612f-404b-b7dd-b883101eea08",
   "metadata": {},
   "source": [
    "# Types of functions"
   ]
  },
  {
   "cell_type": "code",
   "execution_count": 10,
   "id": "f0710b23-d200-4ceb-bcce-b36eae24a5b3",
   "metadata": {},
   "outputs": [
    {
     "name": "stdout",
     "output_type": "stream",
     "text": [
      "hi\n",
      "4\n"
     ]
    }
   ],
   "source": [
    "# built in function\n",
    "print('hi')\n",
    "print(2+2)"
   ]
  },
  {
   "cell_type": "code",
   "execution_count": 11,
   "id": "549d948d-8638-45f5-8dfb-62f99e6593a1",
   "metadata": {},
   "outputs": [
    {
     "data": {
      "text/plain": [
       "4"
      ]
     },
     "execution_count": 11,
     "metadata": {},
     "output_type": "execute_result"
    }
   ],
   "source": [
    "min([4,9,7])"
   ]
  },
  {
   "cell_type": "code",
   "execution_count": 12,
   "id": "db718bbf-ff78-4cf5-85e0-062afcf8eece",
   "metadata": {},
   "outputs": [
    {
     "data": {
      "text/plain": [
       "10"
      ]
     },
     "execution_count": 12,
     "metadata": {},
     "output_type": "execute_result"
    }
   ],
   "source": [
    "max([9,9,10])"
   ]
  },
  {
   "cell_type": "markdown",
   "id": "04e0a094-d641-4b2c-985e-6fc185a40d77",
   "metadata": {},
   "source": [
    "## User defined functions"
   ]
  },
  {
   "cell_type": "code",
   "execution_count": 13,
   "id": "509b59be-350d-406e-a255-78a21397cf4a",
   "metadata": {},
   "outputs": [],
   "source": [
    "def greeting():\n",
    "    print(\"hi nice to meet you\")"
   ]
  },
  {
   "cell_type": "code",
   "execution_count": 14,
   "id": "39ba9e21-6951-41d1-b6fb-24a52c9ad637",
   "metadata": {},
   "outputs": [
    {
     "name": "stdout",
     "output_type": "stream",
     "text": [
      "hi nice to meet you\n"
     ]
    }
   ],
   "source": [
    "greeting()"
   ]
  },
  {
   "cell_type": "markdown",
   "id": "8d85d6cf-a040-494f-a160-40f94b247225",
   "metadata": {},
   "source": [
    "### user defined function"
   ]
  },
  {
   "cell_type": "code",
   "execution_count": 15,
   "id": "9c2b91b1-77e4-43f9-a96f-79dfd234afbb",
   "metadata": {},
   "outputs": [],
   "source": [
    "# simple function\n",
    "def greeting():\n",
    "    print(\"hello nice to meet you\")"
   ]
  },
  {
   "cell_type": "code",
   "execution_count": 16,
   "id": "70f3af5a-484a-45ec-be52-fbe2759b9510",
   "metadata": {},
   "outputs": [
    {
     "name": "stdout",
     "output_type": "stream",
     "text": [
      "hello nice to meet you\n"
     ]
    }
   ],
   "source": [
    "greeting()"
   ]
  },
  {
   "cell_type": "code",
   "execution_count": 23,
   "id": "aec36c0f-b834-4c2c-8719-d9d1c030684e",
   "metadata": {},
   "outputs": [
    {
     "name": "stdout",
     "output_type": "stream",
     "text": [
      "hello ujwal nice to meet you\n"
     ]
    }
   ],
   "source": [
    "# input funtions\n",
    "\n",
    "def greeting(name):\n",
    "    print(f\"hello {name} nice to meet you\")\n",
    "greeting(\"ujwal\")"
   ]
  },
  {
   "cell_type": "code",
   "execution_count": 24,
   "id": "91f1aeba-f903-4a04-98ce-7566d461978b",
   "metadata": {},
   "outputs": [],
   "source": [
    "def area_of_circle(r):\n",
    "    print((22/7)*r*r)"
   ]
  },
  {
   "cell_type": "code",
   "execution_count": 25,
   "id": "0b9807b6-f6ce-4b6d-a7b1-0377fa950973",
   "metadata": {},
   "outputs": [
    {
     "name": "stdout",
     "output_type": "stream",
     "text": [
      "78.57142857142857\n"
     ]
    }
   ],
   "source": [
    "area_of_circle(5)"
   ]
  },
  {
   "cell_type": "code",
   "execution_count": 41,
   "id": "96afae8d-ab95-4592-a354-e05866559b4c",
   "metadata": {},
   "outputs": [],
   "source": [
    "def area_of_rectangle(length,width):\n",
    "    print(length*width)"
   ]
  },
  {
   "cell_type": "code",
   "execution_count": 42,
   "id": "b76fe80d-829c-43ab-8495-1d77bc24614d",
   "metadata": {},
   "outputs": [
    {
     "name": "stdout",
     "output_type": "stream",
     "text": [
      "63\n"
     ]
    }
   ],
   "source": [
    "area_of_rectangle(7,9)"
   ]
  },
  {
   "cell_type": "markdown",
   "id": "c26e00ee-cdf4-4c7b-a77a-b06017397cef",
   "metadata": {},
   "source": [
    "#### Scope"
   ]
  },
  {
   "cell_type": "code",
   "execution_count": 45,
   "id": "4d4a7bd1-ede5-45e0-8ed9-9eb1db10593f",
   "metadata": {},
   "outputs": [],
   "source": [
    "# global scope\n",
    "job =\"netmax\"\n",
    "def myprofile():\n",
    "    # local scope\n",
    "    name=\"ujwal\"\n",
    "    age=21\n",
    "    education=\"BBA\"\n",
    "    job=\"hunting\"\n",
    "    print(name,age,education,job)"
   ]
  },
  {
   "cell_type": "code",
   "execution_count": 48,
   "id": "073e165c-5d9a-41d1-9f17-dc4036850222",
   "metadata": {},
   "outputs": [
    {
     "name": "stdout",
     "output_type": "stream",
     "text": [
      "ujwal 21 BBA hunting\n"
     ]
    }
   ],
   "source": [
    "myprofile()"
   ]
  },
  {
   "cell_type": "code",
   "execution_count": 53,
   "id": "fedb6b21-18c1-4268-bed8-d0cd33ff532b",
   "metadata": {},
   "outputs": [],
   "source": [
    "# global scope\n",
    "job =\"netmax\"\n",
    "profile=\"data analysis\"\n",
    "def myprofile():\n",
    "    # local scope\n",
    "    name=\"ujwal\"\n",
    "    age=21\n",
    "    education=\"BBA\"\n",
    "    job\n",
    "    print(name,age,education,job)"
   ]
  },
  {
   "cell_type": "code",
   "execution_count": 52,
   "id": "120247b3-c1e2-47de-b426-1d48ad917bd5",
   "metadata": {},
   "outputs": [
    {
     "data": {
      "text/plain": [
       "'data analysis'"
      ]
     },
     "execution_count": 52,
     "metadata": {},
     "output_type": "execute_result"
    }
   ],
   "source": [
    "profile"
   ]
  },
  {
   "cell_type": "code",
   "execution_count": 55,
   "id": "fecf4c61-9ad9-43e9-a77f-fa909ec8ac93",
   "metadata": {},
   "outputs": [
    {
     "name": "stdout",
     "output_type": "stream",
     "text": [
      "ujwal 21 BBA netmax\n"
     ]
    }
   ],
   "source": [
    "myprofile()"
   ]
  },
  {
   "cell_type": "code",
   "execution_count": 60,
   "id": "e969efbb-e20d-4644-b96d-7fb2dfc00201",
   "metadata": {},
   "outputs": [],
   "source": [
    "# default function\n",
    "def greeting(name = \"USER\"):\n",
    "    print(f'hello {name}, nice to meet you')"
   ]
  },
  {
   "cell_type": "code",
   "execution_count": 61,
   "id": "6166337a-fb09-4410-8fd9-0061a795622a",
   "metadata": {},
   "outputs": [
    {
     "name": "stdout",
     "output_type": "stream",
     "text": [
      "hello USER, nice to meet you\n"
     ]
    }
   ],
   "source": [
    "greeting()"
   ]
  },
  {
   "cell_type": "code",
   "execution_count": 63,
   "id": "44345214-baab-4c23-a038-082cfbc5e09b",
   "metadata": {},
   "outputs": [],
   "source": [
    "def salary_structure(salary, tax_rate):\n",
    "    tax=salary* tax_rate\n",
    "    print(tax)"
   ]
  },
  {
   "cell_type": "code",
   "execution_count": 64,
   "id": "c6def2e2-513b-4c3e-8865-31c6cdc2a80a",
   "metadata": {},
   "outputs": [
    {
     "name": "stdout",
     "output_type": "stream",
     "text": [
      "9600.0\n"
     ]
    }
   ],
   "source": [
    "salary_structure(80000,0.12)"
   ]
  },
  {
   "cell_type": "code",
   "execution_count": 65,
   "id": "64f025c3-6ef2-41aa-a572-db1dbb86dc07",
   "metadata": {},
   "outputs": [
    {
     "name": "stdout",
     "output_type": "stream",
     "text": [
      "9600.0\n"
     ]
    }
   ],
   "source": [
    " tax = salary_structure(80000,0.12)"
   ]
  },
  {
   "cell_type": "code",
   "execution_count": 67,
   "id": "a548bf36-ae69-4b0b-9525-e96dc8e2107a",
   "metadata": {},
   "outputs": [],
   "source": [
    "tax"
   ]
  },
  {
   "cell_type": "code",
   "execution_count": 68,
   "id": "0d5d49ed-504a-47dc-b151-39380cee8e0c",
   "metadata": {},
   "outputs": [],
   "source": [
    "# return function\n",
    "def salary_structure(salary, tax_rate):\n",
    "    tax=salary* tax_rate\n",
    "    return tax"
   ]
  },
  {
   "cell_type": "code",
   "execution_count": 70,
   "id": "3c328c6f-234f-4908-93f1-65739161e0b8",
   "metadata": {},
   "outputs": [
    {
     "data": {
      "text/plain": [
       "9600.0"
      ]
     },
     "execution_count": 70,
     "metadata": {},
     "output_type": "execute_result"
    }
   ],
   "source": [
    " salary_structure(80000,0.12)"
   ]
  },
  {
   "cell_type": "code",
   "execution_count": 71,
   "id": "d5c44866-109b-4b23-bee3-dad852565c99",
   "metadata": {},
   "outputs": [],
   "source": [
    " tax = salary_structure(80000,0.12)"
   ]
  },
  {
   "cell_type": "code",
   "execution_count": 72,
   "id": "fffd1529-ca47-446f-bc55-0b47f5a51b10",
   "metadata": {},
   "outputs": [
    {
     "data": {
      "text/plain": [
       "9600.0"
      ]
     },
     "execution_count": 72,
     "metadata": {},
     "output_type": "execute_result"
    }
   ],
   "source": [
    "tax"
   ]
  },
  {
   "cell_type": "code",
   "execution_count": 73,
   "id": "9bbb4c15-5dcd-43bc-931b-b9ad4f7e9dde",
   "metadata": {},
   "outputs": [],
   "source": [
    "def salary_structure(salary, tax_rate=0.12):\n",
    "    tax=salary* tax_rate\n",
    "    return tax"
   ]
  },
  {
   "cell_type": "code",
   "execution_count": 74,
   "id": "7ea529a0-6434-4351-a6d7-1ccdc5ec2489",
   "metadata": {},
   "outputs": [],
   "source": [
    "tax = salary_structure(80000, tax_rate=0.12)"
   ]
  },
  {
   "cell_type": "code",
   "execution_count": 75,
   "id": "e6b79656-a10d-4dde-8c1b-4b2ef59e479c",
   "metadata": {},
   "outputs": [
    {
     "data": {
      "text/plain": [
       "9600.0"
      ]
     },
     "execution_count": 75,
     "metadata": {},
     "output_type": "execute_result"
    }
   ],
   "source": [
    "tax"
   ]
  },
  {
   "cell_type": "code",
   "execution_count": 76,
   "id": "bd75c1e3-6222-449d-8ff6-590f5458b3bd",
   "metadata": {},
   "outputs": [
    {
     "name": "stdout",
     "output_type": "stream",
     "text": [
      "9600.0\n"
     ]
    }
   ],
   "source": [
    "print(tax)"
   ]
  },
  {
   "cell_type": "code",
   "execution_count": 88,
   "id": "5447e812-d150-4dfd-8ce3-1a514b205331",
   "metadata": {},
   "outputs": [],
   "source": [
    " def volume_of_cuboid(length,width,hight):\n",
    "     dimensions = f\"\"\"\n",
    "     length: {length}\n",
    "     width: {width}\n",
    "     hight: {hight}\n",
    "     \"\"\"\n",
    "     print(dimensions)\n",
    "     return length*width*hight"
   ]
  },
  {
   "cell_type": "code",
   "execution_count": 80,
   "id": "7c123ebb-30d6-4d8f-b6e8-44824dfbbb5d",
   "metadata": {},
   "outputs": [
    {
     "name": "stdout",
     "output_type": "stream",
     "text": [
      "\n",
      "    length: 80\n",
      "    width: 50\n",
      "    hight: 100\n",
      "    \n"
     ]
    },
    {
     "data": {
      "text/plain": [
       "400000"
      ]
     },
     "execution_count": 80,
     "metadata": {},
     "output_type": "execute_result"
    }
   ],
   "source": [
    "volume_of_cuboid(80,50,100)"
   ]
  },
  {
   "cell_type": "code",
   "execution_count": 81,
   "id": "0c9f8041-4874-4c01-bc79-222d07fc44ae",
   "metadata": {},
   "outputs": [
    {
     "name": "stdout",
     "output_type": "stream",
     "text": [
      "Help on function volume_of_cuboid in module __main__:\n",
      "\n",
      "volume_of_cuboid(length, width, hight)\n",
      "\n"
     ]
    }
   ],
   "source": [
    "help(volume_of_cuboid)"
   ]
  },
  {
   "cell_type": "code",
   "execution_count": 90,
   "id": "00a25c22-a581-42fd-b9b9-1ffffbb3033c",
   "metadata": {},
   "outputs": [
    {
     "name": "stdout",
     "output_type": "stream",
     "text": [
      "\n",
      "    length: 50\n",
      "    width: 100\n",
      "    hight: 80\n",
      "    \n"
     ]
    },
    {
     "data": {
      "text/plain": [
       "400000"
      ]
     },
     "execution_count": 90,
     "metadata": {},
     "output_type": "execute_result"
    }
   ],
   "source": [
    "volume_of_cuboid(length=50,width=100,hight=80)"
   ]
  },
  {
   "cell_type": "code",
   "execution_count": 92,
   "id": "84633823-9689-4af7-8c5c-18491cec7d65",
   "metadata": {},
   "outputs": [],
   "source": [
    "li=[8,6,4,7,5,2,3,1,2,6,5,9]"
   ]
  },
  {
   "cell_type": "code",
   "execution_count": 93,
   "id": "fcfb0b0e-2997-4a28-9b33-2ea4100fd729",
   "metadata": {},
   "outputs": [],
   "source": [
    "def sorthalf(li : list):\n",
    "    length = len(li)\n",
    "    li.sort()\n",
    "    firsthalf = li[:length//2]\n",
    "    secondhalf = li[length//2:]\n",
    "    secondhalf.sort(reverse=True)\n",
    "\n",
    "    return firsthalf+secondhalf"
   ]
  },
  {
   "cell_type": "code",
   "execution_count": 94,
   "id": "9610f646-2c2f-4909-ac83-a069d7667eb1",
   "metadata": {},
   "outputs": [
    {
     "data": {
      "text/plain": [
       "[1, 2, 2, 3, 4, 5, 9, 8, 7, 6, 6, 5]"
      ]
     },
     "execution_count": 94,
     "metadata": {},
     "output_type": "execute_result"
    }
   ],
   "source": [
    "sorthalf(li)"
   ]
  },
  {
   "cell_type": "code",
   "execution_count": 1,
   "id": "b5170be8-e574-41d1-a12d-8903c3cd9e8c",
   "metadata": {},
   "outputs": [
    {
     "data": {
      "text/plain": [
       "map"
      ]
     },
     "execution_count": 1,
     "metadata": {},
     "output_type": "execute_result"
    }
   ],
   "source": [
    "map"
   ]
  },
  {
   "cell_type": "code",
   "execution_count": 16,
   "id": "89eb8eca-6eed-4110-a55e-362610d0e3d1",
   "metadata": {},
   "outputs": [],
   "source": [
    "def makesquare(n):\n",
    "    return n**2"
   ]
  },
  {
   "cell_type": "code",
   "execution_count": 17,
   "id": "baaf8d90-c9fe-4740-bf75-cd3573932c5e",
   "metadata": {},
   "outputs": [],
   "source": [
    "a = [1,2,3]\n",
    "b = [\"a\",\"b\",\"c\"]"
   ]
  },
  {
   "cell_type": "code",
   "execution_count": 18,
   "id": "3daa0391-8a64-4b8a-a640-dffea4de15e7",
   "metadata": {},
   "outputs": [
    {
     "name": "stdout",
     "output_type": "stream",
     "text": [
      "1 a\n",
      "2 b\n",
      "3 c\n"
     ]
    }
   ],
   "source": [
    "for i,j in zip(a,b):\n",
    "    print(i,j)"
   ]
  },
  {
   "cell_type": "code",
   "execution_count": 19,
   "id": "b05d7c09-fddb-4158-8809-4890ffe6f42a",
   "metadata": {},
   "outputs": [
    {
     "data": {
      "text/plain": [
       "[1, 2, 3]"
      ]
     },
     "execution_count": 19,
     "metadata": {},
     "output_type": "execute_result"
    }
   ],
   "source": [
    "a"
   ]
  },
  {
   "cell_type": "code",
   "execution_count": 20,
   "id": "cf3bc346-0061-4c20-b1ec-9c959bd37b8c",
   "metadata": {},
   "outputs": [
    {
     "data": {
      "text/plain": [
       "['a', 'b', 'c']"
      ]
     },
     "execution_count": 20,
     "metadata": {},
     "output_type": "execute_result"
    }
   ],
   "source": [
    "b"
   ]
  },
  {
   "cell_type": "code",
   "execution_count": 21,
   "id": "339a1425-faae-4777-be93-4e9901928459",
   "metadata": {},
   "outputs": [],
   "source": [
    "ans = list(map(makesquare,a))"
   ]
  },
  {
   "cell_type": "code",
   "execution_count": 22,
   "id": "091e67b3-03b3-4065-8c3f-3f36492d51e0",
   "metadata": {},
   "outputs": [
    {
     "data": {
      "text/plain": [
       "[1, 4, 9]"
      ]
     },
     "execution_count": 22,
     "metadata": {},
     "output_type": "execute_result"
    }
   ],
   "source": [
    "ans"
   ]
  },
  {
   "cell_type": "code",
   "execution_count": 26,
   "id": "98e3f434-6491-4350-b705-2248c7cd7bd5",
   "metadata": {},
   "outputs": [],
   "source": [
    "def makesquare(i):\n",
    "    return n**3"
   ]
  },
  {
   "cell_type": "code",
   "execution_count": 27,
   "id": "427742a4-201c-462f-9609-f40286aac6a4",
   "metadata": {},
   "outputs": [],
   "source": [
    "a = [3,4,6]"
   ]
  },
  {
   "cell_type": "code",
   "execution_count": 28,
   "id": "314175a7-13dd-4f7a-b1f3-2711cb3b4bb6",
   "metadata": {},
   "outputs": [
    {
     "ename": "NameError",
     "evalue": "name 'makesqaure' is not defined",
     "output_type": "error",
     "traceback": [
      "\u001b[1;31m---------------------------------------------------------------------------\u001b[0m",
      "\u001b[1;31mNameError\u001b[0m                                 Traceback (most recent call last)",
      "Cell \u001b[1;32mIn[28], line 1\u001b[0m\n\u001b[1;32m----> 1\u001b[0m ans \u001b[38;5;241m=\u001b[39m \u001b[38;5;28mlist\u001b[39m(\u001b[38;5;28mmap\u001b[39m(makesqaure),a)\n",
      "\u001b[1;31mNameError\u001b[0m: name 'makesqaure' is not defined"
     ]
    }
   ],
   "source": [
    "ans = list(map(makesqaure),a)"
   ]
  },
  {
   "cell_type": "code",
   "execution_count": 29,
   "id": "ea7023e5-88c1-4809-b4c0-e1d30d0211bc",
   "metadata": {},
   "outputs": [
    {
     "name": "stdout",
     "output_type": "stream",
     "text": [
      "1 s\n",
      "2 h\n",
      "3 u\n"
     ]
    }
   ],
   "source": [
    "for i , j in zip ([1,2,3],\"shu\"):\n",
    "    print(i,j)"
   ]
  },
  {
   "cell_type": "code",
   "execution_count": 30,
   "id": "bc532f2e-d488-4f21-9cd1-7944f5318a1a",
   "metadata": {},
   "outputs": [
    {
     "data": {
      "text/plain": [
       "['ujwal', 'rana']"
      ]
     },
     "execution_count": 30,
     "metadata": {},
     "output_type": "execute_result"
    }
   ],
   "source": [
    "'ujwal rana'.split()"
   ]
  },
  {
   "cell_type": "code",
   "execution_count": 32,
   "id": "0b96eb88-d963-4e6b-97a1-4b3bbd4d2d9f",
   "metadata": {},
   "outputs": [],
   "source": [
    "a =\"5 2 4 6 7 8 9\".split()"
   ]
  },
  {
   "cell_type": "code",
   "execution_count": 33,
   "id": "6c2f75a8-1b56-4721-ad98-ecd01e40d3e5",
   "metadata": {},
   "outputs": [
    {
     "data": {
      "text/plain": [
       "['5', '2', '4', '6', '7', '8', '9']"
      ]
     },
     "execution_count": 33,
     "metadata": {},
     "output_type": "execute_result"
    }
   ],
   "source": [
    "a"
   ]
  },
  {
   "cell_type": "code",
   "execution_count": 34,
   "id": "6cea1f0f-69c8-4beb-97f2-2f421b85a99d",
   "metadata": {},
   "outputs": [],
   "source": [
    "ans = list(map(int,a))"
   ]
  },
  {
   "cell_type": "code",
   "execution_count": 35,
   "id": "4d216550-3099-4f9d-b859-c11064095c5c",
   "metadata": {},
   "outputs": [
    {
     "data": {
      "text/plain": [
       "[5, 2, 4, 6, 7, 8, 9]"
      ]
     },
     "execution_count": 35,
     "metadata": {},
     "output_type": "execute_result"
    }
   ],
   "source": [
    "ans"
   ]
  },
  {
   "cell_type": "code",
   "execution_count": null,
   "id": "9a903670-ed57-4c0c-9a56-c2ffed64f903",
   "metadata": {},
   "outputs": [],
   "source": []
  }
 ],
 "metadata": {
  "kernelspec": {
   "display_name": "Python 3 (ipykernel)",
   "language": "python",
   "name": "python3"
  },
  "language_info": {
   "codemirror_mode": {
    "name": "ipython",
    "version": 3
   },
   "file_extension": ".py",
   "mimetype": "text/x-python",
   "name": "python",
   "nbconvert_exporter": "python",
   "pygments_lexer": "ipython3",
   "version": "3.13.5"
  }
 },
 "nbformat": 4,
 "nbformat_minor": 5
}
