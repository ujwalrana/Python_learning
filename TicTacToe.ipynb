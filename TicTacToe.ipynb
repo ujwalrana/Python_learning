{
 "cells": [
  {
   "cell_type": "markdown",
   "id": "46a7e603-df36-46df-a10a-b9a141811f04",
   "metadata": {},
   "source": [
    "# Display"
   ]
  },
  {
   "cell_type": "code",
   "execution_count": 3,
   "id": "ad5a6670-415e-465e-9ab7-dfeb2507af8f",
   "metadata": {},
   "outputs": [],
   "source": [
    "li =[\"X\"]*10"
   ]
  },
  {
   "cell_type": "code",
   "execution_count": 4,
   "id": "6f9321ea-5af5-4694-bea0-c187a5b546f7",
   "metadata": {},
   "outputs": [
    {
     "data": {
      "text/plain": [
       "['X', 'X', 'X', 'X', 'X', 'X', 'X', 'X', 'X', 'X']"
      ]
     },
     "execution_count": 4,
     "metadata": {},
     "output_type": "execute_result"
    }
   ],
   "source": [
    "li"
   ]
  },
  {
   "cell_type": "code",
   "execution_count": 62,
   "id": "a3a93788-4270-4b79-a74f-29ce72fe062c",
   "metadata": {},
   "outputs": [],
   "source": [
    "li[5]=\" \"\n",
    "li[4]=\"Y\"\n",
    "li[3]=\"Y\""
   ]
  },
  {
   "cell_type": "code",
   "execution_count": 63,
   "id": "4930b91e-03f0-4b20-aa86-8b8ec6da8c5f",
   "metadata": {},
   "outputs": [],
   "source": [
    "def display():\n",
    "    print(li[7], \" | \",li[8],\" | \",li[9])\n",
    "    print(\"-\"*14)\n",
    "    print(li[4], \" | \",li[5],\" | \",li[6])\n",
    "    print(\"-\"*14)\n",
    "    print(li[1], \" | \",li[2],\" | \",li[3])"
   ]
  },
  {
   "cell_type": "code",
   "execution_count": 64,
   "id": "f61e1d70-9967-4e01-87ca-b07f9054c255",
   "metadata": {},
   "outputs": [
    {
     "name": "stdout",
     "output_type": "stream",
     "text": [
      "X  |  X  |  X\n",
      "--------------\n",
      "Y  |     |  X\n",
      "--------------\n",
      "X  |  X  |  Y\n"
     ]
    }
   ],
   "source": [
    "display()"
   ]
  },
  {
   "cell_type": "code",
   "execution_count": 65,
   "id": "bd14fcb1-6428-4ffe-8736-9ae2a6791767",
   "metadata": {},
   "outputs": [],
   "source": [
    "def put_marker(position,marker):\n",
    "    li[position]= marker"
   ]
  },
  {
   "cell_type": "code",
   "execution_count": 66,
   "id": "4828a7ca-16b4-4f59-ab05-4cb72c1ee7ec",
   "metadata": {},
   "outputs": [],
   "source": [
    "put_marker(3,\"X\")"
   ]
  },
  {
   "cell_type": "code",
   "execution_count": 67,
   "id": "4164f9b9-0745-4b04-b34a-df98b942c608",
   "metadata": {},
   "outputs": [
    {
     "name": "stdout",
     "output_type": "stream",
     "text": [
      "X  |  X  |  X\n",
      "--------------\n",
      "Y  |     |  X\n",
      "--------------\n",
      "X  |  X  |  X\n"
     ]
    }
   ],
   "source": [
    "display()"
   ]
  },
  {
   "cell_type": "code",
   "execution_count": 68,
   "id": "37ee724d-3850-4499-9cf7-e411d353c27d",
   "metadata": {},
   "outputs": [],
   "source": [
    "def check_position_empty(position):\n",
    "    if li[position] == \" \":\n",
    "        return True\n",
    "    else:\n",
    "        return False\n",
    "    "
   ]
  },
  {
   "cell_type": "code",
   "execution_count": 69,
   "id": "58bf7f4d-2ff3-48f3-bf8c-c2960e333129",
   "metadata": {},
   "outputs": [
    {
     "data": {
      "text/plain": [
       "False"
      ]
     },
     "execution_count": 69,
     "metadata": {},
     "output_type": "execute_result"
    }
   ],
   "source": [
    "check_position_empty(3)"
   ]
  },
  {
   "cell_type": "code",
   "execution_count": 70,
   "id": "1d20243c-2d2c-4bd1-87b9-9fb4f9a227d0",
   "metadata": {},
   "outputs": [],
   "source": [
    "positon = None"
   ]
  },
  {
   "cell_type": "code",
   "execution_count": 71,
   "id": "bc1914c8-50da-4bd5-92c2-cbe676a04616",
   "metadata": {},
   "outputs": [
    {
     "name": "stdin",
     "output_type": "stream",
     "text": [
      "None 6\n"
     ]
    }
   ],
   "source": [
    "position = None\n",
    "try:\n",
    "    position = int(input(position))\n",
    "except ValueError:\n",
    "    print(\"please provide a number\")"
   ]
  },
  {
   "cell_type": "code",
   "execution_count": 72,
   "id": "9118afd2-9247-42ca-b8bb-3d324924b5a0",
   "metadata": {},
   "outputs": [
    {
     "name": "stdin",
     "output_type": "stream",
     "text": [
      "None 0\n",
      "0 -7\n"
     ]
    }
   ],
   "source": [
    "\n",
    "position = None\n",
    "while not position:\n",
    "    try:\n",
    "        position = int(input(position))\n",
    "    except ValueError:\n",
    "     print(\"please provide a number\")"
   ]
  },
  {
   "cell_type": "code",
   "execution_count": 73,
   "id": "7a9f0b5c-37de-4571-9534-66858caa0b61",
   "metadata": {},
   "outputs": [
    {
     "name": "stdout",
     "output_type": "stream",
     "text": [
      "X  |  X  |  X\n",
      "--------------\n",
      "Y  |     |  X\n",
      "--------------\n",
      "X  |  X  |  X\n"
     ]
    }
   ],
   "source": [
    "display()"
   ]
  },
  {
   "cell_type": "code",
   "execution_count": 74,
   "id": "17056967-779d-4983-9f77-75a8da7dbfa1",
   "metadata": {},
   "outputs": [],
   "source": [
    "def empty_positions():\n",
    "    ans =[]\n",
    "    for i in range(1,len(li)):\n",
    "        if li[i] == \" \":\n",
    "            ans.append(i)\n",
    "            return ans"
   ]
  },
  {
   "cell_type": "code",
   "execution_count": 75,
   "id": "bf1603b3-e038-4e79-b442-3475f4c06415",
   "metadata": {},
   "outputs": [
    {
     "data": {
      "text/plain": [
       "[5]"
      ]
     },
     "execution_count": 75,
     "metadata": {},
     "output_type": "execute_result"
    }
   ],
   "source": [
    "empty_positions()"
   ]
  },
  {
   "cell_type": "code",
   "execution_count": 84,
   "id": "15857210-de5c-4964-a0c2-f19370ebbb18",
   "metadata": {},
   "outputs": [],
   "source": [
    "def take_position():\n",
    "    position = None\n",
    "    availabe = empty_positions()\n",
    "    while position is None:\n",
    "        try:\n",
    "         position = int(input(f'please chose among{available}'))\n",
    "        except ValueError:\n",
    "         print(f\"please provide a number among {available}\")\n",
    "    else:\n",
    "        if position in available:\n",
    "            return position\n",
    "        else:\n",
    "            print:(f\"please provide a number a among {available}\")\n",
    "            position = None"
   ]
  },
  {
   "cell_type": "code",
   "execution_count": 85,
   "id": "11313fe6-a95c-49e2-856e-b49ac00ded54",
   "metadata": {},
   "outputs": [
    {
     "ename": "NameError",
     "evalue": "name 'check_win' is not defined",
     "output_type": "error",
     "traceback": [
      "\u001b[1;31m---------------------------------------------------------------------------\u001b[0m",
      "\u001b[1;31mNameError\u001b[0m                                 Traceback (most recent call last)",
      "Cell \u001b[1;32mIn[85], line 1\u001b[0m\n\u001b[1;32m----> 1\u001b[0m check_win()\n",
      "\u001b[1;31mNameError\u001b[0m: name 'check_win' is not defined"
     ]
    }
   ],
   "source": [
    "def check_win():\n",
    "    # horizontal\n",
    "    if (li[7]==li[8]==li[9]!=\" \") \\\n",
    "    (li[4]==li[5]==li[6]!=\" \") \\\n",
    "    (li[1]==li[2]==li[3]!=\" \")"
   ]
  },
  {
   "cell_type": "code",
   "execution_count": 86,
   "id": "14891c30-e533-4c58-9e09-f92663347251",
   "metadata": {},
   "outputs": [],
   "source": [
    "def board_full():\n",
    "    if len(empty_positions)==0:\n",
    "        return True\n",
    "    else:\n",
    "        return False"
   ]
  },
  {
   "cell_type": "code",
   "execution_count": 87,
   "id": "3e543be9-2a66-44b8-83c3-98140394e5bb",
   "metadata": {},
   "outputs": [
    {
     "ename": "TypeError",
     "evalue": "object of type 'function' has no len()",
     "output_type": "error",
     "traceback": [
      "\u001b[1;31m---------------------------------------------------------------------------\u001b[0m",
      "\u001b[1;31mTypeError\u001b[0m                                 Traceback (most recent call last)",
      "Cell \u001b[1;32mIn[87], line 1\u001b[0m\n\u001b[1;32m----> 1\u001b[0m board_full()\n",
      "Cell \u001b[1;32mIn[86], line 2\u001b[0m, in \u001b[0;36mboard_full\u001b[1;34m()\u001b[0m\n\u001b[0;32m      1\u001b[0m \u001b[38;5;28;01mdef\u001b[39;00m\u001b[38;5;250m \u001b[39m\u001b[38;5;21mboard_full\u001b[39m():\n\u001b[1;32m----> 2\u001b[0m     \u001b[38;5;28;01mif\u001b[39;00m \u001b[38;5;28mlen\u001b[39m(empty_positions)\u001b[38;5;241m==\u001b[39m\u001b[38;5;241m0\u001b[39m:\n\u001b[0;32m      3\u001b[0m         \u001b[38;5;28;01mreturn\u001b[39;00m \u001b[38;5;28;01mTrue\u001b[39;00m\n\u001b[0;32m      4\u001b[0m     \u001b[38;5;28;01melse\u001b[39;00m:\n",
      "\u001b[1;31mTypeError\u001b[0m: object of type 'function' has no len()"
     ]
    }
   ],
   "source": [
    "board_full()"
   ]
  },
  {
   "cell_type": "code",
   "execution_count": null,
   "id": "9f4c843d-83bd-44f2-870d-cfbe23e39ae4",
   "metadata": {},
   "outputs": [],
   "source": []
  }
 ],
 "metadata": {
  "kernelspec": {
   "display_name": "Python 3 (ipykernel)",
   "language": "python",
   "name": "python3"
  },
  "language_info": {
   "codemirror_mode": {
    "name": "ipython",
    "version": 3
   },
   "file_extension": ".py",
   "mimetype": "text/x-python",
   "name": "python",
   "nbconvert_exporter": "python",
   "pygments_lexer": "ipython3",
   "version": "3.13.5"
  }
 },
 "nbformat": 4,
 "nbformat_minor": 5
}
