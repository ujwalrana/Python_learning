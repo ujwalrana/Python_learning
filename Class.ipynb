{
 "cells": [
  {
   "cell_type": "code",
   "execution_count": 3,
   "id": "4fb80606-7c9c-4d4b-9f54-a462835b10ea",
   "metadata": {},
   "outputs": [],
   "source": [
    " class Car():\n",
    "     tyre = 4\n",
    "\n",
    "     def move():\n",
    "        print(\"i am moving forward\")"
   ]
  },
  {
   "cell_type": "code",
   "execution_count": 4,
   "id": "b8c86d92-6db8-40b0-92d4-b5debbed62c9",
   "metadata": {},
   "outputs": [
    {
     "data": {
      "text/plain": [
       "4"
      ]
     },
     "execution_count": 4,
     "metadata": {},
     "output_type": "execute_result"
    }
   ],
   "source": [
    "Car.tyre"
   ]
  },
  {
   "cell_type": "code",
   "execution_count": 6,
   "id": "06ff45f4-1a15-471c-944e-dddcd282f4f7",
   "metadata": {},
   "outputs": [
    {
     "name": "stdout",
     "output_type": "stream",
     "text": [
      "i am moving forward\n"
     ]
    }
   ],
   "source": [
    "Car.move()"
   ]
  },
  {
   "cell_type": "code",
   "execution_count": 7,
   "id": "3d8179d2-80c3-4118-9302-54c7b9af99e5",
   "metadata": {},
   "outputs": [],
   "source": [
    "class Human():\n",
    "    legs = 2\n",
    "\n",
    "    def eatUP():\n",
    "        print(\"i am eating\")\n",
    "        print(\"now i am full\")\n",
    "        print(\"Thank you\")"
   ]
  },
  {
   "cell_type": "code",
   "execution_count": 8,
   "id": "15caa152-defa-4633-8b06-e46870b3b3cc",
   "metadata": {},
   "outputs": [
    {
     "data": {
      "text/plain": [
       "2"
      ]
     },
     "execution_count": 8,
     "metadata": {},
     "output_type": "execute_result"
    }
   ],
   "source": [
    "Human.legs"
   ]
  },
  {
   "cell_type": "code",
   "execution_count": 9,
   "id": "911e305c-b24a-4bd2-a947-b78fd8657732",
   "metadata": {},
   "outputs": [
    {
     "name": "stdout",
     "output_type": "stream",
     "text": [
      "i am eating\n",
      "now i am full\n",
      "Thank you\n"
     ]
    }
   ],
   "source": [
    "Human.eatUP()"
   ]
  },
  {
   "cell_type": "code",
   "execution_count": 10,
   "id": "331b2014-f877-4970-b943-3267bee3437d",
   "metadata": {},
   "outputs": [],
   "source": [
    "gadi = Car()"
   ]
  },
  {
   "cell_type": "code",
   "execution_count": 11,
   "id": "a7237107-7e53-4333-9dc6-5026811550f0",
   "metadata": {},
   "outputs": [],
   "source": [
    "gadi2 = Car()"
   ]
  },
  {
   "cell_type": "code",
   "execution_count": 12,
   "id": "f6738668-724c-4566-abd3-47bf81887acd",
   "metadata": {},
   "outputs": [
    {
     "data": {
      "text/plain": [
       "4"
      ]
     },
     "execution_count": 12,
     "metadata": {},
     "output_type": "execute_result"
    }
   ],
   "source": [
    "gadi.tyre"
   ]
  },
  {
   "cell_type": "code",
   "execution_count": 13,
   "id": "7231f7fd-8acc-4e00-8b20-29e8f72de03e",
   "metadata": {},
   "outputs": [
    {
     "data": {
      "text/plain": [
       "4"
      ]
     },
     "execution_count": 13,
     "metadata": {},
     "output_type": "execute_result"
    }
   ],
   "source": [
    "gadi.tyre"
   ]
  },
  {
   "cell_type": "code",
   "execution_count": 14,
   "id": "18169e0d-56f6-4ea2-a1fc-ed39adf92fc6",
   "metadata": {},
   "outputs": [],
   "source": [
    "gadi.tyre = 3"
   ]
  },
  {
   "cell_type": "code",
   "execution_count": 15,
   "id": "03ab33ae-7221-4b45-910b-8a30c2458b0a",
   "metadata": {},
   "outputs": [
    {
     "data": {
      "text/plain": [
       "3"
      ]
     },
     "execution_count": 15,
     "metadata": {},
     "output_type": "execute_result"
    }
   ],
   "source": [
    "gadi.tyre"
   ]
  },
  {
   "cell_type": "code",
   "execution_count": 16,
   "id": "3727605a-c691-4867-be54-99666a3d8688",
   "metadata": {},
   "outputs": [
    {
     "data": {
      "text/plain": [
       "4"
      ]
     },
     "execution_count": 16,
     "metadata": {},
     "output_type": "execute_result"
    }
   ],
   "source": [
    "gadi2.tyre"
   ]
  },
  {
   "cell_type": "code",
   "execution_count": 20,
   "id": "e96238e1-63a1-42ad-ab99-285c1c048e96",
   "metadata": {},
   "outputs": [],
   "source": [
    "class Car():\n",
    "    tyre = 4\n",
    "\n",
    "    def move():\n",
    "        print(\"moving forward\")"
   ]
  },
  {
   "cell_type": "code",
   "execution_count": 21,
   "id": "41562ea0-44d3-4738-9358-c8eebff2c665",
   "metadata": {},
   "outputs": [],
   "source": [
    "gadi = Car()"
   ]
  },
  {
   "cell_type": "code",
   "execution_count": 22,
   "id": "2ecaf651-226d-4cc6-8c61-09c45bcff753",
   "metadata": {},
   "outputs": [
    {
     "data": {
      "text/plain": [
       "4"
      ]
     },
     "execution_count": 22,
     "metadata": {},
     "output_type": "execute_result"
    }
   ],
   "source": [
    "gadi.tyre"
   ]
  },
  {
   "cell_type": "code",
   "execution_count": 32,
   "id": "8b6e1cc7-e0f1-481d-902c-1e7b6b864ca0",
   "metadata": {},
   "outputs": [
    {
     "name": "stdout",
     "output_type": "stream",
     "text": [
      "moving forward\n"
     ]
    }
   ],
   "source": [
    "gadi.move()"
   ]
  },
  {
   "cell_type": "code",
   "execution_count": 26,
   "id": "981d63d7-6a86-4da8-8a93-3000808f356e",
   "metadata": {},
   "outputs": [],
   "source": [
    "class Car():\n",
    "    tyre = 4\n",
    "\n",
    "    def move(self):\n",
    "        print(\"moving forward\")"
   ]
  },
  {
   "cell_type": "code",
   "execution_count": 29,
   "id": "c5c7f3ff-0022-46e3-a93d-63e4f1cd9f47",
   "metadata": {},
   "outputs": [],
   "source": [
    "gadi = Car()"
   ]
  },
  {
   "cell_type": "code",
   "execution_count": 30,
   "id": "e550044f-0b0e-4eb7-b1a6-d18d5f62f2a7",
   "metadata": {},
   "outputs": [
    {
     "data": {
      "text/plain": [
       "4"
      ]
     },
     "execution_count": 30,
     "metadata": {},
     "output_type": "execute_result"
    }
   ],
   "source": [
    "gadi.tyre"
   ]
  },
  {
   "cell_type": "code",
   "execution_count": 31,
   "id": "78dbee09-c905-4bf8-83aa-930994cae91b",
   "metadata": {},
   "outputs": [
    {
     "name": "stdout",
     "output_type": "stream",
     "text": [
      "moving forward\n"
     ]
    }
   ],
   "source": [
    "gadi.move()"
   ]
  },
  {
   "cell_type": "code",
   "execution_count": 33,
   "id": "7a924262-cdde-4420-a9f0-ce405eb068e6",
   "metadata": {},
   "outputs": [],
   "source": [
    "gadi.name = \"nano\""
   ]
  },
  {
   "cell_type": "code",
   "execution_count": 34,
   "id": "4cda0cd7-08af-4f66-a557-427015a2d64b",
   "metadata": {},
   "outputs": [
    {
     "data": {
      "text/plain": [
       "'nano'"
      ]
     },
     "execution_count": 34,
     "metadata": {},
     "output_type": "execute_result"
    }
   ],
   "source": [
    "gadi.name"
   ]
  },
  {
   "cell_type": "code",
   "execution_count": 35,
   "id": "bc100b5a-7298-4ddc-b097-b64f13ba00c8",
   "metadata": {},
   "outputs": [],
   "source": [
    "gadi2.name = \"alto\""
   ]
  },
  {
   "cell_type": "code",
   "execution_count": 36,
   "id": "d7b56e7d-c126-4ba5-b77e-699089a127b2",
   "metadata": {},
   "outputs": [
    {
     "data": {
      "text/plain": [
       "'alto'"
      ]
     },
     "execution_count": 36,
     "metadata": {},
     "output_type": "execute_result"
    }
   ],
   "source": [
    "gadi2.name"
   ]
  },
  {
   "cell_type": "code",
   "execution_count": 37,
   "id": "32d1ab68-e7e8-40d7-85cb-221455ee0dab",
   "metadata": {},
   "outputs": [],
   "source": [
    "class Car():\n",
    "    tyre = 4\n",
    "\n",
    "    def __int__(self):\n",
    "        self.name = \"nano\"\n",
    "\n",
    "    def mave():\n",
    "        print(\"moving forward\")"
   ]
  },
  {
   "cell_type": "code",
   "execution_count": 38,
   "id": "c4725559-4565-443f-bff4-0692bc71c219",
   "metadata": {},
   "outputs": [
    {
     "data": {
      "text/plain": [
       "'nano'"
      ]
     },
     "execution_count": 38,
     "metadata": {},
     "output_type": "execute_result"
    }
   ],
   "source": [
    "gadi.name"
   ]
  },
  {
   "cell_type": "code",
   "execution_count": 39,
   "id": "3879e1e4-7199-400f-b051-6a4312e5d467",
   "metadata": {},
   "outputs": [
    {
     "name": "stdout",
     "output_type": "stream",
     "text": [
      "moving forward\n"
     ]
    }
   ],
   "source": [
    "gadi.move()"
   ]
  },
  {
   "cell_type": "code",
   "execution_count": 40,
   "id": "15da2704-83ad-4553-8fdc-167901a5a0b0",
   "metadata": {},
   "outputs": [],
   "source": [
    "class Car():\n",
    "    # variable belonging to whole class\n",
    "    tyre = 4\n",
    "\n",
    "    def __init__(self,modelName):\n",
    "        # variable of the object\n",
    "        self.name = modelName\n",
    "\n",
    "    def move():\n",
    "        print(\"moving forward\")"
   ]
  },
  {
   "cell_type": "code",
   "execution_count": 41,
   "id": "2e0c00f6-2d60-495b-be15-5e1b0178f3e2",
   "metadata": {},
   "outputs": [
    {
     "data": {
      "text/plain": [
       "'nano'"
      ]
     },
     "execution_count": 41,
     "metadata": {},
     "output_type": "execute_result"
    }
   ],
   "source": [
    "gadi.name"
   ]
  },
  {
   "cell_type": "code",
   "execution_count": 42,
   "id": "329d5742-08ac-45a7-ac34-2d4d487d44ee",
   "metadata": {},
   "outputs": [
    {
     "data": {
      "text/plain": [
       "'alto'"
      ]
     },
     "execution_count": 42,
     "metadata": {},
     "output_type": "execute_result"
    }
   ],
   "source": [
    "gadi2.name"
   ]
  },
  {
   "cell_type": "code",
   "execution_count": 45,
   "id": "29e30ca6-c10c-4c86-bf23-994e074fdab9",
   "metadata": {},
   "outputs": [
    {
     "name": "stdout",
     "output_type": "stream",
     "text": [
      "moving forward\n"
     ]
    }
   ],
   "source": [
    "gadi.move()"
   ]
  },
  {
   "cell_type": "code",
   "execution_count": 46,
   "id": "8b0578e0-21d9-49ea-af26-91aa298467a1",
   "metadata": {},
   "outputs": [],
   "source": [
    "gadi = Car(\"Nano\")"
   ]
  },
  {
   "cell_type": "code",
   "execution_count": 47,
   "id": "e3debe00-2a12-463d-b4a8-79e1343d4245",
   "metadata": {},
   "outputs": [
    {
     "data": {
      "text/plain": [
       "'Nano'"
      ]
     },
     "execution_count": 47,
     "metadata": {},
     "output_type": "execute_result"
    }
   ],
   "source": [
    "gadi.name"
   ]
  },
  {
   "cell_type": "code",
   "execution_count": 48,
   "id": "06204cda-1916-4b58-b4fd-c17a6a2ac0ee",
   "metadata": {},
   "outputs": [],
   "source": [
    "gadi2 = Car(\"Scorpio\")"
   ]
  },
  {
   "cell_type": "code",
   "execution_count": 49,
   "id": "9dc89d12-3cd9-4fae-aa8a-e471bd1cb8a0",
   "metadata": {},
   "outputs": [
    {
     "data": {
      "text/plain": [
       "'Scorpio'"
      ]
     },
     "execution_count": 49,
     "metadata": {},
     "output_type": "execute_result"
    }
   ],
   "source": [
    "gadi2.name"
   ]
  },
  {
   "cell_type": "code",
   "execution_count": 50,
   "id": "b478db3e-4412-45f6-99b2-90ee60e1d2fb",
   "metadata": {},
   "outputs": [],
   "source": [
    "gadi3 = Car(\"Thar\")"
   ]
  },
  {
   "cell_type": "code",
   "execution_count": 51,
   "id": "58d2ee1b-64dd-4f73-a66b-c9f84205f964",
   "metadata": {},
   "outputs": [
    {
     "data": {
      "text/plain": [
       "'Thar'"
      ]
     },
     "execution_count": 51,
     "metadata": {},
     "output_type": "execute_result"
    }
   ],
   "source": [
    "gadi3.name"
   ]
  },
  {
   "cell_type": "code",
   "execution_count": 75,
   "id": "75a5fb05-cfee-4779-909c-2b8178e709ea",
   "metadata": {},
   "outputs": [],
   "source": [
    "class Car():\n",
    "    tyre = 4\n",
    "\n",
    "    def __init__(self,model,year = None):\n",
    "        self.model = model\n",
    "        self.year = year\n",
    "\n",
    "    def introduction(self):\n",
    "        print(f'hi i am {self.model} and i was made in {self.year}')\n",
    "\n",
    "    def move(self):\n",
    "        print(f\"i am {self.model} moving forward since {self.year}\")\n",
    "    "
   ]
  },
  {
   "cell_type": "code",
   "execution_count": 76,
   "id": "be3d87d1-01ef-45e4-9152-2c21ca567719",
   "metadata": {},
   "outputs": [],
   "source": [
    "gadi = Car(\"nano\",\"2005\")"
   ]
  },
  {
   "cell_type": "code",
   "execution_count": 77,
   "id": "c6ab1a8b-81e6-4000-abf8-80820b803739",
   "metadata": {},
   "outputs": [
    {
     "name": "stdout",
     "output_type": "stream",
     "text": [
      "hi i am nano and i was made in 2005\n"
     ]
    }
   ],
   "source": [
    "gadi.introduction()"
   ]
  },
  {
   "cell_type": "code",
   "execution_count": 78,
   "id": "875b6a22-2b6f-4dcc-b834-fac388ed4517",
   "metadata": {},
   "outputs": [
    {
     "name": "stdout",
     "output_type": "stream",
     "text": [
      "i am nano moving forward since 2005\n"
     ]
    }
   ],
   "source": [
    "gadi.move()"
   ]
  },
  {
   "cell_type": "code",
   "execution_count": null,
   "id": "0acd3090-ed6a-40b6-bd6b-57de5669ed29",
   "metadata": {},
   "outputs": [],
   "source": []
  },
  {
   "cell_type": "code",
   "execution_count": null,
   "id": "44df73e2-e9cb-438d-a778-1ec5e35cf3ac",
   "metadata": {},
   "outputs": [],
   "source": []
  }
 ],
 "metadata": {
  "kernelspec": {
   "display_name": "Python 3 (ipykernel)",
   "language": "python",
   "name": "python3"
  },
  "language_info": {
   "codemirror_mode": {
    "name": "ipython",
    "version": 3
   },
   "file_extension": ".py",
   "mimetype": "text/x-python",
   "name": "python",
   "nbconvert_exporter": "python",
   "pygments_lexer": "ipython3",
   "version": "3.13.5"
  }
 },
 "nbformat": 4,
 "nbformat_minor": 5
}
