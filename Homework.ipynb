{
 "cells": [
  {
   "cell_type": "code",
   "execution_count": 11,
   "id": "80844625-fa4a-4b93-993d-cc34a6b4788b",
   "metadata": {},
   "outputs": [],
   "source": [
    "def factorail(n):\n",
    "    if n == 0 or n == 1:\n",
    "        return 1\n",
    "    return n*factorail(n-1)"
   ]
  },
  {
   "cell_type": "code",
   "execution_count": 12,
   "id": "10d3859d-b441-40da-8e1c-33e757c0ade6",
   "metadata": {},
   "outputs": [
    {
     "data": {
      "text/plain": [
       "120"
      ]
     },
     "execution_count": 12,
     "metadata": {},
     "output_type": "execute_result"
    }
   ],
   "source": [
    "factorail(5)"
   ]
  },
  {
   "cell_type": "code",
   "execution_count": 17,
   "id": "e1dbd82a-0936-49a3-9c49-7a97a1ba7262",
   "metadata": {},
   "outputs": [],
   "source": [
    "def factorail(n):\n",
    "    print(n,n-1)\n",
    "    if n == 0:\n",
    "        return 1\n",
    "    return n*factorail(n-1)"
   ]
  },
  {
   "cell_type": "code",
   "execution_count": 18,
   "id": "afd2f086-46d2-4ece-9c47-6da136822467",
   "metadata": {},
   "outputs": [
    {
     "name": "stdout",
     "output_type": "stream",
     "text": [
      "5 4\n",
      "4 3\n",
      "3 2\n",
      "2 1\n",
      "1 0\n",
      "0 -1\n"
     ]
    },
    {
     "data": {
      "text/plain": [
       "120"
      ]
     },
     "execution_count": 18,
     "metadata": {},
     "output_type": "execute_result"
    }
   ],
   "source": [
    "factorail(5)\n"
   ]
  },
  {
   "cell_type": "code",
   "execution_count": 22,
   "id": "71023b4d-42f5-489b-80d2-344c8b1019d8",
   "metadata": {},
   "outputs": [],
   "source": [
    "def factorail(n):\n",
    "    if n == 0:\n",
    "        return 1\n",
    "    abc = n*factorail(n-1)\n",
    "    print(abc)\n",
    "    return(abc)"
   ]
  },
  {
   "cell_type": "code",
   "execution_count": 23,
   "id": "18084105-6f62-40be-875e-092e01c9b55e",
   "metadata": {},
   "outputs": [
    {
     "name": "stdout",
     "output_type": "stream",
     "text": [
      "1\n",
      "2\n",
      "6\n",
      "24\n",
      "120\n"
     ]
    },
    {
     "data": {
      "text/plain": [
       "120"
      ]
     },
     "execution_count": 23,
     "metadata": {},
     "output_type": "execute_result"
    }
   ],
   "source": [
    "factorail(5)"
   ]
  },
  {
   "cell_type": "code",
   "execution_count": 37,
   "id": "48e22f40-ecb9-4cf1-a5ec-5f85b76347d3",
   "metadata": {},
   "outputs": [],
   "source": [
    "L = [4,5,5,6,7,8]"
   ]
  },
  {
   "cell_type": "code",
   "execution_count": 34,
   "id": "ed9a12e2-f404-4a00-a8e6-d1159e55d30e",
   "metadata": {},
   "outputs": [],
   "source": [
    "def addList(L):\n",
    "    print(L)\n",
    "    if len(L)==0:\n",
    "        return 0\n",
    "    return L[0] + addList(L[1:])"
   ]
  },
  {
   "cell_type": "code",
   "execution_count": 35,
   "id": "4e5aa80a-ec64-426b-9d29-6eef9879e26c",
   "metadata": {},
   "outputs": [
    {
     "name": "stdout",
     "output_type": "stream",
     "text": [
      "[4, 5, 5, 6, 7, 8]\n",
      "[5, 5, 6, 7, 8]\n",
      "[5, 6, 7, 8]\n",
      "[6, 7, 8]\n",
      "[7, 8]\n",
      "[8]\n",
      "[]\n"
     ]
    },
    {
     "data": {
      "text/plain": [
       "35"
      ]
     },
     "execution_count": 35,
     "metadata": {},
     "output_type": "execute_result"
    }
   ],
   "source": [
    "addList(L)"
   ]
  },
  {
   "cell_type": "code",
   "execution_count": 38,
   "id": "57913744-ae7a-441e-9baa-6afe32fca11e",
   "metadata": {},
   "outputs": [],
   "source": [
    "def sumList(L):\n",
    "    print(L)\n",
    "    if len(L)==0:\n",
    "        return 0\n",
    "    return L[0] + sumList(L[1:])"
   ]
  },
  {
   "cell_type": "code",
   "execution_count": 39,
   "id": "c1a88c54-43a4-460d-ad42-7a8a3990b977",
   "metadata": {},
   "outputs": [
    {
     "name": "stdout",
     "output_type": "stream",
     "text": [
      "[4, 5, 5, 6, 7, 8]\n",
      "[5, 5, 6, 7, 8]\n",
      "[5, 6, 7, 8]\n",
      "[6, 7, 8]\n",
      "[7, 8]\n",
      "[8]\n",
      "[]\n"
     ]
    },
    {
     "data": {
      "text/plain": [
       "35"
      ]
     },
     "execution_count": 39,
     "metadata": {},
     "output_type": "execute_result"
    }
   ],
   "source": [
    "sumList(L)"
   ]
  },
  {
   "cell_type": "code",
   "execution_count": 40,
   "id": "70c762bb-9442-4614-ac86-7751692520c8",
   "metadata": {},
   "outputs": [],
   "source": [
    "L = [1,2,3,4,5,6,7]"
   ]
  },
  {
   "cell_type": "code",
   "execution_count": 41,
   "id": "79a72175-7ebe-42fb-8759-54f0132dd211",
   "metadata": {},
   "outputs": [],
   "source": [
    "def addList(L):\n",
    "    print(L)\n",
    "    if len(L)==0:\n",
    "        return 0\n",
    "    return L[0] + addList(L[1:])"
   ]
  },
  {
   "cell_type": "code",
   "execution_count": 42,
   "id": "9c1d24fb-3ae0-4813-9762-be3674b9161a",
   "metadata": {},
   "outputs": [
    {
     "name": "stdout",
     "output_type": "stream",
     "text": [
      "[1, 2, 3, 4, 5, 6, 7]\n",
      "[2, 3, 4, 5, 6, 7]\n",
      "[3, 4, 5, 6, 7]\n",
      "[4, 5, 6, 7]\n",
      "[5, 6, 7]\n",
      "[6, 7]\n",
      "[7]\n",
      "[]\n"
     ]
    },
    {
     "data": {
      "text/plain": [
       "28"
      ]
     },
     "execution_count": 42,
     "metadata": {},
     "output_type": "execute_result"
    }
   ],
   "source": [
    "addList(L)"
   ]
  },
  {
   "cell_type": "code",
   "execution_count": 43,
   "id": "7a99111b-f9c6-4328-975b-5aecf8608d1b",
   "metadata": {},
   "outputs": [],
   "source": [
    "L = [5,6,7,8,9,10,3,2,1]"
   ]
  },
  {
   "cell_type": "code",
   "execution_count": 44,
   "id": "97288f71-d886-414f-8e31-583449bd7835",
   "metadata": {},
   "outputs": [],
   "source": [
    "def subList(L):\n",
    "    print(L)\n",
    "    if len(L)==0:\n",
    "        return 0\n",
    "    return L[0] - subList(L[1:])"
   ]
  },
  {
   "cell_type": "code",
   "execution_count": 45,
   "id": "bf8ed6f3-f0f9-4103-8ddc-800751d197bc",
   "metadata": {
    "scrolled": true
   },
   "outputs": [
    {
     "name": "stdout",
     "output_type": "stream",
     "text": [
      "[5, 6, 7, 8, 9, 10, 3, 2, 1]\n",
      "[6, 7, 8, 9, 10, 3, 2, 1]\n",
      "[7, 8, 9, 10, 3, 2, 1]\n",
      "[8, 9, 10, 3, 2, 1]\n",
      "[9, 10, 3, 2, 1]\n",
      "[10, 3, 2, 1]\n",
      "[3, 2, 1]\n",
      "[2, 1]\n",
      "[1]\n",
      "[]\n"
     ]
    },
    {
     "data": {
      "text/plain": [
       "-1"
      ]
     },
     "execution_count": 45,
     "metadata": {},
     "output_type": "execute_result"
    }
   ],
   "source": [
    "subList(L)"
   ]
  },
  {
   "cell_type": "code",
   "execution_count": 81,
   "id": "2b70b9a6-2465-445d-8fe5-05f441e5431a",
   "metadata": {},
   "outputs": [
    {
     "data": {
      "text/plain": [
       "True"
      ]
     },
     "execution_count": 81,
     "metadata": {},
     "output_type": "execute_result"
    }
   ],
   "source": [
    "type(5)is int"
   ]
  },
  {
   "cell_type": "code",
   "execution_count": 14,
   "id": "4485e990-8055-43bb-8869-7833400cb586",
   "metadata": {},
   "outputs": [],
   "source": [
    "addList = ([1,2,3,[4,5,6],7,8,9])"
   ]
  },
  {
   "cell_type": "code",
   "execution_count": 15,
   "id": "258d92b6-0e68-4c93-9dcc-f1977e6a0843",
   "metadata": {},
   "outputs": [],
   "source": [
    "def addList(L):\n",
    "    print(L)\n",
    "    if type(L) is int:\n",
    "        return L\n",
    "    elif len(L)==0:\n",
    "        return 0\n",
    "    abc = addList(L[0]) + addList(L[1:])\n",
    "    print(L[0])\n",
    "    return abc"
   ]
  },
  {
   "cell_type": "code",
   "execution_count": 16,
   "id": "9c9830bf-59b2-47cd-9bf8-b71c19124afc",
   "metadata": {},
   "outputs": [
    {
     "name": "stdout",
     "output_type": "stream",
     "text": [
      "[1, 2, 3, [4, 5, 6], 7, 8, 9]\n",
      "1\n",
      "[2, 3, [4, 5, 6], 7, 8, 9]\n",
      "2\n",
      "[3, [4, 5, 6], 7, 8, 9]\n",
      "3\n",
      "[[4, 5, 6], 7, 8, 9]\n",
      "[4, 5, 6]\n",
      "4\n",
      "[5, 6]\n",
      "5\n",
      "[6]\n",
      "6\n",
      "[]\n",
      "6\n",
      "5\n",
      "4\n",
      "[7, 8, 9]\n",
      "7\n",
      "[8, 9]\n",
      "8\n",
      "[9]\n",
      "9\n",
      "[]\n",
      "9\n",
      "8\n",
      "7\n",
      "[4, 5, 6]\n",
      "3\n",
      "2\n",
      "1\n"
     ]
    },
    {
     "data": {
      "text/plain": [
       "45"
      ]
     },
     "execution_count": 16,
     "metadata": {},
     "output_type": "execute_result"
    }
   ],
   "source": [
    "addList([1,2,3,[4,5,6],7,8,9])"
   ]
  },
  {
   "cell_type": "code",
   "execution_count": 73,
   "id": "6c0d7dd2-7c5a-478f-b1f7-96a19c796b4f",
   "metadata": {},
   "outputs": [],
   "source": [
    "def addList(L):\n",
    "    print(L)\n",
    "    if type(L) is int:\n",
    "        return L\n",
    "    elif len(L)==0:\n",
    "        return 0\n",
    "    abc= addList(L[0]) + addList(L[1:])\n",
    "    print(L[0])\n",
    "    return abc"
   ]
  },
  {
   "cell_type": "code",
   "execution_count": 74,
   "id": "1c36dded-ea6b-4431-9b1d-6add3da2893b",
   "metadata": {},
   "outputs": [
    {
     "name": "stdout",
     "output_type": "stream",
     "text": [
      "[1, 2, 3, [4, 5, 6], 7, 8, 8]\n",
      "1\n",
      "[2, 3, [4, 5, 6], 7, 8, 8]\n",
      "2\n",
      "[3, [4, 5, 6], 7, 8, 8]\n",
      "3\n",
      "[[4, 5, 6], 7, 8, 8]\n",
      "[4, 5, 6]\n",
      "4\n",
      "[5, 6]\n",
      "5\n",
      "[6]\n",
      "6\n",
      "[]\n",
      "6\n",
      "5\n",
      "4\n",
      "[7, 8, 8]\n",
      "7\n",
      "[8, 8]\n",
      "8\n",
      "[8]\n",
      "8\n",
      "[]\n",
      "8\n",
      "8\n",
      "7\n",
      "[4, 5, 6]\n",
      "3\n",
      "2\n",
      "1\n"
     ]
    },
    {
     "data": {
      "text/plain": [
       "44"
      ]
     },
     "execution_count": 74,
     "metadata": {},
     "output_type": "execute_result"
    }
   ],
   "source": [
    "addList([1,2,3,[4,5,6],7,8,8])"
   ]
  },
  {
   "cell_type": "code",
   "execution_count": 71,
   "id": "3d623ff9-de8c-419c-8bb0-7cba4ceb1c58",
   "metadata": {},
   "outputs": [],
   "source": [
    "def addList(L):\n",
    "    print(L)\n",
    "    if type(L) is int:\n",
    "        return L\n",
    "    elif len(L)==0:\n",
    "        return 0\n",
    "    abc = addList(L[0]) + addList(L[1:])\n",
    "    print(L[0])\n",
    "    return abc"
   ]
  },
  {
   "cell_type": "code",
   "execution_count": 75,
   "id": "b018290b-8d7e-44f6-96ea-4d84db8295fc",
   "metadata": {},
   "outputs": [
    {
     "name": "stdout",
     "output_type": "stream",
     "text": [
      "[3, 4, 5, [6, 7, 8], 9, 9]\n",
      "3\n",
      "[4, 5, [6, 7, 8], 9, 9]\n",
      "4\n",
      "[5, [6, 7, 8], 9, 9]\n",
      "5\n",
      "[[6, 7, 8], 9, 9]\n",
      "[6, 7, 8]\n",
      "6\n",
      "[7, 8]\n",
      "7\n",
      "[8]\n",
      "8\n",
      "[]\n",
      "8\n",
      "7\n",
      "6\n",
      "[9, 9]\n",
      "9\n",
      "[9]\n",
      "9\n",
      "[]\n",
      "9\n",
      "9\n",
      "[6, 7, 8]\n",
      "5\n",
      "4\n",
      "3\n"
     ]
    },
    {
     "data": {
      "text/plain": [
       "51"
      ]
     },
     "execution_count": 75,
     "metadata": {},
     "output_type": "execute_result"
    }
   ],
   "source": [
    "addList  ([3,4,5,[6,7,8],9,9])"
   ]
  },
  {
   "cell_type": "code",
   "execution_count": 15,
   "id": "517cfc4f-0f9d-472c-ad64-7f2210593a9e",
   "metadata": {},
   "outputs": [],
   "source": [
    "def factorail(n):\n",
    "     if (n) == 0 or n == 1:\n",
    "       return 1\n",
    "     return n*factorail(n-1)"
   ]
  },
  {
   "cell_type": "code",
   "execution_count": 16,
   "id": "eec8eae5-162b-4cd5-8ebb-15f23af2c829",
   "metadata": {},
   "outputs": [
    {
     "data": {
      "text/plain": [
       "120"
      ]
     },
     "execution_count": 16,
     "metadata": {},
     "output_type": "execute_result"
    }
   ],
   "source": [
    "factorail(5)"
   ]
  },
  {
   "cell_type": "code",
   "execution_count": 20,
   "id": "e838a14d-9665-4335-9997-5d73956d0485",
   "metadata": {},
   "outputs": [],
   "source": [
    "def factorail(n):\n",
    "    print(n,n-1)\n",
    "    if (n) == 0:\n",
    "         return 1\n",
    "    return n*factorail(n-1)"
   ]
  },
  {
   "cell_type": "code",
   "execution_count": 22,
   "id": "d924165d-d70d-4a56-8563-5fd277d7467a",
   "metadata": {},
   "outputs": [
    {
     "name": "stdout",
     "output_type": "stream",
     "text": [
      "5 4\n",
      "4 3\n",
      "3 2\n",
      "2 1\n",
      "1 0\n",
      "0 -1\n"
     ]
    },
    {
     "data": {
      "text/plain": [
       "120"
      ]
     },
     "execution_count": 22,
     "metadata": {},
     "output_type": "execute_result"
    }
   ],
   "source": [
    "factorail(5)"
   ]
  },
  {
   "cell_type": "code",
   "execution_count": 35,
   "id": "19d1b099-d3a3-43cc-b739-af61a42da476",
   "metadata": {},
   "outputs": [],
   "source": [
    "l = [1,2,3,4,5,6,7]"
   ]
  },
  {
   "cell_type": "code",
   "execution_count": 38,
   "id": "818c4316-9e3c-48dd-b611-b5b75b6e5102",
   "metadata": {},
   "outputs": [],
   "source": [
    "def addList(l):\n",
    "    print(l)\n",
    "    if len(l)==0:\n",
    "        return 0\n",
    "    return(l[0]) + addList(l[1:])"
   ]
  },
  {
   "cell_type": "code",
   "execution_count": 39,
   "id": "91852dc4-b5a2-4297-a6ac-53ad012dc6bb",
   "metadata": {},
   "outputs": [
    {
     "name": "stdout",
     "output_type": "stream",
     "text": [
      "[1, 2, 3, 4, 5, 6, 7]\n",
      "[2, 3, 4, 5, 6, 7]\n",
      "[3, 4, 5, 6, 7]\n",
      "[4, 5, 6, 7]\n",
      "[5, 6, 7]\n",
      "[6, 7]\n",
      "[7]\n",
      "[]\n"
     ]
    },
    {
     "data": {
      "text/plain": [
       "28"
      ]
     },
     "execution_count": 39,
     "metadata": {},
     "output_type": "execute_result"
    }
   ],
   "source": [
    "addList(l)"
   ]
  },
  {
   "cell_type": "code",
   "execution_count": 40,
   "id": "588080fe-2b69-46a1-a420-169694321d0b",
   "metadata": {},
   "outputs": [],
   "source": [
    "l = [7,8,9,10,11]"
   ]
  },
  {
   "cell_type": "code",
   "execution_count": 41,
   "id": "e8e6a67d-70b8-477f-b9c6-0b61a8345575",
   "metadata": {},
   "outputs": [],
   "source": [
    "def subList(l):\n",
    "    print(l)\n",
    "    if len(l)==0:\n",
    "        return 0\n",
    "    return (l[0]) - subList(l[1:])"
   ]
  },
  {
   "cell_type": "code",
   "execution_count": 42,
   "id": "e199c044-2b39-44b6-80b5-fe661ea3983f",
   "metadata": {},
   "outputs": [
    {
     "name": "stdout",
     "output_type": "stream",
     "text": [
      "[7, 8, 9, 10, 11]\n",
      "[8, 9, 10, 11]\n",
      "[9, 10, 11]\n",
      "[10, 11]\n",
      "[11]\n",
      "[]\n"
     ]
    },
    {
     "data": {
      "text/plain": [
       "9"
      ]
     },
     "execution_count": 42,
     "metadata": {},
     "output_type": "execute_result"
    }
   ],
   "source": [
    "subList(l)"
   ]
  },
  {
   "cell_type": "code",
   "execution_count": 47,
   "id": "8a07d6f4-baa0-4142-b427-cfcf2e52edb5",
   "metadata": {},
   "outputs": [],
   "source": [
    "l = ([1,2,3,4,[5,6,7],8,9])"
   ]
  },
  {
   "cell_type": "code",
   "execution_count": 49,
   "id": "10d72572-ea2a-4f60-ba5f-b837632e5d05",
   "metadata": {},
   "outputs": [],
   "source": [
    "def addList(l):\n",
    "    print(l)\n",
    "    if type(l) is int:\n",
    "        return l\n",
    "    elif len(l)==0:\n",
    "        return 0\n",
    "    abc = addList(l[0]) + addList(l[1:])\n",
    "    print(l[0])\n",
    "    return abc"
   ]
  },
  {
   "cell_type": "code",
   "execution_count": 51,
   "id": "bdbe5582-acef-4d88-9d0a-96b5c0ffb286",
   "metadata": {},
   "outputs": [
    {
     "name": "stdout",
     "output_type": "stream",
     "text": [
      "[1, 2, 3, [4, 5, 6], 7, 8, 9]\n",
      "1\n",
      "[2, 3, [4, 5, 6], 7, 8, 9]\n",
      "2\n",
      "[3, [4, 5, 6], 7, 8, 9]\n",
      "3\n",
      "[[4, 5, 6], 7, 8, 9]\n",
      "[4, 5, 6]\n",
      "4\n",
      "[5, 6]\n",
      "5\n",
      "[6]\n",
      "6\n",
      "[]\n",
      "6\n",
      "5\n",
      "4\n",
      "[7, 8, 9]\n",
      "7\n",
      "[8, 9]\n",
      "8\n",
      "[9]\n",
      "9\n",
      "[]\n",
      "9\n",
      "8\n",
      "7\n",
      "[4, 5, 6]\n",
      "3\n",
      "2\n",
      "1\n"
     ]
    },
    {
     "data": {
      "text/plain": [
       "45"
      ]
     },
     "execution_count": 51,
     "metadata": {},
     "output_type": "execute_result"
    }
   ],
   "source": [
    "addList ([1,2,3,[4,5,6],7,8,9])"
   ]
  },
  {
   "cell_type": "code",
   "execution_count": 52,
   "id": "af76d790-a467-4394-bccc-fe8cb3275751",
   "metadata": {},
   "outputs": [],
   "source": [
    "def addList(l):\n",
    "    print(l)\n",
    "    if type(l) is int:\n",
    "        return l\n",
    "    elif len(l)==0:\n",
    "        return 0\n",
    "    abc = addList(l[0]) + addList(l[1:])\n",
    "    print(l[0])\n",
    "    return abc"
   ]
  },
  {
   "cell_type": "code",
   "execution_count": 53,
   "id": "ce7fec27-7f0c-49eb-ac3e-02c8bdaea195",
   "metadata": {},
   "outputs": [
    {
     "name": "stdout",
     "output_type": "stream",
     "text": [
      "[5, 6, 7, 8, [9, 9, 4], 2, 6, 7]\n",
      "5\n",
      "[6, 7, 8, [9, 9, 4], 2, 6, 7]\n",
      "6\n",
      "[7, 8, [9, 9, 4], 2, 6, 7]\n",
      "7\n",
      "[8, [9, 9, 4], 2, 6, 7]\n",
      "8\n",
      "[[9, 9, 4], 2, 6, 7]\n",
      "[9, 9, 4]\n",
      "9\n",
      "[9, 4]\n",
      "9\n",
      "[4]\n",
      "4\n",
      "[]\n",
      "4\n",
      "9\n",
      "9\n",
      "[2, 6, 7]\n",
      "2\n",
      "[6, 7]\n",
      "6\n",
      "[7]\n",
      "7\n",
      "[]\n",
      "7\n",
      "6\n",
      "2\n",
      "[9, 9, 4]\n",
      "8\n",
      "7\n",
      "6\n",
      "5\n"
     ]
    },
    {
     "data": {
      "text/plain": [
       "63"
      ]
     },
     "execution_count": 53,
     "metadata": {},
     "output_type": "execute_result"
    }
   ],
   "source": [
    "addList([5,6,7,8,[9,9,4],2,6,7])"
   ]
  },
  {
   "cell_type": "code",
   "execution_count": null,
   "id": "ec0590ab-21e6-44f5-8057-e8ad9d6d14c5",
   "metadata": {},
   "outputs": [],
   "source": []
  }
 ],
 "metadata": {
  "kernelspec": {
   "display_name": "Python 3 (ipykernel)",
   "language": "python",
   "name": "python3"
  },
  "language_info": {
   "codemirror_mode": {
    "name": "ipython",
    "version": 3
   },
   "file_extension": ".py",
   "mimetype": "text/x-python",
   "name": "python",
   "nbconvert_exporter": "python",
   "pygments_lexer": "ipython3",
   "version": "3.13.5"
  }
 },
 "nbformat": 4,
 "nbformat_minor": 5
}
